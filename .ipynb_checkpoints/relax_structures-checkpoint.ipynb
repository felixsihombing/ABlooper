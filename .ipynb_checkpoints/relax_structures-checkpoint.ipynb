{
 "cells": [
  {
   "cell_type": "code",
   "execution_count": 1,
   "metadata": {},
   "outputs": [
    {
     "name": "stderr",
     "output_type": "stream",
     "text": [
      "/data/localhost/not-backed-up/spoendli/miniconda3/envs/ab/lib/python3.8/site-packages/Bio/SubsMat/__init__.py:126: BiopythonDeprecationWarning: Bio.SubsMat has been deprecated, and we intend to remove it in a future release of Biopython. As an alternative, please consider using Bio.Align.substitution_matrices as a replacement, and contact the Biopython developers if you still need the Bio.SubsMat module.\n",
      "  warnings.warn(\n",
      "Warning: importing 'simtk.openmm' is deprecated.  Import 'openmm' instead.\n"
     ]
    }
   ],
   "source": [
    "from ABDB import database as db\n",
    "import matplotlib.pyplot as plt\n",
    "import numpy as np\n",
    "from retrain_ablooper import *\n",
    "import torch\n",
    "import pandas as pd\n",
    "from rich import print as pprint\n",
    "from ABlooper import CDR_Predictor"
   ]
  },
  {
   "cell_type": "markdown",
   "metadata": {},
   "source": [
    "Own code for relaxing sturcutres"
   ]
  },
  {
   "cell_type": "code",
   "execution_count": 2,
   "metadata": {},
   "outputs": [],
   "source": [
    "# torch settings\n",
    "device = \"cuda\" if torch.cuda.is_available() else \"cpu\"\n",
    "torch.set_default_dtype(torch.float)\n",
    "\n",
    "model = MaskDecoyGen(decoys=5).to(device = device).float()\n",
    "model.load_state_dict(torch.load('best_models/best_model-2804-Radam-5-2optim', map_location=torch.device(device)))\n",
    "\n",
    "batch_size = 1\n",
    "\n",
    "train = torch.load('train_data/train.pt')\n",
    "validation = torch.load('train_data/val.pt')\n",
    "test = torch.load('train_data/test.pt')\n",
    "\n",
    "val_dataloader = torch.utils.data.DataLoader(validation, \n",
    "                                             batch_size=batch_size,\n",
    "                                             num_workers=1,\n",
    "                                             shuffle=False,\n",
    "                                             pin_memory=True,\n",
    "                                             )\n",
    "\n",
    "test_dataloader = torch.utils.data.DataLoader(test[:2], \n",
    "                                              batch_size=batch_size,\n",
    "                                              num_workers=1,\n",
    "                                              shuffle=False,\n",
    "                                              pin_memory=True,\n",
    "                                              )"
   ]
  },
  {
   "cell_type": "code",
   "execution_count": 3,
   "metadata": {},
   "outputs": [],
   "source": [
    "for i in range(5):\n",
    "    tmp = MaskDecoyGen(decoys=1).to(device = device).float()\n",
    "    dict=torch.load(\"best_models/best_model-0305-Radam-1-2optim-\"+str(i+1), map_location=torch.device(device))\n",
    "    tmp.load_state_dict(dict)\n",
    "    weights = tmp.blocks[0].state_dict()\n",
    "\n",
    "    model.blocks[i].load_state_dict(weights)"
   ]
  },
  {
   "cell_type": "code",
   "execution_count": 14,
   "metadata": {},
   "outputs": [],
   "source": [
    "def produce_full_structures_of_val_set(val_dataloader, model, outdir='', relax=True, to_be_rewritten=[\"H1\", \"H2\", \"H3\", \"L1\", \"L2\", \"L3\"]):\n",
    "    '''\n",
    "    Produces full FAB structure for a dataset\n",
    "    '''\n",
    "    CDR_rmsds_not_relaxed = list()\n",
    "    CDR_rmsds_relaxed = list()\n",
    "    decoy_diversities = list()\n",
    "    order_of_pdbs = list()\n",
    "\n",
    "    with torch.no_grad():\n",
    "        model.eval()\n",
    "\n",
    "        for data in track(val_dataloader, description='predict val set'):\n",
    "\n",
    "            # predict sturcture using the model\n",
    "            coordinates, geomout, node_feature, mask, id = data['geomins'].float().to(device), data['geomouts'].float().to(device), data['encodings'].float().to(device), data['mask'].float().to(device), data['ids']\n",
    "            pred = model(node_feature, coordinates, mask)\n",
    "            CDR_rmsds_not_relaxed.append(rmsd_per_cdr(pred, node_feature, geomout).tolist())\n",
    "            pred = pred.squeeze() # remove batch dimension\n",
    "            \n",
    "            # get framework info from pdb file\n",
    "            pdb_id, heavy_c, light_c, pdb_file = get_info_from_id(id)\n",
    "            chains = [heavy_c, light_c]\n",
    "            order_of_pdbs.append(pdb_id)\n",
    "\n",
    "            with open(pdb_file) as file:\n",
    "                pdb_text = [line for line in file.readlines()]\n",
    "                \n",
    "            pdb_text = pdb_select_hc_lc(pdb_text, chains)\n",
    "\n",
    "            CDR_with_anchor_slices, atoms, CDR_text, CDR_sequences, CDR_numberings, CDR_start_atom_id = get_framework_info(pdb_text, chains)\n",
    "\n",
    "            predicted_CDRs = {}\n",
    "            all_decoys = {}\n",
    "            decoy_diversity = {}\n",
    "\n",
    "            for i, CDR in enumerate(CDR_with_anchor_slices):\n",
    "                output_CDR = pred[:, node_feature[0, :, 30 + i] == 1.0]\n",
    "                all_decoys[CDR] = rearrange(output_CDR, \"b (i a) d -> b i a d\", a=4).cpu().numpy()\n",
    "                predicted_CDRs[CDR] = rearrange(output_CDR.mean(0), \"(i a) d -> i a d\", a=4).cpu().numpy()\n",
    "                decoy_diversity[CDR] = (output_CDR[None] - output_CDR[:, None]).pow(2).sum(-1).mean(-1).pow(\n",
    "                    1 / 2).sum().item() / 20\n",
    "            \n",
    "            decoy_diversities.append(list(decoy_diversity.values()))\n",
    "            \n",
    "            text_prediction_per_CDR = convert_predictions_into_text_for_each_CDR(CDR_start_atom_id, predicted_CDRs, CDR_sequences, CDR_numberings, CDR_with_anchor_slices)\n",
    "            old_text = pdb_text\n",
    "\n",
    "            for CDR in to_be_rewritten:\n",
    "                new = True\n",
    "                new_text = []\n",
    "                chain, CDR_slice = CDR_with_anchor_slices[CDR]\n",
    "                CDR_slice = (CDR_slice[0] + 2, CDR_slice[1] - 2)\n",
    "\n",
    "                for line in old_text:\n",
    "                    if not filt(line, chain, CDR_slice):\n",
    "                        new_text.append(line)\n",
    "                    elif new:\n",
    "                        new_text += text_prediction_per_CDR[CDR]\n",
    "                        new = False\n",
    "                    else:\n",
    "                        continue\n",
    "                old_text = new_text\n",
    "\n",
    "            header = [\n",
    "                \"REMARK    CDR LOOPS REMODELLED USING ABLOOPER                                   \\n\"]\n",
    "            new_text = header + old_text\n",
    "\n",
    "            with open('pdbs/'+outdir+'/'+pdb_id+'-'+heavy_c+light_c+'.pdb', \"w+\") as file:\n",
    "                file.write(\"\".join(new_text))\n",
    "\n",
    "            with open('pdbs/'+outdir+'/'+pdb_id+'-'+heavy_c+light_c+'-true.pdb', \"w+\") as file:\n",
    "                file.write(\"\".join(pdb_text))\n",
    "\n",
    "            if relax:\n",
    "                relaxed_text = openmm_refine(old_text, CDR_with_anchor_slices)\n",
    "                header.append(\"REMARK    REFINEMENT DONE USING OPENMM\" + 42 * \" \" + \"\\n\")\n",
    "                relaxed_text = header + relaxed_text\n",
    "\n",
    "                with open('pdbs/'+outdir+'/'+pdb_id+'-'+heavy_c+light_c+'-relaxed.pdb', \"w+\") as file:\n",
    "                    file.write(''.join(relaxed_text))\n",
    "\n",
    "\n",
    "                # calculate rmsds of relaxed structures\n",
    "                CDR_with_anchor_slices, atoms, CDR_text, CDR_sequences, CDR_numberings, CDR_start_atom_id = get_framework_info(relaxed_text, chains)\n",
    "                CDR_BB_coords = extract_BB_coords(CDR_text, CDR_with_anchor_slices, CDR_sequences, atoms)\n",
    "\n",
    "                relaxed_coords = prepare_model_output([CDR_BB_coords])[0]\n",
    "            \n",
    "                relaxed_coords = pad_tensor(relaxed_coords)\n",
    "                relaxed_coords = rearrange(relaxed_coords, 'i x -> () () i x')\n",
    "                CDR_rmsds_relaxed.append(rmsd_per_cdr(relaxed_coords, node_feature, geomout).tolist())\n",
    "\n",
    "\n",
    "    return CDR_rmsds_not_relaxed, CDR_rmsds_relaxed, decoy_diversities, order_of_pdbs"
   ]
  },
  {
   "cell_type": "code",
   "execution_count": null,
   "metadata": {},
   "outputs": [],
   "source": []
  },
  {
   "cell_type": "code",
   "execution_count": 8,
   "metadata": {},
   "outputs": [],
   "source": [
    "dir = '0305-Radam-1-2optim-test'"
   ]
  },
  {
   "cell_type": "code",
   "execution_count": 9,
   "metadata": {},
   "outputs": [
    {
     "data": {
      "text/html": [
       "<pre style=\"white-space:pre;overflow-x:auto;line-height:normal;font-family:Menlo,'DejaVu Sans Mono',consolas,'Courier New',monospace\"></pre>\n"
      ],
      "text/plain": []
     },
     "metadata": {},
     "output_type": "display_data"
    },
    {
     "data": {
      "text/html": [
       "<pre style=\"white-space:pre;overflow-x:auto;line-height:normal;font-family:Menlo,'DejaVu Sans Mono',consolas,'Courier New',monospace\">\n",
       "</pre>\n"
      ],
      "text/plain": [
       "\n"
      ]
     },
     "metadata": {},
     "output_type": "display_data"
    }
   ],
   "source": [
    "cdr_rmsds, CDR_rmsds_relaxed, decoy_diversities, pdb_ids = produce_full_structures_of_val_set(test_dataloader, \n",
    "                                                                                              model, \n",
    "                                                                                              outdir=dir, \n",
    "                                                                                              relax=True)"
   ]
  },
  {
   "cell_type": "code",
   "execution_count": null,
   "metadata": {},
   "outputs": [],
   "source": [
    "with open('pdbs/'+dir+'/metrics.json', 'w') as f:\n",
    "    json.dump({'pdb_ids': pdb_ids, 'cdr_rmsds': cdr_rmsds, 'cdr_rmsds_relaxed': cdr_rmsds_relaxed, 'decoy_divsersity': decoy_diversities}, f)\n",
    "    "
   ]
  },
  {
   "cell_type": "code",
   "execution_count": 13,
   "metadata": {},
   "outputs": [
    {
     "data": {
      "text/plain": [
       "[[0.39621397852897644,\n",
       "  0.5520344972610474,\n",
       "  2.0543265342712402,\n",
       "  0.5045629143714905,\n",
       "  0.1996065378189087,\n",
       "  1.3235737085342407],\n",
       " [1.4963270425796509,\n",
       "  1.0473147630691528,\n",
       "  2.906479835510254,\n",
       "  0.6791009902954102,\n",
       "  0.2234359234571457,\n",
       "  1.0305887460708618]]"
      ]
     },
     "execution_count": 13,
     "metadata": {},
     "output_type": "execute_result"
    }
   ],
   "source": [
    "cdr_rmsds"
   ]
  },
  {
   "cell_type": "code",
   "execution_count": 14,
   "metadata": {},
   "outputs": [
    {
     "data": {
      "text/plain": [
       "[[0.39689359068870544,\n",
       "  0.5317484736442566,\n",
       "  2.0721490383148193,\n",
       "  0.5045245885848999,\n",
       "  0.19938620924949646,\n",
       "  1.3232002258300781],\n",
       " [1.4967271089553833,\n",
       "  1.0466426610946655,\n",
       "  2.9059810638427734,\n",
       "  0.6716121435165405,\n",
       "  0.2233588546514511,\n",
       "  1.0306532382965088]]"
      ]
     },
     "execution_count": 14,
     "metadata": {},
     "output_type": "execute_result"
    }
   ],
   "source": [
    " CDR_rmsds_relaxed"
   ]
  },
  {
   "cell_type": "code",
   "execution_count": null,
   "metadata": {},
   "outputs": [],
   "source": []
  },
  {
   "cell_type": "markdown",
   "metadata": {},
   "source": [
    "Calculate rmsds of relaxed structures"
   ]
  },
  {
   "cell_type": "code",
   "execution_count": 1,
   "metadata": {},
   "outputs": [
    {
     "name": "stderr",
     "output_type": "stream",
     "text": [
      "/Users/fabian/miniconda3/envs/auto-db-pipeline/lib/python3.9/site-packages/Bio/SubsMat/__init__.py:126: BiopythonDeprecationWarning: Bio.SubsMat has been deprecated, and we intend to remove it in a future release of Biopython. As an alternative, please consider using Bio.Align.substitution_matrices as a replacement, and contact the Biopython developers if you still need the Bio.SubsMat module.\n",
      "  warnings.warn(\n",
      "Database path /Volumes/LaCie/sabdab-sabpred/data/ABDB was not found.\n",
      "Warning: ABDB file system was not found. Database access not available\n"
     ]
    },
    {
     "name": "stdout",
     "output_type": "stream",
     "text": [
      "Cannot do refinement\n"
     ]
    }
   ],
   "source": [
    "import os\n",
    "from ABDB import database as db\n",
    "import matplotlib.pyplot as plt\n",
    "import numpy as np\n",
    "from retrain_ablooper import *\n",
    "import torch\n",
    "import pandas as pd\n",
    "from rich import print as pprint\n",
    "from ABlooper import CDR_Predictor\n",
    "from einops import rearrange"
   ]
  },
  {
   "cell_type": "code",
   "execution_count": 2,
   "metadata": {},
   "outputs": [
    {
     "data": {
      "text/plain": [
       "['2ypv-HL-true.pdb',\n",
       " '2v17-HL-relaxed.pdb',\n",
       " '2vxv-HL-true.pdb',\n",
       " '1fns-HL.pdb',\n",
       " '3oz9-HL.pdb',\n",
       " '2v17-HL-true.pdb',\n",
       " '2e27-HL-true.pdb',\n",
       " '3gnm-HL-true.pdb',\n",
       " '4hpy-HL.pdb',\n",
       " '3oz9-HL-relaxed.pdb',\n",
       " '3g5y-BA-relaxed.pdb',\n",
       " '1gig-HL-true.pdb',\n",
       " '4f57-HL-true.pdb',\n",
       " '3g5y-BA.pdb',\n",
       " '2fb4-HL-relaxed.pdb',\n",
       " '3t65-BA-relaxed.pdb',\n",
       " '3eo9-HL.pdb',\n",
       " '2xwt-AB-relaxed.pdb',\n",
       " '3hc4-HL.pdb',\n",
       " '4h20-HL.pdb',\n",
       " '1fns-HL-true.pdb',\n",
       " '3t65-BA-true.pdb',\n",
       " '3ifl-HL-relaxed.pdb',\n",
       " '4nzu-HL.pdb',\n",
       " '2r8s-HL-relaxed.pdb',\n",
       " '1oaq-HL.pdb',\n",
       " '1oaq-HL-true.pdb',\n",
       " '2w60-AB-relaxed.pdb',\n",
       " '1mfa-HL-relaxed.pdb',\n",
       " '3hc4-HL-relaxed.pdb',\n",
       " '1mlb-BA.pdb',\n",
       " '1nlb-HL.pdb',\n",
       " '1oaq-HL-relaxed.pdb',\n",
       " '3liz-HL-true.pdb',\n",
       " '2fb4-HL-true.pdb',\n",
       " '1jpt-HL-true.pdb',\n",
       " '1dlf-HL.pdb',\n",
       " '1dlf-HL-relaxed.pdb',\n",
       " '3t65-BA.pdb',\n",
       " '2e27-HL-relaxed.pdb',\n",
       " '2r8s-HL.pdb',\n",
       " '2vxv-HL-relaxed.pdb',\n",
       " '1nlb-HL-relaxed.pdb',\n",
       " '2adf-HL-true.pdb',\n",
       " '4nzu-HL-relaxed.pdb',\n",
       " '3v0w-HL-relaxed.pdb',\n",
       " '2ypv-HL-relaxed.pdb',\n",
       " '4hpy-HL-relaxed.pdb',\n",
       " '2xwt-AB-true.pdb',\n",
       " '3m8o-HL.pdb',\n",
       " '3eo9-HL-relaxed.pdb',\n",
       " '3lmj-HL.pdb',\n",
       " '1mqk-HL.pdb',\n",
       " '3gnm-HL-relaxed.pdb',\n",
       " '1mqk-HL-true.pdb',\n",
       " '3ifl-HL-true.pdb',\n",
       " '1gig-HL-relaxed.pdb',\n",
       " '3hc4-HL-true.pdb',\n",
       " '2w60-AB-true.pdb',\n",
       " '1jfq-HL.pdb',\n",
       " '3mlr-HL.pdb',\n",
       " '4hpy-HL-true.pdb',\n",
       " '1mfa-HL.pdb',\n",
       " '1seq-HL-relaxed.pdb',\n",
       " '3i9g-HL-true.pdb',\n",
       " '1seq-HL.pdb',\n",
       " '2ypv-HL.pdb',\n",
       " '1mlb-BA-relaxed.pdb',\n",
       " '1jfq-HL-relaxed.pdb',\n",
       " '2adf-HL-relaxed.pdb',\n",
       " '3mxw-HL-relaxed.pdb',\n",
       " '3nps-BC-true.pdb',\n",
       " '2adf-HL.pdb',\n",
       " '3mlr-HL-relaxed.pdb',\n",
       " '3e8u-HL-true.pdb',\n",
       " '2fbj-HL-true.pdb',\n",
       " '1dlf-HL-true.pdb',\n",
       " '2xwt-AB.pdb',\n",
       " '1nlb-HL-true.pdb',\n",
       " '1mqk-HL-relaxed.pdb',\n",
       " '3hnt-HL.pdb',\n",
       " '2d7t-HL-true.pdb',\n",
       " '4h20-HL-true.pdb',\n",
       " '2fbj-HL-relaxed.pdb',\n",
       " '1gig-HL.pdb',\n",
       " '2vxv-HL.pdb',\n",
       " '4h20-HL-relaxed.pdb',\n",
       " '3v0w-HL.pdb',\n",
       " '3mlr-HL-true.pdb',\n",
       " '2d7t-HL.pdb',\n",
       " '3ifl-HL.pdb',\n",
       " '3lmj-HL-true.pdb',\n",
       " '2v17-HL.pdb',\n",
       " '3go1-HL-true.pdb',\n",
       " '2w60-AB.pdb',\n",
       " '3mxw-HL.pdb',\n",
       " '3giz-HL-true.pdb',\n",
       " '2fb4-HL.pdb',\n",
       " '1seq-HL-true.pdb',\n",
       " '2fbj-HL.pdb',\n",
       " '1mlb-BA-true.pdb',\n",
       " '3i9g-HL-relaxed.pdb',\n",
       " '4f57-HL.pdb',\n",
       " '2d7t-HL-relaxed.pdb',\n",
       " '1mfa-HL-true.pdb',\n",
       " '2e27-HL.pdb',\n",
       " '3go1-HL.pdb',\n",
       " '3e8u-HL.pdb',\n",
       " '1jpt-HL.pdb',\n",
       " '3oz9-HL-true.pdb',\n",
       " '2r8s-HL-true.pdb',\n",
       " '3p0y-HL-relaxed.pdb',\n",
       " '3go1-HL-relaxed.pdb',\n",
       " '3p0y-HL.pdb',\n",
       " '3liz-HL-relaxed.pdb',\n",
       " '3eo9-HL-true.pdb',\n",
       " '3i9g-HL.pdb',\n",
       " '3hnt-HL-true.pdb',\n",
       " '1jfq-HL-true.pdb',\n",
       " '3gnm-HL.pdb',\n",
       " '3giz-HL-relaxed.pdb',\n",
       " '4f57-HL-relaxed.pdb',\n",
       " '3p0y-HL-true.pdb',\n",
       " '1fns-HL-relaxed.pdb',\n",
       " '3giz-HL.pdb',\n",
       " '3m8o-HL-relaxed.pdb',\n",
       " '3m8o-HL-true.pdb',\n",
       " '3v0w-HL-true.pdb',\n",
       " '4nzu-HL-true.pdb',\n",
       " '3hnt-HL-relaxed.pdb',\n",
       " '3mxw-HL-true.pdb',\n",
       " '3lmj-HL-relaxed.pdb',\n",
       " '3liz-HL.pdb',\n",
       " '3e8u-HL-relaxed.pdb',\n",
       " '3g5y-BA-true.pdb',\n",
       " '3nps-BC.pdb',\n",
       " '3nps-BC-relaxed.pdb']"
      ]
     },
     "execution_count": 2,
     "metadata": {},
     "output_type": "execute_result"
    }
   ],
   "source": [
    "files = os.listdir('/Users/fabian/Desktop/2804-RAdam-5-2optim-test')\n",
    "files"
   ]
  },
  {
   "cell_type": "code",
   "execution_count": 5,
   "metadata": {},
   "outputs": [],
   "source": [
    "def cdr_rmsds_on_pdb_file(prediction_path, truth_path, chains):\n",
    "\n",
    "    pred = CDR_Predictor(prediction_path, chains = chains)\n",
    "    pred_coords = prepare_model_output([pred.CDR_BB_coords])[0]\n",
    "    pred_coords = rearrange(pred_coords, 'i x -> () () i x')\n",
    "    pred_nodefeatures = pred.prepare_model_input()[0]\n",
    "    \n",
    "    truth = CDR_Predictor(truth_path, chains)\n",
    "    truth_coords = prepare_model_output([truth.CDR_BB_coords])[0]\n",
    "    truth_coords = rearrange(truth_coords, 'i x -> () i x')\n",
    "\n",
    "    cdr_rmsds = rmsd_per_cdr(pred_coords, pred_nodefeatures, truth_coords)\n",
    "\n",
    "    return cdr_rmsds\n",
    "\n",
    "def rmsds_pred_and_relaxed(dir):\n",
    "\n",
    "    files = os.listdir(dir)\n",
    "    files = [file[:7] for file in files if file[0] != '.']\n",
    "    files = list(set(files))\n",
    "    \n",
    "    ids = list()\n",
    "    rmsds_pred = np.zeros((len(files), 6))\n",
    "    rmsds_relaxed = np.zeros((len(files), 6))\n",
    "\n",
    "    for i in range(len(files)):\n",
    "        chains = (files[i][-2], files[i][-1])\n",
    "        \n",
    "        truth_path = dir+files[i]+'-true.pdb'\n",
    "        pred_path = dir+files[i]+'.pdb'\n",
    "        relaxed_path = dir+files[i]+'-relaxed.pdb'\n",
    "\n",
    "        ids.append(files[i])\n",
    "        rmsds_pred[i,:] = np.array(cdr_rmsds_on_pdb_file(pred_path, truth_path, chains).tolist())\n",
    "        rmsds_relaxed[i,:] = np.array(cdr_rmsds_on_pdb_file(relaxed_path, truth_path, chains).tolist())\n",
    "\n",
    "    return ids, rmsds_pred, rmsds_relaxed"
   ]
  },
  {
   "cell_type": "code",
   "execution_count": 7,
   "metadata": {},
   "outputs": [],
   "source": [
    "dir = '/Users/fabian/Desktop/2804-RAdam-5-2optim-test/'\n",
    "\n",
    "ids, rmsd_pred, rmsd_relaxed = rmsds_pred_and_relaxed(dir)\n"
   ]
  },
  {
   "cell_type": "code",
   "execution_count": 8,
   "metadata": {},
   "outputs": [
    {
     "data": {
      "text/plain": [
       "array([1.90520121, 1.96798921, 2.92938134, 1.86615316, 1.77889952,\n",
       "       1.97423427])"
      ]
     },
     "execution_count": 8,
     "metadata": {},
     "output_type": "execute_result"
    }
   ],
   "source": [
    "rmsd_pred.mean(0)"
   ]
  },
  {
   "cell_type": "code",
   "execution_count": null,
   "metadata": {},
   "outputs": [],
   "source": [
    "from ABDB import database as db\n",
    "from ABDB.AbPDB import AntibodyParser\n",
    "import numpy as np\n",
    "import Bio.PDB\n",
    "parser = AntibodyParser(PERMISSIVE=True, QUIET=True)\n",
    "parser.set_numbering_scheme(\"imgt\")\n",
    "db.set_numbering_scheme(\"imgt\")\n",
    "backbone = [\"CA\",\"C\",\"N\", \"CB\"]\n",
    "\n",
    "def CDR_rmsds(pdb, file, fab_n = 0, chains = [\"H\", \"L\"], decoy_chains = [\"H\", \"L\"]):\n",
    "    fab = db.fetch(pdb).fabs[fab_n]\n",
    "    rmsds = {}\n",
    "    for h_or_l in chains:\n",
    "        #Truth load\n",
    "        chain = db.db_summary[pdb][\"fabs\"][fab_n][h_or_l+\"chain\"]\n",
    "        truth = fab.get_structure()[chain]\n",
    "        #Decoy load\n",
    "        decoy = parser.get_antibody_structure(pdb+\"_model\", file)[0][{\"H\":decoy_chains[0], \"L\":decoy_chains[1]}[h_or_l]]\n",
    "        #Numbering\n",
    "        numb = [(\" \", *x) for x in fab.get_numbering()[h_or_l]][2:-2]\n",
    "        #Get residues to align\n",
    "        truth_res = [truth[x] for x in numb if (x in decoy) and (x in truth)]\n",
    "        decoy_res = [decoy[x] for x in numb if (x in decoy) and (x in truth)]\n",
    "        #Get atoms to align\n",
    "        fixed = []\n",
    "        moved = []\n",
    "        for i in range(len(decoy_res)):\n",
    "            fixed += [truth_res[i][atom] for atom in backbone if (atom in decoy_res[i]) and (atom in truth_res[i])]\n",
    "            moved += [decoy_res[i][atom] for atom in backbone if (atom in decoy_res[i]) and (atom in truth_res[i])]\n",
    "        #Calculate superimposer and move decoy\n",
    "        imposer = Bio.PDB.Superimposer()\n",
    "        imposer.set_atoms(fixed, moved)\n",
    "        imposer.apply(decoy.get_atoms())\n",
    "        rmsds[h_or_l] = imposer.rms\n",
    "        # Find CDR definitions\n",
    "        loop_definitions = {x[3:]:[(\" \", *y[0]) for y in fab.get_CDR_sequences(definition=\"imgt\")[x]]  for x in fab.get_CDR_sequences(definition=\"imgt\")}\n",
    "        # Calculate RMSD for each CDR\n",
    "        for CDR in loop_definitions:\n",
    "            if CDR[0] == h_or_l:\n",
    "                true_loop = []\n",
    "                decoy_loop = []\n",
    "                for res in loop_definitions[CDR]:\n",
    "                    if (res in truth) and (res in decoy):\n",
    "                        true_loop += [truth[res][x].get_coord() for x in backbone if (x in decoy[res]) and (x in truth[res])]\n",
    "                        decoy_loop+= [decoy[res][x].get_coord() for x in backbone if (x in decoy[res]) and (x in truth[res])]\n",
    "                #Calculate RMSD\n",
    "                rmsds[CDR] = np.sqrt(np.mean(3*(np.array(true_loop) - np.array(decoy_loop))**2))\n",
    "                \n",
    "    # Calculate RMSD for framework\n",
    "    ignore = sum([loop_definitions[x] for x in loop_definitions if x[0] == h_or_l], [])\n",
    "    frame_def = [x for x in numb if x not in ignore]\n",
    "    \n",
    "    true_frame, decoy_frame = [], []\n",
    "    for res in frame_def:\n",
    "        if (res in truth) and (res in decoy):\n",
    "            true_frame += [truth[res][x].get_coord() for x in backbone if (x in decoy[res]) and (x in truth[res])]\n",
    "            decoy_frame+= [decoy[res][x].get_coord() for x in backbone if (x in decoy[res]) and (x in truth[res])]\n",
    "    rmsds[h_or_l] = np.sqrt(np.mean(3*(np.array(true_frame) - np.array(decoy_frame))**2))\n",
    "                \n",
    "    return rmsds"
   ]
  }
 ],
 "metadata": {
  "interpreter": {
   "hash": "f5cb82b301b87eef88325f480de257324ba8b611cc1a51609875e0120daba8a9"
  },
  "kernelspec": {
   "display_name": "Python 3 (ipykernel)",
   "language": "python",
   "name": "python3"
  },
  "language_info": {
   "codemirror_mode": {
    "name": "ipython",
    "version": 3
   },
   "file_extension": ".py",
   "mimetype": "text/x-python",
   "name": "python",
   "nbconvert_exporter": "python",
   "pygments_lexer": "ipython3",
   "version": "3.8.5"
  }
 },
 "nbformat": 4,
 "nbformat_minor": 2
}
