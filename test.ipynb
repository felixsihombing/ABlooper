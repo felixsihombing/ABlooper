{
 "cells": [
  {
   "cell_type": "code",
   "execution_count": 1,
   "metadata": {},
   "outputs": [],
   "source": [
    "from ABlooper import CDR_Predictor"
   ]
  },
  {
   "cell_type": "code",
   "execution_count": 38,
   "metadata": {},
   "outputs": [
    {
     "name": "stdout",
     "output_type": "stream",
     "text": [
      "Warning: CDR-H1 prediction for 1fl5.pdb incorrect.\n",
      "Are you sure the provided structure is an IMGT numbered antibody?\n"
     ]
    }
   ],
   "source": [
    "pred = CDR_Predictor('1fl5.pdb')\n",
    "pred.write_predictions_in_pdb_format('predicted.pdb')"
   ]
  },
  {
   "cell_type": "code",
   "execution_count": 14,
   "metadata": {},
   "outputs": [
    {
     "data": {
      "text/plain": [
       "{'H1': ('H', (25, 39)),\n",
       " 'H2': ('H', (55, 66)),\n",
       " 'H3': ('H', (105, 119)),\n",
       " 'L1': ('L', (22, 42)),\n",
       " 'L2': ('L', (54, 71)),\n",
       " 'L3': ('L', (103, 119))}"
      ]
     },
     "execution_count": 14,
     "metadata": {},
     "output_type": "execute_result"
    }
   ],
   "source": [
    "pred.CDR_with_anchor_slices"
   ]
  },
  {
   "cell_type": "code",
   "execution_count": 15,
   "metadata": {},
   "outputs": [
    {
     "name": "stdout",
     "output_type": "stream",
     "text": [
      "H1\n",
      "H2\n",
      "H3\n",
      "L1\n",
      "L2\n",
      "L3\n"
     ]
    }
   ],
   "source": [
    "for CDR in pred.CDR_with_anchor_slices:\n",
    "    print(CDR)"
   ]
  },
  {
   "cell_type": "code",
   "execution_count": 21,
   "metadata": {},
   "outputs": [
    {
     "data": {
      "text/plain": [
       "array([[nan, nan, nan],\n",
       "       [nan, nan, nan],\n",
       "       [nan, nan, nan],\n",
       "       [nan, nan, nan]])"
      ]
     },
     "execution_count": 21,
     "metadata": {},
     "output_type": "execute_result"
    }
   ],
   "source": [
    "import numpy as np\n",
    "coors = np.zeros((4, 3))\n",
    "coors[...] = float(\"Nan\")\n",
    "coors"
   ]
  },
  {
   "cell_type": "code",
   "execution_count": 27,
   "metadata": {},
   "outputs": [
    {
     "data": {
      "text/plain": [
       "['ATOM',\n",
       " '1839',\n",
       " 'N',\n",
       " 'SER',\n",
       " 'H',\n",
       " '25',\n",
       " '28.913',\n",
       " '31.355',\n",
       " '14.629',\n",
       " '1.00',\n",
       " '20.35',\n",
       " 'N']"
      ]
     },
     "execution_count": 27,
     "metadata": {},
     "output_type": "execute_result"
    }
   ],
   "source": [
    "loop = pred.CDR_text['H1']\n",
    "res = loop[0].split()\n",
    "res"
   ]
  },
  {
   "cell_type": "code",
   "execution_count": 33,
   "metadata": {},
   "outputs": [
    {
     "data": {
      "text/plain": [
       "{'H1': 1849, 'H2': 2130, 'H3': 2553, 'L1': 165, 'L2': 472, 'L3': 837}"
      ]
     },
     "execution_count": 33,
     "metadata": {},
     "output_type": "execute_result"
    }
   ],
   "source": [
    "pred.CDR_start_atom_id"
   ]
  },
  {
   "cell_type": "code",
   "execution_count": 36,
   "metadata": {},
   "outputs": [
    {
     "ename": "AttributeError",
     "evalue": "'CDR_Predictor' object has no attribute '__prepare_model_input'",
     "output_type": "error",
     "traceback": [
      "\u001b[0;31m---------------------------------------------------------------------------\u001b[0m",
      "\u001b[0;31mAttributeError\u001b[0m                            Traceback (most recent call last)",
      "\u001b[1;32m/Users/fabian/Desktop/Antibody Project/ABlooper/test.ipynb Cell 8'\u001b[0m in \u001b[0;36m<cell line: 1>\u001b[0;34m()\u001b[0m\n\u001b[0;32m----> <a href='vscode-notebook-cell:/Users/fabian/Desktop/Antibody%20Project/ABlooper/test.ipynb#ch0000007?line=0'>1</a>\u001b[0m input_encoding, input_geometry \u001b[39m=\u001b[39m pred\u001b[39m.\u001b[39;49m__prepare_model_input()\n",
      "\u001b[0;31mAttributeError\u001b[0m: 'CDR_Predictor' object has no attribute '__prepare_model_input'"
     ]
    }
   ],
   "source": [
    "input_encoding, input_geometry = pred.__prepare_model_input()"
   ]
  },
  {
   "cell_type": "code",
   "execution_count": 51,
   "metadata": {},
   "outputs": [
    {
     "data": {
      "text/plain": [
       "array([[[26.30281 , 35.452503, 16.274906],\n",
       "        [26.921808, 34.578003, 15.641559],\n",
       "        [27.030102, 35.760296, 16.68389 ],\n",
       "        [27.459879, 35.54963 , 17.629934]],\n",
       "\n",
       "       [[28.449848, 35.268486, 18.134518],\n",
       "        [28.100025, 35.015667, 17.101538],\n",
       "        [29.085537, 34.97931 , 18.582396],\n",
       "        [29.34409 , 35.43613 , 19.688313]],\n",
       "\n",
       "       [[30.039576, 35.288067, 18.970453],\n",
       "        [29.450281, 34.917263, 17.98644 ],\n",
       "        [30.499538, 34.551197, 19.57753 ],\n",
       "        [30.939386, 35.147125, 20.87952 ]],\n",
       "\n",
       "       [[32.079956, 34.81191 , 19.947575],\n",
       "        [30.703104, 35.019257, 19.067432],\n",
       "        [32.439434, 33.952576, 20.657288],\n",
       "        [33.051277, 35.287476, 21.591396]],\n",
       "\n",
       "       [[32.8817  , 33.829803, 20.760624],\n",
       "        [31.582119, 34.0767  , 19.817638],\n",
       "        [33.305077, 32.615795, 21.295439],\n",
       "        [33.10615 , 34.396816, 20.878258]],\n",
       "\n",
       "       [[33.752857, 31.785437, 20.394642],\n",
       "        [33.277046, 32.574207, 20.595295],\n",
       "        [35.280594, 30.653101, 21.31213 ],\n",
       "        [33.869392, 32.37615 , 19.609945]],\n",
       "\n",
       "       [[36.276917, 30.999994, 20.8832  ],\n",
       "        [34.949436, 31.475245, 20.69231 ],\n",
       "        [37.628654, 31.196423, 22.65199 ],\n",
       "        [36.13387 , 31.494345, 20.878159]],\n",
       "\n",
       "       [[38.28835 , 31.93784 , 22.652786],\n",
       "        [37.02876 , 32.20553 , 22.103   ],\n",
       "        [38.735283, 31.602188, 23.892208],\n",
       "        [38.073067, 33.385773, 23.077967]],\n",
       "\n",
       "       [[38.509876, 32.110962, 24.521412],\n",
       "        [38.01176 , 31.864136, 24.013893],\n",
       "        [39.348614, 31.161663, 24.957102],\n",
       "        [37.77947 , 33.297035, 25.092505]],\n",
       "\n",
       "       [[38.887375, 31.097452, 26.121923],\n",
       "        [38.460426, 31.00622 , 24.742632],\n",
       "        [39.45662 , 29.147898, 26.847666],\n",
       "        [37.62113 , 30.849554, 25.792786]],\n",
       "\n",
       "       [[40.10912 , 29.04722 , 27.449291],\n",
       "        [39.92283 , 29.228638, 26.612677],\n",
       "        [40.123085, 27.37618 , 28.39618 ],\n",
       "        [40.507614, 28.430115, 26.433071]]], dtype=float32)"
      ]
     },
     "execution_count": 51,
     "metadata": {},
     "output_type": "execute_result"
    }
   ],
   "source": [
    "pred.predicted_CDRs['H1']"
   ]
  },
  {
   "cell_type": "code",
   "execution_count": 45,
   "metadata": {},
   "outputs": [
    {
     "data": {
      "text/plain": [
       "{'H1': 'SGFTFTDYYMSWVRQ',\n",
       " 'H2': 'YTTEYSASVKGR',\n",
       " 'H3': 'QGTSVTVSSASTKGP',\n",
       " 'L1': 'SCRSSQNGNTYLEWYLQKPGQ',\n",
       " 'L2': 'RFSGVPDRFSGSGSGTDF',\n",
       " 'L3': 'KLEIKRTVAAPSVFIFP'}"
      ]
     },
     "execution_count": 45,
     "metadata": {},
     "output_type": "execute_result"
    }
   ],
   "source": [
    "pred.CDR_sequences"
   ]
  },
  {
   "cell_type": "code",
   "execution_count": null,
   "metadata": {},
   "outputs": [],
   "source": []
  }
 ],
 "metadata": {
  "interpreter": {
   "hash": "b68f9eedec4825490a01d6907fa8139c5284fcb4395b458f0f41fe7d228fceae"
  },
  "kernelspec": {
   "display_name": "Python 3.10.2 ('ab')",
   "language": "python",
   "name": "python3"
  },
  "language_info": {
   "codemirror_mode": {
    "name": "ipython",
    "version": 3
   },
   "file_extension": ".py",
   "mimetype": "text/x-python",
   "name": "python",
   "nbconvert_exporter": "python",
   "pygments_lexer": "ipython3",
   "version": "3.10.2"
  },
  "orig_nbformat": 4
 },
 "nbformat": 4,
 "nbformat_minor": 2
}
