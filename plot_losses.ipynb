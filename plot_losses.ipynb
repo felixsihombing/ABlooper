{
 "cells": [
  {
   "cell_type": "markdown",
   "metadata": {},
   "source": []
  },
  {
   "cell_type": "code",
   "execution_count": 1,
   "metadata": {},
   "outputs": [],
   "source": [
    "import matplotlib.pyplot as plt\n",
    "import numpy as np"
   ]
  },
  {
   "cell_type": "markdown",
   "metadata": {},
   "source": [
    "Losses plotted for training of ABlooper with 1 decoy, first 268 epochs"
   ]
  },
  {
   "cell_type": "code",
   "execution_count": 2,
   "metadata": {},
   "outputs": [],
   "source": [
    "def get_loss(loss_text, **kwargs):\n",
    "    if kwargs['loss'] == 'train':\n",
    "        which = 0\n",
    "    elif kwargs['loss'] == 'val':\n",
    "        which = 1\n",
    "    \n",
    "    losses = []\n",
    "    loss_text = loss_text[1:] # remove header\n",
    "    for i in range(len(loss_text)):\n",
    "        losses.append(float(loss_text[i].strip().split('|')[which]))\n",
    "    \n",
    "    return np.asarray(losses)"
   ]
  },
  {
   "cell_type": "code",
   "execution_count": 3,
   "metadata": {},
   "outputs": [
    {
     "data": {
      "text/plain": [
       "Text(0.5, 0, 'epoch')"
      ]
     },
     "execution_count": 3,
     "metadata": {},
     "output_type": "execute_result"
    },
    {
     "data": {
      "image/png": "[encoded data removed]",
      "text/plain": [
       "<Figure size 432x288 with 1 Axes>"
      ]
     },
     "metadata": {
      "needs_background": "light"
     },
     "output_type": "display_data"
    }
   ],
   "source": [
    "with open('output.out', 'r') as f:\n",
    "    text = f.readlines()\n",
    "loss_text = text[4:]\n",
    "\n",
    "train_loss = get_loss(loss_text, loss='train')\n",
    "val_loss = get_loss(loss_text, loss='val')\n",
    "\n",
    "plt.plot(train_loss, label='train')\n",
    "plt.plot(val_loss, '--', label='val')\n",
    "plt.ylim((1.2,2))\n",
    "plt.legend()\n",
    "plt.ylabel('RMSD')\n",
    "plt.xlabel('epoch')"
   ]
  },
  {
   "cell_type": "code",
   "execution_count": null,
   "metadata": {},
   "outputs": [],
   "source": []
  },
  {
   "cell_type": "code",
   "execution_count": null,
   "metadata": {},
   "outputs": [],
   "source": []
  }
 ],
 "metadata": {
  "interpreter": {
   "hash": "b68f9eedec4825490a01d6907fa8139c5284fcb4395b458f0f41fe7d228fceae"
  },
  "kernelspec": {
   "display_name": "Python 3.10.2 ('ab')",
   "language": "python",
   "name": "python3"
  },
  "language_info": {
   "codemirror_mode": {
    "name": "ipython",
    "version": 3
   },
   "file_extension": ".py",
   "mimetype": "text/x-python",
   "name": "python",
   "nbconvert_exporter": "python",
   "pygments_lexer": "ipython3",
   "version": "3.9.7"
  },
  "orig_nbformat": 4
 },
 "nbformat": 4,
 "nbformat_minor": 2
}
