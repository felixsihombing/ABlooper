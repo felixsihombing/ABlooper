{
  "cells": [
    {
      "cell_type": "code",
      "execution_count": null,
      "metadata": {
        "colab": {
          "base_uri": "https://localhost:8080/"
        },
        "id": "XDsKJspvOgfr",
        "outputId": "aab642aa-a696-4e82-bbea-917efaa3743a"
      },
      "outputs": [
        {
          "name": "stdout",
          "output_type": "stream",
          "text": [
            "Cloning into 'MLAb'...\n",
            "remote: Enumerating objects: 8342, done.\u001b[K\n",
            "remote: Counting objects: 100% (8342/8342), done.\u001b[K\n",
            "remote: Compressing objects: 100% (8145/8145), done.\u001b[K\n",
            "remote: Total 8342 (delta 231), reused 8273 (delta 190), pack-reused 0\u001b[K\n",
            "Receiving objects: 100% (8342/8342), 171.61 MiB | 17.71 MiB/s, done.\n",
            "Resolving deltas: 100% (231/231), done.\n",
            "Checking out files: 100% (8090/8090), done.\n",
            "Collecting egnn-pytorch==0.1.11\n",
            "  Downloading egnn_pytorch-0.1.11-py3-none-any.whl (12 kB)\n",
            "Collecting einops>=0.3\n",
            "  Downloading einops-0.3.2-py3-none-any.whl (25 kB)\n",
            "Requirement already satisfied: numba in /usr/local/lib/python3.7/dist-packages (from egnn-pytorch==0.1.11) (0.51.2)\n",
            "Requirement already satisfied: numpy in /usr/local/lib/python3.7/dist-packages (from egnn-pytorch==0.1.11) (1.19.5)\n",
            "Requirement already satisfied: torch>=1.6 in /usr/local/lib/python3.7/dist-packages (from egnn-pytorch==0.1.11) (1.9.0+cu111)\n",
            "Requirement already satisfied: typing-extensions in /usr/local/lib/python3.7/dist-packages (from torch>=1.6->egnn-pytorch==0.1.11) (3.7.4.3)\n",
            "Requirement already satisfied: llvmlite<0.35,>=0.34.0.dev0 in /usr/local/lib/python3.7/dist-packages (from numba->egnn-pytorch==0.1.11) (0.34.0)\n",
            "Requirement already satisfied: setuptools in /usr/local/lib/python3.7/dist-packages (from numba->egnn-pytorch==0.1.11) (57.4.0)\n",
            "Installing collected packages: einops, egnn-pytorch\n",
            "Successfully installed egnn-pytorch-0.1.11 einops-0.3.2\n",
            "Requirement already satisfied: plotly in /usr/local/lib/python3.7/dist-packages (4.4.1)\n",
            "Requirement already satisfied: six in /usr/local/lib/python3.7/dist-packages (from plotly) (1.15.0)\n",
            "Requirement already satisfied: retrying>=1.3.3 in /usr/local/lib/python3.7/dist-packages (from plotly) (1.3.3)\n"
          ]
        }
      ],
      "source": [
        "!git clone --branch no_oxygen\n",
        "!pip install egnn-pytorch==0.1.11\n",
        "!pip install plotly"
      ]
    },
    {
      "cell_type": "code",
      "execution_count": null,
      "metadata": {
        "id": "8_EACbWH1swn"
      },
      "outputs": [],
      "source": [
        "import math\n",
        "import torch\n",
        "from torch.optim.optimizer import Optimizer, required\n",
        "\n",
        "class RAdam(Optimizer):\n",
        "\n",
        "    def __init__(self, params, lr=1e-3, betas=(0.9, 0.999), eps=1e-8, weight_decay=0, degenerated_to_sgd=True):\n",
        "        if not 0.0 <= lr:\n",
        "            raise ValueError(\"Invalid learning rate: {}\".format(lr))\n",
        "        if not 0.0 <= eps:\n",
        "            raise ValueError(\"Invalid epsilon value: {}\".format(eps))\n",
        "        if not 0.0 <= betas[0] < 1.0:\n",
        "            raise ValueError(\"Invalid beta parameter at index 0: {}\".format(betas[0]))\n",
        "        if not 0.0 <= betas[1] < 1.0:\n",
        "            raise ValueError(\"Invalid beta parameter at index 1: {}\".format(betas[1]))\n",
        "        \n",
        "        self.degenerated_to_sgd = degenerated_to_sgd\n",
        "        if isinstance(params, (list, tuple)) and len(params) > 0 and isinstance(params[0], dict):\n",
        "            for param in params:\n",
        "                if 'betas' in param and (param['betas'][0] != betas[0] or param['betas'][1] != betas[1]):\n",
        "                    param['buffer'] = [[None, None, None] for _ in range(10)]\n",
        "        defaults = dict(lr=lr, betas=betas, eps=eps, weight_decay=weight_decay, buffer=[[None, None, None] for _ in range(10)])\n",
        "        super(RAdam, self).__init__(params, defaults)\n",
        "\n",
        "    def __setstate__(self, state):\n",
        "        super(RAdam, self).__setstate__(state)\n",
        "\n",
        "    def step(self, closure=None):\n",
        "\n",
        "        loss = None\n",
        "        if closure is not None:\n",
        "            loss = closure()\n",
        "\n",
        "        for group in self.param_groups:\n",
        "\n",
        "            for p in group['params']:\n",
        "                if p.grad is None:\n",
        "                    continue\n",
        "                grad = p.grad.data.float()\n",
        "                if grad.is_sparse:\n",
        "                    raise RuntimeError('RAdam does not support sparse gradients')\n",
        "\n",
        "                p_data_fp32 = p.data.float()\n",
        "\n",
        "                state = self.state[p]\n",
        "\n",
        "                if len(state) == 0:\n",
        "                    state['step'] = 0\n",
        "                    state['exp_avg'] = torch.zeros_like(p_data_fp32)\n",
        "                    state['exp_avg_sq'] = torch.zeros_like(p_data_fp32)\n",
        "                else:\n",
        "                    state['exp_avg'] = state['exp_avg'].type_as(p_data_fp32)\n",
        "                    state['exp_avg_sq'] = state['exp_avg_sq'].type_as(p_data_fp32)\n",
        "\n",
        "                exp_avg, exp_avg_sq = state['exp_avg'], state['exp_avg_sq']\n",
        "                beta1, beta2 = group['betas']\n",
        "\n",
        "                exp_avg_sq.mul_(beta2).addcmul_(1 - beta2, grad, grad)\n",
        "                exp_avg.mul_(beta1).add_(1 - beta1, grad)\n",
        "\n",
        "                state['step'] += 1\n",
        "                buffered = group['buffer'][int(state['step'] % 10)]\n",
        "                if state['step'] == buffered[0]:\n",
        "                    N_sma, step_size = buffered[1], buffered[2]\n",
        "                else:\n",
        "                    buffered[0] = state['step']\n",
        "                    beta2_t = beta2 ** state['step']\n",
        "                    N_sma_max = 2 / (1 - beta2) - 1\n",
        "                    N_sma = N_sma_max - 2 * state['step'] * beta2_t / (1 - beta2_t)\n",
        "                    buffered[1] = N_sma\n",
        "\n",
        "                    # more conservative since it's an approximated value\n",
        "                    if N_sma >= 5:\n",
        "                        step_size = math.sqrt((1 - beta2_t) * (N_sma - 4) / (N_sma_max - 4) * (N_sma - 2) / N_sma * N_sma_max / (N_sma_max - 2)) / (1 - beta1 ** state['step'])\n",
        "                    elif self.degenerated_to_sgd:\n",
        "                        step_size = 1.0 / (1 - beta1 ** state['step'])\n",
        "                    else:\n",
        "                        step_size = -1\n",
        "                    buffered[2] = step_size\n",
        "\n",
        "                # more conservative since it's an approximated value\n",
        "                if N_sma >= 5:\n",
        "                    if group['weight_decay'] != 0:\n",
        "                        p_data_fp32.add_(-group['weight_decay'] * group['lr'], p_data_fp32)\n",
        "                    denom = exp_avg_sq.sqrt().add_(group['eps'])\n",
        "                    p_data_fp32.addcdiv_(-step_size * group['lr'], exp_avg, denom)\n",
        "                    p.data.copy_(p_data_fp32)\n",
        "                elif step_size > 0:\n",
        "                    if group['weight_decay'] != 0:\n",
        "                        p_data_fp32.add_(-group['weight_decay'] * group['lr'], p_data_fp32)\n",
        "                    p_data_fp32.add_(-step_size * group['lr'], exp_avg)\n",
        "                    p.data.copy_(p_data_fp32)\n",
        "\n",
        "        return loss"
      ]
    },
    {
      "cell_type": "code",
      "execution_count": null,
      "metadata": {
        "id": "1rQ7elvzP0ob"
      },
      "outputs": [],
      "source": [
        "import pandas as pd\n",
        "import numpy as np\n",
        "import os\n",
        "from einops import rearrange, reduce\n",
        "import matplotlib.pyplot as plt\n",
        "import copy\n",
        "import IPython\n",
        "import torch\n",
        "from torch import nn, einsum, broadcast_tensors\n",
        "\n",
        "# Most of the code in this file is based on egnn-pytorch by lucidrains.\n",
        "\n",
        "class Swish_(nn.Module):\n",
        "    def forward(self, x):\n",
        "        return x * x.sigmoid()\n",
        "\n",
        "\n",
        "SiLU = nn.SiLU if hasattr(nn, 'SiLU') else Swish_\n",
        "\n",
        "\n",
        "class CoorsNorm(nn.Module):\n",
        "    def __init__(self, eps=1e-8):\n",
        "        super().__init__()\n",
        "        self.eps = eps\n",
        "        self.fn = nn.LayerNorm(1)\n",
        "\n",
        "    def forward(self, coors):\n",
        "        norm = coors.norm(dim=-1, keepdim=True)\n",
        "        normed_coors = coors / norm.clamp(min=self.eps)\n",
        "        phase = self.fn(norm)\n",
        "        return phase * normed_coors\n",
        "\n",
        "\n",
        "# classes\n",
        "\n",
        "class EGNN(nn.Module):\n",
        "    def __init__(\n",
        "            self,\n",
        "            dim,\n",
        "            m_dim=32,\n",
        "    ):\n",
        "        super().__init__()\n",
        "\n",
        "        edge_input_dim = (dim * 2) + 1\n",
        "\n",
        "        self.edge_mlp = nn.Sequential(\n",
        "            nn.Linear(edge_input_dim, edge_input_dim * 2),\n",
        "            SiLU(),\n",
        "            nn.Linear(edge_input_dim * 2, m_dim),\n",
        "            SiLU()\n",
        "        )\n",
        "\n",
        "        self.coors_norm = CoorsNorm()\n",
        "\n",
        "        self.node_mlp = nn.Sequential(\n",
        "            nn.Linear(dim + m_dim, dim * 2),\n",
        "            SiLU(),\n",
        "            nn.Linear(dim * 2, dim),\n",
        "        )\n",
        "\n",
        "        self.coors_mlp = nn.Sequential(\n",
        "            nn.Linear(m_dim, m_dim * 4),\n",
        "            SiLU(),\n",
        "            nn.Linear(m_dim * 4, 1)\n",
        "        )\n",
        "\n",
        "    def forward(self, feats, coors):\n",
        "        rel_coors = rearrange(coors, 'b i d -> b i () d') - rearrange(coors, 'b j d -> b () j d')\n",
        "        rel_dist = (rel_coors ** 2).sum(dim=-1, keepdim=True)\n",
        "\n",
        "        feats_j = rearrange(feats, 'b j d -> b () j d')\n",
        "        feats_i = rearrange(feats, 'b i d -> b i () d')\n",
        "        feats_i, feats_j = broadcast_tensors(feats_i, feats_j)\n",
        "\n",
        "        edge_input = torch.cat((feats_i, feats_j, rel_dist), dim=-1)\n",
        "\n",
        "        m_ij = self.edge_mlp(edge_input)\n",
        "\n",
        "        coor_weights = self.coors_mlp(m_ij)\n",
        "        coor_weights = rearrange(coor_weights, 'b i j () -> b i j')\n",
        "\n",
        "        rel_coors = self.coors_norm(rel_coors)\n",
        "\n",
        "        coors_out = einsum('b i j, b i j c -> b i c', coor_weights, rel_coors) + coors\n",
        "\n",
        "        m_i = m_ij.sum(dim=-2)\n",
        "\n",
        "        node_mlp_input = torch.cat((feats, m_i), dim=-1)\n",
        "        node_out = self.node_mlp(node_mlp_input) + feats\n",
        "\n",
        "        return node_out, coors_out\n",
        "\n",
        "\n",
        "class ResEGNN(nn.Module):\n",
        "    def __init__(self, corrections=4, dims_in=41, **kwargs):\n",
        "        super().__init__()\n",
        "        self.layers = nn.ModuleList([EGNN(dim=dims_in, **kwargs) for _ in range(corrections)])\n",
        "\n",
        "    def forward(self, amino, geom):\n",
        "        for layer in self.layers:\n",
        "            amino, geom = layer(amino, geom)\n",
        "        return geom\n",
        "\n",
        "\n",
        "class DecoyGen(nn.Module):\n",
        "    def __init__(self, dims_in=41, decoys=5, **kwargs):\n",
        "        super().__init__()\n",
        "        self.blocks = nn.ModuleList([ResEGNN(dims_in=dims_in, **kwargs) for _ in range(decoys)])\n",
        "        self.decoys = decoys\n",
        "\n",
        "    def forward(self, amino, geom):\n",
        "        geoms = torch.zeros((self.decoys, *geom.shape[1:]), device=geom.device)\n",
        "\n",
        "        for i, block in enumerate(self.blocks):\n",
        "            geoms[i] = block(amino, geom)\n",
        "\n",
        "        return geoms"
      ]
    },
    {
      "cell_type": "code",
      "execution_count": null,
      "metadata": {
        "id": "6ltb447ydvMm"
      },
      "outputs": [],
      "source": [
        "current_directory = \"H3Data\"\n",
        "dict_ = {'A': '0', 'C': '1', 'D': '2', 'E': '3', 'F': '4', 'G': '5', 'H': '6', 'I': '7', 'K': '8', 'L': '9', 'M': '10','N': '11', 'P': '12', 'Q': '13', 'R': '14', 'S': '15', 'T': '16', 'V': '17', 'W': '18', 'Y': '19', '-': '20'}\n",
        "\n",
        "\n",
        "torch.set_default_dtype(torch.float)\n",
        "default_type = torch.zeros(2).dtype\n",
        "device = \"cuda\" if torch.cuda.is_available() else \"cpu\"\n",
        "\n",
        "\n",
        "def encode(x, classes):\n",
        "    \"\"\" One hot encodes a scalar x into a vector of length classes.\n",
        "    This is the function used for Sequence encoding.\n",
        "    \"\"\"\n",
        "    one_hot = np.zeros(classes)\n",
        "    one_hot[x] = 1\n",
        "    return one_hot\n",
        "\n",
        "\n",
        "def one_hot(num_list, classes=20):\n",
        "    \"\"\" One hot encodes a 1D vector x.\n",
        "    This is the function used for Sequence encoding.\n",
        "    \"\"\"\n",
        "    end_shape = (len(num_list), classes)\n",
        "    finish = np.zeros(end_shape)\n",
        "    for i in range(end_shape[0]):\n",
        "        finish[i] = encode(num_list[i], classes)\n",
        "    return finish\n",
        "\n",
        "\n",
        "def positional_encoding(sequence, n = 5):\n",
        "    encs = []\n",
        "    L = len(sequence)\n",
        "    for i in range(n):\n",
        "        encs.append(np.cos((2**i)*np.pi*np.arange(L)/L))\n",
        "        encs.append(np.sin((2**i)*np.pi*np.arange(L)/L))\n",
        "    \n",
        "    return np.array(encs).transpose()\n",
        "\n",
        "\n",
        "def spiral(geom_in):\n",
        "    gin = geom_in.copy()\n",
        "    v1 = gin[1] - gin[0]\n",
        "    v1/= np.linalg.norm(v1) \n",
        "    v2 = gin[2] - gin[1]\n",
        "    v2/= np.linalg.norm(v2) \n",
        "    v3 = np.cross(v1,v2)\n",
        "    v3/= np.linalg.norm(v3) \n",
        "    v4 = np.cross(v2,v3) \n",
        "    L = len(gin) - 4\n",
        "    gin[2:-2] += np.array([(v3*np.sin(i) + v4*np.cos(i)) for i in range(L)])\n",
        "\n",
        "    return gin\n",
        "\n",
        "\n",
        "def res_to_atom(amino, n_atoms = 4):\n",
        "    residue_feat = rearrange(amino, \"i d -> i () d\")\n",
        "    atom_type = rearrange(torch.eye(n_atoms, device = amino.device), \"a d -> () a d\")\n",
        "\n",
        "    i = residue_feat.shape[0]\n",
        "    atom_feat = torch.cat([residue_feat.repeat(1,n_atoms,1), atom_type.repeat(i,1,1)], dim = -1)\n",
        "    return atom_feat\n",
        "\n",
        "def which_loop(loop_seq, cdr, CDRs):\n",
        "    loop = np.zeros((len(loop_seq),len(CDRs)+1))\n",
        "    loop[:,-1] = 1\n",
        "    loop[2:-2] = np.array([1.0 if cdr == x else 0.0 for x in (CDRs + [\"Anchor\"])])[None].repeat(len(loop_seq)-4, axis = 0)\n",
        "    return loop\n",
        "\n",
        "\n",
        "class DataStorer:\n",
        "    def __init__(self, data, data_dir = \"H3Data\", device = device, CDRs = [\"H1\", \"H2\", \"H3\", \"L1\", \"L2\", \"L3\"]):\n",
        "        self.data = data.reset_index(drop = True)\n",
        "        self.full_atoms_path = os.path.join(data_dir, \"data\")\n",
        "        self.device = device\n",
        "\n",
        "        self.geom_ins = []\n",
        "        self.aminos = []\n",
        "        self.geom_out = []\n",
        "        self.ids = []\n",
        "        self.sequences = []\n",
        "        self.CDRs = CDRs\n",
        "        self.CDR_slices = {\n",
        "            \"H1\":slice(23,36),\n",
        "            \"H2\":slice(51,63),\n",
        "            \"H3\":slice(100,124),\n",
        "            \"L1\":slice(155,176),\n",
        "            \"L2\":slice(187,198),\n",
        "            \"L3\":slice(226,245)}\n",
        "\n",
        "        \n",
        "        self.__populate()\n",
        "        \n",
        "    def __populate(self):\n",
        "        device = self.device\n",
        "        dict_ = {'A': '0', 'C': '1', 'D': '2', 'E': '3', 'F': '4', 'G': '5', 'H': '6', 'I': '7', 'K': '8', 'L': '9', 'M': '10','N': '11', 'P': '12', 'Q': '13', 'R': '14', 'S': '15', 'T': '16', 'V': '17', 'W': '18', 'Y': '19'}\n",
        "        for i in range(len(self.data)):\n",
        "            latest_sequence = self.data.Sequence[i]\n",
        "            latest_ID = self.data.ID[i]\n",
        "\n",
        "            full_geom = np.load(os.path.join(self.full_atoms_path, latest_ID + \".npy\"))\n",
        "\n",
        "            geoins = []\n",
        "            geouts = []\n",
        "            aminos = []\n",
        "            seq = \"\"\n",
        "\n",
        "            for cdr in self.CDR_slices:\n",
        "\n",
        "                if cdr not in self.CDRs:\n",
        "                    continue\n",
        "\n",
        "                loop_seq = latest_sequence[self.CDR_slices[cdr]].replace(\"-\", \"\")\n",
        "                seq += loop_seq\n",
        "                geom = full_geom[self.CDR_slices[cdr]]\n",
        "\n",
        "                if any([x != x for x in geom[:2,:].flatten()]) or any([x != x for x in geom[-2:,:].flatten()]):\n",
        "                    continue # Missing anchors\n",
        "\n",
        "                geom = geom[geom[:,0,0] == geom[:,0,0]] #remove nans\n",
        "\n",
        "                dists = ((geom[1:,0] - geom[:-1,0])**2).sum(-1)**(1/2)\n",
        "                if any([not (2.8 < x < 4.8) for x in dists]): \n",
        "                    continue # Missing CA atoms\n",
        "\n",
        "                one_hot_encoding = one_hot(np.array([int(dict_[c]) for c in loop_seq]))\n",
        "                positional = positional_encoding(loop_seq)\n",
        "                loop = which_loop(loop_seq, cdr, list(self.CDR_slices))\n",
        "                encoding = np.concatenate([one_hot_encoding, positional, loop], axis = 1)\n",
        "\n",
        "                geom_in = geom.copy()\n",
        "                geom_in[1:-1] = np.linspace(geom_in[1], geom_in[-2], len(geom_in)-2)\n",
        "                #geom_in = spiral(geom_in)\n",
        "                \n",
        "                geoins.append(torch.tensor(geom_in, dtype = default_type))\n",
        "                geouts.append(torch.tensor(geom, dtype = default_type))\n",
        "                aminos.append(torch.tensor(encoding, dtype = default_type))\n",
        "\n",
        "            if len(geoins) != len(self.CDRs):\n",
        "                continue\n",
        "\n",
        "            self.geom_ins.append(rearrange(torch.cat(geoins).to(device), \"i a d -> () (i a) d\"))\n",
        "            self.aminos.append(rearrange(res_to_atom(torch.cat(aminos).to(device)), \"i a d -> () (i a) d\"))\n",
        "            self.geom_out.append(rearrange(torch.cat(geouts).to(device), \"i a d -> () (i a) d\"))\n",
        "            self.ids.append(latest_ID)\n",
        "            self.sequences.append(seq)\n",
        "                             \n",
        "    def __len__(self):\n",
        "        return len(self.geom_ins)\n",
        "\n",
        "def rmsd(prediction, truth):\n",
        "    dists = (prediction - truth).pow(2).sum(-1)\n",
        "    return torch.sqrt(dists.mean(-1)).mean()\n",
        "\n",
        "\n",
        "def rmsds(preds, true):\n",
        "    return  torch.sort((preds - true).pow(2).sum(-1).mean(-1).pow(1/2))[0]\n",
        "\n",
        "def length_penalty(pred):\n",
        "    return ((((pred[:,1:]-pred[:,:-1])**2).sum(-1).pow(1/2) - 3.802).pow(2)).mean()\n",
        "\n",
        "def different_penalty(pred):\n",
        "    return -(rearrange(pred, \"i n d -> i () n d\") - rearrange(pred, \"j n d -> () j n d\")).pow(2).mean()\n",
        "\n",
        "def dist_check(pred, amino):\n",
        "    err = 0\n",
        "    for i in range(6):\n",
        "        CDR = rearrange(pred[:,amino[0,:,30+i]==1.0], \"d (r a) p -> d a r p\", a = 4)\n",
        "        # CA-CA\n",
        "        err += (((CDR[:,0,1:] - CDR[:,0,:-1]).pow(2).sum(-1).pow(1/2) - 3.82).abs() - 0.12).clamp(0).mean()\n",
        "        # CA-N\n",
        "        err += (((CDR[:,0] - CDR[:,1]).pow(2).sum(-1).pow(1/2) - 1.47).abs() - 0.01).clamp(0).mean()\n",
        "        # CA-C\n",
        "        err += (((CDR[:,0] - CDR[:,2]).pow(2).sum(-1).pow(1/2) - 1.53).abs() - 0.01).clamp(0).mean()\n",
        "        # C-N\n",
        "        err += (((CDR[:,2,:-1] - CDR[:,1,1:]).pow(2).sum(-1).pow(1/2) - 1.34).abs() - 0.01).clamp(0).mean()\n",
        "        # CA-CB\n",
        "        CDR2 = rearrange(pred[:,(amino[0,:,30+i]==1.0) & (amino[0,:,5] != 1.0)], \"d (r a) p -> d a r p\", a = 4)\n",
        "        err += (((CDR2[:,0] - CDR2[:,-1]).pow(2).sum(-1).pow(1/2) - 1.54).abs() - 0.01).clamp(0).mean()\n",
        "\n",
        "    return err\n",
        "\n",
        "def cdr_seqs(seq):\n",
        "    CDR_slices = {\n",
        "    \"H1\":slice(23,36),\n",
        "    \"H2\":slice(51,63),\n",
        "    \"H3\":slice(100,124),\n",
        "    \"L1\":slice(155,176),\n",
        "    \"L2\":slice(187,198),\n",
        "    \"L3\":slice(226,245)}\n",
        "    return  \"/\".join([seq[CDR_slices[x]].replace(\"-\", \"\") for x in CDR_slices])"
      ]
    },
    {
      "cell_type": "markdown",
      "metadata": {
        "id": "DYIO6h_0skLf"
      },
      "source": [
        "## Fv Sequence Positions\n",
        "\n",
        "Heavy chain: [:133]\n",
        "\n",
        "Light chain: [133:]\n",
        "\n",
        "CDR-H1: [25:34] -> With anchors [23:36]\n",
        "\n",
        "CDR-H2: [53:61] -> With anchors [51:63]\n",
        "\n",
        "CDR-H3: [102:122] -> With anchors [100:124]\n",
        "\n",
        "CDR-L1: [157:174] -> With anchors [155:176]\n",
        "\n",
        "CDR-L2: [189:196] -> With anchors [187:198]\n",
        "\n",
        "CDR-L3: [228:243] -> With anchors [226:245]\n"
      ]
    },
    {
      "cell_type": "code",
      "execution_count": null,
      "metadata": {
        "id": "I8VFO7QTiwjZ"
      },
      "outputs": [],
      "source": []
    },
    {
      "cell_type": "code",
      "execution_count": null,
      "metadata": {
        "id": "Pyu4BKazP3ZW"
      },
      "outputs": [],
      "source": [
        "extra = pd.read_csv(os.path.join(current_directory, \"new_data.csv\"))\n",
        "data = pd.read_csv(os.path.join(current_directory, \"data.csv\"))\n",
        "data = pd.concat([data,extra])\n",
        "test = pd.read_csv(os.path.join(current_directory, \"validation_data.csv\"))\n",
        "\n",
        "data[\"CDRs\"] = [cdr_seqs(x) for x in data.Sequence]\n",
        "test[\"CDRs\"] = [cdr_seqs(x) for x in test.Sequence]\n",
        "\n",
        "data = data[(~data.CDRs.isin(test.CDRs))]\n",
        "assert not any(test.ID.isin(data.ID).values) , \"You got some test in your train\"\n",
        "\n",
        "\n",
        "a = DataStorer(data)\n",
        "b = DataStorer(test)\n"
      ]
    },
    {
      "cell_type": "code",
      "execution_count": null,
      "metadata": {
        "id": "LW_lPsxzxRUS"
      },
      "outputs": [],
      "source": [
        "def atom_dist(geom):\n",
        "    return ((geom[:,None] - geom[:,:,None]).mean(0).pow(2).sum(-1) + 1e-8).pow(1/2) \n",
        "\n",
        "def atom_dist_penal(geom, pred):\n",
        "    true_ds = atom_dist(geom)\n",
        "    pred_ds = atom_dist(pred)\n",
        "    mask = true_ds < 4.0\n",
        "    return (true_ds-pred_ds)[mask].pow(2).mean()"
      ]
    },
    {
      "cell_type": "code",
      "execution_count": null,
      "metadata": {
        "id": "6Aj-UhplP5bS"
      },
      "outputs": [],
      "source": [
        "corr = 4\n",
        "norm = True\n",
        "decay = 1e-3\n",
        "lr = 1e-3\n",
        "m_dim = 32\n",
        "advers = 5\n",
        "\n",
        "model = DecoyGen().to(device = device).float()\n",
        "mean_val_losses = []\n",
        "mean_train_losses = []"
      ]
    },
    {
      "cell_type": "code",
      "execution_count": null,
      "metadata": {
        "id": "-15TFiopKH7C"
      },
      "outputs": [],
      "source": [
        "\n",
        "optim = torch.optim.Adam(model.parameters(), lr=1e-4)"
      ]
    },
    {
      "cell_type": "code",
      "execution_count": null,
      "metadata": {
        "colab": {
          "base_uri": "https://localhost:8080/"
        },
        "id": "K2YLZ5UK-uB4",
        "outputId": "8b0d64e7-3417-4ddf-dc07-d803f2cfce06"
      },
      "outputs": [
        {
          "data": {
            "text/plain": [
              "[4.387412910660108]"
            ]
          },
          "execution_count": 44,
          "metadata": {},
          "output_type": "execute_result"
        }
      ],
      "source": [
        "epoch_val_loss = []\n",
        "with torch.no_grad():\n",
        "    for j in range(len(b)):\n",
        "        geom_in, amino, geom = b.geom_ins[j], b.aminos[j], b.geom_out[j]\n",
        "        pred = model(amino,geom_in)\n",
        "        loss = rmsd(geom, pred) + 5*(20*atom_dist_penal(geom, pred) + dist_check(pred.mean(0, keepdim = True), amino))\n",
        "        epoch_val_loss.append(loss.item()) \n",
        "    mean_val_losses.append(np.mean(epoch_val_loss))\n",
        "\n",
        "mean_val_losses"
      ]
    },
    {
      "cell_type": "code",
      "execution_count": null,
      "metadata": {
        "id": "LXAkqot4C_pl"
      },
      "outputs": [],
      "source": [
        "patience = 0\n",
        "i = 0"
      ]
    },
    {
      "cell_type": "code",
      "execution_count": null,
      "metadata": {
        "colab": {
          "base_uri": "https://localhost:8080/",
          "height": 469
        },
        "id": "H_mX8aK4QB42",
        "outputId": "09e08aeb-ce4d-4933-b569-310c624ef457"
      },
      "outputs": [
        {
          "data": {
            "text/plain": [
              "1.78%    3.94    0.02"
            ]
          },
          "metadata": {},
          "output_type": "display_data"
        },
        {
          "name": "stdout",
          "output_type": "stream",
          "text": [
            "0 4.6178 4.6426 2.6269\n",
            "1 4.0413 4.9651 2.6006\n",
            "2 4.1507 5.2050 2.6349\n",
            "3 4.2399 5.3429 2.6324\n"
          ]
        },
        {
          "ename": "KeyboardInterrupt",
          "evalue": "ignored",
          "output_type": "error",
          "traceback": [
            "\u001b[0;31m---------------------------------------------------------------------------\u001b[0m",
            "\u001b[0;31mKeyboardInterrupt\u001b[0m                         Traceback (most recent call last)",
            "\u001b[0;32m<ipython-input-46-eb3aaa37719b>\u001b[0m in \u001b[0;36m<module>\u001b[0;34m()\u001b[0m\n\u001b[1;32m     16\u001b[0m             \u001b[0mj\u001b[0m \u001b[0;34m=\u001b[0m \u001b[0morder\u001b[0m\u001b[0;34m[\u001b[0m\u001b[0mk\u001b[0m\u001b[0;34m*\u001b[0m\u001b[0mbatch\u001b[0m \u001b[0;34m+\u001b[0m \u001b[0ml\u001b[0m\u001b[0;34m]\u001b[0m\u001b[0;34m\u001b[0m\u001b[0;34m\u001b[0m\u001b[0m\n\u001b[1;32m     17\u001b[0m             \u001b[0mgeom_in\u001b[0m\u001b[0;34m,\u001b[0m \u001b[0mamino\u001b[0m\u001b[0;34m,\u001b[0m \u001b[0mgeom\u001b[0m\u001b[0;34m,\u001b[0m \u001b[0mseq\u001b[0m \u001b[0;34m=\u001b[0m \u001b[0ma\u001b[0m\u001b[0;34m.\u001b[0m\u001b[0mgeom_ins\u001b[0m\u001b[0;34m[\u001b[0m\u001b[0mj\u001b[0m\u001b[0;34m]\u001b[0m\u001b[0;34m,\u001b[0m \u001b[0ma\u001b[0m\u001b[0;34m.\u001b[0m\u001b[0maminos\u001b[0m\u001b[0;34m[\u001b[0m\u001b[0mj\u001b[0m\u001b[0;34m]\u001b[0m\u001b[0;34m,\u001b[0m \u001b[0ma\u001b[0m\u001b[0;34m.\u001b[0m\u001b[0mgeom_out\u001b[0m\u001b[0;34m[\u001b[0m\u001b[0mj\u001b[0m\u001b[0;34m]\u001b[0m\u001b[0;34m,\u001b[0m \u001b[0ma\u001b[0m\u001b[0;34m.\u001b[0m\u001b[0msequences\u001b[0m\u001b[0;34m[\u001b[0m\u001b[0mj\u001b[0m\u001b[0;34m]\u001b[0m\u001b[0;34m\u001b[0m\u001b[0;34m\u001b[0m\u001b[0m\n\u001b[0;32m---> 18\u001b[0;31m             \u001b[0mpred\u001b[0m \u001b[0;34m=\u001b[0m \u001b[0mmodel\u001b[0m\u001b[0;34m(\u001b[0m\u001b[0mamino\u001b[0m\u001b[0;34m,\u001b[0m \u001b[0mgeom_in\u001b[0m\u001b[0;34m)\u001b[0m\u001b[0;34m\u001b[0m\u001b[0;34m\u001b[0m\u001b[0m\n\u001b[0m\u001b[1;32m     19\u001b[0m             \u001b[0mloss\u001b[0m \u001b[0;34m=\u001b[0m \u001b[0mrmsd\u001b[0m\u001b[0;34m(\u001b[0m\u001b[0mgeom\u001b[0m\u001b[0;34m,\u001b[0m \u001b[0mpred\u001b[0m\u001b[0;34m)\u001b[0m \u001b[0;34m+\u001b[0m \u001b[0;36m4.0\u001b[0m\u001b[0;34m*\u001b[0m\u001b[0;34m(\u001b[0m\u001b[0;36m20\u001b[0m\u001b[0;34m*\u001b[0m\u001b[0matom_dist_penal\u001b[0m\u001b[0;34m(\u001b[0m\u001b[0mgeom\u001b[0m\u001b[0;34m,\u001b[0m \u001b[0mpred\u001b[0m\u001b[0;34m)\u001b[0m \u001b[0;34m+\u001b[0m \u001b[0mdist_check\u001b[0m\u001b[0;34m(\u001b[0m\u001b[0mpred\u001b[0m\u001b[0;34m.\u001b[0m\u001b[0mmean\u001b[0m\u001b[0;34m(\u001b[0m\u001b[0;36m0\u001b[0m\u001b[0;34m,\u001b[0m \u001b[0mkeepdim\u001b[0m \u001b[0;34m=\u001b[0m \u001b[0;32mTrue\u001b[0m\u001b[0;34m)\u001b[0m\u001b[0;34m,\u001b[0m \u001b[0mamino\u001b[0m\u001b[0;34m)\u001b[0m\u001b[0;34m)\u001b[0m\u001b[0;34m\u001b[0m\u001b[0;34m\u001b[0m\u001b[0m\n\u001b[1;32m     20\u001b[0m             \u001b[0;32mif\u001b[0m \u001b[0mloss\u001b[0m\u001b[0;34m.\u001b[0m\u001b[0mitem\u001b[0m\u001b[0;34m(\u001b[0m\u001b[0;34m)\u001b[0m \u001b[0;34m!=\u001b[0m \u001b[0mloss\u001b[0m\u001b[0;34m.\u001b[0m\u001b[0mitem\u001b[0m\u001b[0;34m(\u001b[0m\u001b[0;34m)\u001b[0m\u001b[0;34m:\u001b[0m\u001b[0;34m\u001b[0m\u001b[0;34m\u001b[0m\u001b[0m\n",
            "\u001b[0;32m/usr/local/lib/python3.7/dist-packages/torch/nn/modules/module.py\u001b[0m in \u001b[0;36m_call_impl\u001b[0;34m(self, *input, **kwargs)\u001b[0m\n\u001b[1;32m   1049\u001b[0m         if not (self._backward_hooks or self._forward_hooks or self._forward_pre_hooks or _global_backward_hooks\n\u001b[1;32m   1050\u001b[0m                 or _global_forward_hooks or _global_forward_pre_hooks):\n\u001b[0;32m-> 1051\u001b[0;31m             \u001b[0;32mreturn\u001b[0m \u001b[0mforward_call\u001b[0m\u001b[0;34m(\u001b[0m\u001b[0;34m*\u001b[0m\u001b[0minput\u001b[0m\u001b[0;34m,\u001b[0m \u001b[0;34m**\u001b[0m\u001b[0mkwargs\u001b[0m\u001b[0;34m)\u001b[0m\u001b[0;34m\u001b[0m\u001b[0;34m\u001b[0m\u001b[0m\n\u001b[0m\u001b[1;32m   1052\u001b[0m         \u001b[0;31m# Do not call functions when jit is used\u001b[0m\u001b[0;34m\u001b[0m\u001b[0;34m\u001b[0m\u001b[0;34m\u001b[0m\u001b[0m\n\u001b[1;32m   1053\u001b[0m         \u001b[0mfull_backward_hooks\u001b[0m\u001b[0;34m,\u001b[0m \u001b[0mnon_full_backward_hooks\u001b[0m \u001b[0;34m=\u001b[0m \u001b[0;34m[\u001b[0m\u001b[0;34m]\u001b[0m\u001b[0;34m,\u001b[0m \u001b[0;34m[\u001b[0m\u001b[0;34m]\u001b[0m\u001b[0;34m\u001b[0m\u001b[0;34m\u001b[0m\u001b[0m\n",
            "\u001b[0;32m<ipython-input-36-48c24de3588d>\u001b[0m in \u001b[0;36mforward\u001b[0;34m(self, amino, geom)\u001b[0m\n\u001b[1;32m    107\u001b[0m \u001b[0;34m\u001b[0m\u001b[0m\n\u001b[1;32m    108\u001b[0m         \u001b[0;32mfor\u001b[0m \u001b[0mi\u001b[0m\u001b[0;34m,\u001b[0m \u001b[0mblock\u001b[0m \u001b[0;32min\u001b[0m \u001b[0menumerate\u001b[0m\u001b[0;34m(\u001b[0m\u001b[0mself\u001b[0m\u001b[0;34m.\u001b[0m\u001b[0mblocks\u001b[0m\u001b[0;34m)\u001b[0m\u001b[0;34m:\u001b[0m\u001b[0;34m\u001b[0m\u001b[0;34m\u001b[0m\u001b[0m\n\u001b[0;32m--> 109\u001b[0;31m             \u001b[0mgeoms\u001b[0m\u001b[0;34m[\u001b[0m\u001b[0mi\u001b[0m\u001b[0;34m]\u001b[0m \u001b[0;34m=\u001b[0m \u001b[0mblock\u001b[0m\u001b[0;34m(\u001b[0m\u001b[0mamino\u001b[0m\u001b[0;34m,\u001b[0m \u001b[0mgeom\u001b[0m\u001b[0;34m)\u001b[0m\u001b[0;34m\u001b[0m\u001b[0;34m\u001b[0m\u001b[0m\n\u001b[0m\u001b[1;32m    110\u001b[0m \u001b[0;34m\u001b[0m\u001b[0m\n\u001b[1;32m    111\u001b[0m         \u001b[0;32mreturn\u001b[0m \u001b[0mgeoms\u001b[0m\u001b[0;34m\u001b[0m\u001b[0;34m\u001b[0m\u001b[0m\n",
            "\u001b[0;32m/usr/local/lib/python3.7/dist-packages/torch/nn/modules/module.py\u001b[0m in \u001b[0;36m_call_impl\u001b[0;34m(self, *input, **kwargs)\u001b[0m\n\u001b[1;32m   1049\u001b[0m         if not (self._backward_hooks or self._forward_hooks or self._forward_pre_hooks or _global_backward_hooks\n\u001b[1;32m   1050\u001b[0m                 or _global_forward_hooks or _global_forward_pre_hooks):\n\u001b[0;32m-> 1051\u001b[0;31m             \u001b[0;32mreturn\u001b[0m \u001b[0mforward_call\u001b[0m\u001b[0;34m(\u001b[0m\u001b[0;34m*\u001b[0m\u001b[0minput\u001b[0m\u001b[0;34m,\u001b[0m \u001b[0;34m**\u001b[0m\u001b[0mkwargs\u001b[0m\u001b[0;34m)\u001b[0m\u001b[0;34m\u001b[0m\u001b[0;34m\u001b[0m\u001b[0m\n\u001b[0m\u001b[1;32m   1052\u001b[0m         \u001b[0;31m# Do not call functions when jit is used\u001b[0m\u001b[0;34m\u001b[0m\u001b[0;34m\u001b[0m\u001b[0;34m\u001b[0m\u001b[0m\n\u001b[1;32m   1053\u001b[0m         \u001b[0mfull_backward_hooks\u001b[0m\u001b[0;34m,\u001b[0m \u001b[0mnon_full_backward_hooks\u001b[0m \u001b[0;34m=\u001b[0m \u001b[0;34m[\u001b[0m\u001b[0;34m]\u001b[0m\u001b[0;34m,\u001b[0m \u001b[0;34m[\u001b[0m\u001b[0;34m]\u001b[0m\u001b[0;34m\u001b[0m\u001b[0;34m\u001b[0m\u001b[0m\n",
            "\u001b[0;32m<ipython-input-36-48c24de3588d>\u001b[0m in \u001b[0;36mforward\u001b[0;34m(self, amino, geom)\u001b[0m\n\u001b[1;32m     93\u001b[0m     \u001b[0;32mdef\u001b[0m \u001b[0mforward\u001b[0m\u001b[0;34m(\u001b[0m\u001b[0mself\u001b[0m\u001b[0;34m,\u001b[0m \u001b[0mamino\u001b[0m\u001b[0;34m,\u001b[0m \u001b[0mgeom\u001b[0m\u001b[0;34m)\u001b[0m\u001b[0;34m:\u001b[0m\u001b[0;34m\u001b[0m\u001b[0;34m\u001b[0m\u001b[0m\n\u001b[1;32m     94\u001b[0m         \u001b[0;32mfor\u001b[0m \u001b[0mlayer\u001b[0m \u001b[0;32min\u001b[0m \u001b[0mself\u001b[0m\u001b[0;34m.\u001b[0m\u001b[0mlayers\u001b[0m\u001b[0;34m:\u001b[0m\u001b[0;34m\u001b[0m\u001b[0;34m\u001b[0m\u001b[0m\n\u001b[0;32m---> 95\u001b[0;31m             \u001b[0mamino\u001b[0m\u001b[0;34m,\u001b[0m \u001b[0mgeom\u001b[0m \u001b[0;34m=\u001b[0m \u001b[0mlayer\u001b[0m\u001b[0;34m(\u001b[0m\u001b[0mamino\u001b[0m\u001b[0;34m,\u001b[0m \u001b[0mgeom\u001b[0m\u001b[0;34m)\u001b[0m\u001b[0;34m\u001b[0m\u001b[0;34m\u001b[0m\u001b[0m\n\u001b[0m\u001b[1;32m     96\u001b[0m         \u001b[0;32mreturn\u001b[0m \u001b[0mgeom\u001b[0m\u001b[0;34m\u001b[0m\u001b[0;34m\u001b[0m\u001b[0m\n\u001b[1;32m     97\u001b[0m \u001b[0;34m\u001b[0m\u001b[0m\n",
            "\u001b[0;32m/usr/local/lib/python3.7/dist-packages/torch/nn/modules/module.py\u001b[0m in \u001b[0;36m_call_impl\u001b[0;34m(self, *input, **kwargs)\u001b[0m\n\u001b[1;32m   1049\u001b[0m         if not (self._backward_hooks or self._forward_hooks or self._forward_pre_hooks or _global_backward_hooks\n\u001b[1;32m   1050\u001b[0m                 or _global_forward_hooks or _global_forward_pre_hooks):\n\u001b[0;32m-> 1051\u001b[0;31m             \u001b[0;32mreturn\u001b[0m \u001b[0mforward_call\u001b[0m\u001b[0;34m(\u001b[0m\u001b[0;34m*\u001b[0m\u001b[0minput\u001b[0m\u001b[0;34m,\u001b[0m \u001b[0;34m**\u001b[0m\u001b[0mkwargs\u001b[0m\u001b[0;34m)\u001b[0m\u001b[0;34m\u001b[0m\u001b[0;34m\u001b[0m\u001b[0m\n\u001b[0m\u001b[1;32m   1052\u001b[0m         \u001b[0;31m# Do not call functions when jit is used\u001b[0m\u001b[0;34m\u001b[0m\u001b[0;34m\u001b[0m\u001b[0;34m\u001b[0m\u001b[0m\n\u001b[1;32m   1053\u001b[0m         \u001b[0mfull_backward_hooks\u001b[0m\u001b[0;34m,\u001b[0m \u001b[0mnon_full_backward_hooks\u001b[0m \u001b[0;34m=\u001b[0m \u001b[0;34m[\u001b[0m\u001b[0;34m]\u001b[0m\u001b[0;34m,\u001b[0m \u001b[0;34m[\u001b[0m\u001b[0;34m]\u001b[0m\u001b[0;34m\u001b[0m\u001b[0;34m\u001b[0m\u001b[0m\n",
            "\u001b[0;32m<ipython-input-36-48c24de3588d>\u001b[0m in \u001b[0;36mforward\u001b[0;34m(self, feats, coors)\u001b[0m\n\u001b[1;32m     81\u001b[0m \u001b[0;34m\u001b[0m\u001b[0m\n\u001b[1;32m     82\u001b[0m         \u001b[0mnode_mlp_input\u001b[0m \u001b[0;34m=\u001b[0m \u001b[0mtorch\u001b[0m\u001b[0;34m.\u001b[0m\u001b[0mcat\u001b[0m\u001b[0;34m(\u001b[0m\u001b[0;34m(\u001b[0m\u001b[0mfeats\u001b[0m\u001b[0;34m,\u001b[0m \u001b[0mm_i\u001b[0m\u001b[0;34m)\u001b[0m\u001b[0;34m,\u001b[0m \u001b[0mdim\u001b[0m\u001b[0;34m=\u001b[0m\u001b[0;34m-\u001b[0m\u001b[0;36m1\u001b[0m\u001b[0;34m)\u001b[0m\u001b[0;34m\u001b[0m\u001b[0;34m\u001b[0m\u001b[0m\n\u001b[0;32m---> 83\u001b[0;31m         \u001b[0mnode_out\u001b[0m \u001b[0;34m=\u001b[0m \u001b[0mself\u001b[0m\u001b[0;34m.\u001b[0m\u001b[0mnode_mlp\u001b[0m\u001b[0;34m(\u001b[0m\u001b[0mnode_mlp_input\u001b[0m\u001b[0;34m)\u001b[0m \u001b[0;34m+\u001b[0m \u001b[0mfeats\u001b[0m\u001b[0;34m\u001b[0m\u001b[0;34m\u001b[0m\u001b[0m\n\u001b[0m\u001b[1;32m     84\u001b[0m \u001b[0;34m\u001b[0m\u001b[0m\n\u001b[1;32m     85\u001b[0m         \u001b[0;32mreturn\u001b[0m \u001b[0mnode_out\u001b[0m\u001b[0;34m,\u001b[0m \u001b[0mcoors_out\u001b[0m\u001b[0;34m\u001b[0m\u001b[0;34m\u001b[0m\u001b[0m\n",
            "\u001b[0;32m/usr/local/lib/python3.7/dist-packages/torch/nn/modules/module.py\u001b[0m in \u001b[0;36m_call_impl\u001b[0;34m(self, *input, **kwargs)\u001b[0m\n\u001b[1;32m   1049\u001b[0m         if not (self._backward_hooks or self._forward_hooks or self._forward_pre_hooks or _global_backward_hooks\n\u001b[1;32m   1050\u001b[0m                 or _global_forward_hooks or _global_forward_pre_hooks):\n\u001b[0;32m-> 1051\u001b[0;31m             \u001b[0;32mreturn\u001b[0m \u001b[0mforward_call\u001b[0m\u001b[0;34m(\u001b[0m\u001b[0;34m*\u001b[0m\u001b[0minput\u001b[0m\u001b[0;34m,\u001b[0m \u001b[0;34m**\u001b[0m\u001b[0mkwargs\u001b[0m\u001b[0;34m)\u001b[0m\u001b[0;34m\u001b[0m\u001b[0;34m\u001b[0m\u001b[0m\n\u001b[0m\u001b[1;32m   1052\u001b[0m         \u001b[0;31m# Do not call functions when jit is used\u001b[0m\u001b[0;34m\u001b[0m\u001b[0;34m\u001b[0m\u001b[0;34m\u001b[0m\u001b[0m\n\u001b[1;32m   1053\u001b[0m         \u001b[0mfull_backward_hooks\u001b[0m\u001b[0;34m,\u001b[0m \u001b[0mnon_full_backward_hooks\u001b[0m \u001b[0;34m=\u001b[0m \u001b[0;34m[\u001b[0m\u001b[0;34m]\u001b[0m\u001b[0;34m,\u001b[0m \u001b[0;34m[\u001b[0m\u001b[0;34m]\u001b[0m\u001b[0;34m\u001b[0m\u001b[0;34m\u001b[0m\u001b[0m\n",
            "\u001b[0;32m/usr/local/lib/python3.7/dist-packages/torch/nn/modules/container.py\u001b[0m in \u001b[0;36mforward\u001b[0;34m(self, input)\u001b[0m\n\u001b[1;32m    137\u001b[0m     \u001b[0;32mdef\u001b[0m \u001b[0mforward\u001b[0m\u001b[0;34m(\u001b[0m\u001b[0mself\u001b[0m\u001b[0;34m,\u001b[0m \u001b[0minput\u001b[0m\u001b[0;34m)\u001b[0m\u001b[0;34m:\u001b[0m\u001b[0;34m\u001b[0m\u001b[0;34m\u001b[0m\u001b[0m\n\u001b[1;32m    138\u001b[0m         \u001b[0;32mfor\u001b[0m \u001b[0mmodule\u001b[0m \u001b[0;32min\u001b[0m \u001b[0mself\u001b[0m\u001b[0;34m:\u001b[0m\u001b[0;34m\u001b[0m\u001b[0;34m\u001b[0m\u001b[0m\n\u001b[0;32m--> 139\u001b[0;31m             \u001b[0minput\u001b[0m \u001b[0;34m=\u001b[0m \u001b[0mmodule\u001b[0m\u001b[0;34m(\u001b[0m\u001b[0minput\u001b[0m\u001b[0;34m)\u001b[0m\u001b[0;34m\u001b[0m\u001b[0;34m\u001b[0m\u001b[0m\n\u001b[0m\u001b[1;32m    140\u001b[0m         \u001b[0;32mreturn\u001b[0m \u001b[0minput\u001b[0m\u001b[0;34m\u001b[0m\u001b[0;34m\u001b[0m\u001b[0m\n\u001b[1;32m    141\u001b[0m \u001b[0;34m\u001b[0m\u001b[0m\n",
            "\u001b[0;32m/usr/local/lib/python3.7/dist-packages/torch/nn/modules/module.py\u001b[0m in \u001b[0;36m_call_impl\u001b[0;34m(self, *input, **kwargs)\u001b[0m\n\u001b[1;32m   1049\u001b[0m         if not (self._backward_hooks or self._forward_hooks or self._forward_pre_hooks or _global_backward_hooks\n\u001b[1;32m   1050\u001b[0m                 or _global_forward_hooks or _global_forward_pre_hooks):\n\u001b[0;32m-> 1051\u001b[0;31m             \u001b[0;32mreturn\u001b[0m \u001b[0mforward_call\u001b[0m\u001b[0;34m(\u001b[0m\u001b[0;34m*\u001b[0m\u001b[0minput\u001b[0m\u001b[0;34m,\u001b[0m \u001b[0;34m**\u001b[0m\u001b[0mkwargs\u001b[0m\u001b[0;34m)\u001b[0m\u001b[0;34m\u001b[0m\u001b[0;34m\u001b[0m\u001b[0m\n\u001b[0m\u001b[1;32m   1052\u001b[0m         \u001b[0;31m# Do not call functions when jit is used\u001b[0m\u001b[0;34m\u001b[0m\u001b[0;34m\u001b[0m\u001b[0;34m\u001b[0m\u001b[0m\n\u001b[1;32m   1053\u001b[0m         \u001b[0mfull_backward_hooks\u001b[0m\u001b[0;34m,\u001b[0m \u001b[0mnon_full_backward_hooks\u001b[0m \u001b[0;34m=\u001b[0m \u001b[0;34m[\u001b[0m\u001b[0;34m]\u001b[0m\u001b[0;34m,\u001b[0m \u001b[0;34m[\u001b[0m\u001b[0;34m]\u001b[0m\u001b[0;34m\u001b[0m\u001b[0;34m\u001b[0m\u001b[0m\n",
            "\u001b[0;32m/usr/local/lib/python3.7/dist-packages/torch/nn/modules/linear.py\u001b[0m in \u001b[0;36mforward\u001b[0;34m(self, input)\u001b[0m\n\u001b[1;32m     94\u001b[0m \u001b[0;34m\u001b[0m\u001b[0m\n\u001b[1;32m     95\u001b[0m     \u001b[0;32mdef\u001b[0m \u001b[0mforward\u001b[0m\u001b[0;34m(\u001b[0m\u001b[0mself\u001b[0m\u001b[0;34m,\u001b[0m \u001b[0minput\u001b[0m\u001b[0;34m:\u001b[0m \u001b[0mTensor\u001b[0m\u001b[0;34m)\u001b[0m \u001b[0;34m->\u001b[0m \u001b[0mTensor\u001b[0m\u001b[0;34m:\u001b[0m\u001b[0;34m\u001b[0m\u001b[0;34m\u001b[0m\u001b[0m\n\u001b[0;32m---> 96\u001b[0;31m         \u001b[0;32mreturn\u001b[0m \u001b[0mF\u001b[0m\u001b[0;34m.\u001b[0m\u001b[0mlinear\u001b[0m\u001b[0;34m(\u001b[0m\u001b[0minput\u001b[0m\u001b[0;34m,\u001b[0m \u001b[0mself\u001b[0m\u001b[0;34m.\u001b[0m\u001b[0mweight\u001b[0m\u001b[0;34m,\u001b[0m \u001b[0mself\u001b[0m\u001b[0;34m.\u001b[0m\u001b[0mbias\u001b[0m\u001b[0;34m)\u001b[0m\u001b[0;34m\u001b[0m\u001b[0;34m\u001b[0m\u001b[0m\n\u001b[0m\u001b[1;32m     97\u001b[0m \u001b[0;34m\u001b[0m\u001b[0m\n\u001b[1;32m     98\u001b[0m     \u001b[0;32mdef\u001b[0m \u001b[0mextra_repr\u001b[0m\u001b[0;34m(\u001b[0m\u001b[0mself\u001b[0m\u001b[0;34m)\u001b[0m \u001b[0;34m->\u001b[0m \u001b[0mstr\u001b[0m\u001b[0;34m:\u001b[0m\u001b[0;34m\u001b[0m\u001b[0;34m\u001b[0m\u001b[0m\n",
            "\u001b[0;32m/usr/local/lib/python3.7/dist-packages/torch/nn/functional.py\u001b[0m in \u001b[0;36mlinear\u001b[0;34m(input, weight, bias)\u001b[0m\n\u001b[1;32m   1845\u001b[0m     \u001b[0;32mif\u001b[0m \u001b[0mhas_torch_function_variadic\u001b[0m\u001b[0;34m(\u001b[0m\u001b[0minput\u001b[0m\u001b[0;34m,\u001b[0m \u001b[0mweight\u001b[0m\u001b[0;34m)\u001b[0m\u001b[0;34m:\u001b[0m\u001b[0;34m\u001b[0m\u001b[0;34m\u001b[0m\u001b[0m\n\u001b[1;32m   1846\u001b[0m         \u001b[0;32mreturn\u001b[0m \u001b[0mhandle_torch_function\u001b[0m\u001b[0;34m(\u001b[0m\u001b[0mlinear\u001b[0m\u001b[0;34m,\u001b[0m \u001b[0;34m(\u001b[0m\u001b[0minput\u001b[0m\u001b[0;34m,\u001b[0m \u001b[0mweight\u001b[0m\u001b[0;34m)\u001b[0m\u001b[0;34m,\u001b[0m \u001b[0minput\u001b[0m\u001b[0;34m,\u001b[0m \u001b[0mweight\u001b[0m\u001b[0;34m,\u001b[0m \u001b[0mbias\u001b[0m\u001b[0;34m=\u001b[0m\u001b[0mbias\u001b[0m\u001b[0;34m)\u001b[0m\u001b[0;34m\u001b[0m\u001b[0;34m\u001b[0m\u001b[0m\n\u001b[0;32m-> 1847\u001b[0;31m     \u001b[0;32mreturn\u001b[0m \u001b[0mtorch\u001b[0m\u001b[0;34m.\u001b[0m\u001b[0m_C\u001b[0m\u001b[0;34m.\u001b[0m\u001b[0m_nn\u001b[0m\u001b[0;34m.\u001b[0m\u001b[0mlinear\u001b[0m\u001b[0;34m(\u001b[0m\u001b[0minput\u001b[0m\u001b[0;34m,\u001b[0m \u001b[0mweight\u001b[0m\u001b[0;34m,\u001b[0m \u001b[0mbias\u001b[0m\u001b[0;34m)\u001b[0m\u001b[0;34m\u001b[0m\u001b[0;34m\u001b[0m\u001b[0m\n\u001b[0m\u001b[1;32m   1848\u001b[0m \u001b[0;34m\u001b[0m\u001b[0m\n\u001b[1;32m   1849\u001b[0m \u001b[0;34m\u001b[0m\u001b[0m\n",
            "\u001b[0;31mKeyboardInterrupt\u001b[0m: "
          ]
        }
      ],
      "source": [
        "\n",
        "optim.zero_grad()\n",
        "\n",
        "out = display(IPython.display.Pretty(\"Starting\"), display_id=True)\n",
        "\n",
        "batch = 4\n",
        "epochs = 5000\n",
        "for i in range(i,epochs):\n",
        "    epoch_loss = []\n",
        "    epoch_val_loss = []\n",
        "    H3_rmsds = []\n",
        "    order = np.random.permutation(range(len(a)))\n",
        "    model.train()\n",
        "    for k in range(len(a)//batch):\n",
        "        for l in range(batch):\n",
        "            j = order[k*batch + l]\n",
        "            geom_in, amino, geom, seq = a.geom_ins[j], a.aminos[j], a.geom_out[j], a.sequences[j]\n",
        "            pred = model(amino, geom_in)\n",
        "            loss = rmsd(geom, pred) + 4.0*(20*atom_dist_penal(geom, pred) + dist_check(pred.mean(0, keepdim = True), amino))\n",
        "            if loss.item() != loss.item():\n",
        "                print(a.ids[j])\n",
        "                raise Exception(\"Shit went to Nan\")\n",
        "            #loss.register_hook(lambda grad: print(grad))\n",
        "            (loss/batch*advers).backward()\n",
        "            \n",
        "        #torch.nn.utils.clip_grad_norm_(model.parameters(), 1.0)\n",
        "        optim.step()\n",
        "        optim.zero_grad()\n",
        "        epoch_loss.append(loss.item())\n",
        "        text = \"{:.2f}%    {:.2f}    {:.2f}\".format((k*batch + l)/len(a)*100, epoch_loss[-1], atom_dist_penal(geom, pred).item())\n",
        "        out.update(IPython.display.Pretty(text))\n",
        "    model.eval()\n",
        "    with torch.no_grad():\n",
        "        for j in range(len(b)):\n",
        "            geom_in, amino, geom = b.geom_ins[j], b.aminos[j], b.geom_out[j]\n",
        "            pred = model(amino, geom_in)\n",
        "            loss = rmsd(geom, pred) + 4*(20*atom_dist_penal(geom, pred) + dist_check(pred.mean(0, keepdim = True), amino))\n",
        "            epoch_val_loss.append(loss.item()) \n",
        "            H3_rmsds.append(rmsd(pred.mean(0)[amino[0,:,32]==1.0], geom.mean(0)[amino[0,:,32]==1.0]).item())\n",
        "        mean_val_losses.append(np.mean(epoch_val_loss))\n",
        "        mean_train_losses.append(np.mean(epoch_loss))\n",
        "    print(\"{epoch} {train_loss:.4f} {val_loss:.4f} {H3:.4f}\".format(epoch = i, train_loss = np.mean(epoch_loss), val_loss  = np.mean(epoch_val_loss), H3 = np.mean(H3_rmsds)))\n",
        "    if np.min(mean_val_losses) == mean_val_losses[-1]:\n",
        "        best_model = copy.deepcopy(model)\n",
        "        torch.save(best_model.state_dict(), \"drive/MyDrive/DPhil_Project/fv_models/finetune\")\n",
        "        torch.save(optim.state_dict(), \"drive/MyDrive/DPhil_Project/optimizers/finetune\")\n",
        "        patience = 0\n",
        "    else:\n",
        "        patience += 1\n",
        "        if patience > 100:\n",
        "            break"
      ]
    },
    {
      "cell_type": "code",
      "execution_count": null,
      "metadata": {
        "id": "UIPz1EJMEVZT"
      },
      "outputs": [],
      "source": [
        "best_model = model"
      ]
    },
    {
      "cell_type": "code",
      "execution_count": null,
      "metadata": {
        "id": "hW39_dYhXP_I"
      },
      "outputs": [],
      "source": [
        "\n",
        "def mean_std(xs):\n",
        "  return np.mean(xs), np.std(xs)\n",
        "  \n",
        "\n",
        "caca = []\n",
        "can = []\n",
        "cac = []\n",
        "cn = []\n",
        "cacb = []\n",
        "with torch.no_grad():\n",
        "    for j in range(len(b)):\n",
        "        geom_in, amino, geom = b.geom_ins[j].float(), b.aminos[j].float(), b.geom_out[j].float()\n",
        "        pred = geom#best_model(amino, geom_in).mean(0, keepdim = True)\n",
        "        for i in range(6):\n",
        "            CDR = rearrange(pred[:,amino[0,:,30+i]==1.0], \"d (r a) p -> d a r p\", a = 4)\n",
        "            # CA-CA\n",
        "            caca +=  list((CDR[:,0,1:] - CDR[:,0,:-1]).pow(2).sum(-1).pow(1/2).detach().cpu().numpy().flatten())\n",
        "            # CA-N\n",
        "            can += list((CDR[:,0,:-1] - CDR[:,1,1:]).pow(2).sum(-1).pow(1/2).detach().cpu().numpy().flatten())\n",
        "            # CA-C\n",
        "            cac += list((CDR[:,0] - CDR[:,2]).pow(2).sum(-1).pow(1/2).detach().cpu().numpy().flatten())\n",
        "            # C-N\n",
        "            cn += list((CDR[:,2,:] - CDR[:,1,:]).pow(2).sum(-1).pow(1/2).detach().cpu().numpy().flatten())\n",
        "            # CA-CB\n",
        "            CDR2 = rearrange(pred[:,(amino[0,:,30+i]==1.0) & (amino[0,:,5] != 1.0)], \"d (r a) p -> d a r p\", a = 4)\n",
        "            cacb += list((CDR2[:,0] - CDR2[:,-1]).pow(2).sum(-1).pow(1/2).detach().cpu().numpy().flatten())"
      ]
    },
    {
      "cell_type": "code",
      "execution_count": null,
      "metadata": {
        "colab": {
          "base_uri": "https://localhost:8080/"
        },
        "id": "5Fwf0BFxARqu",
        "outputId": "7fa77b44-5424-40ce-e80a-51b08ea3d1c7"
      },
      "outputs": [
        {
          "data": {
            "text/plain": [
              "((3.7933986, 0.11556624),\n",
              " (2.4308417, 0.022973968),\n",
              " (1.5245744, 0.011339904),\n",
              " (2.4650629, 0.04771689),\n",
              " (1.5347517, 0.014123985))"
            ]
          },
          "execution_count": 92,
          "metadata": {},
          "output_type": "execute_result"
        }
      ],
      "source": [
        "mean_std(caca), mean_std(can), mean_std(cac), mean_std(cn), mean_std(cacb)"
      ]
    },
    {
      "cell_type": "code",
      "execution_count": null,
      "metadata": {
        "id": "eEsyuwRkyc6G"
      },
      "outputs": [],
      "source": [
        "CDRs = [\"H1\", \"H2\", \"H3\", \"L1\", \"L2\", \"L3\"]\n",
        "losses = {x:[] for x in CDRs}\n",
        "\n",
        "model.eval().cuda()\n",
        "with torch.no_grad():\n",
        "    for j in range(len(b)):\n",
        "        geom_in, amino, geom = b.geom_ins[j], b.aminos[j], b.geom_out[j]\n",
        "        try:\n",
        "            pred = model(amino, geom_in)\n",
        "        except Exception as e:\n",
        "            print(j)\n",
        "            raise e\n",
        "\n",
        "        for i,CDR in enumerate(CDRs):\n",
        "            losses[CDR].append(rmsd(pred.mean(0)[amino[0,:,30+i]==1.0][::4], geom[:,amino[0,:,30+i]==1.0][0,::4]).mean().item())\n",
        "        #deviation_scores.append(rmsds(pred[:,None, 2:-2],pred[None,:,2:-2]).mean().item())\n",
        "    "
      ]
    },
    {
      "cell_type": "code",
      "execution_count": null,
      "metadata": {
        "id": "t8RN02W-itVx"
      },
      "outputs": [],
      "source": [
        "b = DataStorer(test, device = device)\n",
        "best_losses = []\n",
        "mean_losses = []\n",
        "worst_losses = []\n",
        "all_losses = []\n",
        "deviation_scores = []\n",
        "\n",
        "best_model.eval()\n",
        "cdr_i = 32\n",
        "with torch.no_grad():\n",
        "    for j in range(len(b)):\n",
        "        geom_in, amino, geom = b.geom_ins[j], b.aminos[j], b.geom_out[j]\n",
        "        pred = best_model(amino, geom_in)\n",
        "        loss = rmsds(pred[:,amino[0,:,cdr_i] == 1.0],geom[:,amino[0,:,cdr_i] == 1.0])\n",
        "        best_losses.append(loss[0].item())\n",
        "        mean_losses.append(rmsd(pred.mean(0)[amino[0,:,cdr_i] == 1.0], geom[:,amino[0,:,cdr_i] == 1.0]).item())\n",
        "        deviation_scores.append(rmsds(pred[:,amino[0,:,cdr_i] == 1.0][:,None],pred[:,amino[0,:,cdr_i] == 1.0][None]).sum().item()/20)\n",
        "    "
      ]
    },
    {
      "cell_type": "code",
      "execution_count": null,
      "metadata": {
        "colab": {
          "base_uri": "https://localhost:8080/"
        },
        "id": "Yb89jWeBaXf9",
        "outputId": "71335902-dd26-4330-82f2-28cdd706e5d9"
      },
      "outputs": [
        {
          "data": {
            "text/plain": [
              "(2.651808309058348, 2.46801121160388)"
            ]
          },
          "execution_count": 69,
          "metadata": {},
          "output_type": "execute_result"
        }
      ],
      "source": [
        "filt = np.array(deviation_scores) < 0.7\n",
        "good_preds = np.array(mean_losses)[filt]\n",
        "np.mean(mean_losses), np.mean(best_losses)"
      ]
    },
    {
      "cell_type": "code",
      "execution_count": null,
      "metadata": {
        "colab": {
          "base_uri": "https://localhost:8080/",
          "height": 809
        },
        "id": "l3jFNJV7YV64",
        "outputId": "c85f9837-418b-4f17-d004-a6a2da623ca0"
      },
      "outputs": [
        {
          "data": {
            "text/plain": [
              "Text(0.5, 0, 'RMSD (Å)')"
            ]
          },
          "execution_count": 70,
          "metadata": {},
          "output_type": "execute_result"
        },
        {
          "data": {
            "image/png": "[encoded data removed]",
            "text/plain": [
              "<Figure size 1200x800 with 1 Axes>"
            ]
          },
          "metadata": {
            "needs_background": "light"
          },
          "output_type": "display_data"
        }
      ],
      "source": [
        "plt.figure(dpi = 200)\n",
        "\n",
        "description = \"EGNN CDR_H3 (Averaging over {} decoys) (Predicting CA-N-C-CB)\".format(advers)\n",
        "plt.title(description)\n",
        "plt.hist(mean_losses, alpha = 0.8, density=True)\n",
        "#plt.hist(best_losses, alpha = 0.5, density =True)\n",
        "good_preds = np.array(mean_losses)[np.array(deviation_scores) < 1.88]\n",
        "plt.hist(good_preds, alpha = 0.5, density = True)\n",
        "plt.legend([\"Prediction ({:.3f} Å)\".format(np.mean(mean_losses)), \"Filtered Predicton ({:.3f} Å) ({:.1f}% kept)\".format(np.mean(good_preds), 100*len(good_preds)/len(best_losses))])\n",
        "plt.xlabel(\"RMSD (Å)\")\n",
        "#plt.savefig(\"results/{}.png\".format(description))\n",
        "# \"Best Decoy ({:.3f} Å)\".format(np.mean(best_losses)),"
      ]
    },
    {
      "cell_type": "code",
      "execution_count": null,
      "metadata": {
        "colab": {
          "base_uri": "https://localhost:8080/",
          "height": 795
        },
        "id": "2Cvolb1Gj5M6",
        "outputId": "b0f03705-f361-4ab6-97cb-42a433120905"
      },
      "outputs": [
        {
          "data": {
            "image/png": "[encoded data removed]",
            "text/plain": [
              "<Figure size 1200x800 with 1 Axes>"
            ]
          },
          "metadata": {
            "needs_background": "light"
          },
          "output_type": "display_data"
        }
      ],
      "source": [
        "plt.figure(dpi=200)\n",
        "plot_losses = np.array([x.cpu().detach().numpy() for x in all_losses])\n",
        "plt.plot(deviation_scores, mean_losses, \"o\")\n",
        "plt.xlabel(\"Average RMSD between decoys (Å)\")\n",
        "plt.ylabel(\"Mean decoy RMSD to crystal structure (Å)\")\n",
        "plt.title(\"Decoy diversity Vs decoy quality for each structure\")\n",
        "plt.show()"
      ]
    },
    {
      "cell_type": "code",
      "execution_count": null,
      "metadata": {
        "colab": {
          "base_uri": "https://localhost:8080/",
          "height": 542
        },
        "id": "FkvNpz2rCXBJ",
        "outputId": "064c5417-f8b0-4d9a-b178-ad4e97d99800"
      },
      "outputs": [
        {
          "data": {
            "text/html": [
              "<html>\n",
              "<head><meta charset=\"utf-8\" /></head>\n",
              "<body>\n",
              "    <div>\n",
              "            <script src=\"https://cdnjs.cloudflare.com/ajax/libs/mathjax/2.7.5/MathJax.js?config=TeX-AMS-MML_SVG\"></script><script type=\"text/javascript\">if (window.MathJax) {MathJax.Hub.Config({SVG: {font: \"STIX-Web\"}});}</script>\n",
              "                <script type=\"text/javascript\">window.PlotlyConfig = {MathJaxConfig: 'local'};</script>\n",
              "        <script src=\"https://cdn.plot.ly/plotly-latest.min.js\"></script>    \n",
              "            <div id=\"7f7d39a2-1768-48b0-8d94-092b4f0b080d\" class=\"plotly-graph-div\" style=\"height:525px; width:100%;\"></div>\n",
              "            <script type=\"text/javascript\">\n",
              "                \n",
              "                    window.PLOTLYENV=window.PLOTLYENV || {};\n",
              "                    \n",
              "                if (document.getElementById(\"7f7d39a2-1768-48b0-8d94-092b4f0b080d\")) {\n",
              "                    Plotly.newPlot(\n",
              "                        '7f7d39a2-1768-48b0-8d94-092b4f0b080d',\n",
              "                        [{\"marker\": {\"size\": 2}, \"name\": \"Inp\", \"type\": \"scatter3d\", \"x\": [30.10759925842285, 29.78820037841797, 29.468799591064453, 29.14940071105957, 28.829999923706055, 28.51059913635254, 28.191200256347656, 27.87179946899414, 27.552400588989258, 27.232999801635742, 26.913599014282227, 26.594200134277344, 26.274799346923828, 25.955400466918945], \"y\": [-8.325599670410156, -8.097199440002441, -7.868799686431885, -7.640399932861328, -7.411999702453613, -7.183599948883057, -6.955199718475342, -6.726799964904785, -6.49839973449707, -6.269999980926514, -6.041599750518799, -5.813199996948242, -5.584799766540527, -5.356400012969971], \"z\": [19.600933074951172, 19.401865005493164, 19.20279884338379, 19.003732681274414, 18.80466651916504, 18.60559844970703, 18.406532287597656, 18.20746612548828, 18.008399963378906, 17.8093318939209, 17.610265731811523, 17.41119956970215, 17.212133407592773, 17.013065338134766]}, {\"marker\": {\"size\": 2}, \"name\": \"Prediction\", \"type\": \"scatter3d\", \"x\": [31.661710739135742, 34.89277267456055, 36.92911911010742, 40.46814727783203, 43.60502243041992, 43.36391830444336, 40.480194091796875, 37.45976257324219, 35.79774856567383, 33.19424057006836, 31.185094833374023, 29.19828224182129, 31.317657470703125, 29.23264503479004], \"y\": [-7.24525785446167, -5.27364444732666, -7.760131359100342, -7.453206539154053, -9.482192993164062, -7.587224006652832, -5.068410396575928, -8.272109985351562, -5.696852684020996, -3.334550142288208, -1.8299537897109985, -3.913059711456299, -3.0986366271972656, -4.77217435836792], \"z\": [23.143892288208008, 22.854490280151367, 24.525110244750977, 22.845388412475586, 23.976837158203125, 26.71185874938965, 26.496109008789062, 25.512306213378906, 27.112619400024414, 27.38525390625, 24.545263290405273, 22.01508140563965, 19.056020736694336, 16.24995231628418]}, {\"marker\": {\"size\": 2}, \"name\": \"Truth\", \"type\": \"scatter3d\", \"x\": [32.45399856567383, 36.03300094604492, 38.33300018310547, 42.00899887084961, 45.01900100708008, 43.92900085449219, 40.15800094604492, 37.391998291015625, 36.76100158691406, 33.229000091552734, 31.641000747680664, 29.590999603271484, 31.25200080871582, 29.260000228881836], \"y\": [-7.8520002365112305, -7.710999965667725, -9.673999786376953, -9.125, -6.986999988555908, -3.444999933242798, -4.014999866485596, -1.6820000410079956, -3.621999979019165, -4.820000171661377, -2.9749999046325684, -3.947000026702881, -2.2760000228881836, -3.9649999141693115], \"z\": [22.915000915527344, 21.62299919128418, 23.95400047302246, 23.110000610351562, 24.04400062561035, 23.131000518798828, 23.39299964904785, 24.639999389648438, 27.864999771118164, 28.62700080871582, 25.684999465942383, 22.636999130249023, 19.64900016784668, 16.857999801635742]}],\n",
              "                        {\"template\": {\"data\": {\"bar\": [{\"error_x\": {\"color\": \"#2a3f5f\"}, \"error_y\": {\"color\": \"#2a3f5f\"}, \"marker\": {\"line\": {\"color\": \"#E5ECF6\", \"width\": 0.5}}, \"type\": \"bar\"}], \"barpolar\": [{\"marker\": {\"line\": {\"color\": \"#E5ECF6\", \"width\": 0.5}}, \"type\": \"barpolar\"}], \"carpet\": [{\"aaxis\": {\"endlinecolor\": \"#2a3f5f\", \"gridcolor\": \"white\", \"linecolor\": \"white\", \"minorgridcolor\": \"white\", \"startlinecolor\": \"#2a3f5f\"}, \"baxis\": {\"endlinecolor\": \"#2a3f5f\", \"gridcolor\": \"white\", \"linecolor\": \"white\", \"minorgridcolor\": \"white\", \"startlinecolor\": \"#2a3f5f\"}, \"type\": \"carpet\"}], \"choropleth\": [{\"colorbar\": {\"outlinewidth\": 0, \"ticks\": \"\"}, \"type\": \"choropleth\"}], \"contour\": [{\"colorbar\": {\"outlinewidth\": 0, \"ticks\": \"\"}, \"colorscale\": [[0.0, \"#0d0887\"], [0.1111111111111111, \"#46039f\"], [0.2222222222222222, \"#7201a8\"], [0.3333333333333333, \"#9c179e\"], [0.4444444444444444, \"#bd3786\"], [0.5555555555555556, \"#d8576b\"], [0.6666666666666666, \"#ed7953\"], [0.7777777777777778, \"#fb9f3a\"], [0.8888888888888888, \"#fdca26\"], [1.0, \"#f0f921\"]], \"type\": \"contour\"}], \"contourcarpet\": [{\"colorbar\": {\"outlinewidth\": 0, \"ticks\": \"\"}, \"type\": \"contourcarpet\"}], \"heatmap\": [{\"colorbar\": {\"outlinewidth\": 0, \"ticks\": \"\"}, \"colorscale\": [[0.0, \"#0d0887\"], [0.1111111111111111, \"#46039f\"], [0.2222222222222222, \"#7201a8\"], [0.3333333333333333, \"#9c179e\"], [0.4444444444444444, \"#bd3786\"], [0.5555555555555556, \"#d8576b\"], [0.6666666666666666, \"#ed7953\"], [0.7777777777777778, \"#fb9f3a\"], [0.8888888888888888, \"#fdca26\"], [1.0, \"#f0f921\"]], \"type\": \"heatmap\"}], \"heatmapgl\": [{\"colorbar\": {\"outlinewidth\": 0, \"ticks\": \"\"}, \"colorscale\": [[0.0, \"#0d0887\"], [0.1111111111111111, \"#46039f\"], [0.2222222222222222, \"#7201a8\"], [0.3333333333333333, \"#9c179e\"], [0.4444444444444444, \"#bd3786\"], [0.5555555555555556, \"#d8576b\"], [0.6666666666666666, \"#ed7953\"], [0.7777777777777778, \"#fb9f3a\"], [0.8888888888888888, \"#fdca26\"], [1.0, \"#f0f921\"]], \"type\": \"heatmapgl\"}], \"histogram\": [{\"marker\": {\"colorbar\": {\"outlinewidth\": 0, \"ticks\": \"\"}}, \"type\": \"histogram\"}], \"histogram2d\": [{\"colorbar\": {\"outlinewidth\": 0, \"ticks\": \"\"}, \"colorscale\": [[0.0, \"#0d0887\"], [0.1111111111111111, \"#46039f\"], [0.2222222222222222, \"#7201a8\"], [0.3333333333333333, \"#9c179e\"], [0.4444444444444444, \"#bd3786\"], [0.5555555555555556, \"#d8576b\"], [0.6666666666666666, \"#ed7953\"], [0.7777777777777778, \"#fb9f3a\"], [0.8888888888888888, \"#fdca26\"], [1.0, \"#f0f921\"]], \"type\": \"histogram2d\"}], \"histogram2dcontour\": [{\"colorbar\": {\"outlinewidth\": 0, \"ticks\": \"\"}, \"colorscale\": [[0.0, \"#0d0887\"], [0.1111111111111111, \"#46039f\"], [0.2222222222222222, \"#7201a8\"], [0.3333333333333333, \"#9c179e\"], [0.4444444444444444, \"#bd3786\"], [0.5555555555555556, \"#d8576b\"], [0.6666666666666666, \"#ed7953\"], [0.7777777777777778, \"#fb9f3a\"], [0.8888888888888888, \"#fdca26\"], [1.0, \"#f0f921\"]], \"type\": \"histogram2dcontour\"}], \"mesh3d\": [{\"colorbar\": {\"outlinewidth\": 0, \"ticks\": \"\"}, \"type\": \"mesh3d\"}], \"parcoords\": [{\"line\": {\"colorbar\": {\"outlinewidth\": 0, \"ticks\": \"\"}}, \"type\": \"parcoords\"}], \"pie\": [{\"automargin\": true, \"type\": \"pie\"}], \"scatter\": [{\"marker\": {\"colorbar\": {\"outlinewidth\": 0, \"ticks\": \"\"}}, \"type\": \"scatter\"}], \"scatter3d\": [{\"line\": {\"colorbar\": {\"outlinewidth\": 0, \"ticks\": \"\"}}, \"marker\": {\"colorbar\": {\"outlinewidth\": 0, \"ticks\": \"\"}}, \"type\": \"scatter3d\"}], \"scattercarpet\": [{\"marker\": {\"colorbar\": {\"outlinewidth\": 0, \"ticks\": \"\"}}, \"type\": \"scattercarpet\"}], \"scattergeo\": [{\"marker\": {\"colorbar\": {\"outlinewidth\": 0, \"ticks\": \"\"}}, \"type\": \"scattergeo\"}], \"scattergl\": [{\"marker\": {\"colorbar\": {\"outlinewidth\": 0, \"ticks\": \"\"}}, \"type\": \"scattergl\"}], \"scattermapbox\": [{\"marker\": {\"colorbar\": {\"outlinewidth\": 0, \"ticks\": \"\"}}, \"type\": \"scattermapbox\"}], \"scatterpolar\": [{\"marker\": {\"colorbar\": {\"outlinewidth\": 0, \"ticks\": \"\"}}, \"type\": \"scatterpolar\"}], \"scatterpolargl\": [{\"marker\": {\"colorbar\": {\"outlinewidth\": 0, \"ticks\": \"\"}}, \"type\": \"scatterpolargl\"}], \"scatterternary\": [{\"marker\": {\"colorbar\": {\"outlinewidth\": 0, \"ticks\": \"\"}}, \"type\": \"scatterternary\"}], \"surface\": [{\"colorbar\": {\"outlinewidth\": 0, \"ticks\": \"\"}, \"colorscale\": [[0.0, \"#0d0887\"], [0.1111111111111111, \"#46039f\"], [0.2222222222222222, \"#7201a8\"], [0.3333333333333333, \"#9c179e\"], [0.4444444444444444, \"#bd3786\"], [0.5555555555555556, \"#d8576b\"], [0.6666666666666666, \"#ed7953\"], [0.7777777777777778, \"#fb9f3a\"], [0.8888888888888888, \"#fdca26\"], [1.0, \"#f0f921\"]], \"type\": \"surface\"}], \"table\": [{\"cells\": {\"fill\": {\"color\": \"#EBF0F8\"}, \"line\": {\"color\": \"white\"}}, \"header\": {\"fill\": {\"color\": \"#C8D4E3\"}, \"line\": {\"color\": \"white\"}}, \"type\": \"table\"}]}, \"layout\": {\"annotationdefaults\": {\"arrowcolor\": \"#2a3f5f\", \"arrowhead\": 0, \"arrowwidth\": 1}, \"coloraxis\": {\"colorbar\": {\"outlinewidth\": 0, \"ticks\": \"\"}}, \"colorscale\": {\"diverging\": [[0, \"#8e0152\"], [0.1, \"#c51b7d\"], [0.2, \"#de77ae\"], [0.3, \"#f1b6da\"], [0.4, \"#fde0ef\"], [0.5, \"#f7f7f7\"], [0.6, \"#e6f5d0\"], [0.7, \"#b8e186\"], [0.8, \"#7fbc41\"], [0.9, \"#4d9221\"], [1, \"#276419\"]], \"sequential\": [[0.0, \"#0d0887\"], [0.1111111111111111, \"#46039f\"], [0.2222222222222222, \"#7201a8\"], [0.3333333333333333, \"#9c179e\"], [0.4444444444444444, \"#bd3786\"], [0.5555555555555556, \"#d8576b\"], [0.6666666666666666, \"#ed7953\"], [0.7777777777777778, \"#fb9f3a\"], [0.8888888888888888, \"#fdca26\"], [1.0, \"#f0f921\"]], \"sequentialminus\": [[0.0, \"#0d0887\"], [0.1111111111111111, \"#46039f\"], [0.2222222222222222, \"#7201a8\"], [0.3333333333333333, \"#9c179e\"], [0.4444444444444444, \"#bd3786\"], [0.5555555555555556, \"#d8576b\"], [0.6666666666666666, \"#ed7953\"], [0.7777777777777778, \"#fb9f3a\"], [0.8888888888888888, \"#fdca26\"], [1.0, \"#f0f921\"]]}, \"colorway\": [\"#636efa\", \"#EF553B\", \"#00cc96\", \"#ab63fa\", \"#FFA15A\", \"#19d3f3\", \"#FF6692\", \"#B6E880\", \"#FF97FF\", \"#FECB52\"], \"font\": {\"color\": \"#2a3f5f\"}, \"geo\": {\"bgcolor\": \"white\", \"lakecolor\": \"white\", \"landcolor\": \"#E5ECF6\", \"showlakes\": true, \"showland\": true, \"subunitcolor\": \"white\"}, \"hoverlabel\": {\"align\": \"left\"}, \"hovermode\": \"closest\", \"mapbox\": {\"style\": \"light\"}, \"paper_bgcolor\": \"white\", \"plot_bgcolor\": \"#E5ECF6\", \"polar\": {\"angularaxis\": {\"gridcolor\": \"white\", \"linecolor\": \"white\", \"ticks\": \"\"}, \"bgcolor\": \"#E5ECF6\", \"radialaxis\": {\"gridcolor\": \"white\", \"linecolor\": \"white\", \"ticks\": \"\"}}, \"scene\": {\"xaxis\": {\"backgroundcolor\": \"#E5ECF6\", \"gridcolor\": \"white\", \"gridwidth\": 2, \"linecolor\": \"white\", \"showbackground\": true, \"ticks\": \"\", \"zerolinecolor\": \"white\"}, \"yaxis\": {\"backgroundcolor\": \"#E5ECF6\", \"gridcolor\": \"white\", \"gridwidth\": 2, \"linecolor\": \"white\", \"showbackground\": true, \"ticks\": \"\", \"zerolinecolor\": \"white\"}, \"zaxis\": {\"backgroundcolor\": \"#E5ECF6\", \"gridcolor\": \"white\", \"gridwidth\": 2, \"linecolor\": \"white\", \"showbackground\": true, \"ticks\": \"\", \"zerolinecolor\": \"white\"}}, \"shapedefaults\": {\"line\": {\"color\": \"#2a3f5f\"}}, \"ternary\": {\"aaxis\": {\"gridcolor\": \"white\", \"linecolor\": \"white\", \"ticks\": \"\"}, \"baxis\": {\"gridcolor\": \"white\", \"linecolor\": \"white\", \"ticks\": \"\"}, \"bgcolor\": \"#E5ECF6\", \"caxis\": {\"gridcolor\": \"white\", \"linecolor\": \"white\", \"ticks\": \"\"}}, \"title\": {\"x\": 0.05}, \"xaxis\": {\"automargin\": true, \"gridcolor\": \"white\", \"linecolor\": \"white\", \"ticks\": \"\", \"title\": {\"standoff\": 15}, \"zerolinecolor\": \"white\", \"zerolinewidth\": 2}, \"yaxis\": {\"automargin\": true, \"gridcolor\": \"white\", \"linecolor\": \"white\", \"ticks\": \"\", \"title\": {\"standoff\": 15}, \"zerolinecolor\": \"white\", \"zerolinewidth\": 2}}}, \"title\": {\"text\": \"H3 loop Prediction for 3go1H\"}},\n",
              "                        {\"responsive\": true}\n",
              "                    ).then(function(){\n",
              "                            \n",
              "var gd = document.getElementById('7f7d39a2-1768-48b0-8d94-092b4f0b080d');\n",
              "var x = new MutationObserver(function (mutations, observer) {{\n",
              "        var display = window.getComputedStyle(gd).display;\n",
              "        if (!display || display === 'none') {{\n",
              "            console.log([gd, 'removed!']);\n",
              "            Plotly.purge(gd);\n",
              "            observer.disconnect();\n",
              "        }}\n",
              "}});\n",
              "\n",
              "// Listen for the removal of the full notebook cells\n",
              "var notebookContainer = gd.closest('#notebook-container');\n",
              "if (notebookContainer) {{\n",
              "    x.observe(notebookContainer, {childList: true});\n",
              "}}\n",
              "\n",
              "// Listen for the clearing of the current output cell\n",
              "var outputEl = gd.closest('.output');\n",
              "if (outputEl) {{\n",
              "    x.observe(outputEl, {childList: true});\n",
              "}}\n",
              "\n",
              "                        })\n",
              "                };\n",
              "                \n",
              "            </script>\n",
              "        </div>\n",
              "</body>\n",
              "</html>"
            ]
          },
          "metadata": {},
          "output_type": "display_data"
        }
      ],
      "source": [
        "import plotly\n",
        "import plotly.graph_objects as go\n",
        "def data_to_plot(xs, names):\n",
        "    ret = []\n",
        "    for i,x0 in enumerate(xs):\n",
        "        x0 = x0.cpu().detach().numpy().transpose()\n",
        "        ret.append(go.Scatter3d(x=x0[0], y=x0[1], z=x0[2], name = names[i], marker=dict(size=2)))\n",
        "    return ret\n",
        "\n",
        "test = pd.read_csv(os.path.join(current_directory, \"test_data.csv\"))\n",
        "c = DataStorer(test)\n",
        "\n",
        "j = np.random.randint(len(c))\n",
        "\n",
        "with torch.no_grad():\n",
        "    geom_in, amino, geom = c.geom_ins[j], c.aminos[j], c.geom_out[j]\n",
        "    pred = model(amino, geom_in)\n",
        "\n",
        "cdr_i = 32\n",
        "fig = go.Figure(data=data_to_plot([geom_in[amino[:,:,cdr_i] == 1.0][::4]] + [pred.mean(0)[amino[0,:,cdr_i] == 1.0][::4]] + [geom[amino[:,:,cdr_i] == 1.0][::4]],\n",
        "                                  [\"Inp\"] + [\"Prediction\"]+[\"Truth\"]))\n",
        "fig.update_layout(title = \"H3 loop Prediction for {}\".format(c.ids[j]))\n",
        "fig.show()"
      ]
    },
    {
      "cell_type": "code",
      "execution_count": null,
      "metadata": {
        "id": "7p4IEgWDRHw3"
      },
      "outputs": [],
      "source": []
    }
  ],
  "metadata": {
    "accelerator": "GPU",
    "colab": {
      "collapsed_sections": [],
      "name": "EGNN_All_BB.ipynb",
      "provenance": []
    },
    "kernelspec": {
      "display_name": "Python 3",
      "name": "python3"
    },
    "language_info": {
      "name": "python",
      "version": "3.9.12"
    }
  },
  "nbformat": 4,
  "nbformat_minor": 0
}
