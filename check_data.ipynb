{
 "cells": [
  {
   "cell_type": "code",
   "execution_count": 1,
   "metadata": {},
   "outputs": [
    {
     "name": "stderr",
     "output_type": "stream",
     "text": [
      "/Users/fabian/miniconda3/envs/auto-db-pipeline/lib/python3.9/site-packages/Bio/SubsMat/__init__.py:126: BiopythonDeprecationWarning: Bio.SubsMat has been deprecated, and we intend to remove it in a future release of Biopython. As an alternative, please consider using Bio.Align.substitution_matrices as a replacement, and contact the Biopython developers if you still need the Bio.SubsMat module.\n",
      "  warnings.warn(\n",
      "Database path /Volumes/LaCie/sabdab-sabpred/data/ABDB was not found.\n",
      "Warning: ABDB file system was not found. Database access not available\n"
     ]
    }
   ],
   "source": [
    "from ABDB import database as db\n",
    "import numpy as np\n",
    "from rich.progress import track\n",
    "import copy\n",
    "import torch\n",
    "from einops import rearrange\n",
    "import json\n",
    "import pandas as pd\n",
    "from retrain_ablooper import *\n",
    "import matplotlib.pyplot as plt\n",
    "import math\n",
    "import anarci"
   ]
  },
  {
   "cell_type": "code",
   "execution_count": 2,
   "metadata": {},
   "outputs": [],
   "source": [
    "train = torch.load('train_data/train.pt')\n",
    "validation = torch.load('train_data/val.pt')\n",
    "test = torch.load('train_data/test.pt')"
   ]
  },
  {
   "cell_type": "code",
   "execution_count": 3,
   "metadata": {},
   "outputs": [],
   "source": [
    "# functions to predict on val set and calculate RMSDs\n",
    "def predict_on_val_set(val_dataloader, model):\n",
    "    '''\n",
    "    Predicts structures of validation set\n",
    "    '''\n",
    "    preds = []\n",
    "    node_features = []\n",
    "    geomouts = []\n",
    "\n",
    "    with torch.no_grad():\n",
    "        model.eval()\n",
    "        for data in track(val_dataloader, description='Predict validation set'):\n",
    "            coordinates, geomout, node_feature, mask = data['geomins'].float().to(device), data['geomouts'].float().to(device), data['encodings'].float().to(device), data['mask'].float().to(device)\n",
    "            pred = model(node_feature, coordinates, mask)\n",
    "\n",
    "            preds.append(pred)\n",
    "            node_features.append(node_feature)\n",
    "            geomouts.append(geomout)\n",
    "\n",
    "    return preds, geomouts, node_features\n",
    "\n",
    "def rmsds_on_val_set(preds, geomouts, node_features, decoys=5):\n",
    "    '''\n",
    "    Gets rmsds for each fab in the validation set and each decoy\n",
    "    '''\n",
    "    CDRs = [\"H1\", \"H2\", \"H3\", \"L1\", \"L2\", \"L3\"]\n",
    "    cdr_rmsds = torch.zeros(100, decoys, 6)\n",
    "\n",
    "    for i in range(len(preds)): # loop through the predictions\n",
    "        for j in range(decoys):\n",
    "            pred = preds[i][j,:,:,:]\n",
    "            pred_in = rearrange(pred, \"b i d -> () b i d\")\n",
    "            cdr_rmsd = rmsd_per_cdr(pred_in, node_features[i], geomouts[i], CDRs)\n",
    "            cdr_rmsds[i,j,:] = cdr_rmsd\n",
    "\n",
    "    return cdr_rmsds"
   ]
  },
  {
   "cell_type": "code",
   "execution_count": 4,
   "metadata": {},
   "outputs": [],
   "source": [
    "# need to get atom_type, amino_type, coords\n",
    "num2atom = {0: 'CA', 1: 'C', 2: 'N', 3: 'CB'}\n",
    "num2loop = {0: 'H1', 1: 'H2', 2: 'H3', 3: 'L1', 4: 'L2', 5: 'L3', 6: 'Anchor'}\n",
    "loop2num = {'H1': 0, 'H2': 1, 'H3': 2, 'L1': 3, 'L2': 4, 'L3': 5, 'Anchor': 6}\n",
    "\n",
    "def reverse_one_hot(one_hot):\n",
    "    '''\n",
    "    Decodes a one hot encoded vector.\n",
    "    '''\n",
    "    for i in range(len(one_hot)):\n",
    "        if one_hot[i] == 1:\n",
    "            return i\n",
    "\n",
    "    # happens when it gets to the padded part of the tensor\n",
    "    return None\n",
    "\n",
    "def get_atom_type(node_features):\n",
    "    atom_encoding = node_features[-4:]\n",
    "    a_num = reverse_one_hot(atom_encoding)\n",
    "    if a_num == None:\n",
    "        return None\n",
    "    return num2atom[a_num]\n",
    "\n",
    "def get_amino_type(node_features):\n",
    "    amino_encoding = node_features[:20]\n",
    "    aa_num = reverse_one_hot(amino_encoding)\n",
    "    if aa_num == None:\n",
    "        return None\n",
    "    return short2long[num2short[aa_num]]\n",
    "\n",
    "def get_loop(node_features):\n",
    "    loop_encoding = node_features[30:37]\n",
    "    l_num = reverse_one_hot(loop_encoding)\n",
    "    if l_num == None:\n",
    "        return None\n",
    "    return num2loop[l_num]\n",
    "\n",
    "# functions to produce pdb files for model outputs\n",
    "def produce_pdb_text(coordinates, node_features, chain_name, CDRs):\n",
    "    '''\n",
    "    writes a pdb text for one predicted fab\n",
    "    '''\n",
    "    # coordinates 504 x 3\n",
    "    # nodefeatures 504 x 41\n",
    "    CDRs.append('Anchor')\n",
    "    text = []\n",
    "    j = 0\n",
    "    for i in range(len(node_features)):\n",
    "        atom_type = get_atom_type(node_features[i])\n",
    "        amino_type = get_amino_type(node_features[i])\n",
    "        loop = get_loop(node_features[i])\n",
    "\n",
    "        if (atom_type == None and amino_type == None):\n",
    "            continue\n",
    "\n",
    "        if (atom_type == 'CB' and amino_type == 'GLY'):\n",
    "            continue\n",
    "\n",
    "        if loop not in CDRs:\n",
    "            continue\n",
    "        \n",
    "        j += 1\n",
    "        res_id = math.floor(i / 4)\n",
    "        line = to_pdb_line(j, atom_type, amino_type, chain_name, res_id, coordinates[i])\n",
    "\n",
    "        text.append(line)\n",
    "    \n",
    "    return text\n",
    "\n",
    "def pdb_for_set(predictions, geomouts, node_features, out_dir, CDRs=['H1', 'H2', 'H3', 'L1', 'L2', 'L3', 'Anchor']):\n",
    "    '''\n",
    "    Produces pdb files for the predictions of the validation set. Decoys and ground truth are chains in a single file.\n",
    "    '''\n",
    "    n_anchors_before = loop2num[CDRs[0]] * 4 * 4\n",
    "    n_anchors_after = (5 - loop2num[CDRs[-1]]) * 4 * 4\n",
    "    \n",
    "    for i in range(len(predictions)):\n",
    "\n",
    "        prediction = predictions[i]\n",
    "        geomout = geomouts[i]\n",
    "        node_feature = node_features[i]\n",
    "\n",
    "        \n",
    "\n",
    "        pdb_text = []\n",
    "        chains = ['D', 'P', 'Q', 'R', 'S', 'T']\n",
    "        j = 0\n",
    "        pdb_text += produce_pdb_text(geomout.squeeze(), node_feature.squeeze(), chains[j], CDRs)[n_anchors_before:-n_anchors_after]\n",
    "        for decoy in prediction:\n",
    "            j += 1\n",
    "            pdb_text += produce_pdb_text(decoy.squeeze(), node_feature.squeeze(), chains[j], CDRs)[n_anchors_before:-n_anchors_after]\n",
    "\n",
    "        \n",
    "        pdb_text = ''.join(pdb_text) +'END'\n",
    "\n",
    "        outfile = 'pdbs/'+out_dir+'/PRED'+str(i)+'.pdb'\n",
    "        with open(outfile, 'w') as f:\n",
    "            f.write(pdb_text)"
   ]
  },
  {
   "cell_type": "markdown",
   "metadata": {},
   "source": [
    "### Notebook to check the input data and outputs of the ABlooper training\n",
    "\n",
    "1. L1 prediction has a worse RMSD than ABlooper trained on Chotia\n",
    "2. The training on 5 decoys leads to worse RMSDs than a single decoy\n",
    "\n",
    "**1. Investigate L1**\n",
    "\n",
    "Look at structures see if there is something thats going wrong"
   ]
  },
  {
   "cell_type": "code",
   "execution_count": 20,
   "metadata": {},
   "outputs": [],
   "source": [
    "# torch settings\n",
    "device = \"cuda\" if torch.cuda.is_available() else \"cpu\"\n",
    "torch.set_default_dtype(torch.float)\n",
    "\n",
    "model = MaskDecoyGen(decoys=1).to(device = device).float()\n",
    "model.load_state_dict(torch.load(\"best_models/best_model-2104-RAdam-1\",\n",
    "                                 map_location=torch.device(device)))\n",
    "\n",
    "batch_size = 1\n",
    "\n",
    "val_dataloader = torch.utils.data.DataLoader(validation, \n",
    "                                             batch_size=batch_size,\n",
    "                                             num_workers=1,\n",
    "                                             shuffle=True,\n",
    "                                             pin_memory=True,\n",
    "                                             )"
   ]
  },
  {
   "cell_type": "code",
   "execution_count": 21,
   "metadata": {},
   "outputs": [
    {
     "data": {
      "text/html": [
       "<pre style=\"white-space:pre;overflow-x:auto;line-height:normal;font-family:Menlo,'DejaVu Sans Mono',consolas,'Courier New',monospace\">Predict validation set <span style=\"color: #f92672; text-decoration-color: #f92672\">━━━━━━━━━━━━━━━━━━━━━━━━━━━━━━━━━━━━━━━</span><span style=\"color: #3a3a3a; text-decoration-color: #3a3a3a\">╺</span> <span style=\"color: #800080; text-decoration-color: #800080\"> 98%</span> <span style=\"color: #008080; text-decoration-color: #008080\">0:00:05</span>\n",
       "</pre>\n"
      ],
      "text/plain": [
       "Predict validation set \u001b[38;2;249;38;114m━━━━━━━━━━━━━━━━━━━━━━━━━━━━━━━━━━━━━━━\u001b[0m\u001b[38;5;237m╺\u001b[0m \u001b[35m 98%\u001b[0m \u001b[36m0:00:05\u001b[0m\n"
      ]
     },
     "metadata": {},
     "output_type": "display_data"
    },
    {
     "data": {
      "text/html": [
       "<pre style=\"white-space:pre;overflow-x:auto;line-height:normal;font-family:Menlo,'DejaVu Sans Mono',consolas,'Courier New',monospace\"></pre>\n"
      ],
      "text/plain": []
     },
     "metadata": {},
     "output_type": "display_data"
    },
    {
     "data": {
      "text/html": [
       "<pre style=\"white-space:pre;overflow-x:auto;line-height:normal;font-family:Menlo,'DejaVu Sans Mono',consolas,'Courier New',monospace\">\n",
       "</pre>\n"
      ],
      "text/plain": [
       "\n"
      ]
     },
     "metadata": {},
     "output_type": "display_data"
    }
   ],
   "source": [
    "# takes 2 min\n",
    "predictions, geomouts, node_features = predict_on_val_set(val_dataloader, model)"
   ]
  },
  {
   "cell_type": "code",
   "execution_count": 26,
   "metadata": {},
   "outputs": [],
   "source": [
    "cdr_rmsd = rmsds_on_val_set(predictions, geomouts, node_features, decoys=1)"
   ]
  },
  {
   "cell_type": "code",
   "execution_count": 27,
   "metadata": {},
   "outputs": [
    {
     "data": {
      "image/png": "[encoded data removed]",
      "text/plain": [
       "<Figure size 432x288 with 1 Axes>"
      ]
     },
     "metadata": {
      "needs_background": "light"
     },
     "output_type": "display_data"
    }
   ],
   "source": [
    "plt.boxplot([x for x in rearrange(cdr_rmsd.mean(1), 'a b -> b a')],labels=['H1', 'H2', 'H3', 'L1', 'L2', 'L3']);\n",
    "plt.title('RMSD distribution per CDR')\n",
    "plt.ylabel('RMSD')\n",
    "plt.xlabel('CDR')\n",
    "plt.savefig('figures/RMSD_distribution_per_cdr_2104-RAdam-1.png');"
   ]
  },
  {
   "cell_type": "code",
   "execution_count": 28,
   "metadata": {},
   "outputs": [],
   "source": [
    "# produce pdbs\n",
    "pdb_for_set(predictions, geomouts, node_features, out_dir='2104_Radam_1', CDRs=['L1'])"
   ]
  },
  {
   "cell_type": "code",
   "execution_count": 25,
   "metadata": {},
   "outputs": [
    {
     "data": {
      "text/plain": [
       "(array([ 8, 12, 32, 73, 18]), array([72, 64, 83, 70, 24]))"
      ]
     },
     "execution_count": 25,
     "metadata": {},
     "output_type": "execute_result"
    }
   ],
   "source": [
    "# sorted by L1 rmds\n",
    "sorted = np.argsort(np.array(cdr_rmsd[:,0,3].tolist()))\n",
    "top5 = sorted[-5:]\n",
    "bottom5 = sorted[:5]\n",
    "top5, bottom5"
   ]
  },
  {
   "cell_type": "markdown",
   "metadata": {},
   "source": [
    "**2. Investigate 5 decoys**\n",
    "\n",
    "2.1 Check distributions of CDR lengths in the training and validation sets"
   ]
  },
  {
   "cell_type": "code",
   "execution_count": 9,
   "metadata": {},
   "outputs": [],
   "source": [
    "def length_CDRs(data_set, CDRs=[\"H1\", \"H2\", \"H3\", \"L1\", \"L2\", \"L3\"]):\n",
    "    '''\n",
    "    Returns the length of all 6 CDRs for all fabs in a data set\n",
    "    '''\n",
    "    CDR_lengths = dict()\n",
    "\n",
    "    node_features_set = torch.zeros(len(data_set), 504, 41)\n",
    "\n",
    "    for i in range(len(data_set)):\n",
    "        _, _, node_features, _ = data_set[i]['geomins'], data_set[i]['geomouts'], data_set[i]['encodings'], data_set[i]['mask']\n",
    "\n",
    "        node_features_set[i,:,:] = node_features\n",
    "\n",
    "    for CDR in CDRs:\n",
    "        resis = loop_resi_index(node_features_set, CDR)\n",
    "        \n",
    "        lengths = []\n",
    "        for resi in resis: # loop throught each fab\n",
    "            length = len(resi)/4\n",
    "            if length % 1 != 0: # This should not happen each residue has 4 atoms\n",
    "                raise Exception('Number of atoms not multiple of 4')\n",
    "            lengths.append(length)\n",
    "        \n",
    "        CDR_lengths[CDR] = lengths\n",
    "\n",
    "    return CDR_lengths"
   ]
  },
  {
   "cell_type": "code",
   "execution_count": 10,
   "metadata": {},
   "outputs": [],
   "source": [
    "# takes 2 min\n",
    "CDR_lengths_train = length_CDRs(train)\n",
    "CDR_lengths_val = length_CDRs(validation)"
   ]
  },
  {
   "cell_type": "code",
   "execution_count": 11,
   "metadata": {},
   "outputs": [
    {
     "data": {
      "image/png": "[encoded data removed]",
      "text/plain": [
       "<Figure size 864x288 with 2 Axes>"
      ]
     },
     "metadata": {
      "needs_background": "light"
     },
     "output_type": "display_data"
    }
   ],
   "source": [
    "fig, axs = plt.subplots(1, 2, figsize=(12,4))\n",
    "\n",
    "axs[0].boxplot([x for x in CDR_lengths_train.values()],labels=[x for x in CDR_lengths_train.keys()]) \n",
    "axs[1].boxplot([x for x in CDR_lengths_val.values()],labels=[x for x in CDR_lengths_val.keys()])\n",
    "\n",
    "axs[0].set_title('CDR length train set')\n",
    "axs[1].set_title('CDR length val set')\n",
    "axs[0].set_ylabel('Number of residues')\n",
    "axs[0].set_xlabel('CDR')\n",
    "axs[1].set_xlabel('CDR')\n",
    "axs[0].set_ylim([0,25])\n",
    "axs[1].set_ylim([0,25])\n",
    "fig.savefig('figures/CDR_length_train_val_sets.png');"
   ]
  },
  {
   "cell_type": "markdown",
   "metadata": {},
   "source": [
    "Lengths of CDRs in train and validation sets look very similar"
   ]
  },
  {
   "cell_type": "markdown",
   "metadata": {},
   "source": [
    "**2.2 RMSD distribution across the decoys**\n",
    "\n",
    "All predictions base on 2504-Radam-5-1"
   ]
  },
  {
   "cell_type": "code",
   "execution_count": 7,
   "metadata": {},
   "outputs": [
    {
     "data": {
      "text/plain": [
       "<All keys matched successfully>"
      ]
     },
     "execution_count": 7,
     "metadata": {},
     "output_type": "execute_result"
    }
   ],
   "source": [
    "# torch settings\n",
    "device = \"cuda\" if torch.cuda.is_available() else \"cpu\"\n",
    "torch.set_default_dtype(torch.float)\n",
    "\n",
    "model = MaskDecoyGen(decoys=5).to(device = device).float()\n",
    "model.load_state_dict(torch.load(\"best_models/best_model-2504-Radam-5-1\",\n",
    "                                 map_location=torch.device(device)))\n",
    "\n",
    "batch_size = 1\n",
    "\n",
    "val_dataloader = torch.utils.data.DataLoader(validation, \n",
    "                                             batch_size=batch_size,\n",
    "                                             num_workers=1,\n",
    "                                             shuffle=True,\n",
    "                                             pin_memory=True,\n",
    "                                             )"
   ]
  },
  {
   "cell_type": "code",
   "execution_count": 7,
   "metadata": {},
   "outputs": [
    {
     "data": {
      "text/html": [
       "<pre style=\"white-space:pre;overflow-x:auto;line-height:normal;font-family:Menlo,'DejaVu Sans Mono',consolas,'Courier New',monospace\">Predict validation set <span style=\"color: #f92672; text-decoration-color: #f92672\">━━━━━━━━━━━━━━━━━━━━━━━━━━━━━━━━━━</span><span style=\"color: #3a3a3a; text-decoration-color: #3a3a3a\">╺━━━━━</span> <span style=\"color: #800080; text-decoration-color: #800080\"> 85%</span> <span style=\"color: #008080; text-decoration-color: #008080\">0:06:19</span>\n",
       "</pre>\n"
      ],
      "text/plain": [
       "Predict validation set \u001b[38;2;249;38;114m━━━━━━━━━━━━━━━━━━━━━━━━━━━━━━━━━━\u001b[0m\u001b[38;5;237m╺\u001b[0m\u001b[38;5;237m━━━━━\u001b[0m \u001b[35m 85%\u001b[0m \u001b[36m0:06:19\u001b[0m\n"
      ]
     },
     "metadata": {},
     "output_type": "display_data"
    },
    {
     "data": {
      "text/html": [
       "<pre style=\"white-space:pre;overflow-x:auto;line-height:normal;font-family:Menlo,'DejaVu Sans Mono',consolas,'Courier New',monospace\"></pre>\n"
      ],
      "text/plain": []
     },
     "metadata": {},
     "output_type": "display_data"
    },
    {
     "data": {
      "text/html": [
       "<pre style=\"white-space:pre;overflow-x:auto;line-height:normal;font-family:Menlo,'DejaVu Sans Mono',consolas,'Courier New',monospace\">\n",
       "</pre>\n"
      ],
      "text/plain": [
       "\n"
      ]
     },
     "metadata": {},
     "output_type": "display_data"
    }
   ],
   "source": [
    "predictions, geomouts, node_features = predict_on_val_set(val_dataloader, model)"
   ]
  },
  {
   "cell_type": "code",
   "execution_count": 12,
   "metadata": {},
   "outputs": [],
   "source": [
    "#predictions_on_val = {'preds': predictions, 'geomouts': geomouts, 'node_features': node_features}\n",
    "#torch.save(predictions_on_val, 'train_data/predictions_on_val.pt')\n",
    "\n",
    "predictions_on_val = torch.load('train_data/predictions_on_val.pt')\n",
    "\n",
    "predictions = predictions_on_val['preds']\n",
    "geomouts = predictions_on_val['geomouts']\n",
    "node_features = predictions_on_val['node_features']"
   ]
  },
  {
   "cell_type": "code",
   "execution_count": 13,
   "metadata": {},
   "outputs": [],
   "source": [
    "cdr_rmsd = rmsds_on_val_set(predictions, geomouts, node_features)"
   ]
  },
  {
   "cell_type": "code",
   "execution_count": 17,
   "metadata": {},
   "outputs": [
    {
     "data": {
      "text/plain": [
       "Text(0.5, 0, 'CDR')"
      ]
     },
     "execution_count": 17,
     "metadata": {},
     "output_type": "execute_result"
    },
    {
     "data": {
      "image/png": "[encoded data removed]",
      "text/plain": [
       "<Figure size 432x288 with 1 Axes>"
      ]
     },
     "metadata": {
      "needs_background": "light"
     },
     "output_type": "display_data"
    }
   ],
   "source": [
    "plt.boxplot([x for x in rearrange(cdr_rmsd.mean(1), 'a b -> b a')],labels=['H1', 'H2', 'H3', 'L1', 'L2', 'L3']);\n",
    "plt.title('RMSD distribution per CDR')\n",
    "plt.ylabel('RMSD')\n",
    "plt.xlabel('CDR')"
   ]
  },
  {
   "cell_type": "markdown",
   "metadata": {},
   "source": [
    "Distribution of RMSDs for each CDR across all 5 decoys"
   ]
  },
  {
   "cell_type": "code",
   "execution_count": 14,
   "metadata": {},
   "outputs": [
    {
     "data": {
      "image/png": "[encoded data removed]",
      "text/plain": [
       "<Figure size 1080x648 with 6 Axes>"
      ]
     },
     "metadata": {
      "needs_background": "light"
     },
     "output_type": "display_data"
    }
   ],
   "source": [
    "fig, axs = plt.subplots(2, 3, figsize=(15,9))\n",
    "\n",
    "CDRs = ['H1', 'H2', 'H3', 'L1', 'L2', 'L3']\n",
    "\n",
    "k = 0\n",
    "for i in range(2):\n",
    "    for j in range(3):\n",
    "        axs[i,j].boxplot([x for x in rearrange(cdr_rmsd[:,:,k], 'a b -> b a')],labels=['1', '2', '3', '4', '5']);\n",
    "        axs[i,j].set_title(CDRs[k])\n",
    "        axs[i,0].set_ylabel('RMSD')\n",
    "        axs[1,j].set_xlabel('Decoy')\n",
    "        axs[i,j].set_ylim([0,10])\n",
    "        axs[i,j].grid(axis='y')\n",
    "        k+=1\n",
    "fig.suptitle('RMSD distribution per CDR and Decoy')\n",
    "fig.savefig('figures/RMSD_distribution_per_CDR_Decoy.png');"
   ]
  },
  {
   "cell_type": "markdown",
   "metadata": {},
   "source": [
    "There is no decoy thats significantly worse than the others and by itself causing the high RMSD"
   ]
  },
  {
   "cell_type": "markdown",
   "metadata": {},
   "source": [
    "**2.3 Look at structures predicted with 5 Decoys**\n",
    "\n",
    "Write the predictions in a .pdb file so it can be looked at with pymol"
   ]
  },
  {
   "cell_type": "code",
   "execution_count": 81,
   "metadata": {},
   "outputs": [],
   "source": [
    "pdb_for_set(predictions, geomouts, node_features, out_dir='2504_Radam_5_1')"
   ]
  },
  {
   "cell_type": "code",
   "execution_count": 15,
   "metadata": {},
   "outputs": [
    {
     "data": {
      "text/plain": [
       "(array([21, 94, 36, 16,  9]), array([61, 38, 81, 19,  1]))"
      ]
     },
     "execution_count": 15,
     "metadata": {},
     "output_type": "execute_result"
    }
   ],
   "source": [
    "sorted = np.argsort(np.array(cdr_rmsd.tolist()).mean(1)[:,2])\n",
    "top5 = sorted[-5:]\n",
    "bottom5 = sorted[:5]\n",
    "top5, bottom5"
   ]
  },
  {
   "cell_type": "markdown",
   "metadata": {},
   "source": [
    "**2.4 check if numbering is correct**\n",
    "\n",
    "Compare numbering from sabdab with the same sequences relabelled with anarci"
   ]
  },
  {
   "cell_type": "code",
   "execution_count": 2,
   "metadata": {},
   "outputs": [],
   "source": [
    "# functions to compare sabdab and anarci numberings\n",
    "\n",
    "def get_regions_sabdab(fab):\n",
    "\n",
    "    sabdab_numbering = {'cdrh1':[], 'cdrh2':[], 'cdrh3':[], 'cdrl1':[], 'cdrl2':[], 'cdrl3':[]}\n",
    "\n",
    "    for chain in [fab.VH, fab.VL]:\n",
    "        for residue in fab.get_structure()[chain].get_residues():\n",
    "            if residue.region in sabdab_numbering.keys():\n",
    "                sabdab_numbering[residue.region].append(long2short[residue.resname])\n",
    "\n",
    "    return sabdab_numbering\n",
    "\n",
    "def get_regions_anarci(fab):\n",
    "\n",
    "    anarci_numbering = {'cdrh1':[], 'cdrh2':[], 'cdrh3':[], 'cdrl1':[], 'cdrl2':[], 'cdrl3':[]}\n",
    "\n",
    "    cdr_boundaries = {'1':[27,38], '2':[56,65], '3':[105,117]}\n",
    "    \n",
    "    for seq in fab.get_sequence().split('/'):\n",
    "        result = anarci.run_anarci([['sequences', seq]])\n",
    "        numbered_seq = result[1][0][0][0]\n",
    "        chain = result[2][0][0]['chain_type']\n",
    "        chain = chain.replace('K', 'L')\n",
    "\n",
    "        for residue in numbered_seq:\n",
    "            for cdr in cdr_boundaries.keys():\n",
    "                if cdr_boundaries[cdr][0] <= residue[0][0] and residue[0][0] <= cdr_boundaries[cdr][1]:\n",
    "                    if residue[1] != '-':\n",
    "                        anarci_numbering['cdr'+chain.lower()+cdr].append(residue[1])\n",
    "\n",
    "    return anarci_numbering\n",
    "\n",
    "\n",
    "\n",
    "def compare_fab_sabdab_to_anarci(fab):\n",
    "\n",
    "    ana = get_regions_anarci(fab)\n",
    "    sab = get_regions_sabdab(fab)\n",
    "\n",
    "    wrong_numbered_cdrs = []\n",
    "    for CDR in ana:\n",
    "        if ana[CDR] != sab[CDR]:\n",
    "            wrong_numbered_cdrs.append(CDR)\n",
    "\n",
    "    return wrong_numbered_cdrs\n",
    "\n",
    "\n",
    "def compare_sabdab_to_anarci(pdb_list):\n",
    "\n",
    "    db.set_numbering_scheme(\"imgt\")\n",
    "    db.set_region_definition(\"imgt\")    \n",
    "\n",
    "    wrong_numbered = list()\n",
    "    correct = list()\n",
    "    excep = list()\n",
    "\n",
    "    for pdb_id in track(pdb_list, description='Compared SAbDab and Anarci numbering'):\n",
    "\n",
    "        pdb = db.fetch(pdb_id)\n",
    "\n",
    "        for i in range(len(pdb.fabs)):\n",
    "            try: # in case there are some numbering problems with anarci skip the fab\n",
    "                wrong_numbered_cdrs = compare_fab_sabdab_to_anarci(pdb.fabs[i])\n",
    "                if wrong_numbered_cdrs:\n",
    "                    wrong_numbered.append([pdb_id, i, wrong_numbered_cdrs])\n",
    "                else:\n",
    "                    correct.append([pdb_id, i])\n",
    "            except Exception as e:\n",
    "                excep.append([pdb_id, i, e])\n",
    "\n",
    "    return wrong_numbered, correct, excep\n",
    "            "
   ]
  },
  {
   "cell_type": "code",
   "execution_count": 3,
   "metadata": {},
   "outputs": [
    {
     "data": {
      "text/plain": [
       "5770"
      ]
     },
     "execution_count": 3,
     "metadata": {},
     "output_type": "execute_result"
    }
   ],
   "source": [
    "all_pdbs_in_sabdab = list(db.db_summary.keys())\n",
    "len(all_pdbs_in_sabdab)"
   ]
  },
  {
   "cell_type": "code",
   "execution_count": 4,
   "metadata": {},
   "outputs": [
    {
     "data": {
      "text/html": [
       "<pre style=\"white-space:pre;overflow-x:auto;line-height:normal;font-family:Menlo,'DejaVu Sans Mono',consolas,'Courier New',monospace\">Filter PDBs for resolution <span style=\"color: #3a3a3a; text-decoration-color: #3a3a3a\">━━━━━━━━━━━━━━━━━━━━━━━━━━━━━━━━━━━━━━━━</span> <span style=\"color: #800080; text-decoration-color: #800080\">  0%</span> <span style=\"color: #008080; text-decoration-color: #008080\">-:--:--</span>\n",
       "</pre>\n"
      ],
      "text/plain": [
       "Filter PDBs for resolution \u001b[38;5;237m━━━━━━━━━━━━━━━━━━━━━━━━━━━━━━━━━━━━━━━━\u001b[0m \u001b[35m  0%\u001b[0m \u001b[36m-:--:--\u001b[0m\n"
      ]
     },
     "metadata": {},
     "output_type": "display_data"
    },
    {
     "name": "stdout",
     "output_type": "stream",
     "text": [
      "Number of PDBs with missing chains or identical chain names: 1298\n",
      "\n"
     ]
    },
    {
     "data": {
      "text/html": [
       "<pre style=\"white-space:pre;overflow-x:auto;line-height:normal;font-family:Menlo,'DejaVu Sans Mono',consolas,'Courier New',monospace\"></pre>\n"
      ],
      "text/plain": []
     },
     "metadata": {},
     "output_type": "display_data"
    },
    {
     "data": {
      "text/html": [
       "<pre style=\"white-space:pre;overflow-x:auto;line-height:normal;font-family:Menlo,'DejaVu Sans Mono',consolas,'Courier New',monospace\">\n",
       "</pre>\n"
      ],
      "text/plain": [
       "\n"
      ]
     },
     "metadata": {},
     "output_type": "display_data"
    },
    {
     "name": "stdout",
     "output_type": "stream",
     "text": [
      "Number of PDBs with resolution worse than 3.0: 1408\n",
      "\n"
     ]
    },
    {
     "data": {
      "text/plain": [
       "3064"
      ]
     },
     "execution_count": 4,
     "metadata": {},
     "output_type": "execute_result"
    }
   ],
   "source": [
    "filtered = filter_abs(all_pdbs_in_sabdab)\n",
    "len(filtered)"
   ]
  },
  {
   "cell_type": "code",
   "execution_count": 6,
   "metadata": {},
   "outputs": [
    {
     "data": {
      "text/html": [
       "<pre style=\"white-space:pre;overflow-x:auto;line-height:normal;font-family:Menlo,'DejaVu Sans Mono',consolas,'Courier New',monospace\">Compared SAbDab and Anarci numbering <span style=\"color: #729c1f; text-decoration-color: #729c1f\">━━━━━━━━━━━━━━━━━━━━━━━━━━━━━━━━━━━━━━━━</span> <span style=\"color: #800080; text-decoration-color: #800080\">100%</span> <span style=\"color: #008080; text-decoration-color: #008080\">0:00:00</span>\n",
       "</pre>\n"
      ],
      "text/plain": [
       "Compared SAbDab and Anarci numbering \u001b[38;2;114;156;31m━━━━━━━━━━━━━━━━━━━━━━━━━━━━━━━━━━━━━━━━\u001b[0m \u001b[35m100%\u001b[0m \u001b[36m0:00:00\u001b[0m\n"
      ]
     },
     "metadata": {},
     "output_type": "display_data"
    },
    {
     "data": {
      "text/html": [
       "<pre style=\"white-space:pre;overflow-x:auto;line-height:normal;font-family:Menlo,'DejaVu Sans Mono',consolas,'Courier New',monospace\"></pre>\n"
      ],
      "text/plain": []
     },
     "metadata": {},
     "output_type": "display_data"
    },
    {
     "data": {
      "text/html": [
       "<pre style=\"white-space:pre;overflow-x:auto;line-height:normal;font-family:Menlo,'DejaVu Sans Mono',consolas,'Courier New',monospace\">\n",
       "</pre>\n"
      ],
      "text/plain": [
       "\n"
      ]
     },
     "metadata": {},
     "output_type": "display_data"
    }
   ],
   "source": [
    "w, c, e = compare_sabdab_to_anarci(filtered)"
   ]
  },
  {
   "cell_type": "code",
   "execution_count": 8,
   "metadata": {},
   "outputs": [
    {
     "name": "stdout",
     "output_type": "stream",
     "text": [
      "total: 5022 fabs with wrong numbering: 961\n"
     ]
    },
    {
     "data": {
      "image/png": "[encoded data removed]",
      "text/plain": [
       "<Figure size 432x288 with 1 Axes>"
      ]
     },
     "metadata": {
      "needs_background": "light"
     },
     "output_type": "display_data"
    }
   ],
   "source": [
    "total = len(c) + len(w)\n",
    "print('total:', total, 'fabs with wrong numbering:', len(w))\n",
    "\n",
    "conc = np.hstack(np.array(w,  dtype='object')[:,2])\n",
    "unique, counts = np.unique(conc, return_counts=True)\n",
    "\n",
    "plt.bar(unique, counts)\n",
    "plt.ylabel('Count')\n",
    "plt.title('Number of CDRs with different numbering in SAbDab and ANARCI')\n",
    "plt.savefig('figures/difference_CDR_numbering_sabdab_anarci.png');"
   ]
  },
  {
   "cell_type": "markdown",
   "metadata": {},
   "source": [
    "Around 20% of the fabs have different numbering in anarci and sabdab"
   ]
  },
  {
   "cell_type": "code",
   "execution_count": null,
   "metadata": {},
   "outputs": [],
   "source": []
  }
 ],
 "metadata": {
  "interpreter": {
   "hash": "f5cb82b301b87eef88325f480de257324ba8b611cc1a51609875e0120daba8a9"
  },
  "kernelspec": {
   "display_name": "Python 3.9.7 ('auto-db-pipeline')",
   "language": "python",
   "name": "python3"
  },
  "language_info": {
   "codemirror_mode": {
    "name": "ipython",
    "version": 3
   },
   "file_extension": ".py",
   "mimetype": "text/x-python",
   "name": "python",
   "nbconvert_exporter": "python",
   "pygments_lexer": "ipython3",
   "version": "3.9.7"
  },
  "orig_nbformat": 4
 },
 "nbformat": 4,
 "nbformat_minor": 2
}
