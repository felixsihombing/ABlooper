{
 "cells": [
  {
   "cell_type": "code",
   "execution_count": 109,
   "metadata": {},
   "outputs": [
    {
     "name": "stdout",
     "output_type": "stream",
     "text": [
      "Cannot do refinement\n"
     ]
    }
   ],
   "source": [
    "#from ABDB import database as db\n",
    "import matplotlib.pyplot as plt\n",
    "import numpy as np\n",
    "from retrain_ablooper import *\n",
    "import torch\n",
    "import pandas as pd\n",
    "from rich import print as pprint\n",
    "from ABlooper import CDR_Predictor\n",
    "import os"
   ]
  },
  {
   "cell_type": "markdown",
   "metadata": {},
   "source": [
    "Own code for relaxing sturcutres"
   ]
  },
  {
   "cell_type": "code",
   "execution_count": 2,
   "metadata": {},
   "outputs": [],
   "source": [
    "# torch settings\n",
    "device = \"cuda\" if torch.cuda.is_available() else \"cpu\"\n",
    "torch.set_default_dtype(torch.float)\n",
    "\n",
    "model = MaskDecoyGen(decoys=5).to(device = device).float()\n",
    "model.load_state_dict(torch.load('best_models/best_model-2804-Radam-5-2optim', map_location=torch.device(device)))\n",
    "\n",
    "batch_size = 1\n",
    "\n",
    "train = torch.load('train_data/train.pt')\n",
    "validation = torch.load('train_data/val.pt')\n",
    "test = torch.load('train_data/test.pt')\n",
    "\n",
    "val_dataloader = torch.utils.data.DataLoader(validation, \n",
    "                                             batch_size=batch_size,\n",
    "                                             num_workers=1,\n",
    "                                             shuffle=False,\n",
    "                                             pin_memory=True,\n",
    "                                             )\n",
    "\n",
    "test_dataloader = torch.utils.data.DataLoader(test[:1], \n",
    "                                              batch_size=batch_size,\n",
    "                                              num_workers=1,\n",
    "                                              shuffle=False,\n",
    "                                              pin_memory=True,\n",
    "                                              )"
   ]
  },
  {
   "cell_type": "code",
   "execution_count": 3,
   "metadata": {},
   "outputs": [],
   "source": [
    "for i in range(5):\n",
    "    tmp = MaskDecoyGen(decoys=1).to(device = device).float()\n",
    "    dict=torch.load(\"best_models/best_model-0305-Radam-1-2optim-\"+str(i+1), map_location=torch.device(device))\n",
    "    tmp.load_state_dict(dict)\n",
    "    weights = tmp.blocks[0].state_dict()\n",
    "\n",
    "    model.blocks[i].load_state_dict(weights)"
   ]
  },
  {
   "cell_type": "code",
   "execution_count": 4,
   "metadata": {},
   "outputs": [],
   "source": [
    "def produce_full_structures_of_val_set(val_dataloader, model, outdir='', relax=True, to_be_rewritten=[\"H1\", \"H2\", \"H3\", \"L1\", \"L2\", \"L3\"]):\n",
    "    '''\n",
    "    Produces full FAB structure for a dataset\n",
    "    '''\n",
    "    CDR_rmsds_not_relaxed = list()\n",
    "    CDR_rmsds_relaxed = list()\n",
    "    decoy_diversities = list()\n",
    "    order_of_pdbs = list()\n",
    "\n",
    "    with torch.no_grad():\n",
    "        model.eval()\n",
    "\n",
    "        for data in track(val_dataloader, description='predict val set'):\n",
    "\n",
    "            # predict sturcture using the model\n",
    "            coordinates, geomout, node_feature, mask, id = data['geomins'].float().to(device), data['geomouts'].float().to(device), data['encodings'].float().to(device), data['mask'].float().to(device), data['ids']\n",
    "            pred = model(node_feature, coordinates, mask)\n",
    "            CDR_rmsds_not_relaxed.append(rmsd_per_cdr(pred, node_feature, geomout).tolist())\n",
    "            pred = pred.squeeze() # remove batch dimension\n",
    "            \n",
    "            # get framework info from pdb file\n",
    "            pdb_id, heavy_c, light_c, pdb_file = get_info_from_id(id)\n",
    "            chains = [heavy_c, light_c]\n",
    "            order_of_pdbs.append(pdb_id)\n",
    "\n",
    "            with open(pdb_file) as file:\n",
    "                pdb_text = [line for line in file.readlines()]\n",
    "                \n",
    "            pdb_text = pdb_select_hc_lc(pdb_text, chains)\n",
    "\n",
    "            CDR_with_anchor_slices, atoms, CDR_text, CDR_sequences, CDR_numberings, CDR_start_atom_id = get_framework_info(pdb_text, chains)\n",
    "\n",
    "            predicted_CDRs = {}\n",
    "            all_decoys = {}\n",
    "            decoy_diversity = {}\n",
    "\n",
    "            for i, CDR in enumerate(CDR_with_anchor_slices):\n",
    "                output_CDR = pred[:, node_feature[0, :, 30 + i] == 1.0]\n",
    "                all_decoys[CDR] = rearrange(output_CDR, \"b (i a) d -> b i a d\", a=4).cpu().numpy()\n",
    "                predicted_CDRs[CDR] = rearrange(output_CDR.mean(0), \"(i a) d -> i a d\", a=4).cpu().numpy()\n",
    "                decoy_diversity[CDR] = (output_CDR[None] - output_CDR[:, None]).pow(2).sum(-1).mean(-1).pow(\n",
    "                    1 / 2).sum().item() / 20\n",
    "            \n",
    "            decoy_diversities.append(list(decoy_diversity.values()))\n",
    "            \n",
    "            text_prediction_per_CDR = convert_predictions_into_text_for_each_CDR(CDR_start_atom_id, predicted_CDRs, CDR_sequences, CDR_numberings, CDR_with_anchor_slices)\n",
    "            old_text = pdb_text\n",
    "\n",
    "            for CDR in to_be_rewritten:\n",
    "                new = True\n",
    "                new_text = []\n",
    "                chain, CDR_slice = CDR_with_anchor_slices[CDR]\n",
    "                CDR_slice = (CDR_slice[0] + 2, CDR_slice[1] - 2)\n",
    "\n",
    "                for line in old_text:\n",
    "                    if not filt(line, chain, CDR_slice):\n",
    "                        new_text.append(line)\n",
    "                    elif new:\n",
    "                        new_text += text_prediction_per_CDR[CDR]\n",
    "                        new = False\n",
    "                    else:\n",
    "                        continue\n",
    "                old_text = new_text\n",
    "\n",
    "            header = [\n",
    "                \"REMARK    CDR LOOPS REMODELLED USING ABLOOPER                                   \\n\"]\n",
    "            new_text = header + old_text\n",
    "\n",
    "            with open('pdbs/'+outdir+'/'+pdb_id+'-'+heavy_c+light_c+'.pdb', \"w+\") as file:\n",
    "                file.write(\"\".join(new_text))\n",
    "\n",
    "            with open('pdbs/'+outdir+'/'+pdb_id+'-'+heavy_c+light_c+'-true.pdb', \"w+\") as file:\n",
    "                file.write(\"\".join(pdb_text))\n",
    "\n",
    "            if relax:\n",
    "                relaxed_text = openmm_refine(old_text, CDR_with_anchor_slices)\n",
    "                header.append(\"REMARK    REFINEMENT DONE USING OPENMM\" + 42 * \" \" + \"\\n\")\n",
    "                relaxed_text = header + relaxed_text\n",
    "\n",
    "                with open('pdbs/'+outdir+'/'+pdb_id+'-'+heavy_c+light_c+'-relaxed.pdb', \"w+\") as file:\n",
    "                    file.write(''.join(relaxed_text))\n",
    "\n",
    "\n",
    "                # calculate rmsds of relaxed structures\n",
    "                CDR_with_anchor_slices, atoms, CDR_text, CDR_sequences, CDR_numberings, CDR_start_atom_id = get_framework_info(relaxed_text, chains)\n",
    "                \n",
    "                CDR_BB_coords = extract_BB_coords(CDR_text, CDR_with_anchor_slices, CDR_sequences, atoms)\n",
    "\n",
    "                relaxed_coords = prepare_model_output([CDR_BB_coords])[0]\n",
    "            \n",
    "                relaxed_coords = pad_tensor(relaxed_coords)\n",
    "                relaxed_coords = rearrange(relaxed_coords, 'i x -> () () i x')\n",
    "                CDR_rmsds_relaxed.append(rmsd_per_cdr(relaxed_coords, node_feature, geomout).tolist())\n",
    "\n",
    "\n",
    "    return CDR_rmsds_not_relaxed, CDR_rmsds_relaxed, decoy_diversities, order_of_pdbs"
   ]
  },
  {
   "cell_type": "code",
   "execution_count": 14,
   "metadata": {},
   "outputs": [],
   "source": [
    "def cdr_rmsd_of_2_pdb_files(prediction_path, true_path, chains):\n",
    "    \n",
    "    with open(prediction_path, 'r') as file:\n",
    "        pdb_text_pred = [line for line in file.readlines()]\n",
    "\n",
    "    with open(true_path, 'r') as file:\n",
    "        pdb_text_true = [line for line in file.readlines()]\n",
    "\n",
    "    pdb_text_true = pdb_select_hc_lc(pdb_text_true, chains)\n",
    "    pdb_text_pred = pdb_select_hc_lc(pdb_text_pred, chains)\n",
    "    \n",
    "    CDR_with_anchor_slices, atoms, CDR_text_true, _, _, _ = get_framework_info(pdb_text_true, chains)\n",
    "    _, _, CDR_text_pred, _, _, _ = get_framework_info(pdb_text_pred, chains)\n",
    "    \n",
    "    CDR_texts = [CDR_text_true, CDR_text_pred]\n",
    "    for CDR_text in CDR_texts:\n",
    "        for CDR in CDR_with_anchor_slices:\n",
    "            new = [line for line in CDR_text[CDR] if line.split()[2] in atoms]\n",
    "            new = [line for line in new if (line.split()[5][-1].isalpha() or int(line.split()[5]) >= CDR_with_anchor_slices[CDR][1][0] + 2)]\n",
    "            new = [line for line in new if (line.split()[5][-1].isalpha() or int(line.split()[5]) <= CDR_with_anchor_slices[CDR][1][1] - 2)]\n",
    "        \n",
    "            CDR_text[CDR] = new\n",
    "    \n",
    "    CDR_BB_coors_true = {}\n",
    "    CDR_BB_coors_pred = {}\n",
    "    CDR_BB_coors = [CDR_BB_coors_true, CDR_BB_coors_pred]\n",
    "    for i in range(len(CDR_texts)):\n",
    "        for CDR in CDR_with_anchor_slices:\n",
    "            coords = [[float(line.split()[6]), float(line.split()[7]), float(line.split()[8])] for line in CDR_texts[i][CDR]]\n",
    "            coords = np.array(coords)\n",
    "            \n",
    "            CDR_BB_coors[i][CDR] = coords\n",
    "            \n",
    "    rmsds = []\n",
    "    for CDR in CDR_with_anchor_slices:\n",
    "        true = CDR_BB_coors[0][CDR]\n",
    "        pred = CDR_BB_coors[1][CDR]\n",
    "        \n",
    "        rmsd = np.sqrt(((pred - true) ** 2).sum(-1).mean())\n",
    "        rmsds.append(rmsd)\n",
    "        \n",
    "        \n",
    "    return np.array(rmsds)"
   ]
  },
  {
   "cell_type": "code",
   "execution_count": 37,
   "metadata": {},
   "outputs": [],
   "source": [
    "dir = '/data/localhost/not-backed-up/spoendli/pdbs/0305-Radam-1-2optim-test/'\n",
    "\n",
    "files = os.listdir(dir)\n",
    "files = [file for file in files if file != 'metrics.json']\n",
    "\n",
    "files = [file[:7] for file in files if file[0] != '.']\n",
    "files = list(set(files))\n",
    "\n",
    "ids = []\n",
    "rmsds = []\n",
    "\n",
    "for i in range(len(files)):\n",
    "    chains = (files[i][-2], files[i][-1])\n",
    "        \n",
    "    true_path = dir+files[i]+'-true.pdb'\n",
    "    relaxed_path = dir+files[i]+'-relaxed.pdb'\n",
    "    \n",
    "    ids.append(files[i])\n",
    "    rmsds.append(cdr_rmsd_of_2_pdb_files(relaxed_path, true_path, chains))\n",
    "\n",
    "rmsds = np.array(rmsds)"
   ]
  },
  {
   "cell_type": "code",
   "execution_count": 38,
   "metadata": {},
   "outputs": [
    {
     "data": {
      "text/plain": [
       "array([1.17081381, 1.09165272, 2.46593909, 0.90204051, 0.92089803,\n",
       "       1.13564884])"
      ]
     },
     "execution_count": 38,
     "metadata": {},
     "output_type": "execute_result"
    }
   ],
   "source": [
    "rmsds.mean(0)"
   ]
  },
  {
   "cell_type": "code",
   "execution_count": null,
   "metadata": {},
   "outputs": [],
   "source": [
    "def rmsd(prediction, truth):\n",
    "    dists = (prediction - truth).pow(2).sum(-1)\n",
    "    return torch.sqrt(dists.nanmean(-1)).mean()"
   ]
  },
  {
   "cell_type": "code",
   "execution_count": 126,
   "metadata": {},
   "outputs": [],
   "source": [
    "dir = '0305-Radam-1-2optim-test'"
   ]
  },
  {
   "cell_type": "code",
   "execution_count": 127,
   "metadata": {},
   "outputs": [
    {
     "data": {
      "text/html": [
       "<pre style=\"white-space:pre;overflow-x:auto;line-height:normal;font-family:Menlo,'DejaVu Sans Mono',consolas,'Courier New',monospace\">/data/localhost/not-backed-up/spoendli/miniconda3/envs/ab/lib/python3.8/site-packages/rich/li\n",
       "ve.py:221: UserWarning: install \"ipywidgets\" for Jupyter support\n",
       "  warnings.warn('install \"ipywidgets\" for Jupyter support')\n",
       "</pre>\n"
      ],
      "text/plain": [
       "/data/localhost/not-backed-up/spoendli/miniconda3/envs/ab/lib/python3.8/site-packages/rich/li\n",
       "ve.py:221: UserWarning: install \"ipywidgets\" for Jupyter support\n",
       "  warnings.warn('install \"ipywidgets\" for Jupyter support')\n"
      ]
     },
     "metadata": {},
     "output_type": "display_data"
    },
    {
     "data": {
      "text/html": [
       "<pre style=\"white-space:pre;overflow-x:auto;line-height:normal;font-family:Menlo,'DejaVu Sans Mono',consolas,'Courier New',monospace\"></pre>\n"
      ],
      "text/plain": []
     },
     "metadata": {},
     "output_type": "display_data"
    },
    {
     "data": {
      "text/html": [
       "<pre style=\"white-space:pre;overflow-x:auto;line-height:normal;font-family:Menlo,'DejaVu Sans Mono',consolas,'Courier New',monospace\">\n",
       "</pre>\n"
      ],
      "text/plain": [
       "\n"
      ]
     },
     "metadata": {},
     "output_type": "display_data"
    }
   ],
   "source": [
    "cdr_rmsds, CDR_rmsds_relaxed, decoy_diversities, pdb_ids = produce_full_structures_of_val_set(test_dataloader, \n",
    "                                                                                              model, \n",
    "                                                                                              outdir=dir, \n",
    "                                                                                              relax=True)"
   ]
  },
  {
   "cell_type": "code",
   "execution_count": 135,
   "metadata": {},
   "outputs": [
    {
     "data": {
      "text/plain": [
       "(['3oz9'],\n",
       " [[0.39621397852897644,\n",
       "   0.5520344972610474,\n",
       "   2.0543265342712402,\n",
       "   0.5045629143714905,\n",
       "   0.1996065378189087,\n",
       "   1.3235737085342407]],\n",
       " [[1.6838728189468384,\n",
       "   1.7694529294967651,\n",
       "   2.6591641902923584,\n",
       "   1.8018285036087036,\n",
       "   1.6651703119277954,\n",
       "   2.0778539180755615]])"
      ]
     },
     "execution_count": 135,
     "metadata": {},
     "output_type": "execute_result"
    }
   ],
   "source": [
    "pdb_ids, cdr_rmsds, CDR_rmsds_relaxed"
   ]
  },
  {
   "cell_type": "code",
   "execution_count": null,
   "metadata": {},
   "outputs": [],
   "source": []
  },
  {
   "cell_type": "markdown",
   "metadata": {},
   "source": [
    "Calculate rmsds of relaxed structures"
   ]
  },
  {
   "cell_type": "code",
   "execution_count": 66,
   "metadata": {},
   "outputs": [],
   "source": [
    "import os\n",
    "from ABDB import database as db\n",
    "import matplotlib.pyplot as plt\n",
    "import numpy as np\n",
    "from retrain_ablooper import *\n",
    "import torch\n",
    "import pandas as pd\n",
    "from rich import print as pprint\n",
    "from ABlooper import CDR_Predictor\n",
    "from einops import rearrange"
   ]
  },
  {
   "cell_type": "code",
   "execution_count": 86,
   "metadata": {},
   "outputs": [],
   "source": [
    "dir = '/data/localhost/not-backed-up/spoendli/pdbs/0305-Radam-1-2optim-test/'"
   ]
  },
  {
   "cell_type": "code",
   "execution_count": 104,
   "metadata": {
    "scrolled": true
   },
   "outputs": [
    {
     "data": {
      "text/plain": [
       "['3i9g-HL.pdb',\n",
       " '4nzu-HL.pdb',\n",
       " '4nzu-HL-true.pdb',\n",
       " '3go1-HL.pdb',\n",
       " '4hpy-HL-true.pdb',\n",
       " '1gig-HL-relaxed.pdb',\n",
       " '3g5y-BA-true.pdb',\n",
       " '3giz-HL-relaxed.pdb',\n",
       " '2fb4-HL.pdb',\n",
       " '1mlb-BA.pdb',\n",
       " '3gnm-HL-relaxed.pdb',\n",
       " '1dlf-HL-true.pdb',\n",
       " '2fb4-HL-relaxed.pdb',\n",
       " '3m8o-HL-true.pdb',\n",
       " '2e27-HL-true.pdb',\n",
       " '1gig-HL.pdb',\n",
       " '3t65-BA-true.pdb',\n",
       " '2ypv-HL-true.pdb',\n",
       " '1mfa-HL-true.pdb',\n",
       " '3go1-HL-relaxed.pdb',\n",
       " '1mfa-HL.pdb',\n",
       " '2xwt-AB-true.pdb',\n",
       " '2fbj-HL-relaxed.pdb',\n",
       " '4f57-HL-true.pdb',\n",
       " '3g5y-BA-relaxed.pdb',\n",
       " '3v0w-HL-relaxed.pdb',\n",
       " '2vxv-HL-relaxed.pdb',\n",
       " '3liz-HL.pdb',\n",
       " '3i9g-HL-relaxed.pdb',\n",
       " '1mfa-HL-relaxed.pdb',\n",
       " '3ifl-HL-relaxed.pdb',\n",
       " '3p0y-HL.pdb',\n",
       " '3eo9-HL-true.pdb',\n",
       " '2d7t-HL.pdb',\n",
       " '2e27-HL-relaxed.pdb',\n",
       " '3t65-BA-relaxed.pdb',\n",
       " '3ifl-HL-true.pdb',\n",
       " '2d7t-HL-true.pdb',\n",
       " '3m8o-HL.pdb',\n",
       " '3mlr-HL-true.pdb',\n",
       " '4h20-HL-true.pdb',\n",
       " '2r8s-HL.pdb',\n",
       " '3mxw-HL.pdb',\n",
       " '3oz9-HL-true.pdb',\n",
       " '3go1-HL-true.pdb',\n",
       " '3t65-BA.pdb',\n",
       " '2vxv-HL-true.pdb',\n",
       " '2r8s-HL-true.pdb',\n",
       " '2w60-AB-true.pdb',\n",
       " '1mqk-HL.pdb',\n",
       " '2ypv-HL-relaxed.pdb',\n",
       " '2fbj-HL.pdb',\n",
       " '3hnt-HL-true.pdb',\n",
       " '3lmj-HL.pdb',\n",
       " '2v17-HL-relaxed.pdb',\n",
       " '3oz9-HL-relaxed.pdb',\n",
       " '3oz9-HL.pdb',\n",
       " '3hc4-HL-relaxed.pdb',\n",
       " '2v17-HL-true.pdb',\n",
       " '2adf-HL.pdb',\n",
       " '1dlf-HL-relaxed.pdb',\n",
       " '3p0y-HL-true.pdb',\n",
       " '3mxw-HL-relaxed.pdb',\n",
       " '2adf-HL-relaxed.pdb',\n",
       " '1mqk-HL-relaxed.pdb',\n",
       " '3eo9-HL-relaxed.pdb',\n",
       " '3nps-BC.pdb',\n",
       " '1fns-HL-relaxed.pdb',\n",
       " '3nps-BC-true.pdb',\n",
       " '2ypv-HL.pdb',\n",
       " '1jpt-HL-true.pdb',\n",
       " '1mqk-HL-true.pdb',\n",
       " '2fbj-HL-true.pdb',\n",
       " '1oaq-HL.pdb',\n",
       " '3gnm-HL.pdb',\n",
       " '2d7t-HL-relaxed.pdb',\n",
       " '3mlr-HL.pdb',\n",
       " '3liz-HL-relaxed.pdb',\n",
       " '1mlb-BA-relaxed.pdb',\n",
       " '3eo9-HL.pdb',\n",
       " '1jfq-HL-true.pdb',\n",
       " '4f57-HL.pdb',\n",
       " '1jfq-HL.pdb',\n",
       " '3gnm-HL-true.pdb',\n",
       " '2vxv-HL.pdb',\n",
       " '3hnt-HL-relaxed.pdb',\n",
       " '3g5y-BA.pdb',\n",
       " '1fns-HL-true.pdb',\n",
       " '1jfq-HL-relaxed.pdb',\n",
       " '3v0w-HL-true.pdb',\n",
       " '2w60-AB.pdb',\n",
       " '2xwt-AB.pdb',\n",
       " '2adf-HL-true.pdb',\n",
       " '3i9g-HL-true.pdb',\n",
       " '3giz-HL-true.pdb',\n",
       " '1nlb-HL.pdb',\n",
       " '3m8o-HL-relaxed.pdb',\n",
       " '1gig-HL-true.pdb',\n",
       " '4h20-HL-relaxed.pdb',\n",
       " '1fns-HL.pdb',\n",
       " '3hc4-HL-true.pdb',\n",
       " '1seq-HL.pdb',\n",
       " '3nps-BC-relaxed.pdb',\n",
       " '4hpy-HL-relaxed.pdb',\n",
       " '3lmj-HL-relaxed.pdb',\n",
       " '1seq-HL-true.pdb',\n",
       " '1oaq-HL-true.pdb',\n",
       " '4h20-HL.pdb',\n",
       " '4nzu-HL-relaxed.pdb',\n",
       " '1seq-HL-relaxed.pdb',\n",
       " '1dlf-HL.pdb',\n",
       " '2r8s-HL-relaxed.pdb',\n",
       " '3liz-HL-true.pdb',\n",
       " '3ifl-HL.pdb',\n",
       " '2xwt-AB-relaxed.pdb',\n",
       " '3p0y-HL-relaxed.pdb',\n",
       " '4hpy-HL.pdb',\n",
       " '3e8u-HL-relaxed.pdb',\n",
       " '4f57-HL-relaxed.pdb',\n",
       " '3lmj-HL-true.pdb',\n",
       " '2w60-AB-relaxed.pdb',\n",
       " '1nlb-HL-relaxed.pdb',\n",
       " '1nlb-HL-true.pdb',\n",
       " '2fb4-HL-true.pdb',\n",
       " '2v17-HL.pdb',\n",
       " '3mlr-HL-relaxed.pdb',\n",
       " '1mlb-BA-true.pdb',\n",
       " '3hnt-HL.pdb',\n",
       " '2e27-HL.pdb',\n",
       " '3mxw-HL-true.pdb',\n",
       " '1jpt-HL.pdb',\n",
       " '1oaq-HL-relaxed.pdb',\n",
       " '3e8u-HL.pdb',\n",
       " '1jpt-HL-relaxed.pdb',\n",
       " '3v0w-HL.pdb',\n",
       " '3giz-HL.pdb',\n",
       " '3e8u-HL-true.pdb',\n",
       " '3hc4-HL.pdb']"
      ]
     },
     "execution_count": 104,
     "metadata": {},
     "output_type": "execute_result"
    }
   ],
   "source": [
    "files = os.listdir(dir)\n",
    "[file for file in files if file != 'metrics.json']"
   ]
  },
  {
   "cell_type": "code",
   "execution_count": 109,
   "metadata": {},
   "outputs": [],
   "source": [
    "def cdr_rmsds_on_pdb_file(prediction_path, truth_path, chains):\n",
    "\n",
    "    pred = CDR_Predictor(prediction_path, chains = chains)\n",
    "    pred_coords = prepare_model_output([pred.CDR_BB_coords])[0]\n",
    "    pred_coords = rearrange(pred_coords, 'i x -> () () i x')\n",
    "    pred_nodefeatures = pred.prepare_model_input()[0]\n",
    "    \n",
    "    truth = CDR_Predictor(truth_path, chains)\n",
    "    truth_coords = prepare_model_output([truth.CDR_BB_coords])[0]\n",
    "    truth_coords = rearrange(truth_coords, 'i x -> () i x')\n",
    "\n",
    "    cdr_rmsds = rmsd_per_cdr(pred_coords, pred_nodefeatures, truth_coords)\n",
    "\n",
    "    return cdr_rmsds\n",
    "\n",
    "def rmsds_pred_and_relaxed(dir):\n",
    "\n",
    "    files = os.listdir(dir)\n",
    "    files.remove('metrics.json')\n",
    "    files = [file[:7] for file in files if file[0] != '.']\n",
    "    files = list(set(files))\n",
    "    \n",
    "    ids = list()\n",
    "    rmsds_pred = np.zeros((len(files), 6))\n",
    "    rmsds_relaxed = np.zeros((len(files), 6))\n",
    "\n",
    "    for i in range(len(files)):\n",
    "        chains = (files[i][-2], files[i][-1])\n",
    "        \n",
    "        truth_path = dir+files[i]+'-true.pdb'\n",
    "        pred_path = dir+files[i]+'.pdb'\n",
    "        relaxed_path = dir+files[i]+'-relaxed.pdb'\n",
    "\n",
    "        ids.append(files[i])\n",
    "        rmsds_pred[i,:] = np.array(cdr_rmsds_on_pdb_file(pred_path, truth_path, chains).tolist())\n",
    "        rmsds_relaxed[i,:] = np.array(cdr_rmsds_on_pdb_file(relaxed_path, truth_path, chains).tolist())\n",
    "\n",
    "    return ids, rmsds_pred, rmsds_relaxed"
   ]
  },
  {
   "cell_type": "code",
   "execution_count": 110,
   "metadata": {},
   "outputs": [],
   "source": [
    "ids, rmsd_pred, rmsd_relaxed = rmsds_pred_and_relaxed(dir)\n"
   ]
  },
  {
   "cell_type": "code",
   "execution_count": 114,
   "metadata": {},
   "outputs": [
    {
     "data": {
      "text/plain": [
       "array([1.16327669, 1.09427714, 2.47645663, 0.90324465, 0.92075492,\n",
       "       1.13739726])"
      ]
     },
     "execution_count": 114,
     "metadata": {},
     "output_type": "execute_result"
    }
   ],
   "source": [
    "rmsd_relaxed.mean(0)"
   ]
  },
  {
   "cell_type": "code",
   "execution_count": 117,
   "metadata": {},
   "outputs": [],
   "source": [
    "from ABDB import database as db\n",
    "from ABDB.AbPDB import AntibodyParser\n",
    "import numpy as np\n",
    "import Bio.PDB\n",
    "parser = AntibodyParser(PERMISSIVE=True, QUIET=True)\n",
    "parser.set_numbering_scheme(\"imgt\")\n",
    "db.set_numbering_scheme(\"imgt\")\n",
    "backbone = [\"CA\",\"C\",\"N\", \"CB\"]\n",
    "\n",
    "def CDR_rmsds(pdb, file, fab_n = 0, chains = [\"H\", \"L\"], decoy_chains = [\"H\", \"L\"]):\n",
    "    fab = db.fetch(pdb).fabs[fab_n]\n",
    "    rmsds = {}\n",
    "    for h_or_l in chains:\n",
    "        #Truth load\n",
    "        chain = db.db_summary[pdb][\"fabs\"][fab_n][h_or_l+\"chain\"]\n",
    "        truth = fab.get_structure()[chain]\n",
    "        #Decoy load\n",
    "        decoy = parser.get_antibody_structure(pdb+\"_model\", file)[0][{\"H\":decoy_chains[0], \"L\":decoy_chains[1]}[h_or_l]]\n",
    "        #Numbering\n",
    "        numb = [(\" \", *x) for x in fab.get_numbering()[h_or_l]][2:-2]\n",
    "        #Get residues to align\n",
    "        truth_res = [truth[x] for x in numb if (x in decoy) and (x in truth)]\n",
    "        decoy_res = [decoy[x] for x in numb if (x in decoy) and (x in truth)]\n",
    "        #Get atoms to align\n",
    "        fixed = []\n",
    "        moved = []\n",
    "        for i in range(len(decoy_res)):\n",
    "            fixed += [truth_res[i][atom] for atom in backbone if (atom in decoy_res[i]) and (atom in truth_res[i])]\n",
    "            moved += [decoy_res[i][atom] for atom in backbone if (atom in decoy_res[i]) and (atom in truth_res[i])]\n",
    "        #Calculate superimposer and move decoy\n",
    "        imposer = Bio.PDB.Superimposer()\n",
    "        imposer.set_atoms(fixed, moved)\n",
    "        imposer.apply(decoy.get_atoms())\n",
    "        rmsds[h_or_l] = imposer.rms\n",
    "        # Find CDR definitions\n",
    "        loop_definitions = {x[3:]:[(\" \", *y[0]) for y in fab.get_CDR_sequences(definition=\"imgt\")[x]]  for x in fab.get_CDR_sequences(definition=\"imgt\")}\n",
    "        # Calculate RMSD for each CDR\n",
    "        for CDR in loop_definitions:\n",
    "            if CDR[0] == h_or_l:\n",
    "                true_loop = []\n",
    "                decoy_loop = []\n",
    "                for res in loop_definitions[CDR]:\n",
    "                    if (res in truth) and (res in decoy):\n",
    "                        true_loop += [truth[res][x].get_coord() for x in backbone if (x in decoy[res]) and (x in truth[res])]\n",
    "                        decoy_loop+= [decoy[res][x].get_coord() for x in backbone if (x in decoy[res]) and (x in truth[res])]\n",
    "                #Calculate RMSD\n",
    "                rmsds[CDR] = np.sqrt(np.mean(3*(np.array(true_loop) - np.array(decoy_loop))**2))\n",
    "                \n",
    "    # Calculate RMSD for framework\n",
    "    ignore = sum([loop_definitions[x] for x in loop_definitions if x[0] == h_or_l], [])\n",
    "    frame_def = [x for x in numb if x not in ignore]\n",
    "    \n",
    "    true_frame, decoy_frame = [], []\n",
    "    for res in frame_def:\n",
    "        if (res in truth) and (res in decoy):\n",
    "            true_frame += [truth[res][x].get_coord() for x in backbone if (x in decoy[res]) and (x in truth[res])]\n",
    "            decoy_frame+= [decoy[res][x].get_coord() for x in backbone if (x in decoy[res]) and (x in truth[res])]\n",
    "    rmsds[h_or_l] = np.sqrt(np.mean(3*(np.array(true_frame) - np.array(decoy_frame))**2))\n",
    "                \n",
    "    return rmsds"
   ]
  },
  {
   "cell_type": "code",
   "execution_count": 137,
   "metadata": {},
   "outputs": [
    {
     "name": "stdout",
     "output_type": "stream",
     "text": [
      "fab HL\n",
      "\tVH = chain H\n",
      "\tVL = chain L\n"
     ]
    }
   ],
   "source": [
    "pdb = db.fetch('5hdq')\n",
    "for fab in pdb.fabs:\n",
    "    print(fab)"
   ]
  },
  {
   "cell_type": "code",
   "execution_count": 139,
   "metadata": {},
   "outputs": [
    {
     "data": {
      "text/plain": [
       "{'H': 1.0492338462729975,\n",
       " 'H1': 1.7875236,\n",
       " 'H2': 1.8640847,\n",
       " 'H3': 2.464813,\n",
       " 'L': 0.072361894,\n",
       " 'L1': 1.7554567,\n",
       " 'L2': 1.762282,\n",
       " 'L3': 2.0607486}"
      ]
     },
     "execution_count": 139,
     "metadata": {},
     "output_type": "execute_result"
    }
   ],
   "source": [
    "CDR_rmsds('3oz9', '/data/localhost/not-backed-up/spoendli/pdbs/0305-Radam-1-2optim-test/3oz9-HL.pdb', fab_n = 0, chains = [\"H\", \"L\"], decoy_chains = [\"H\", \"L\"])"
   ]
  },
  {
   "cell_type": "code",
   "execution_count": null,
   "metadata": {},
   "outputs": [],
   "source": []
  },
  {
   "cell_type": "code",
   "execution_count": null,
   "metadata": {},
   "outputs": [],
   "source": []
  },
  {
   "cell_type": "code",
   "execution_count": 89,
   "metadata": {},
   "outputs": [],
   "source": [
    "node_feature_seqs = []\n",
    "for node_feat in node_feats:\n",
    "    cdr_seq = {'H1': '', 'H2': '', 'H3': '', 'L1': '', 'L2': '', 'L3': '', 'Anchor': ''}\n",
    "    for i in range(0, node_feat.shape[1]):\n",
    "        if get_atom_type(node_feat[0, i]) == 'C':\n",
    "            resn = long2short[get_amino_type(node_feat[0, i])]\n",
    "            loop = get_loop(node_feat[0, i])\n",
    "\n",
    "            cdr_seq[loop]+=resn\n",
    "\n",
    "\n",
    "    #cdr_seq['H1'] = cdr_seq['Anchor'][:2]+cdr_seq['H1']+cdr_seq['Anchor'][2:4]\n",
    "    #cdr_seq['H2'] = cdr_seq['Anchor'][4:6]+cdr_seq['H2']+cdr_seq['Anchor'][6:8]\n",
    "    #cdr_seq['H3'] = cdr_seq['Anchor'][8:10]+cdr_seq['H3']+cdr_seq['Anchor'][10:12]\n",
    "    #cdr_seq['L1'] = cdr_seq['Anchor'][12:14]+cdr_seq['L1']+cdr_seq['Anchor'][14:16]\n",
    "    #cdr_seq['L2'] = cdr_seq['Anchor'][16:20]+cdr_seq['L2']+cdr_seq['Anchor'][20:22]\n",
    "    #cdr_seq['L3'] = cdr_seq['Anchor'][22:24]+cdr_seq['L3']+cdr_seq['Anchor'][24:26]\n",
    "    del cdr_seq['Anchor']\n",
    "    node_feature_seqs.append(cdr_seq)\n"
   ]
  },
  {
   "cell_type": "code",
   "execution_count": 120,
   "metadata": {},
   "outputs": [],
   "source": [
    "differences = []\n",
    "for i in range(46):\n",
    "    difference = False\n",
    "    for CDR in seq_rel[i]:\n",
    "        if node_feature_seqs[i][CDR] != seq_rel[i][CDR][2:-2]:\n",
    "            difference = True\n",
    "        \n",
    "    if difference:\n",
    "        differences.append(i)"
   ]
  },
  {
   "cell_type": "code",
   "execution_count": 109,
   "metadata": {},
   "outputs": [
    {
     "data": {
      "text/plain": [
       "0"
      ]
     },
     "execution_count": 109,
     "metadata": {},
     "output_type": "execute_result"
    }
   ],
   "source": [
    "len(differences)"
   ]
  },
  {
   "cell_type": "code",
   "execution_count": 94,
   "metadata": {},
   "outputs": [],
   "source": [
    "def compare(a, b):\n",
    "    print(a['H1'])\n",
    "    print(b['H1'][2:-2])\n",
    "    print('--')\n",
    "    print(a['H2'])\n",
    "    print(b['H2'][2:-2])\n",
    "    print('--')\n",
    "    print(a['H3'])\n",
    "    print(b['H3'][2:-2])\n",
    "    print('--')\n",
    "    print(a['L1'])\n",
    "    print(b['L1'][2:-2])\n",
    "    print('--')\n",
    "    print(a['L2'])\n",
    "    print(b['L2'][2:-2])\n",
    "    print('--')\n",
    "    print(a['L3'])\n",
    "    print(b['L3'][2:-2])"
   ]
  },
  {
   "cell_type": "code",
   "execution_count": 119,
   "metadata": {},
   "outputs": [
    {
     "name": "stdout",
     "output_type": "stream",
     "text": [
      "GFNLYSSS\n",
      "GFNLYSSS\n",
      "--\n",
      "ISSSYGYT\n",
      "ISSSYGYT\n",
      "--\n",
      "ARRAAGMSTYGFDY\n",
      "ARRAAGMSTYGFDY\n",
      "--\n",
      "QSVSSA\n",
      "QSVSSA\n",
      "--\n",
      "SAS\n",
      "SAS\n",
      "--\n",
      "QQSYSSPIT\n",
      "QQSYSSPIT\n"
     ]
    }
   ],
   "source": [
    "n = 44\n",
    "\n",
    "compare(node_feature_seqs[n], seq_rel[n])"
   ]
  },
  {
   "cell_type": "code",
   "execution_count": null,
   "metadata": {},
   "outputs": [],
   "source": []
  },
  {
   "cell_type": "code",
   "execution_count": null,
   "metadata": {},
   "outputs": [],
   "source": []
  },
  {
   "cell_type": "code",
   "execution_count": null,
   "metadata": {},
   "outputs": [],
   "source": []
  },
  {
   "cell_type": "code",
   "execution_count": null,
   "metadata": {},
   "outputs": [],
   "source": []
  },
  {
   "cell_type": "code",
   "execution_count": null,
   "metadata": {},
   "outputs": [],
   "source": []
  },
  {
   "cell_type": "markdown",
   "metadata": {},
   "source": [
    "pymol to calculate rmsds"
   ]
  },
  {
   "cell_type": "code",
   "execution_count": 21,
   "metadata": {},
   "outputs": [],
   "source": [
    "from pymol import cmd"
   ]
  },
  {
   "cell_type": "code",
   "execution_count": 99,
   "metadata": {},
   "outputs": [
    {
     "data": {
      "text/plain": [
       "['105', '117']"
      ]
     },
     "execution_count": 99,
     "metadata": {},
     "output_type": "execute_result"
    }
   ],
   "source": []
  },
  {
   "cell_type": "code",
   "execution_count": 126,
   "metadata": {},
   "outputs": [
    {
     "data": {
      "text/html": [
       "<pre style=\"white-space:pre;overflow-x:auto;line-height:normal;font-family:Menlo,'DejaVu Sans Mono',consolas,'Courier New',monospace\"><span style=\"font-weight: bold\">[</span><span style=\"color: #008080; text-decoration-color: #008080; font-weight: bold\">1.00706768</span> <span style=\"color: #008080; text-decoration-color: #008080; font-weight: bold\">0.87227124</span> <span style=\"color: #008080; text-decoration-color: #008080; font-weight: bold\">2.61044312</span> <span style=\"color: #008080; text-decoration-color: #008080; font-weight: bold\">0.87674153</span> <span style=\"color: #008080; text-decoration-color: #008080; font-weight: bold\">0.86157286</span> <span style=\"color: #008080; text-decoration-color: #008080; font-weight: bold\">1.18686891</span><span style=\"font-weight: bold\">]</span>\n",
       "</pre>\n"
      ],
      "text/plain": [
       "\u001b[1m[\u001b[0m\u001b[1;36m1.00706768\u001b[0m \u001b[1;36m0.87227124\u001b[0m \u001b[1;36m2.61044312\u001b[0m \u001b[1;36m0.87674153\u001b[0m \u001b[1;36m0.86157286\u001b[0m \u001b[1;36m1.18686891\u001b[0m\u001b[1m]\u001b[0m\n"
      ]
     },
     "metadata": {},
     "output_type": "display_data"
    },
    {
     "data": {
      "text/html": [
       "<pre style=\"white-space:pre;overflow-x:auto;line-height:normal;font-family:Menlo,'DejaVu Sans Mono',consolas,'Courier New',monospace\"><span style=\"font-weight: bold\">[</span><span style=\"color: #008080; text-decoration-color: #008080; font-weight: bold\">1.90060496</span> <span style=\"color: #008080; text-decoration-color: #008080; font-weight: bold\">1.78474176</span> <span style=\"color: #008080; text-decoration-color: #008080; font-weight: bold\">2.85382438</span> <span style=\"color: #008080; text-decoration-color: #008080; font-weight: bold\">1.82311523</span> <span style=\"color: #008080; text-decoration-color: #008080; font-weight: bold\">1.7777319</span>  <span style=\"color: #008080; text-decoration-color: #008080; font-weight: bold\">1.98858249</span><span style=\"font-weight: bold\">]</span>\n",
       "</pre>\n"
      ],
      "text/plain": [
       "\u001b[1m[\u001b[0m\u001b[1;36m1.90060496\u001b[0m \u001b[1;36m1.78474176\u001b[0m \u001b[1;36m2.85382438\u001b[0m \u001b[1;36m1.82311523\u001b[0m \u001b[1;36m1.7777319\u001b[0m  \u001b[1;36m1.98858249\u001b[0m\u001b[1m]\u001b[0m\n"
      ]
     },
     "metadata": {},
     "output_type": "display_data"
    }
   ],
   "source": [
    "dir = 'pdbs/0305-Radam-1-2optim-test/'\n",
    "\n",
    "files = os.listdir(dir)\n",
    "files = [file[:7] for file in files if file != 'metrics.json']\n",
    "files = list(set(files))\n",
    "\n",
    "cdr_slices = [['27', '38'], ['56', '65'], ['105', '117'], ['27', '38'], ['56', '65'], ['105', '117']]\n",
    "cdr_rmsds_pred = np.zeros((46, 6))\n",
    "cdr_rmsds_relaxed = np.zeros((46, 6))\n",
    "pdb_ids = []\n",
    "\n",
    "for i in range(len(files)):\n",
    "\n",
    "    file = files[i]\n",
    "\n",
    "    pdb_ids.append(file)\n",
    "\n",
    "    chains = (file[-2], file[-1])\n",
    "\n",
    "    xray = file + '-true'\n",
    "    pred = file\n",
    "    relaxed = file + '-relaxed'\n",
    "\n",
    "    cmd.load(dir + xray +'.pdb')\n",
    "    cmd.load(dir + pred +'.pdb')\n",
    "    cmd.load(dir + relaxed +'.pdb')\n",
    "\n",
    "    for j in range(6):\n",
    "        slice = cdr_slices[j]\n",
    "        chain = 0 if j < 3 else 1\n",
    "        \n",
    "        pred_rmsd = cmd.align(pred + ' and chain ' + chains[chain] + ' and resi ' + slice[0] + '-' + slice[1] + ' and (name CA or name CB or name C or name N)', \n",
    "                              xray + ' and chain ' + chains[chain] + ' and resi ' + slice[0] + '-' + slice[1] + ' and (name CA or name CB or name C or name N)', cycles=0, transform=0)[0]\n",
    "        cdr_rmsds_pred[i, j] = pred_rmsd\n",
    "        \n",
    "        relax_rmsd = cmd.align(relaxed + ' and chain ' + chains[chain] + ' and resi ' + slice[0] + '-' + slice[1] + ' and (name CA or name CB or name C or name N)', \n",
    "                               xray + ' and chain ' + chains[chain] + ' and resi ' + slice[0] + '-' + slice[1] + ' and (name CA or name CB or name C or name N)', cycles=0, transform=0)[0]\n",
    "        cdr_rmsds_relaxed[i, j] = relax_rmsd\n",
    "\n",
    "\n",
    "\n",
    "pprint(cdr_rmsds_relaxed[0])\n",
    "pprint(cdr_rmsds_pred[0])"
   ]
  },
  {
   "cell_type": "code",
   "execution_count": 135,
   "metadata": {},
   "outputs": [
    {
     "name": "stdout",
     "output_type": "stream",
     "text": [
      "3nps-BC\n"
     ]
    },
    {
     "data": {
      "text/html": [
       "<pre style=\"white-space:pre;overflow-x:auto;line-height:normal;font-family:Menlo,'DejaVu Sans Mono',consolas,'Courier New',monospace\"><span style=\"font-weight: bold\">[</span><span style=\"color: #008080; text-decoration-color: #008080; font-weight: bold\">1.61433649</span> <span style=\"color: #008080; text-decoration-color: #008080; font-weight: bold\">1.03000677</span> <span style=\"color: #008080; text-decoration-color: #008080; font-weight: bold\">2.70819068</span> <span style=\"color: #008080; text-decoration-color: #008080; font-weight: bold\">0.84815079</span> <span style=\"color: #008080; text-decoration-color: #008080; font-weight: bold\">0.87682092</span> <span style=\"color: #008080; text-decoration-color: #008080; font-weight: bold\">1.10235012</span><span style=\"font-weight: bold\">]</span>\n",
       "</pre>\n"
      ],
      "text/plain": [
       "\u001b[1m[\u001b[0m\u001b[1;36m1.61433649\u001b[0m \u001b[1;36m1.03000677\u001b[0m \u001b[1;36m2.70819068\u001b[0m \u001b[1;36m0.84815079\u001b[0m \u001b[1;36m0.87682092\u001b[0m \u001b[1;36m1.10235012\u001b[0m\u001b[1m]\u001b[0m\n"
      ]
     },
     "metadata": {},
     "output_type": "display_data"
    },
    {
     "data": {
      "text/html": [
       "<pre style=\"white-space:pre;overflow-x:auto;line-height:normal;font-family:Menlo,'DejaVu Sans Mono',consolas,'Courier New',monospace\"><span style=\"font-weight: bold\">[</span><span style=\"color: #008080; text-decoration-color: #008080; font-weight: bold\">2.06302047</span> <span style=\"color: #008080; text-decoration-color: #008080; font-weight: bold\">1.89087248</span> <span style=\"color: #008080; text-decoration-color: #008080; font-weight: bold\">2.98012161</span> <span style=\"color: #008080; text-decoration-color: #008080; font-weight: bold\">1.80779552</span> <span style=\"color: #008080; text-decoration-color: #008080; font-weight: bold\">1.73424077</span> <span style=\"color: #008080; text-decoration-color: #008080; font-weight: bold\">1.83068395</span><span style=\"font-weight: bold\">]</span>\n",
       "</pre>\n"
      ],
      "text/plain": [
       "\u001b[1m[\u001b[0m\u001b[1;36m2.06302047\u001b[0m \u001b[1;36m1.89087248\u001b[0m \u001b[1;36m2.98012161\u001b[0m \u001b[1;36m1.80779552\u001b[0m \u001b[1;36m1.73424077\u001b[0m \u001b[1;36m1.83068395\u001b[0m\u001b[1m]\u001b[0m\n"
      ]
     },
     "metadata": {},
     "output_type": "display_data"
    }
   ],
   "source": [
    "i = 20\n",
    "print(pdb_ids[i])\n",
    "pprint(cdr_rmsds_relaxed[i])\n",
    "pprint(cdr_rmsds_pred[i])"
   ]
  },
  {
   "cell_type": "code",
   "execution_count": 132,
   "metadata": {},
   "outputs": [
    {
     "data": {
      "image/png": "[encoded data removed]",
      "text/plain": [
       "<Figure size 432x288 with 1 Axes>"
      ]
     },
     "metadata": {
      "needs_background": "light"
     },
     "output_type": "display_data"
    }
   ],
   "source": [
    "plt.boxplot([x for x in cdr_rmsds_relaxed.T], [x for x in str(range(6))]);"
   ]
  },
  {
   "cell_type": "code",
   "execution_count": 139,
   "metadata": {},
   "outputs": [
    {
     "data": {
      "text/plain": [
       "(0.0, 1, 0, 0.0, 1, 6.0, 1)"
      ]
     },
     "execution_count": 139,
     "metadata": {},
     "output_type": "execute_result"
    }
   ],
   "source": [
    "cmd.align('3nps-BC-relaxed and chain B and resi 62 and name CB', \n",
    "          '3nps-BC-true and chain B and resi 62 and name CB',\n",
    "          cycles=0, transform=0)"
   ]
  },
  {
   "cell_type": "code",
   "execution_count": 140,
   "metadata": {},
   "outputs": [
    {
     "data": {
      "text/plain": [
       "(0.0, 1, 0, 0.0, 1, 6.0, 1)"
      ]
     },
     "execution_count": 140,
     "metadata": {},
     "output_type": "execute_result"
    }
   ],
   "source": [
    "cmd.align('3nps-BC and chain B and resi 62 and name CB', \n",
    "          '3nps-BC-true and chain B and resi 62 and name CB',\n",
    "          cycles=0, transform=0)"
   ]
  },
  {
   "cell_type": "code",
   "execution_count": null,
   "metadata": {},
   "outputs": [],
   "source": []
  }
 ],
 "metadata": {
  "interpreter": {
   "hash": "f5cb82b301b87eef88325f480de257324ba8b611cc1a51609875e0120daba8a9"
  },
  "kernelspec": {
   "display_name": "Python 3 (ipykernel)",
   "language": "python",
   "name": "python3"
  },
  "language_info": {
   "codemirror_mode": {
    "name": "ipython",
    "version": 3
   },
   "file_extension": ".py",
   "mimetype": "text/x-python",
   "name": "python",
   "nbconvert_exporter": "python",
   "pygments_lexer": "ipython3",
   "version": "3.9.7"
  }
 },
 "nbformat": 4,
 "nbformat_minor": 2
}
