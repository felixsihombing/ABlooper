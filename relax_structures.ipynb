{
 "cells": [
  {
   "cell_type": "code",
   "execution_count": 1,
   "metadata": {},
   "outputs": [
    {
     "name": "stderr",
     "output_type": "stream",
     "text": [
      "/Users/fabian/miniconda3/envs/auto-db-pipeline/lib/python3.9/site-packages/Bio/SubsMat/__init__.py:126: BiopythonDeprecationWarning: Bio.SubsMat has been deprecated, and we intend to remove it in a future release of Biopython. As an alternative, please consider using Bio.Align.substitution_matrices as a replacement, and contact the Biopython developers if you still need the Bio.SubsMat module.\n",
      "  warnings.warn(\n",
      "Database path /Volumes/LaCie/sabdab-sabpred/data/ABDB was not found.\n",
      "Warning: ABDB file system was not found. Database access not available\n"
     ]
    }
   ],
   "source": [
    "from ABDB import database as db\n",
    "import matplotlib.pyplot as plt\n",
    "import numpy as np\n",
    "from retrain_ablooper import *\n",
    "import torch\n",
    "import pandas as pd\n",
    "from rich import print as pprint"
   ]
  },
  {
   "cell_type": "code",
   "execution_count": null,
   "metadata": {},
   "outputs": [],
   "source": [
    "# torch settings\n",
    "device = \"cuda\" if torch.cuda.is_available() else \"cpu\"\n",
    "torch.set_default_dtype(torch.float)\n",
    "\n",
    "model = MaskDecoyGen(decoys=1).to(device = device).float()\n",
    "model.load_state_dict(torch.load(\"best_models/best_model-3004-Radam-1-2optim\",\n",
    "                                 map_location=torch.device(device)))"
   ]
  },
  {
   "cell_type": "code",
   "execution_count": null,
   "metadata": {},
   "outputs": [],
   "source": [
    "from ABlooper import CDR_Predictor\n",
    "\n",
    "for val in validation:\n",
    "\n",
    "    pdb_id = val['ids'][0]\n",
    "    heavy_c = val['ids'][1]['HC']\n",
    "    light_c = val['ids'][1]['LC']\n",
    "\n",
    "    rmsds_refined = []\n",
    "    rmsds = []\n",
    "\n",
    "    path = db.fetch(\"1gig\").filepath\n",
    "    input_path = \"/\".join(path.split(\"/\")[:-1] + [\"imgt\"] + path.split(\"/\")[-1:])\n",
    "    output_path1 = pdb_id+heavy_c+light_c+'relaxed.pdb'\n",
    "    output_path2 = pdb_id+heavy_c+light_c+'.pdb'\n",
    "\n",
    "    pred = CDR_Predictor(input_path, chains = (heavy_c, light_c), model=model, refine=True)\n",
    "    pred.write_predictions_in_pdb_format(output_path1)\n",
    "    rmsds_refined.append(pred.calculate_BB_rmsd_wrt_input())\n",
    "    \n",
    "    pred = CDR_Predictor(input_path, chains = (heavy_c, light_c), model=model, refine=False)\n",
    "    pred.write_predictions_in_pdb_format(output_path2)\n",
    "    rmsds.append(pred.calculate_BB_rmsd_wrt_input())\n",
    "\n",
    "    break"
   ]
  },
  {
   "cell_type": "code",
   "execution_count": null,
   "metadata": {},
   "outputs": [],
   "source": []
  },
  {
   "cell_type": "code",
   "execution_count": null,
   "metadata": {},
   "outputs": [],
   "source": [
    "from ABlooper import CDR_Predictor\n",
    "\n",
    "\n",
    "input_path = \"my_antibody_model.pdb\"\n",
    "output_path = \"ABlooper_model.pdb\"\n",
    "\n",
    "pred = CDR_Predictor(input_path, chains = (\"H\", \"L\"))\n",
    "pred.write_predictions_in_pdb_format(output_path)\n",
    "\n",
    "rmsd_from_input = pred.calculate_BB_rmsd_wrt_input()\n",
    "confidence_score = pred.decoy_diversity "
   ]
  }
 ],
 "metadata": {
  "interpreter": {
   "hash": "f5cb82b301b87eef88325f480de257324ba8b611cc1a51609875e0120daba8a9"
  },
  "kernelspec": {
   "display_name": "Python 3.9.7 ('auto-db-pipeline')",
   "language": "python",
   "name": "python3"
  },
  "language_info": {
   "codemirror_mode": {
    "name": "ipython",
    "version": 3
   },
   "file_extension": ".py",
   "mimetype": "text/x-python",
   "name": "python",
   "nbconvert_exporter": "python",
   "pygments_lexer": "ipython3",
   "version": "3.9.7"
  },
  "orig_nbformat": 4
 },
 "nbformat": 4,
 "nbformat_minor": 2
}
