{
 "cells": [
  {
   "cell_type": "code",
   "execution_count": 9,
   "metadata": {},
   "outputs": [],
   "source": [
    "from ABDB import database as db\n",
    "import matplotlib.pyplot as plt\n",
    "import numpy as np\n",
    "from retrain_ablooper import *\n",
    "import torch\n",
    "import pandas as pd\n",
    "from rich import print as pprint\n",
    "from ABlooper import CDR_Predictor\n",
    "import os"
   ]
  },
  {
   "cell_type": "markdown",
   "metadata": {},
   "source": [
    "Own code for relaxing sturcutres"
   ]
  },
  {
   "cell_type": "code",
   "execution_count": 2,
   "metadata": {},
   "outputs": [],
   "source": [
    "# torch settings\n",
    "device = \"cuda\" if torch.cuda.is_available() else \"cpu\"\n",
    "torch.set_default_dtype(torch.float)\n",
    "\n",
    "model = MaskDecoyGen(decoys=5).to(device = device).float()\n",
    "model.load_state_dict(torch.load('best_models/best_model-2804-Radam-5-2optim', map_location=torch.device(device)))\n",
    "\n",
    "batch_size = 1\n",
    "\n",
    "train = torch.load('train_data/train.pt')\n",
    "validation = torch.load('train_data/val.pt')\n",
    "test = torch.load('train_data/test.pt')\n",
    "\n",
    "val_dataloader = torch.utils.data.DataLoader(validation, \n",
    "                                             batch_size=batch_size,\n",
    "                                             num_workers=1,\n",
    "                                             shuffle=False,\n",
    "                                             pin_memory=True,\n",
    "                                             )\n",
    "\n",
    "test_dataloader = torch.utils.data.DataLoader(test[:1], \n",
    "                                              batch_size=batch_size,\n",
    "                                              num_workers=1,\n",
    "                                              shuffle=False,\n",
    "                                              pin_memory=True,\n",
    "                                              )"
   ]
  },
  {
   "cell_type": "code",
   "execution_count": 3,
   "metadata": {},
   "outputs": [],
   "source": [
    "for i in range(5):\n",
    "    tmp = MaskDecoyGen(decoys=1).to(device = device).float()\n",
    "    dict=torch.load(\"best_models/best_model-0305-Radam-1-2optim-\"+str(i+1), map_location=torch.device(device))\n",
    "    tmp.load_state_dict(dict)\n",
    "    weights = tmp.blocks[0].state_dict()\n",
    "\n",
    "    model.blocks[i].load_state_dict(weights)"
   ]
  },
  {
   "cell_type": "code",
   "execution_count": 4,
   "metadata": {},
   "outputs": [],
   "source": [
    "def produce_full_structures_of_val_set(val_dataloader, model, outdir='', relax=True, to_be_rewritten=[\"H1\", \"H2\", \"H3\", \"L1\", \"L2\", \"L3\"]):\n",
    "    '''\n",
    "    Produces full FAB structure for a dataset\n",
    "    '''\n",
    "    CDR_rmsds_not_relaxed = list()\n",
    "    CDR_rmsds_relaxed = list()\n",
    "    decoy_diversities = list()\n",
    "    order_of_pdbs = list()\n",
    "\n",
    "    with torch.no_grad():\n",
    "        model.eval()\n",
    "\n",
    "        for data in track(val_dataloader, description='predict val set'):\n",
    "\n",
    "            # predict sturcture using the model\n",
    "            coordinates, geomout, node_feature, mask, id = data['geomins'].float().to(device), data['geomouts'].float().to(device), data['encodings'].float().to(device), data['mask'].float().to(device), data['ids']\n",
    "            pred = model(node_feature, coordinates, mask)\n",
    "            CDR_rmsds_not_relaxed.append(rmsd_per_cdr(pred, node_feature, geomout).tolist())\n",
    "            pred = pred.squeeze() # remove batch dimension\n",
    "            \n",
    "            # get framework info from pdb file\n",
    "            pdb_id, heavy_c, light_c, pdb_file = get_info_from_id(id)\n",
    "            chains = [heavy_c, light_c]\n",
    "            order_of_pdbs.append(pdb_id)\n",
    "\n",
    "            with open(pdb_file) as file:\n",
    "                pdb_text = [line for line in file.readlines()]\n",
    "                \n",
    "            pdb_text = pdb_select_hc_lc(pdb_text, chains)\n",
    "\n",
    "            CDR_with_anchor_slices, atoms, CDR_text, CDR_sequences, CDR_numberings, CDR_start_atom_id = get_framework_info(pdb_text, chains)\n",
    "\n",
    "            predicted_CDRs = {}\n",
    "            all_decoys = {}\n",
    "            decoy_diversity = {}\n",
    "\n",
    "            for i, CDR in enumerate(CDR_with_anchor_slices):\n",
    "                output_CDR = pred[:, node_feature[0, :, 30 + i] == 1.0]\n",
    "                all_decoys[CDR] = rearrange(output_CDR, \"b (i a) d -> b i a d\", a=4).cpu().numpy()\n",
    "                predicted_CDRs[CDR] = rearrange(output_CDR.mean(0), \"(i a) d -> i a d\", a=4).cpu().numpy()\n",
    "                decoy_diversity[CDR] = (output_CDR[None] - output_CDR[:, None]).pow(2).sum(-1).mean(-1).pow(\n",
    "                    1 / 2).sum().item() / 20\n",
    "            \n",
    "            decoy_diversities.append(list(decoy_diversity.values()))\n",
    "            \n",
    "            text_prediction_per_CDR = convert_predictions_into_text_for_each_CDR(CDR_start_atom_id, predicted_CDRs, CDR_sequences, CDR_numberings, CDR_with_anchor_slices)\n",
    "            old_text = pdb_text\n",
    "\n",
    "            for CDR in to_be_rewritten:\n",
    "                new = True\n",
    "                new_text = []\n",
    "                chain, CDR_slice = CDR_with_anchor_slices[CDR]\n",
    "                CDR_slice = (CDR_slice[0] + 2, CDR_slice[1] - 2)\n",
    "\n",
    "                for line in old_text:\n",
    "                    if not filt(line, chain, CDR_slice):\n",
    "                        new_text.append(line)\n",
    "                    elif new:\n",
    "                        new_text += text_prediction_per_CDR[CDR]\n",
    "                        new = False\n",
    "                    else:\n",
    "                        continue\n",
    "                old_text = new_text\n",
    "\n",
    "            header = [\n",
    "                \"REMARK    CDR LOOPS REMODELLED USING ABLOOPER                                   \\n\"]\n",
    "            new_text = header + old_text\n",
    "\n",
    "            with open('pdbs/'+outdir+'/'+pdb_id+'-'+heavy_c+light_c+'.pdb', \"w+\") as file:\n",
    "                file.write(\"\".join(new_text))\n",
    "\n",
    "            with open('pdbs/'+outdir+'/'+pdb_id+'-'+heavy_c+light_c+'-true.pdb', \"w+\") as file:\n",
    "                file.write(\"\".join(pdb_text))\n",
    "\n",
    "            if relax:\n",
    "                relaxed_text = openmm_refine(old_text, CDR_with_anchor_slices)\n",
    "                header.append(\"REMARK    REFINEMENT DONE USING OPENMM\" + 42 * \" \" + \"\\n\")\n",
    "                relaxed_text = header + relaxed_text\n",
    "\n",
    "                with open('pdbs/'+outdir+'/'+pdb_id+'-'+heavy_c+light_c+'-relaxed.pdb', \"w+\") as file:\n",
    "                    file.write(''.join(relaxed_text))\n",
    "\n",
    "\n",
    "                # calculate rmsds of relaxed structures\n",
    "                CDR_with_anchor_slices, atoms, CDR_text, CDR_sequences, CDR_numberings, CDR_start_atom_id = get_framework_info(relaxed_text, chains)\n",
    "                \n",
    "                CDR_BB_coords = extract_BB_coords(CDR_text, CDR_with_anchor_slices, CDR_sequences, atoms)\n",
    "\n",
    "                relaxed_coords = prepare_model_output([CDR_BB_coords])[0]\n",
    "            \n",
    "                relaxed_coords = pad_tensor(relaxed_coords)\n",
    "                relaxed_coords = rearrange(relaxed_coords, 'i x -> () () i x')\n",
    "                CDR_rmsds_relaxed.append(rmsd_per_cdr(relaxed_coords, node_feature, geomout).tolist())\n",
    "\n",
    "\n",
    "    return CDR_rmsds_not_relaxed, CDR_rmsds_relaxed, decoy_diversities, order_of_pdbs"
   ]
  },
  {
   "cell_type": "code",
   "execution_count": 14,
   "metadata": {},
   "outputs": [],
   "source": [
    "def cdr_rmsd_of_2_pdb_files(prediction_path, true_path, chains):\n",
    "    \n",
    "    with open(prediction_path, 'r') as file:\n",
    "        pdb_text_pred = [line for line in file.readlines()]\n",
    "\n",
    "    with open(true_path, 'r') as file:\n",
    "        pdb_text_true = [line for line in file.readlines()]\n",
    "\n",
    "    pdb_text_true = pdb_select_hc_lc(pdb_text_true, chains)\n",
    "    pdb_text_pred = pdb_select_hc_lc(pdb_text_pred, chains)\n",
    "    \n",
    "    CDR_with_anchor_slices, atoms, CDR_text_true, _, _, _ = get_framework_info(pdb_text_true, chains)\n",
    "    _, _, CDR_text_pred, _, _, _ = get_framework_info(pdb_text_pred, chains)\n",
    "    \n",
    "    CDR_texts = [CDR_text_true, CDR_text_pred]\n",
    "    for CDR_text in CDR_texts:\n",
    "        for CDR in CDR_with_anchor_slices:\n",
    "            new = [line for line in CDR_text[CDR] if line.split()[2] in atoms]\n",
    "            new = [line for line in new if (line.split()[5][-1].isalpha() or int(line.split()[5]) >= CDR_with_anchor_slices[CDR][1][0] + 2)]\n",
    "            new = [line for line in new if (line.split()[5][-1].isalpha() or int(line.split()[5]) <= CDR_with_anchor_slices[CDR][1][1] - 2)]\n",
    "        \n",
    "            CDR_text[CDR] = new\n",
    "    \n",
    "    CDR_BB_coors_true = {}\n",
    "    CDR_BB_coors_pred = {}\n",
    "    CDR_BB_coors = [CDR_BB_coors_true, CDR_BB_coors_pred]\n",
    "    for i in range(len(CDR_texts)):\n",
    "        for CDR in CDR_with_anchor_slices:\n",
    "            coords = [[float(line.split()[6]), float(line.split()[7]), float(line.split()[8])] for line in CDR_texts[i][CDR]]\n",
    "            coords = np.array(coords)\n",
    "            \n",
    "            CDR_BB_coors[i][CDR] = coords\n",
    "            \n",
    "    rmsds = []\n",
    "    for CDR in CDR_with_anchor_slices:\n",
    "        true = CDR_BB_coors[0][CDR]\n",
    "        pred = CDR_BB_coors[1][CDR]\n",
    "        \n",
    "        rmsd = np.sqrt(((pred - true) ** 2).sum(-1).mean())\n",
    "        rmsds.append(rmsd)\n",
    "        \n",
    "        \n",
    "    return np.array(rmsds)"
   ]
  },
  {
   "cell_type": "code",
   "execution_count": 37,
   "metadata": {},
   "outputs": [],
   "source": [
    "dir = '/data/localhost/not-backed-up/spoendli/pdbs/0305-Radam-1-2optim-test/'\n",
    "\n",
    "files = os.listdir(dir)\n",
    "files = [file for file in files if file != 'metrics.json']\n",
    "\n",
    "files = [file[:7] for file in files if file[0] != '.']\n",
    "files = list(set(files))\n",
    "\n",
    "ids = []\n",
    "rmsds = []\n",
    "\n",
    "for i in range(len(files)):\n",
    "    chains = (files[i][-2], files[i][-1])\n",
    "        \n",
    "    true_path = dir+files[i]+'-true.pdb'\n",
    "    relaxed_path = dir+files[i]+'-relaxed.pdb'\n",
    "    \n",
    "    ids.append(files[i])\n",
    "    rmsds.append(cdr_rmsd_of_2_pdb_files(relaxed_path, true_path, chains))\n",
    "\n",
    "rmsds = np.array(rmsds)"
   ]
  },
  {
   "cell_type": "code",
   "execution_count": 38,
   "metadata": {},
   "outputs": [
    {
     "data": {
      "text/plain": [
       "array([1.17081381, 1.09165272, 2.46593909, 0.90204051, 0.92089803,\n",
       "       1.13564884])"
      ]
     },
     "execution_count": 38,
     "metadata": {},
     "output_type": "execute_result"
    }
   ],
   "source": [
    "rmsds.mean(0)"
   ]
  },
  {
   "cell_type": "code",
   "execution_count": 31,
   "metadata": {},
   "outputs": [
    {
     "data": {
      "text/plain": [
       "['2r8s-HL',\n",
       " '4nzu-HL',\n",
       " '3oz9-HL',\n",
       " '1dlf-HL',\n",
       " '3p0y-HL',\n",
       " '3mlr-HL',\n",
       " '2d7t-HL',\n",
       " '2fbj-HL',\n",
       " '1fns-HL',\n",
       " '2ypv-HL',\n",
       " '1mqk-HL',\n",
       " '2w60-AB',\n",
       " '3lmj-HL',\n",
       " '2adf-HL',\n",
       " '2e27-HL',\n",
       " '1nlb-HL',\n",
       " '3m8o-HL',\n",
       " '3nps-BC',\n",
       " '4f57-HL',\n",
       " '4hpy-HL',\n",
       " '1jpt-HL',\n",
       " '3e8u-HL',\n",
       " '1mlb-BA',\n",
       " '2fb4-HL',\n",
       " '3liz-HL',\n",
       " '2v17-HL',\n",
       " '3hnt-HL',\n",
       " '3go1-HL',\n",
       " '1mfa-HL',\n",
       " '3hc4-HL',\n",
       " '4h20-HL',\n",
       " '1oaq-HL',\n",
       " '3giz-HL',\n",
       " '1gig-HL',\n",
       " '3mxw-HL',\n",
       " '3gnm-HL',\n",
       " '2vxv-HL',\n",
       " '2xwt-AB',\n",
       " '3ifl-HL',\n",
       " '3g5y-BA',\n",
       " '3i9g-HL',\n",
       " '3v0w-HL',\n",
       " '1seq-HL',\n",
       " '3eo9-HL',\n",
       " '3t65-BA',\n",
       " '1jfq-HL']"
      ]
     },
     "execution_count": 31,
     "metadata": {},
     "output_type": "execute_result"
    }
   ],
   "source": [
    "ids"
   ]
  },
  {
   "cell_type": "code",
   "execution_count": null,
   "metadata": {},
   "outputs": [],
   "source": []
  },
  {
   "cell_type": "code",
   "execution_count": 311,
   "metadata": {},
   "outputs": [
    {
     "data": {
      "text/plain": [
       "10.099504938362077"
      ]
     },
     "execution_count": 311,
     "metadata": {},
     "output_type": "execute_result"
    }
   ],
   "source": [
    "a = np.ones((5,3))\n",
    "a[:,0] = 10\n",
    "b = np.zeros((5,3))\n",
    "\n",
    "c = np.sqrt(((a - b) ** 2).sum(-1).mean())\n",
    "c"
   ]
  },
  {
   "cell_type": "code",
   "execution_count": null,
   "metadata": {},
   "outputs": [],
   "source": [
    "def rmsd(prediction, truth):\n",
    "    dists = (prediction - truth).pow(2).sum(-1)\n",
    "    return torch.sqrt(dists.nanmean(-1)).mean()"
   ]
  },
  {
   "cell_type": "code",
   "execution_count": 119,
   "metadata": {},
   "outputs": [
    {
     "ename": "SyntaxError",
     "evalue": "invalid syntax (1984536977.py, line 6)",
     "output_type": "error",
     "traceback": [
      "\u001b[0;36m  Input \u001b[0;32mIn [119]\u001b[0;36m\u001b[0m\n\u001b[0;31m    coors[CDR] =\u001b[0m\n\u001b[0m                 ^\u001b[0m\n\u001b[0;31mSyntaxError\u001b[0m\u001b[0;31m:\u001b[0m invalid syntax\n"
     ]
    }
   ],
   "source": [
    "coors = {}\n",
    "for CDR in original:\n",
    "    \n",
    "    original[CDR]\n",
    "    \n",
    "    coors[CDR] = \n",
    "    "
   ]
  },
  {
   "cell_type": "code",
   "execution_count": 126,
   "metadata": {},
   "outputs": [],
   "source": [
    "dir = '0305-Radam-1-2optim-test'"
   ]
  },
  {
   "cell_type": "code",
   "execution_count": 127,
   "metadata": {},
   "outputs": [
    {
     "data": {
      "text/html": [
       "<pre style=\"white-space:pre;overflow-x:auto;line-height:normal;font-family:Menlo,'DejaVu Sans Mono',consolas,'Courier New',monospace\">/data/localhost/not-backed-up/spoendli/miniconda3/envs/ab/lib/python3.8/site-packages/rich/li\n",
       "ve.py:221: UserWarning: install \"ipywidgets\" for Jupyter support\n",
       "  warnings.warn('install \"ipywidgets\" for Jupyter support')\n",
       "</pre>\n"
      ],
      "text/plain": [
       "/data/localhost/not-backed-up/spoendli/miniconda3/envs/ab/lib/python3.8/site-packages/rich/li\n",
       "ve.py:221: UserWarning: install \"ipywidgets\" for Jupyter support\n",
       "  warnings.warn('install \"ipywidgets\" for Jupyter support')\n"
      ]
     },
     "metadata": {},
     "output_type": "display_data"
    },
    {
     "data": {
      "text/html": [
       "<pre style=\"white-space:pre;overflow-x:auto;line-height:normal;font-family:Menlo,'DejaVu Sans Mono',consolas,'Courier New',monospace\"></pre>\n"
      ],
      "text/plain": []
     },
     "metadata": {},
     "output_type": "display_data"
    },
    {
     "data": {
      "text/html": [
       "<pre style=\"white-space:pre;overflow-x:auto;line-height:normal;font-family:Menlo,'DejaVu Sans Mono',consolas,'Courier New',monospace\">\n",
       "</pre>\n"
      ],
      "text/plain": [
       "\n"
      ]
     },
     "metadata": {},
     "output_type": "display_data"
    }
   ],
   "source": [
    "cdr_rmsds, CDR_rmsds_relaxed, decoy_diversities, pdb_ids = produce_full_structures_of_val_set(test_dataloader, \n",
    "                                                                                              model, \n",
    "                                                                                              outdir=dir, \n",
    "                                                                                              relax=True)"
   ]
  },
  {
   "cell_type": "code",
   "execution_count": 135,
   "metadata": {},
   "outputs": [
    {
     "data": {
      "text/plain": [
       "(['3oz9'],\n",
       " [[0.39621397852897644,\n",
       "   0.5520344972610474,\n",
       "   2.0543265342712402,\n",
       "   0.5045629143714905,\n",
       "   0.1996065378189087,\n",
       "   1.3235737085342407]],\n",
       " [[1.6838728189468384,\n",
       "   1.7694529294967651,\n",
       "   2.6591641902923584,\n",
       "   1.8018285036087036,\n",
       "   1.6651703119277954,\n",
       "   2.0778539180755615]])"
      ]
     },
     "execution_count": 135,
     "metadata": {},
     "output_type": "execute_result"
    }
   ],
   "source": [
    "pdb_ids, cdr_rmsds, CDR_rmsds_relaxed"
   ]
  },
  {
   "cell_type": "code",
   "execution_count": 55,
   "metadata": {
    "scrolled": true
   },
   "outputs": [
    {
     "data": {
      "text/plain": [
       "['ATOM    171  N   ALA H  25      60.477  28.466  54.002  1.00 13.07           N  \\n',\n",
       " 'ATOM    172  CA  ALA H  25      60.948  28.433  55.380  1.00 15.14           C  \\n',\n",
       " 'ATOM    173  C   ALA H  25      62.231  29.226  55.523  1.00 17.82           C  \\n',\n",
       " 'ATOM    175  CB  ALA H  25      61.180  26.997  55.824  1.00 16.47           C  \\n',\n",
       " 'ATOM    176  N   THR H  26      62.279  30.078  56.536  1.00 14.49           N  \\n',\n",
       " 'ATOM    177  CA  THR H  26      63.498  30.821  56.826  1.00 18.07           C  \\n',\n",
       " 'ATOM    178  C   THR H  26      63.792  30.784  58.324  1.00 18.00           C  \\n',\n",
       " 'ATOM    180  CB  THR H  26      63.404  32.287  56.333  1.00 16.08           C  \\n',\n",
       " 'ATOM    183  N   GLY H  27      65.053  31.016  58.682  1.00 17.47           N  \\n',\n",
       " 'ATOM    184  CA  GLY H  27      65.443  31.146  60.079  1.00 17.45           C  \\n',\n",
       " 'ATOM    185  C   GLY H  27      65.899  29.883  60.788  1.00 20.90           C  \\n',\n",
       " 'ATOM    187  N   TYR H  28      65.988  28.781  60.056  1.00 16.71           N  \\n',\n",
       " 'ATOM    188  CA  TYR H  28      66.417  27.522  60.647  1.00 17.56           C  \\n',\n",
       " 'ATOM    189  C   TYR H  28      66.890  26.567  59.568  1.00 16.00           C  \\n',\n",
       " 'ATOM    191  CB  TYR H  28      65.277  26.884  61.441  1.00 18.42           C  \\n',\n",
       " 'ATOM    199  N   ARG H  29      67.486  25.453  59.986  1.00 18.44           N  \\n',\n",
       " 'ATOM    200  CA  ARG H  29      67.972  24.447  59.049  1.00 18.76           C  \\n',\n",
       " 'ATOM    201  C   ARG H  29      66.808  23.652  58.455  1.00 18.04           C  \\n',\n",
       " 'ATOM    203  CB  ARG H  29      68.961  23.508  59.730  1.00 24.08           C  \\n',\n",
       " 'ATOM    210  N   PHE H  30      66.526  23.900  57.178  1.00 17.12           N  \\n',\n",
       " 'ATOM    211  CA  PHE H  30      65.331  23.380  56.503  1.00 18.96           C  \\n',\n",
       " 'ATOM    212  C   PHE H  30      65.168  21.870  56.618  1.00 16.80           C  \\n',\n",
       " 'ATOM    214  CB  PHE H  30      65.359  23.805  55.028  1.00 20.41           C  \\n',\n",
       " 'ATOM    221  N   SER H  35      66.273  21.132  56.524  1.00 18.64           N  \\n',\n",
       " 'ATOM    222  CA  SER H  35      66.199  19.671  56.508  1.00 16.25           C  \\n',\n",
       " 'ATOM    223  C   SER H  35      66.050  19.030  57.893  1.00 16.31           C  \\n',\n",
       " 'ATOM    225  CB  SER H  35      67.431  19.086  55.815  1.00 20.86           C  \\n',\n",
       " 'ATOM    227  N   SER H  36      66.078  19.844  58.943  1.00 16.76           N  \\n',\n",
       " 'ATOM    228  CA  SER H  36      66.076  19.317  60.309  1.00 20.08           C  \\n',\n",
       " 'ATOM    229  C   SER H  36      64.681  18.954  60.810  1.00 16.67           C  \\n',\n",
       " 'ATOM    231  CB  SER H  36      66.717  20.313  61.277  1.00 21.93           C  \\n',\n",
       " 'ATOM    233  N   TYR H  37      63.655  19.531  60.195  1.00 15.85           N  \\n',\n",
       " 'ATOM    234  CA  TYR H  37      62.301  19.393  60.725  1.00 13.71           C  \\n',\n",
       " 'ATOM    235  C   TYR H  37      61.306  19.102  59.622  1.00 12.94           C  \\n',\n",
       " 'ATOM    237  CB  TYR H  37      61.878  20.672  61.449  1.00 13.51           C  \\n',\n",
       " 'ATOM    245  N   TRP H  38      60.229  18.422  59.988  1.00 13.53           N  \\n',\n",
       " 'ATOM    246  CA  TRP H  38      59.177  18.108  59.041  1.00 11.89           C  \\n',\n",
       " 'ATOM    247  C   TRP H  38      58.319  19.335  58.786  1.00 11.73           C  \\n',\n",
       " 'ATOM    249  CB  TRP H  38      58.312  16.980  59.585  1.00 12.17           C  \\n',\n",
       " 'ATOM    259  N   VAL H  39      57.928  19.528  57.532  1.00 10.24           N  \\n',\n",
       " 'ATOM    260  CA  VAL H  39      56.940  20.553  57.214  1.00 13.13           C  \\n',\n",
       " 'ATOM    261  C   VAL H  39      55.571  19.885  57.214  1.00 12.55           C  \\n',\n",
       " 'ATOM    263  CB  VAL H  39      57.224  21.228  55.862  1.00 11.63           C  \\n',\n",
       " 'ATOM    266  N   GLU H  40      54.693  20.358  58.097  1.00  9.81           N  \\n',\n",
       " 'ATOM    267  CA  GLU H  40      53.353  19.809  58.253  1.00 10.30           C  \\n',\n",
       " 'ATOM    268  C   GLU H  40      52.391  20.600  57.379  1.00 10.34           C  \\n',\n",
       " 'ATOM    270  CB  GLU H  40      52.895  19.944  59.711  1.00 11.40           C  \\n']"
      ]
     },
     "execution_count": 55,
     "metadata": {},
     "output_type": "execute_result"
    }
   ],
   "source": [
    "l = [x for x in original['H1'] if x.split()[2] in ['N', 'CA', 'CB', 'C']]\n",
    "l"
   ]
  },
  {
   "cell_type": "code",
   "execution_count": null,
   "metadata": {},
   "outputs": [],
   "source": []
  },
  {
   "cell_type": "code",
   "execution_count": 16,
   "metadata": {
    "scrolled": true
   },
   "outputs": [
    {
     "data": {
      "text/plain": [
       "['ATOM    354  N   ALA H  25      60.517  28.515  54.001  1.00  0.00           N  \\n',\n",
       " 'ATOM    355  H   ALA H  25      60.953  27.888  53.334  1.00  0.00           H  \\n',\n",
       " 'ATOM    356  CA  ALA H  25      61.026  28.506  55.366  1.00  0.00           C  \\n',\n",
       " 'ATOM    357  HA  ALA H  25      60.261  28.914  56.026  1.00  0.00           H  \\n',\n",
       " 'ATOM    358  C   ALA H  25      62.311  29.338  55.550  1.00  0.00           C  \\n',\n",
       " 'ATOM    359  O   ALA H  25      63.269  29.250  54.776  1.00  0.00           O  \\n',\n",
       " 'ATOM    360  CB  ALA H  25      61.246  27.055  55.783  1.00  0.00           C  \\n',\n",
       " 'ATOM    361  HB1 ALA H  25      61.553  27.013  56.829  1.00  0.00           H  \\n',\n",
       " 'ATOM    362  HB2 ALA H  25      62.032  26.639  55.156  1.00  0.00           H  \\n',\n",
       " 'ATOM    363  HB3 ALA H  25      60.326  26.482  55.651  1.00  0.00           H  \\n',\n",
       " 'ATOM    364  N   THR H  26      62.355  30.075  56.658  1.00  0.00           N  \\n',\n",
       " 'ATOM    365  H   THR H  26      61.489  30.155  57.189  1.00  0.00           H  \\n',\n",
       " 'ATOM    366  CA  THR H  26      63.553  30.635  57.319  1.00  0.00           C  \\n',\n",
       " 'ATOM    367  HA  THR H  26      64.439  30.133  56.934  1.00  0.00           H  \\n',\n",
       " 'ATOM    368  C   THR H  26      63.423  30.322  58.835  1.00  0.00           C  \\n',\n",
       " 'ATOM    369  O   THR H  26      62.344  29.949  59.278  1.00  0.00           O  \\n',\n",
       " 'ATOM    370  CB  THR H  26      63.693  32.144  57.023  1.00  0.00           C  \\n',\n",
       " 'ATOM    371  HB  THR H  26      64.629  32.494  57.460  1.00  0.00           H  \\n',\n",
       " 'ATOM    372  OG1 THR H  26      62.644  32.886  57.601  1.00  0.00           O  \\n',\n",
       " 'ATOM    373  HG1 THR H  26      62.839  33.078  58.522  1.00  0.00           H  \\n',\n",
       " 'ATOM    374  CG2 THR H  26      63.723  32.474  55.530  1.00  0.00           C  \\n',\n",
       " 'ATOM    375 HG21 THR H  26      62.754  32.261  55.080  1.00  0.00           H  \\n',\n",
       " 'ATOM    376 HG22 THR H  26      64.492  31.877  55.039  1.00  0.00           H  \\n',\n",
       " 'ATOM    377 HG23 THR H  26      63.948  33.532  55.399  1.00  0.00           H  \\n',\n",
       " 'ATOM    378  N   GLY H  27      64.396  30.375  59.756  1.00  0.00           N  \\n',\n",
       " 'ATOM    379  H   GLY H  27      64.092  30.088  60.670  1.00  0.00           H  \\n',\n",
       " 'ATOM    380  CA  GLY H  27      65.791  30.687  59.613  1.00  0.00           C  \\n',\n",
       " 'ATOM    381  HA2 GLY H  27      66.220  30.919  60.588  1.00  0.00           H  \\n',\n",
       " 'ATOM    382  HA3 GLY H  27      65.934  31.541  58.953  1.00  0.00           H  \\n',\n",
       " 'ATOM    383  C   GLY H  27      66.518  29.491  59.025  1.00  0.00           C  \\n',\n",
       " 'ATOM    384  O   GLY H  27      66.637  29.356  57.816  1.00  0.00           O  \\n',\n",
       " 'ATOM    385  N   TYR H  28      67.187  28.663  59.844  1.00  0.00           N  \\n',\n",
       " 'ATOM    386  H   TYR H  28      68.090  28.439  59.458  1.00  0.00           H  \\n',\n",
       " 'ATOM    387  CA  TYR H  28      66.647  27.563  60.654  1.00  0.00           C  \\n',\n",
       " 'ATOM    388  HA  TYR H  28      67.530  27.099  61.096  1.00  0.00           H  \\n',\n",
       " 'ATOM    389  C   TYR H  28      66.055  26.499  59.752  1.00  0.00           C  \\n',\n",
       " 'ATOM    390  CB  TYR H  28      65.775  27.932  61.864  1.00  0.00           C  \\n',\n",
       " 'ATOM    391  HB2 TYR H  28      64.758  28.131  61.529  1.00  0.00           H  \\n',\n",
       " 'ATOM    392  HB3 TYR H  28      66.160  28.862  62.281  1.00  0.00           H  \\n',\n",
       " 'ATOM    393  CG  TYR H  28      65.722  26.922  63.015  1.00  0.00           C  \\n',\n",
       " 'ATOM    394  CD1 TYR H  28      66.062  25.554  62.864  1.00  0.00           C  \\n',\n",
       " 'ATOM    395  HD1 TYR H  28      66.410  25.157  61.924  1.00  0.00           H  \\n',\n",
       " 'ATOM    396  CE1 TYR H  28      65.957  24.666  63.952  1.00  0.00           C  \\n',\n",
       " 'ATOM    397  HE1 TYR H  28      66.221  23.624  63.837  1.00  0.00           H  \\n',\n",
       " 'ATOM    398  CZ  TYR H  28      65.511  25.133  65.204  1.00  0.00           C  \\n',\n",
       " 'ATOM    399  OH  TYR H  28      65.337  24.262  66.226  1.00  0.00           O  \\n',\n",
       " 'ATOM    400  HH  TYR H  28      65.517  24.668  67.079  1.00  0.00           H  \\n',\n",
       " 'ATOM    401  CE2 TYR H  28      65.219  26.500  65.377  1.00  0.00           C  \\n',\n",
       " 'ATOM    402  HE2 TYR H  28      64.907  26.867  66.345  1.00  0.00           H  \\n',\n",
       " 'ATOM    403  CD2 TYR H  28      65.337  27.385  64.290  1.00  0.00           C  \\n',\n",
       " 'ATOM    404  HD2 TYR H  28      65.135  28.435  64.445  1.00  0.00           H  \\n',\n",
       " 'ATOM    405  O   TYR H  28      64.896  26.105  59.876  1.00  0.00           O  \\n',\n",
       " 'ATOM    406  N   ARG H  29      66.954  25.970  58.898  1.00  0.00           N  \\n',\n",
       " 'ATOM    407  H   ARG H  29      67.705  26.597  58.663  1.00  0.00           H  \\n',\n",
       " 'ATOM    408  CA  ARG H  29      67.274  24.570  58.657  1.00  0.00           C  \\n',\n",
       " 'ATOM    409  HA  ARG H  29      67.478  24.500  57.601  1.00  0.00           H  \\n',\n",
       " 'ATOM    410  C   ARG H  29      66.083  23.672  58.978  1.00  0.00           C  \\n',\n",
       " 'ATOM    411  CB  ARG H  29      68.544  24.167  59.457  1.00  0.00           C  \\n',\n",
       " 'ATOM    412  HB2 ARG H  29      68.698  23.088  59.405  1.00  0.00           H  \\n',\n",
       " 'ATOM    413  HB3 ARG H  29      68.390  24.416  60.511  1.00  0.00           H  \\n',\n",
       " 'ATOM    414  CG  ARG H  29      69.824  24.872  58.969  1.00  0.00           C  \\n',\n",
       " 'ATOM    415  HG2 ARG H  29      70.582  24.800  59.750  1.00  0.00           H  \\n',\n",
       " 'ATOM    416  HG3 ARG H  29      69.623  25.930  58.810  1.00  0.00           H  \\n',\n",
       " 'ATOM    417  CD  ARG H  29      70.379  24.254  57.675  1.00  0.00           C  \\n',\n",
       " 'ATOM    418  HD2 ARG H  29      69.648  24.397  56.878  1.00  0.00           H  \\n',\n",
       " 'ATOM    419  HD3 ARG H  29      70.510  23.178  57.810  1.00  0.00           H  \\n',\n",
       " 'ATOM    420  NE  ARG H  29      71.659  24.871  57.264  1.00  0.00           N  \\n',\n",
       " 'ATOM    421  HE  ARG H  29      71.613  25.535  56.507  1.00  0.00           H  \\n',\n",
       " 'ATOM    422  CZ  ARG H  29      72.874  24.561  57.692  1.00  0.00           C  \\n',\n",
       " 'ATOM    423  NH1 ARG H  29      73.917  25.153  57.182  1.00  0.00           N  \\n',\n",
       " 'ATOM    424 HH11 ARG H  29      74.842  24.916  57.496  1.00  0.00           H  \\n',\n",
       " 'ATOM    425 HH12 ARG H  29      73.809  25.823  56.440  1.00  0.00           H  \\n',\n",
       " 'ATOM    426  NH2 ARG H  29      73.080  23.671  58.624  1.00  0.00           N  \\n',\n",
       " 'ATOM    427 HH21 ARG H  29      74.012  23.448  58.928  1.00  0.00           H  \\n',\n",
       " 'ATOM    428 HH22 ARG H  29      72.297  23.176  59.008  1.00  0.00           H  \\n',\n",
       " 'ATOM    429  O   ARG H  29      65.891  23.332  60.141  1.00  0.00           O  \\n',\n",
       " 'ATOM    430  N   PHE H  30      65.240  23.185  58.040  1.00  0.00           N  \\n',\n",
       " 'ATOM    431  H   PHE H  30      64.447  22.713  58.450  1.00  0.00           H  \\n',\n",
       " 'ATOM    432  CA  PHE H  30      65.338  23.026  56.583  1.00  0.00           C  \\n',\n",
       " 'ATOM    433  HA  PHE H  30      64.503  22.369  56.329  1.00  0.00           H  \\n',\n",
       " 'ATOM    434  C   PHE H  30      66.584  22.239  56.254  1.00  0.00           C  \\n',\n",
       " 'ATOM    435  CB  PHE H  30      65.112  24.280  55.734  1.00  0.00           C  \\n',\n",
       " 'ATOM    436  HB2 PHE H  30      66.038  24.568  55.238  1.00  0.00           H  \\n',\n",
       " 'ATOM    437  HB3 PHE H  30      64.788  25.108  56.369  1.00  0.00           H  \\n',\n",
       " 'ATOM    438  CG  PHE H  30      64.034  24.033  54.696  1.00  0.00           C  \\n',\n",
       " 'ATOM    439  CD1 PHE H  30      64.363  23.641  53.384  1.00  0.00           C  \\n',\n",
       " 'ATOM    440  HD1 PHE H  30      65.400  23.535  53.088  1.00  0.00           H  \\n',\n",
       " 'ATOM    441  CE1 PHE H  30      63.340  23.403  52.446  1.00  0.00           C  \\n',\n",
       " 'ATOM    442  HE1 PHE H  30      63.583  23.122  51.430  1.00  0.00           H  \\n',\n",
       " 'ATOM    443  CZ  PHE H  30      61.992  23.539  52.820  1.00  0.00           C  \\n',\n",
       " 'ATOM    444  HZ  PHE H  30      61.213  23.345  52.099  1.00  0.00           H  \\n',\n",
       " 'ATOM    445  CE2 PHE H  30      61.664  23.899  54.135  1.00  0.00           C  \\n',\n",
       " 'ATOM    446  HE2 PHE H  30      60.629  24.012  54.419  1.00  0.00           H  \\n',\n",
       " 'ATOM    447  CD2 PHE H  30      62.682  24.124  55.076  1.00  0.00           C  \\n',\n",
       " 'ATOM    448  HD2 PHE H  30      62.423  24.386  56.092  1.00  0.00           H  \\n',\n",
       " 'ATOM    449  O   PHE H  30      67.709  22.728  56.317  1.00  0.00           O  \\n',\n",
       " 'ATOM    450  N   SER H  35      66.373  20.927  56.114  1.00  0.00           N  \\n',\n",
       " 'ATOM    451  H   SER H  35      65.433  20.573  55.987  1.00  0.00           H  \\n',\n",
       " 'ATOM    452  CA  SER H  35      67.398  19.969  56.440  1.00  0.00           C  \\n',\n",
       " 'ATOM    453  HA  SER H  35      68.318  20.481  56.721  1.00  0.00           H  \\n',\n",
       " 'ATOM    454  C   SER H  35      66.924  19.251  57.686  1.00  0.00           C  \\n',\n",
       " 'ATOM    455  CB  SER H  35      67.771  19.090  55.257  1.00  0.00           C  \\n',\n",
       " 'ATOM    456  HB2 SER H  35      68.533  18.372  55.560  1.00  0.00           H  \\n',\n",
       " 'ATOM    457  HB3 SER H  35      66.890  18.559  54.927  1.00  0.00           H  \\n',\n",
       " 'ATOM    458  OG  SER H  35      68.260  19.888  54.196  1.00  0.00           O  \\n',\n",
       " 'ATOM    459  HG  SER H  35      68.677  19.325  53.536  1.00  0.00           H  \\n',\n",
       " 'ATOM    460  O   SER H  35      66.911  18.029  57.743  1.00  0.00           O  \\n',\n",
       " 'ATOM    461  N   SER H  36      66.557  20.024  58.721  1.00  0.00           N  \\n',\n",
       " 'ATOM    462  H   SER H  36      66.611  21.018  58.578  1.00  0.00           H  \\n',\n",
       " 'ATOM    463  CA  SER H  36      66.254  19.596  60.065  1.00  0.00           C  \\n',\n",
       " 'ATOM    464  HA  SER H  36      65.971  20.505  60.596  1.00  0.00           H  \\n',\n",
       " 'ATOM    465  C   SER H  36      65.027  18.725  60.151  1.00  0.00           C  \\n',\n",
       " 'ATOM    466  CB  SER H  36      67.481  19.083  60.812  1.00  0.00           C  \\n',\n",
       " 'ATOM    467  HB2 SER H  36      67.769  18.101  60.428  1.00  0.00           H  \\n',\n",
       " 'ATOM    468  HB3 SER H  36      68.311  19.777  60.674  1.00  0.00           H  \\n',\n",
       " 'ATOM    469  OG  SER H  36      67.194  18.989  62.189  1.00  0.00           O  \\n',\n",
       " 'ATOM    470  HG  SER H  36      66.529  18.288  62.285  1.00  0.00           H  \\n',\n",
       " 'ATOM    471  O   SER H  36      64.921  17.878  61.035  1.00  0.00           O  \\n',\n",
       " 'ATOM    472  N   TYR H  37      63.988  19.100  59.407  1.00  0.00           N  \\n',\n",
       " 'ATOM    473  H   TYR H  37      64.156  19.577  58.537  1.00  0.00           H  \\n',\n",
       " 'ATOM    474  CA  TYR H  37      62.752  19.401  60.066  1.00  0.00           C  \\n',\n",
       " 'ATOM    475  HA  TYR H  37      62.597  18.683  60.876  1.00  0.00           H  \\n',\n",
       " 'ATOM    476  C   TYR H  37      61.628  19.220  59.064  1.00  0.00           C  \\n',\n",
       " 'ATOM    477  CB  TYR H  37      62.799  20.831  60.646  1.00  0.00           C  \\n',\n",
       " 'ATOM    478  HB2 TYR H  37      63.017  21.554  59.860  1.00  0.00           H  \\n',\n",
       " 'ATOM    479  HB3 TYR H  37      63.563  20.902  61.422  1.00  0.00           H  \\n',\n",
       " 'ATOM    480  CG  TYR H  37      61.460  21.085  61.234  1.00  0.00           C  \\n',\n",
       " 'ATOM    481  CD1 TYR H  37      61.124  20.290  62.337  1.00  0.00           C  \\n',\n",
       " 'ATOM    482  HD1 TYR H  37      61.885  19.772  62.910  1.00  0.00           H  \\n',\n",
       " 'ATOM    483  CE1 TYR H  37      59.790  19.934  62.516  1.00  0.00           C  \\n',\n",
       " 'ATOM    484  HE1 TYR H  37      59.544  19.162  63.220  1.00  0.00           H  \\n',\n",
       " 'ATOM    485  CZ  TYR H  37      58.788  20.457  61.687  1.00  0.00           C  \\n',\n",
       " 'ATOM    486  OH  TYR H  37      57.501  20.085  61.871  1.00  0.00           O  \\n',\n",
       " 'ATOM    487  HH  TYR H  37      57.167  19.700  61.039  1.00  0.00           H  \\n',\n",
       " 'ATOM    488  CE2 TYR H  37      59.131  21.316  60.625  1.00  0.00           C  \\n',\n",
       " 'ATOM    489  HE2 TYR H  37      58.369  21.646  59.934  1.00  0.00           H  \\n',\n",
       " 'ATOM    490  CD2 TYR H  37      60.476  21.633  60.396  1.00  0.00           C  \\n',\n",
       " 'ATOM    491  HD2 TYR H  37      60.752  22.147  59.485  1.00  0.00           H  \\n',\n",
       " 'ATOM    492  O   TYR H  37      61.723  19.691  57.930  1.00  0.00           O  \\n',\n",
       " 'ATOM    493  N   TRP H  38      60.540  18.581  59.518  1.00  0.00           N  \\n',\n",
       " 'ATOM    494  H   TRP H  38      60.530  18.349  60.501  1.00  0.00           H  \\n',\n",
       " 'ATOM    495  CA  TRP H  38      59.461  17.994  58.751  1.00  0.00           C  \\n',\n",
       " 'ATOM    496  HA  TRP H  38      59.818  17.694  57.773  1.00  0.00           H  \\n',\n",
       " 'ATOM    497  C   TRP H  38      58.340  18.985  58.564  1.00  0.00           C  \\n',\n",
       " 'ATOM    498  CB  TRP H  38      58.948  16.727  59.459  1.00  0.00           C  \\n',\n",
       " 'ATOM    499  HB2 TRP H  38      57.912  16.554  59.173  1.00  0.00           H  \\n',\n",
       " 'ATOM    500  HB3 TRP H  38      59.506  15.887  59.040  1.00  0.00           H  \\n',\n",
       " 'ATOM    501  CG  TRP H  38      59.096  16.626  60.952  1.00  0.00           C  \\n',\n",
       " 'ATOM    502  CD1 TRP H  38      58.205  17.015  61.892  1.00  0.00           C  \\n',\n",
       " 'ATOM    503  HD1 TRP H  38      57.252  17.490  61.686  1.00  0.00           H  \\n',\n",
       " 'ATOM    504  NE1 TRP H  38      58.706  16.750  63.155  1.00  0.00           N  \\n',\n",
       " 'ATOM    505  HE1 TRP H  38      58.253  17.055  64.018  1.00  0.00           H  \\n',\n",
       " 'ATOM    506  CE2 TRP H  38      59.990  16.248  63.088  1.00  0.00           C  \\n',\n",
       " 'ATOM    507  CZ2 TRP H  38      60.943  15.894  64.055  1.00  0.00           C  \\n',\n",
       " 'ATOM    508  HZ2 TRP H  38      60.701  15.972  65.103  1.00  0.00           H  \\n',\n",
       " 'ATOM    509  CH2 TRP H  38      62.210  15.447  63.639  1.00  0.00           C  \\n',\n",
       " 'ATOM    510  HH2 TRP H  38      62.955  15.165  64.369  1.00  0.00           H  \\n',\n",
       " 'ATOM    511  CZ3 TRP H  38      62.512  15.377  62.267  1.00  0.00           C  \\n',\n",
       " 'ATOM    512  HZ3 TRP H  38      63.494  15.050  61.947  1.00  0.00           H  \\n',\n",
       " 'ATOM    513  CE3 TRP H  38      61.548  15.736  61.308  1.00  0.00           C  \\n',\n",
       " 'ATOM    514  HE3 TRP H  38      61.787  15.688  60.259  1.00  0.00           H  \\n',\n",
       " 'ATOM    515  CD2 TRP H  38      60.264  16.170  61.692  1.00  0.00           C  \\n',\n",
       " 'ATOM    516  O   TRP H  38      57.495  19.140  59.442  1.00  0.00           O  \\n',\n",
       " 'ATOM    517  N   VAL H  39      58.223  19.631  57.401  1.00  0.00           N  \\n',\n",
       " 'ATOM    518  H   VAL H  39      58.889  19.409  56.668  1.00  0.00           H  \\n',\n",
       " 'ATOM    519  CA  VAL H  39      57.119  20.587  57.139  1.00  0.00           C  \\n',\n",
       " 'ATOM    520  HA  VAL H  39      57.054  21.258  57.995  1.00  0.00           H  \\n',\n",
       " 'ATOM    521  C   VAL H  39      55.770  19.875  57.037  1.00  0.00           C  \\n',\n",
       " 'ATOM    522  O   VAL H  39      55.582  19.013  56.179  1.00  0.00           O  \\n',\n",
       " 'ATOM    523  CB  VAL H  39      57.373  21.467  55.902  1.00  0.00           C  \\n',\n",
       " 'ATOM    524  HB  VAL H  39      57.507  20.844  55.020  1.00  0.00           H  \\n',\n",
       " 'ATOM    525  CG1 VAL H  39      56.217  22.444  55.632  1.00  0.00           C  \\n',\n",
       " 'ATOM    526 HG11 VAL H  39      56.462  23.101  54.799  1.00  0.00           H  \\n',\n",
       " 'ATOM    527 HG12 VAL H  39      55.308  21.898  55.373  1.00  0.00           H  \\n',\n",
       " 'ATOM    528 HG13 VAL H  39      56.021  23.048  56.519  1.00  0.00           H  \\n',\n",
       " 'ATOM    529  CG2 VAL H  39      58.647  22.301  56.102  1.00  0.00           C  \\n',\n",
       " 'ATOM    530 HG21 VAL H  39      58.554  22.911  57.000  1.00  0.00           H  \\n',\n",
       " 'ATOM    531 HG22 VAL H  39      58.795  22.951  55.242  1.00  0.00           H  \\n',\n",
       " 'ATOM    532 HG23 VAL H  39      59.512  21.645  56.196  1.00  0.00           H  \\n',\n",
       " 'ATOM    533  N   GLU H  40      54.842  20.266  57.906  1.00  0.00           N  \\n',\n",
       " 'ATOM    534  H   GLU H  40      55.066  21.038  58.524  1.00  0.00           H  \\n',\n",
       " 'ATOM    535  CA  GLU H  40      53.509  19.677  58.064  1.00  0.00           C  \\n',\n",
       " 'ATOM    536  HA  GLU H  40      53.496  18.692  57.601  1.00  0.00           H  \\n',\n",
       " 'ATOM    537  C   GLU H  40      52.460  20.534  57.340  1.00  0.00           C  \\n',\n",
       " 'ATOM    538  O   GLU H  40      52.682  21.733  57.169  1.00  0.00           O  \\n',\n",
       " 'ATOM    539  CB  GLU H  40      53.216  19.502  59.568  1.00  0.00           C  \\n',\n",
       " 'ATOM    540  HB2 GLU H  40      52.290  18.938  59.664  1.00  0.00           H  \\n',\n",
       " 'ATOM    541  HB3 GLU H  40      53.063  20.488  60.005  1.00  0.00           H  \\n',\n",
       " 'ATOM    542  CG  GLU H  40      54.392  18.796  60.312  1.00  0.00           C  \\n',\n",
       " 'ATOM    543  HG2 GLU H  40      55.052  18.343  59.574  1.00  0.00           H  \\n',\n",
       " 'ATOM    544  HG3 GLU H  40      54.970  19.558  60.840  1.00  0.00           H  \\n',\n",
       " 'ATOM    545  CD  GLU H  40      54.044  17.655  61.284  1.00  0.00           C  \\n',\n",
       " 'ATOM    546  OE1 GLU H  40      52.918  17.133  61.225  1.00  0.00           O  \\n',\n",
       " 'ATOM    547  OE2 GLU H  40      54.945  17.176  62.012  1.00  0.00           O  \\n']"
      ]
     },
     "execution_count": 16,
     "metadata": {},
     "output_type": "execute_result"
    }
   ],
   "source": [
    "relaxed['H1']"
   ]
  },
  {
   "cell_type": "code",
   "execution_count": 115,
   "metadata": {},
   "outputs": [
    {
     "data": {
      "text/plain": [
       "tensor([60.9480, 62.2310, 60.4770, 61.1800, 63.4980, 63.7920, 62.2790, 63.4040,\n",
       "        65.4430, 65.8990, 65.0530, 65.4430, 66.4170, 66.8900, 65.9880, 65.2770,\n",
       "        67.9720, 66.8080, 67.4860, 68.9610, 65.3310, 65.1680, 66.5260, 65.3590,\n",
       "        66.1990, 66.0500, 66.2730, 67.4310, 66.0760, 64.6810, 66.0780, 66.7170,\n",
       "        62.3010, 61.3060, 63.6550, 61.8780, 59.1770, 58.3190, 60.2290, 58.3120,\n",
       "        56.9400, 55.5710, 57.9280, 57.2240, 53.3530, 52.3910, 54.6930, 52.8950,\n",
       "        50.4880, 51.7270, 49.2830, 50.4880, 54.1420, 55.2470, 52.8860, 54.5760,\n",
       "        57.4170, 58.6890, 56.2460, 57.3710, 61.0100, 61.9620, 59.7240, 61.5860,\n",
       "        63.1300, 64.5160, 62.2700, 63.2430, 66.4050, 66.1950, 65.1150, 66.4050,\n",
       "        65.6810, 64.3920, 65.9960, 65.5360, 62.1910, 61.1460, 63.4380, 62.1910,\n",
       "        60.3810, 59.0370, 61.3370, 60.8250, 56.6260, 55.7500, 57.9670, 55.9540,\n",
       "        53.7410, 52.4030, 54.7760, 54.0310, 50.1010, 48.9970, 51.4210, 49.7300,\n",
       "        48.5000, 49.6600, 47.3530, 48.1680, 52.0260, 52.4010, 50.8720, 53.2110,\n",
       "        53.4320, 54.6460, 53.0430, 52.2850, 56.4670, 56.6410, 55.2190, 57.6330,\n",
       "        57.4510, 58.8820, 57.1280, 57.4510, 60.4640, 60.7450, 59.1020, 60.8390,\n",
       "        61.5550, 60.5340, 61.0980, 62.9070, 59.3520, 57.9500, 60.3470, 59.3520,\n",
       "        55.6620, 55.7950, 57.0100, 54.9910, 55.5160, 54.3090, 55.1690, 56.7040,\n",
       "        53.5660, 53.9010, 54.5600, 53.6080, 53.1320, 53.4430, 52.9090, 51.9320,\n",
       "        55.1770, 55.1120, 54.7310, 56.5960, 55.3320, 54.2870, 55.2920, 56.7110,\n",
       "        52.5770, 52.8050, 53.6080, 51.1950, 52.4630, 51.2090, 52.5580, 52.4630,\n",
       "        39.7810, 39.1060, 39.2280, 41.2700, 38.3010, 39.1350, 38.9840, 37.9530,\n",
       "        41.2720, 42.4230, 40.4170, 41.7590, 44.2400, 45.2460, 43.2330, 44.9820,\n",
       "        46.4710, 47.7040, 45.5420, 45.7790, 50.1150, 50.2800, 48.8850, 51.3270,\n",
       "        50.2580, 49.2990, 50.1480, 51.6770, 47.8310, 48.4320, 48.7240, 46.4770,\n",
       "        48.7200, 47.4800, 48.2970, 49.6520, 50.2170, 50.7480, 49.7250, 49.0780,\n",
       "        52.4350, 52.7750, 51.9350, 53.6230, 53.0310, 52.2300, 52.6880, 54.5300,\n",
       "        49.9200, 49.9200, 50.9300, 49.9630, 51.1080, 52.1940, 51.0910, 51.2260,\n",
       "        54.0990, 53.5250, 53.0450, 55.2380, 53.3220, 54.2280, 53.8170, 53.2550,\n",
       "        41.7950, 42.7750, 41.7380, 42.2680, 43.3400, 43.8970, 42.4010, 42.6850,\n",
       "        45.8340, 46.6350, 45.0020, 46.7420, 47.5200, 48.0530, 46.6630, 46.7530,\n",
       "        49.5050, 49.4310, 48.9730, 50.9650, 48.8750, 48.8600, 48.8210, 47.6920,\n",
       "        50.1750, 50.1470, 50.0470, 50.1750, 49.1680, 48.4340, 49.1870, 48.5360,\n",
       "        47.8840, 46.3900, 48.4450, 48.4970, 44.2970, 44.0890, 45.6890, 43.3380,\n",
       "        42.6640, 41.2260, 43.0630, 42.6920, 39.5250, 38.7880, 40.9120, 39.5250,\n",
       "         0.0000])"
      ]
     },
     "execution_count": 115,
     "metadata": {},
     "output_type": "execute_result"
    }
   ],
   "source": [
    "geomout[0,:273,0]"
   ]
  },
  {
   "cell_type": "code",
   "execution_count": 116,
   "metadata": {},
   "outputs": [
    {
     "data": {
      "text/plain": [
       "tensor([61.0140, 60.5060, 62.2730, 61.2790, 63.5370, 62.3400, 63.4960, 63.5940,\n",
       "        65.9160, 64.5120, 66.3640, 65.9160, 66.4880, 66.2080, 65.9540, 65.8370,\n",
       "        67.8880, 66.7950, 67.2600, 68.9720, 65.5920, 66.2430, 66.5310, 65.0230,\n",
       "        67.0880, 66.8620, 66.5880, 68.5410, 66.2960, 67.0550, 65.0950, 67.1920,\n",
       "        62.6780, 64.0420, 61.8650, 62.5410, 59.6660, 60.7960, 58.9410, 58.7090,\n",
       "        57.1050, 58.1740, 55.8000, 57.3500, 53.5220, 54.8010, 52.4130, 53.3290,\n",
       "        50.4890, 49.2750, 51.7410, 50.4890, 54.2160, 52.9160, 55.2890, 54.6680,\n",
       "        57.4890, 56.3510, 58.6690, 57.3530, 61.0920, 59.7980, 61.8400, 61.7990,\n",
       "        63.5260, 62.6140, 63.7810, 63.0470, 65.5560, 64.7830, 66.6890, 65.5560,\n",
       "        65.5380, 66.5590, 64.1090, 65.8070, 62.1730, 63.4790, 61.0310, 62.1730,\n",
       "        60.4440, 61.2700, 59.1330, 61.1080, 56.7310, 58.0430, 55.8290, 56.2610,\n",
       "        53.7740, 54.8350, 52.4420, 54.0860, 50.0960, 51.4050, 49.0030, 49.7890,\n",
       "        48.5100, 47.3390, 49.6570, 48.2010, 52.0400, 50.8780, 52.4190, 53.1920,\n",
       "        53.4660, 53.0550, 54.7580, 52.3410, 56.8200, 55.5340, 56.6040, 57.9080,\n",
       "        57.2830, 56.7890, 58.6640, 57.2830, 59.2370, 59.1950, 59.2620, 60.3720,\n",
       "        61.3370, 60.2130, 61.1560, 62.6510, 59.6090, 60.8160, 58.5870, 59.6090,\n",
       "        57.6980, 58.1790, 57.8480, 57.0510, 55.2710, 56.2980, 55.5910, 54.0340,\n",
       "        54.5150, 55.7050, 54.7110, 53.6360, 53.4640, 53.6010, 53.6930, 52.1140,\n",
       "        55.2370, 54.8500, 55.3100, 56.5830, 55.3560, 55.3790, 54.4330, 56.7600,\n",
       "        52.6130, 53.5740, 52.9770, 51.2070, 52.5220, 52.6170, 51.2030, 52.5220,\n",
       "        39.9720, 39.2650, 39.5340, 41.4710, 38.5460, 39.0410, 39.5800, 37.8220,\n",
       "        41.7000, 40.7730, 42.7340, 42.3380, 45.1730, 43.9800, 45.1590, 45.4280,\n",
       "        46.9500, 45.9310, 47.3290, 46.3270, 49.9100, 48.4990, 50.3030, 50.3370,\n",
       "        50.2350, 50.3280, 48.9560, 51.5510, 47.9160, 48.9270, 48.4030, 46.5690,\n",
       "        48.5510, 48.0210, 47.4440, 49.5900, 50.2420, 49.7910, 50.8020, 49.0880,\n",
       "        52.6360, 51.9840, 53.5990, 53.3650, 53.1560, 53.4640, 51.8420, 54.3320,\n",
       "        50.0390, 51.2880, 49.8080, 50.0910, 51.1090, 50.8090, 52.1560, 51.5730,\n",
       "        54.1680, 53.1560, 53.5960, 55.4140, 53.3310, 53.7630, 54.2190, 53.4010,\n",
       "        41.8180, 41.7280, 42.7960, 42.2660, 43.3100, 42.3790, 43.8990, 42.6320,\n",
       "        45.7440, 45.0690, 46.5180, 46.7210, 47.1330, 46.6510, 48.5490, 46.8000,\n",
       "        50.0670, 49.6870, 49.7940, 51.5550, 50.2270, 50.2900, 48.8150, 50.5530,\n",
       "        49.2780, 48.4960, 48.2370, 49.2780, 49.6450, 48.4940, 49.4490, 49.7380,\n",
       "        47.7750, 48.1900, 46.2680, 48.1310, 44.3060, 45.6560, 44.1400, 43.1650,\n",
       "        42.7390, 43.2750, 41.3740, 42.6490, 39.5180, 40.9330, 38.7800, 39.5180,\n",
       "         0.0000])"
      ]
     },
     "execution_count": 116,
     "metadata": {},
     "output_type": "execute_result"
    }
   ],
   "source": [
    "relaxed_coords[:273,0]"
   ]
  },
  {
   "cell_type": "code",
   "execution_count": 62,
   "metadata": {},
   "outputs": [
    {
     "data": {
      "text/plain": [
       "tensor([[[[61.0140, 28.4920, 55.3740],\n",
       "          [60.5060, 28.5050, 54.0070],\n",
       "          [62.2730, 29.3600, 55.5760],\n",
       "          ...,\n",
       "          [ 0.0000,  0.0000,  0.0000],\n",
       "          [ 0.0000,  0.0000,  0.0000],\n",
       "          [ 0.0000,  0.0000,  0.0000]]]])"
      ]
     },
     "execution_count": 62,
     "metadata": {},
     "output_type": "execute_result"
    }
   ],
   "source": [
    "rearrange(relaxed_coords, 'a b -> () () a b')"
   ]
  },
  {
   "cell_type": "code",
   "execution_count": 49,
   "metadata": {},
   "outputs": [
    {
     "data": {
      "text/plain": [
       "tensor(1.5104)"
      ]
     },
     "execution_count": 49,
     "metadata": {},
     "output_type": "execute_result"
    }
   ],
   "source": [
    "rmsd(relaxed_coords, geomout)"
   ]
  },
  {
   "cell_type": "code",
   "execution_count": 13,
   "metadata": {},
   "outputs": [
    {
     "data": {
      "text/plain": [
       "[[0.39621397852897644,\n",
       "  0.5520344972610474,\n",
       "  2.0543265342712402,\n",
       "  0.5045629143714905,\n",
       "  0.1996065378189087,\n",
       "  1.3235737085342407],\n",
       " [1.4963270425796509,\n",
       "  1.0473147630691528,\n",
       "  2.906479835510254,\n",
       "  0.6791009902954102,\n",
       "  0.2234359234571457,\n",
       "  1.0305887460708618]]"
      ]
     },
     "execution_count": 13,
     "metadata": {},
     "output_type": "execute_result"
    }
   ],
   "source": [
    "cdr_rmsds"
   ]
  },
  {
   "cell_type": "code",
   "execution_count": 14,
   "metadata": {},
   "outputs": [
    {
     "data": {
      "text/plain": [
       "[[0.39689359068870544,\n",
       "  0.5317484736442566,\n",
       "  2.0721490383148193,\n",
       "  0.5045245885848999,\n",
       "  0.19938620924949646,\n",
       "  1.3232002258300781],\n",
       " [1.4967271089553833,\n",
       "  1.0466426610946655,\n",
       "  2.9059810638427734,\n",
       "  0.6716121435165405,\n",
       "  0.2233588546514511,\n",
       "  1.0306532382965088]]"
      ]
     },
     "execution_count": 14,
     "metadata": {},
     "output_type": "execute_result"
    }
   ],
   "source": [
    " CDR_rmsds_relaxed"
   ]
  },
  {
   "cell_type": "code",
   "execution_count": null,
   "metadata": {},
   "outputs": [],
   "source": []
  },
  {
   "cell_type": "markdown",
   "metadata": {},
   "source": [
    "Calculate rmsds of relaxed structures"
   ]
  },
  {
   "cell_type": "code",
   "execution_count": 66,
   "metadata": {},
   "outputs": [],
   "source": [
    "import os\n",
    "from ABDB import database as db\n",
    "import matplotlib.pyplot as plt\n",
    "import numpy as np\n",
    "from retrain_ablooper import *\n",
    "import torch\n",
    "import pandas as pd\n",
    "from rich import print as pprint\n",
    "from ABlooper import CDR_Predictor\n",
    "from einops import rearrange"
   ]
  },
  {
   "cell_type": "code",
   "execution_count": 86,
   "metadata": {},
   "outputs": [],
   "source": [
    "dir = '/data/localhost/not-backed-up/spoendli/pdbs/0305-Radam-1-2optim-test/'"
   ]
  },
  {
   "cell_type": "code",
   "execution_count": 104,
   "metadata": {
    "scrolled": true
   },
   "outputs": [
    {
     "data": {
      "text/plain": [
       "['3i9g-HL.pdb',\n",
       " '4nzu-HL.pdb',\n",
       " '4nzu-HL-true.pdb',\n",
       " '3go1-HL.pdb',\n",
       " '4hpy-HL-true.pdb',\n",
       " '1gig-HL-relaxed.pdb',\n",
       " '3g5y-BA-true.pdb',\n",
       " '3giz-HL-relaxed.pdb',\n",
       " '2fb4-HL.pdb',\n",
       " '1mlb-BA.pdb',\n",
       " '3gnm-HL-relaxed.pdb',\n",
       " '1dlf-HL-true.pdb',\n",
       " '2fb4-HL-relaxed.pdb',\n",
       " '3m8o-HL-true.pdb',\n",
       " '2e27-HL-true.pdb',\n",
       " '1gig-HL.pdb',\n",
       " '3t65-BA-true.pdb',\n",
       " '2ypv-HL-true.pdb',\n",
       " '1mfa-HL-true.pdb',\n",
       " '3go1-HL-relaxed.pdb',\n",
       " '1mfa-HL.pdb',\n",
       " '2xwt-AB-true.pdb',\n",
       " '2fbj-HL-relaxed.pdb',\n",
       " '4f57-HL-true.pdb',\n",
       " '3g5y-BA-relaxed.pdb',\n",
       " '3v0w-HL-relaxed.pdb',\n",
       " '2vxv-HL-relaxed.pdb',\n",
       " '3liz-HL.pdb',\n",
       " '3i9g-HL-relaxed.pdb',\n",
       " '1mfa-HL-relaxed.pdb',\n",
       " '3ifl-HL-relaxed.pdb',\n",
       " '3p0y-HL.pdb',\n",
       " '3eo9-HL-true.pdb',\n",
       " '2d7t-HL.pdb',\n",
       " '2e27-HL-relaxed.pdb',\n",
       " '3t65-BA-relaxed.pdb',\n",
       " '3ifl-HL-true.pdb',\n",
       " '2d7t-HL-true.pdb',\n",
       " '3m8o-HL.pdb',\n",
       " '3mlr-HL-true.pdb',\n",
       " '4h20-HL-true.pdb',\n",
       " '2r8s-HL.pdb',\n",
       " '3mxw-HL.pdb',\n",
       " '3oz9-HL-true.pdb',\n",
       " '3go1-HL-true.pdb',\n",
       " '3t65-BA.pdb',\n",
       " '2vxv-HL-true.pdb',\n",
       " '2r8s-HL-true.pdb',\n",
       " '2w60-AB-true.pdb',\n",
       " '1mqk-HL.pdb',\n",
       " '2ypv-HL-relaxed.pdb',\n",
       " '2fbj-HL.pdb',\n",
       " '3hnt-HL-true.pdb',\n",
       " '3lmj-HL.pdb',\n",
       " '2v17-HL-relaxed.pdb',\n",
       " '3oz9-HL-relaxed.pdb',\n",
       " '3oz9-HL.pdb',\n",
       " '3hc4-HL-relaxed.pdb',\n",
       " '2v17-HL-true.pdb',\n",
       " '2adf-HL.pdb',\n",
       " '1dlf-HL-relaxed.pdb',\n",
       " '3p0y-HL-true.pdb',\n",
       " '3mxw-HL-relaxed.pdb',\n",
       " '2adf-HL-relaxed.pdb',\n",
       " '1mqk-HL-relaxed.pdb',\n",
       " '3eo9-HL-relaxed.pdb',\n",
       " '3nps-BC.pdb',\n",
       " '1fns-HL-relaxed.pdb',\n",
       " '3nps-BC-true.pdb',\n",
       " '2ypv-HL.pdb',\n",
       " '1jpt-HL-true.pdb',\n",
       " '1mqk-HL-true.pdb',\n",
       " '2fbj-HL-true.pdb',\n",
       " '1oaq-HL.pdb',\n",
       " '3gnm-HL.pdb',\n",
       " '2d7t-HL-relaxed.pdb',\n",
       " '3mlr-HL.pdb',\n",
       " '3liz-HL-relaxed.pdb',\n",
       " '1mlb-BA-relaxed.pdb',\n",
       " '3eo9-HL.pdb',\n",
       " '1jfq-HL-true.pdb',\n",
       " '4f57-HL.pdb',\n",
       " '1jfq-HL.pdb',\n",
       " '3gnm-HL-true.pdb',\n",
       " '2vxv-HL.pdb',\n",
       " '3hnt-HL-relaxed.pdb',\n",
       " '3g5y-BA.pdb',\n",
       " '1fns-HL-true.pdb',\n",
       " '1jfq-HL-relaxed.pdb',\n",
       " '3v0w-HL-true.pdb',\n",
       " '2w60-AB.pdb',\n",
       " '2xwt-AB.pdb',\n",
       " '2adf-HL-true.pdb',\n",
       " '3i9g-HL-true.pdb',\n",
       " '3giz-HL-true.pdb',\n",
       " '1nlb-HL.pdb',\n",
       " '3m8o-HL-relaxed.pdb',\n",
       " '1gig-HL-true.pdb',\n",
       " '4h20-HL-relaxed.pdb',\n",
       " '1fns-HL.pdb',\n",
       " '3hc4-HL-true.pdb',\n",
       " '1seq-HL.pdb',\n",
       " '3nps-BC-relaxed.pdb',\n",
       " '4hpy-HL-relaxed.pdb',\n",
       " '3lmj-HL-relaxed.pdb',\n",
       " '1seq-HL-true.pdb',\n",
       " '1oaq-HL-true.pdb',\n",
       " '4h20-HL.pdb',\n",
       " '4nzu-HL-relaxed.pdb',\n",
       " '1seq-HL-relaxed.pdb',\n",
       " '1dlf-HL.pdb',\n",
       " '2r8s-HL-relaxed.pdb',\n",
       " '3liz-HL-true.pdb',\n",
       " '3ifl-HL.pdb',\n",
       " '2xwt-AB-relaxed.pdb',\n",
       " '3p0y-HL-relaxed.pdb',\n",
       " '4hpy-HL.pdb',\n",
       " '3e8u-HL-relaxed.pdb',\n",
       " '4f57-HL-relaxed.pdb',\n",
       " '3lmj-HL-true.pdb',\n",
       " '2w60-AB-relaxed.pdb',\n",
       " '1nlb-HL-relaxed.pdb',\n",
       " '1nlb-HL-true.pdb',\n",
       " '2fb4-HL-true.pdb',\n",
       " '2v17-HL.pdb',\n",
       " '3mlr-HL-relaxed.pdb',\n",
       " '1mlb-BA-true.pdb',\n",
       " '3hnt-HL.pdb',\n",
       " '2e27-HL.pdb',\n",
       " '3mxw-HL-true.pdb',\n",
       " '1jpt-HL.pdb',\n",
       " '1oaq-HL-relaxed.pdb',\n",
       " '3e8u-HL.pdb',\n",
       " '1jpt-HL-relaxed.pdb',\n",
       " '3v0w-HL.pdb',\n",
       " '3giz-HL.pdb',\n",
       " '3e8u-HL-true.pdb',\n",
       " '3hc4-HL.pdb']"
      ]
     },
     "execution_count": 104,
     "metadata": {},
     "output_type": "execute_result"
    }
   ],
   "source": [
    "files = os.listdir(dir)\n",
    "[file for file in files if file != 'metrics.json']"
   ]
  },
  {
   "cell_type": "code",
   "execution_count": 109,
   "metadata": {},
   "outputs": [],
   "source": [
    "def cdr_rmsds_on_pdb_file(prediction_path, truth_path, chains):\n",
    "\n",
    "    pred = CDR_Predictor(prediction_path, chains = chains)\n",
    "    pred_coords = prepare_model_output([pred.CDR_BB_coords])[0]\n",
    "    pred_coords = rearrange(pred_coords, 'i x -> () () i x')\n",
    "    pred_nodefeatures = pred.prepare_model_input()[0]\n",
    "    \n",
    "    truth = CDR_Predictor(truth_path, chains)\n",
    "    truth_coords = prepare_model_output([truth.CDR_BB_coords])[0]\n",
    "    truth_coords = rearrange(truth_coords, 'i x -> () i x')\n",
    "\n",
    "    cdr_rmsds = rmsd_per_cdr(pred_coords, pred_nodefeatures, truth_coords)\n",
    "\n",
    "    return cdr_rmsds\n",
    "\n",
    "def rmsds_pred_and_relaxed(dir):\n",
    "\n",
    "    files = os.listdir(dir)\n",
    "    files.remove('metrics.json')\n",
    "    files = [file[:7] for file in files if file[0] != '.']\n",
    "    files = list(set(files))\n",
    "    \n",
    "    ids = list()\n",
    "    rmsds_pred = np.zeros((len(files), 6))\n",
    "    rmsds_relaxed = np.zeros((len(files), 6))\n",
    "\n",
    "    for i in range(len(files)):\n",
    "        chains = (files[i][-2], files[i][-1])\n",
    "        \n",
    "        truth_path = dir+files[i]+'-true.pdb'\n",
    "        pred_path = dir+files[i]+'.pdb'\n",
    "        relaxed_path = dir+files[i]+'-relaxed.pdb'\n",
    "\n",
    "        ids.append(files[i])\n",
    "        rmsds_pred[i,:] = np.array(cdr_rmsds_on_pdb_file(pred_path, truth_path, chains).tolist())\n",
    "        rmsds_relaxed[i,:] = np.array(cdr_rmsds_on_pdb_file(relaxed_path, truth_path, chains).tolist())\n",
    "\n",
    "    return ids, rmsds_pred, rmsds_relaxed"
   ]
  },
  {
   "cell_type": "code",
   "execution_count": 110,
   "metadata": {},
   "outputs": [],
   "source": [
    "ids, rmsd_pred, rmsd_relaxed = rmsds_pred_and_relaxed(dir)\n"
   ]
  },
  {
   "cell_type": "code",
   "execution_count": 114,
   "metadata": {},
   "outputs": [
    {
     "data": {
      "text/plain": [
       "array([1.16327669, 1.09427714, 2.47645663, 0.90324465, 0.92075492,\n",
       "       1.13739726])"
      ]
     },
     "execution_count": 114,
     "metadata": {},
     "output_type": "execute_result"
    }
   ],
   "source": [
    "rmsd_relaxed.mean(0)"
   ]
  },
  {
   "cell_type": "code",
   "execution_count": 117,
   "metadata": {},
   "outputs": [],
   "source": [
    "from ABDB import database as db\n",
    "from ABDB.AbPDB import AntibodyParser\n",
    "import numpy as np\n",
    "import Bio.PDB\n",
    "parser = AntibodyParser(PERMISSIVE=True, QUIET=True)\n",
    "parser.set_numbering_scheme(\"imgt\")\n",
    "db.set_numbering_scheme(\"imgt\")\n",
    "backbone = [\"CA\",\"C\",\"N\", \"CB\"]\n",
    "\n",
    "def CDR_rmsds(pdb, file, fab_n = 0, chains = [\"H\", \"L\"], decoy_chains = [\"H\", \"L\"]):\n",
    "    fab = db.fetch(pdb).fabs[fab_n]\n",
    "    rmsds = {}\n",
    "    for h_or_l in chains:\n",
    "        #Truth load\n",
    "        chain = db.db_summary[pdb][\"fabs\"][fab_n][h_or_l+\"chain\"]\n",
    "        truth = fab.get_structure()[chain]\n",
    "        #Decoy load\n",
    "        decoy = parser.get_antibody_structure(pdb+\"_model\", file)[0][{\"H\":decoy_chains[0], \"L\":decoy_chains[1]}[h_or_l]]\n",
    "        #Numbering\n",
    "        numb = [(\" \", *x) for x in fab.get_numbering()[h_or_l]][2:-2]\n",
    "        #Get residues to align\n",
    "        truth_res = [truth[x] for x in numb if (x in decoy) and (x in truth)]\n",
    "        decoy_res = [decoy[x] for x in numb if (x in decoy) and (x in truth)]\n",
    "        #Get atoms to align\n",
    "        fixed = []\n",
    "        moved = []\n",
    "        for i in range(len(decoy_res)):\n",
    "            fixed += [truth_res[i][atom] for atom in backbone if (atom in decoy_res[i]) and (atom in truth_res[i])]\n",
    "            moved += [decoy_res[i][atom] for atom in backbone if (atom in decoy_res[i]) and (atom in truth_res[i])]\n",
    "        #Calculate superimposer and move decoy\n",
    "        imposer = Bio.PDB.Superimposer()\n",
    "        imposer.set_atoms(fixed, moved)\n",
    "        imposer.apply(decoy.get_atoms())\n",
    "        rmsds[h_or_l] = imposer.rms\n",
    "        # Find CDR definitions\n",
    "        loop_definitions = {x[3:]:[(\" \", *y[0]) for y in fab.get_CDR_sequences(definition=\"imgt\")[x]]  for x in fab.get_CDR_sequences(definition=\"imgt\")}\n",
    "        # Calculate RMSD for each CDR\n",
    "        for CDR in loop_definitions:\n",
    "            if CDR[0] == h_or_l:\n",
    "                true_loop = []\n",
    "                decoy_loop = []\n",
    "                for res in loop_definitions[CDR]:\n",
    "                    if (res in truth) and (res in decoy):\n",
    "                        true_loop += [truth[res][x].get_coord() for x in backbone if (x in decoy[res]) and (x in truth[res])]\n",
    "                        decoy_loop+= [decoy[res][x].get_coord() for x in backbone if (x in decoy[res]) and (x in truth[res])]\n",
    "                #Calculate RMSD\n",
    "                rmsds[CDR] = np.sqrt(np.mean(3*(np.array(true_loop) - np.array(decoy_loop))**2))\n",
    "                \n",
    "    # Calculate RMSD for framework\n",
    "    ignore = sum([loop_definitions[x] for x in loop_definitions if x[0] == h_or_l], [])\n",
    "    frame_def = [x for x in numb if x not in ignore]\n",
    "    \n",
    "    true_frame, decoy_frame = [], []\n",
    "    for res in frame_def:\n",
    "        if (res in truth) and (res in decoy):\n",
    "            true_frame += [truth[res][x].get_coord() for x in backbone if (x in decoy[res]) and (x in truth[res])]\n",
    "            decoy_frame+= [decoy[res][x].get_coord() for x in backbone if (x in decoy[res]) and (x in truth[res])]\n",
    "    rmsds[h_or_l] = np.sqrt(np.mean(3*(np.array(true_frame) - np.array(decoy_frame))**2))\n",
    "                \n",
    "    return rmsds"
   ]
  },
  {
   "cell_type": "code",
   "execution_count": 137,
   "metadata": {},
   "outputs": [
    {
     "name": "stdout",
     "output_type": "stream",
     "text": [
      "fab HL\n",
      "\tVH = chain H\n",
      "\tVL = chain L\n"
     ]
    }
   ],
   "source": [
    "pdb = db.fetch('5hdq')\n",
    "for fab in pdb.fabs:\n",
    "    print(fab)"
   ]
  },
  {
   "cell_type": "code",
   "execution_count": 139,
   "metadata": {},
   "outputs": [
    {
     "data": {
      "text/plain": [
       "{'H': 1.0492338462729975,\n",
       " 'H1': 1.7875236,\n",
       " 'H2': 1.8640847,\n",
       " 'H3': 2.464813,\n",
       " 'L': 0.072361894,\n",
       " 'L1': 1.7554567,\n",
       " 'L2': 1.762282,\n",
       " 'L3': 2.0607486}"
      ]
     },
     "execution_count": 139,
     "metadata": {},
     "output_type": "execute_result"
    }
   ],
   "source": [
    "CDR_rmsds('3oz9', '/data/localhost/not-backed-up/spoendli/pdbs/0305-Radam-1-2optim-test/3oz9-HL.pdb', fab_n = 0, chains = [\"H\", \"L\"], decoy_chains = [\"H\", \"L\"])"
   ]
  },
  {
   "cell_type": "code",
   "execution_count": null,
   "metadata": {},
   "outputs": [],
   "source": []
  }
 ],
 "metadata": {
  "interpreter": {
   "hash": "f5cb82b301b87eef88325f480de257324ba8b611cc1a51609875e0120daba8a9"
  },
  "kernelspec": {
   "display_name": "Python 3 (ipykernel)",
   "language": "python",
   "name": "python3"
  },
  "language_info": {
   "codemirror_mode": {
    "name": "ipython",
    "version": 3
   },
   "file_extension": ".py",
   "mimetype": "text/x-python",
   "name": "python",
   "nbconvert_exporter": "python",
   "pygments_lexer": "ipython3",
   "version": "3.8.5"
  }
 },
 "nbformat": 4,
 "nbformat_minor": 2
}
