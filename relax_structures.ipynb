{
 "cells": [
  {
   "cell_type": "code",
   "execution_count": 1,
   "metadata": {},
   "outputs": [
    {
     "name": "stderr",
     "output_type": "stream",
     "text": [
      "/Users/fabian/miniconda3/envs/auto-db-pipeline/lib/python3.9/site-packages/Bio/SubsMat/__init__.py:126: BiopythonDeprecationWarning: Bio.SubsMat has been deprecated, and we intend to remove it in a future release of Biopython. As an alternative, please consider using Bio.Align.substitution_matrices as a replacement, and contact the Biopython developers if you still need the Bio.SubsMat module.\n",
      "  warnings.warn(\n"
     ]
    }
   ],
   "source": [
    "from ABDB import database as db\n",
    "import matplotlib.pyplot as plt\n",
    "import numpy as np\n",
    "from retrain_ablooper import *\n",
    "import torch\n",
    "import pandas as pd\n",
    "from rich import print as pprint\n",
    "from ABlooper import CDR_Predictor"
   ]
  },
  {
   "cell_type": "code",
   "execution_count": 2,
   "metadata": {},
   "outputs": [],
   "source": [
    "# torch settings\n",
    "device = \"cuda\" if torch.cuda.is_available() else \"cpu\"\n",
    "torch.set_default_dtype(torch.float)\n",
    "\n",
    "model = MaskDecoyGen(decoys=5).to(device = device).float()\n",
    "model.load_state_dict(torch.load('best_models/best_model-2804-Radam-5-2optim', map_location=torch.device(device)))\n",
    "\n",
    "batch_size = 1\n",
    "\n",
    "train = torch.load('train_data/train.pt')\n",
    "validation = torch.load('train_data/val.pt')\n",
    "test = torch.load('train_data/test.pt')\n",
    "\n",
    "val_dataloader = torch.utils.data.DataLoader(validation[:2], \n",
    "                                             batch_size=batch_size,\n",
    "                                             num_workers=1,\n",
    "                                             shuffle=True,\n",
    "                                             pin_memory=True,\n",
    "                                             )"
   ]
  },
  {
   "cell_type": "code",
   "execution_count": 3,
   "metadata": {},
   "outputs": [
    {
     "name": "stdout",
     "output_type": "stream",
     "text": [
      "torch.Size([1, 308, 41])\n",
      "torch.Size([5, 308, 3])\n",
      "Warning: CDR-L1 prediction for /Volumes/LaCie/sabdab-sabpred/data/ABDB/entries/5hdq/structure/imgt/5hdq.pdb incorrect.\n",
      "Are you sure the provided structure is an IMGT numbered antibody?\n",
      "{'H1': array([[[10.273874 , 10.443808 , 38.090294 ],\n",
      "        [ 9.667912 ,  9.26624  , 37.307472 ],\n",
      "        [11.465626 , 10.382423 , 37.30662  ],\n",
      "        [10.417727 , 10.389438 , 38.136982 ]],\n",
      "\n",
      "       [[12.768193 ,  9.904219 , 35.499664 ],\n",
      "        [11.496195 ,  9.650301 , 36.20936  ],\n",
      "        [12.177629 ,  9.053797 , 34.133324 ],\n",
      "        [13.969519 ,  9.270803 , 35.88224  ]],\n",
      "\n",
      "       [[12.705109 ,  9.379227 , 31.59227  ],\n",
      "        [12.65448  ,  9.373571 , 33.09908  ],\n",
      "        [13.1080265,  7.843999 , 31.447842 ],\n",
      "        [13.671908 , 10.229921 , 30.594046 ]],\n",
      "\n",
      "       [[12.939642 ,  6.0090303, 31.247686 ],\n",
      "        [12.226106 ,  7.2359514, 31.528534 ],\n",
      "        [13.718611 ,  5.5761256, 30.123505 ],\n",
      "        [11.99774  ,  6.2046585, 31.349695 ]],\n",
      "\n",
      "       [[13.318706 ,  5.410643 , 28.027365 ],\n",
      "        [13.053449 ,  5.9681883, 29.154913 ],\n",
      "        [14.299818 ,  5.8359895, 27.14684  ],\n",
      "        [12.395512 ,  6.0908723, 27.873062 ]],\n",
      "\n",
      "       [[15.13526  ,  7.130208 , 26.98824  ],\n",
      "        [14.389809 ,  6.51428  , 27.910318 ],\n",
      "        [16.214756 ,  6.533103 , 27.3184   ],\n",
      "        [14.300423 ,  8.097285 , 27.187963 ]],\n",
      "\n",
      "       [[17.858839 ,  5.798623 , 27.856922 ],\n",
      "        [16.62432  ,  5.822055 , 28.036814 ],\n",
      "        [17.702047 ,  4.6638646, 28.848547 ],\n",
      "        [17.546919 ,  7.297619 , 28.212057 ]],\n",
      "\n",
      "       [[17.938257 ,  3.3258948, 30.171473 ],\n",
      "        [17.21359  ,  4.1739416, 29.420563 ],\n",
      "        [18.010082 ,  1.9271104, 30.502132 ],\n",
      "        [18.029509 ,  4.5072618, 31.367504 ]]], dtype=float32), 'H2': array([[[19.603363  , -2.2387497 , 26.60586   ],\n",
      "        [20.471647  , -2.7256844 , 26.980814  ],\n",
      "        [18.545834  , -1.2608836 , 25.802647  ],\n",
      "        [18.53893   , -3.392671  , 24.880608  ]],\n",
      "\n",
      "       [[16.827024  ,  0.24727187, 25.336758  ],\n",
      "        [17.573685  , -0.5178547 , 25.571032  ],\n",
      "        [16.564045  ,  0.38055724, 23.667904  ],\n",
      "        [15.97926   ,  0.98572904, 25.273088  ]],\n",
      "\n",
      "       [[15.730563  ,  1.8909171 , 22.355911  ],\n",
      "        [16.227575  ,  1.5194428 , 23.473822  ],\n",
      "        [15.889407  ,  1.858691  , 21.202686  ],\n",
      "        [14.668844  ,  2.659245  , 22.504423  ]],\n",
      "\n",
      "       [[15.295523  ,  1.7904949 , 20.632318  ],\n",
      "        [15.745016  ,  1.6568838 , 21.416069  ],\n",
      "        [16.226816  ,  0.70353615, 20.076008  ],\n",
      "        [15.035373  ,  2.0028462 , 21.129166  ]],\n",
      "\n",
      "       [[17.506937  , -0.721605  , 21.003872  ],\n",
      "        [16.870174  ,  0.3688885 , 21.43993   ],\n",
      "        [18.57362   , -1.3054612 , 20.526775  ],\n",
      "        [17.964844  , -1.5184488 , 22.398373  ]],\n",
      "\n",
      "       [[18.808924  , -1.0929495 , 19.614418  ],\n",
      "        [18.208347  , -0.87046206, 20.2092    ],\n",
      "        [19.089956  , -1.3132174 , 20.449686  ],\n",
      "        [19.136166  , -2.1419756 , 19.196926  ]],\n",
      "\n",
      "       [[19.428377  , -0.89822596, 22.61507   ],\n",
      "        [18.876266  , -0.9119402 , 21.477621  ],\n",
      "        [20.786676  , -2.15175   , 22.683485  ],\n",
      "        [19.783218  ,  0.05881913, 22.97819   ]],\n",
      "\n",
      "       [[21.535168  , -3.839602  , 23.015629  ],\n",
      "        [20.472088  , -2.8569806 , 22.843264  ],\n",
      "        [22.399883  , -4.194028  , 24.298649  ],\n",
      "        [20.443798  , -4.5958567 , 22.427082  ]]], dtype=float32), 'H3': array([[[ 1.91659050e+01, -1.28463173e+00,  3.59132767e+01],\n",
      "        [ 1.81884518e+01, -1.97890890e+00,  3.61795158e+01],\n",
      "        [ 1.91721172e+01,  3.94971400e-01,  3.52761726e+01],\n",
      "        [ 1.98117313e+01, -1.63864613e+00,  3.56023636e+01]],\n",
      "\n",
      "       [[ 1.91425285e+01,  9.91450310e-01,  3.58036118e+01],\n",
      "        [ 1.94889870e+01,  1.44878505e-02,  3.52938118e+01],\n",
      "        [ 2.07464638e+01,  1.38942111e+00,  3.36606522e+01],\n",
      "        [ 1.91185131e+01,  1.23322654e+00,  3.58137093e+01]],\n",
      "\n",
      "       [[ 2.05298195e+01,  1.89883292e+00,  3.24626236e+01],\n",
      "        [ 1.98698158e+01,  1.07895136e+00,  3.34842606e+01],\n",
      "        [ 2.14080772e+01,  2.81515431e+00,  3.17990227e+01],\n",
      "        [ 2.01676388e+01,  1.40268111e+00,  3.17349796e+01]],\n",
      "\n",
      "       [[ 2.06715431e+01,  4.70869732e+00,  3.08959045e+01],\n",
      "        [ 2.07941189e+01,  3.26053762e+00,  3.16705418e+01],\n",
      "        [ 2.22290573e+01,  5.86899090e+00,  3.21724167e+01],\n",
      "        [ 2.12329350e+01,  4.74260330e+00,  3.14161167e+01]],\n",
      "\n",
      "       [[ 2.18010101e+01,  6.79889584e+00,  3.07958870e+01],\n",
      "        [ 2.13650169e+01,  5.86149693e+00,  3.14105873e+01],\n",
      "        [ 2.30514736e+01,  6.43209839e+00,  3.19691925e+01],\n",
      "        [ 2.26166973e+01,  7.25899982e+00,  3.23557129e+01]],\n",
      "\n",
      "       [[ 2.48368340e+01,  6.53617096e+00,  3.23500252e+01],\n",
      "        [ 2.32896271e+01,  5.91771936e+00,  3.23483505e+01],\n",
      "        [ 2.58770752e+01,  5.67213058e+00,  3.30152664e+01],\n",
      "        [ 2.43430824e+01,  7.18301249e+00,  3.38164902e+01]],\n",
      "\n",
      "       [[ 2.70680351e+01,  2.47901249e+00,  3.11449833e+01],\n",
      "        [ 2.59345894e+01,  3.64173770e+00,  3.20256882e+01],\n",
      "        [ 2.66757050e+01,  2.69674373e+00,  3.23611412e+01],\n",
      "        [ 2.64653969e+01,  3.24875975e+00,  3.21399841e+01]],\n",
      "\n",
      "       [[ 2.52870140e+01,  2.06503820e+00,  3.24832344e+01],\n",
      "        [ 2.62619114e+01,  2.59087467e+00,  3.33254089e+01],\n",
      "        [ 2.65919914e+01,  1.54697227e+00,  3.37299881e+01],\n",
      "        [ 2.65857658e+01,  2.10766602e+00,  3.28428192e+01]],\n",
      "\n",
      "       [[ 2.78449898e+01,  4.64615831e-03,  3.50687485e+01],\n",
      "        [ 2.65577278e+01,  7.55926013e-01,  3.45440254e+01],\n",
      "        [ 2.61417236e+01,  4.51576144e-01,  3.51877136e+01],\n",
      "        [ 2.67968025e+01,  1.48556900e+00,  3.47677383e+01]],\n",
      "\n",
      "       [[ 2.59397678e+01, -1.97397783e-01,  3.69055099e+01],\n",
      "        [ 2.48915157e+01,  6.05763555e-01,  3.62502556e+01],\n",
      "        [ 2.45532169e+01,  3.38636696e-01,  3.69174118e+01],\n",
      "        [ 2.57102318e+01,  2.40931511e-01,  3.60422249e+01]],\n",
      "\n",
      "       [[ 2.38773651e+01,  3.19426388e-01,  3.79268265e+01],\n",
      "        [ 2.41778374e+01,  4.73227441e-01,  3.77008438e+01],\n",
      "        [ 2.32035103e+01,  9.69488442e-01,  3.86729126e+01],\n",
      "        [ 2.34598141e+01, -4.05057043e-01,  3.83307495e+01]],\n",
      "\n",
      "       [[ 2.20267811e+01,  2.76228452e+00,  3.95633316e+01],\n",
      "        [ 2.17692394e+01,  1.91470361e+00,  3.84500160e+01],\n",
      "        [ 2.06650658e+01,  2.64617085e+00,  4.00869217e+01],\n",
      "        [ 2.24069920e+01,  3.39940834e+00,  3.81356316e+01]],\n",
      "\n",
      "       [[ 1.84039345e+01,  2.54812765e+00,  4.03484955e+01],\n",
      "        [ 1.96302586e+01,  2.51244020e+00,  3.95381546e+01],\n",
      "        [ 1.84961452e+01,  1.44033504e+00,  4.03916092e+01],\n",
      "        [ 1.75782299e+01,  3.82283068e+00,  3.94129219e+01]]],\n",
      "      dtype=float32), 'L1': array([[[ 4.3763775e+01, -6.9109764e+00,  3.5545189e+01],\n",
      "        [ 4.2836128e+01, -6.7204714e+00,  3.6508236e+01],\n",
      "        [ 4.3433594e+01, -6.1988502e+00,  3.5100861e+01],\n",
      "        [ 4.3786762e+01, -7.6578093e+00,  3.5287117e+01]],\n",
      "\n",
      "       [[ 4.3130440e+01, -5.9989815e+00,  3.3667713e+01],\n",
      "        [ 4.2614899e+01, -6.2571130e+00,  3.4364704e+01],\n",
      "        [ 4.3190166e+01, -5.5579057e+00,  3.3205009e+01],\n",
      "        [ 4.2692081e+01, -5.6494184e+00,  3.3539204e+01]],\n",
      "\n",
      "       [[ 4.1944092e+01, -6.0827880e+00,  3.2289028e+01],\n",
      "        [ 4.1216679e+01, -6.0415902e+00,  3.3522438e+01],\n",
      "        [ 4.1988060e+01, -4.9060311e+00,  3.2323799e+01],\n",
      "        [ 4.1388073e+01, -5.7948008e+00,  3.2567760e+01]],\n",
      "\n",
      "       [[ 4.1114117e+01, -5.4934778e+00,  3.1981262e+01],\n",
      "        [ 4.0739014e+01, -5.9355516e+00,  3.3463169e+01],\n",
      "        [ 4.0345833e+01, -4.1310205e+00,  3.2283047e+01],\n",
      "        [ 4.1586216e+01, -5.4462891e+00,  3.1578787e+01]],\n",
      "\n",
      "       [[ 3.9745491e+01, -4.0425506e+00,  3.1978586e+01],\n",
      "        [ 4.0004101e+01, -4.7952609e+00,  3.3278831e+01],\n",
      "        [ 3.8943092e+01, -3.6173351e+00,  3.2812656e+01],\n",
      "        [ 4.0504517e+01, -4.0708733e+00,  3.0494495e+01]],\n",
      "\n",
      "       [[ 3.8761429e+01, -3.3396668e+00,  3.3972801e+01],\n",
      "        [ 3.8992867e+01, -3.6740551e+00,  3.4493095e+01],\n",
      "        [ 3.7345985e+01, -3.0873032e+00,  3.4345375e+01],\n",
      "        [ 3.9406216e+01, -3.2826324e+00,  3.2614082e+01]],\n",
      "\n",
      "       [[ 3.5754097e+01, -2.8705249e+00,  3.3767029e+01],\n",
      "        [ 3.6408962e+01, -2.7028377e+00,  3.4380196e+01],\n",
      "        [ 3.5283146e+01, -1.8971649e+00,  3.4110138e+01],\n",
      "        [ 3.5846992e+01, -3.2784164e+00,  3.3000313e+01]],\n",
      "\n",
      "       [[ 3.5078972e+01, -3.0064076e-01,  3.2418358e+01],\n",
      "        [ 3.5597347e+01, -5.6946021e-01,  3.2577049e+01],\n",
      "        [ 3.5970795e+01,  4.7975796e-01,  3.2676216e+01],\n",
      "        [ 3.4712761e+01, -8.2003164e-01,  3.2616459e+01]],\n",
      "\n",
      "       [[ 3.5971451e+01,  1.5155921e+00,  3.2047474e+01],\n",
      "        [ 3.5904274e+01,  8.6284733e-01,  3.2036896e+01],\n",
      "        [ 3.5622505e+01,  9.8154467e-01,  3.3405323e+01],\n",
      "        [ 3.6105976e+01,  1.6046932e+00,  3.1599131e+01]],\n",
      "\n",
      "       [[ 3.5025494e+01,  4.8585016e-01,  3.4893505e+01],\n",
      "        [ 3.5587341e+01,  4.1701332e-01,  3.4032051e+01],\n",
      "        [ 3.5353741e+01,  8.9785215e-03,  3.5995262e+01],\n",
      "        [ 3.4693089e+01, -5.6485318e-02,  3.4558399e+01]],\n",
      "\n",
      "       [[ 3.6717609e+01,  5.1431012e-01,  3.6624531e+01],\n",
      "        [ 3.6203278e+01,  7.9595655e-01,  3.5613533e+01],\n",
      "        [ 3.5777859e+01,  1.0082035e+00,  3.7585884e+01],\n",
      "        [ 3.7302094e+01,  2.7353281e-01,  3.6529236e+01]],\n",
      "\n",
      "       [[ 3.4640465e+01,  1.7922586e+00,  3.8145813e+01],\n",
      "        [ 3.5256935e+01,  1.4366914e+00,  3.7495232e+01],\n",
      "        [ 3.4563660e+01,  1.2724774e+00,  3.9312668e+01],\n",
      "        [ 3.3611385e+01,  2.0736244e+00,  3.8031029e+01]]], dtype=float32), 'L2': array([[[35.21232  ,  7.431617 , 41.705452 ],\n",
      "        [33.765095 ,  7.3357706, 42.095573 ],\n",
      "        [35.497253 ,  7.8846793, 41.894966 ],\n",
      "        [35.68303  ,  7.8482466, 41.410122 ]],\n",
      "\n",
      "       [[35.958202 ,  9.757512 , 42.60713  ],\n",
      "        [35.473083 ,  8.706869 , 42.445534 ],\n",
      "        [35.16113  ,  9.694563 , 42.556263 ],\n",
      "        [35.567116 , 10.844103 , 40.8938   ]],\n",
      "\n",
      "       [[33.696808 ,  9.676816 , 43.632114 ],\n",
      "        [34.304382 ,  9.853041 , 43.23536  ],\n",
      "        [33.07099  ,  9.9277115, 43.773727 ],\n",
      "        [34.419453 , 10.025259 , 43.544884 ]]], dtype=float32), 'L3': array([[[31.718124 , -3.0058384, 40.63618  ],\n",
      "        [31.99736  , -3.131513 , 41.916306 ],\n",
      "        [32.146103 , -3.245488 , 39.76775  ],\n",
      "        [30.488525 , -2.687601 , 40.780087 ]],\n",
      "\n",
      "       [[32.48864  , -3.2690036, 38.93226  ],\n",
      "        [31.746546 , -3.4165015, 39.62743  ],\n",
      "        [31.452845 , -2.89673  , 37.79118  ],\n",
      "        [32.42752  , -4.3042045, 39.096775 ]],\n",
      "\n",
      "       [[30.144665 , -2.2476075, 36.778553 ],\n",
      "        [31.083313 , -2.2808528, 37.30294  ],\n",
      "        [30.286707 , -1.9213161, 35.632927 ],\n",
      "        [30.035456 , -1.7925377, 36.473526 ]],\n",
      "\n",
      "       [[30.912872 , -2.3766742, 34.263554 ],\n",
      "        [30.93689  , -2.2641208, 35.202248 ],\n",
      "        [29.934235 , -2.6356964, 33.198727 ],\n",
      "        [31.612738 , -2.965384 , 33.709114 ]],\n",
      "\n",
      "       [[29.293106 , -3.8906884, 31.70338  ],\n",
      "        [29.541739 , -3.522243 , 33.061058 ],\n",
      "        [29.151377 , -4.7025247, 31.78773  ],\n",
      "        [29.969595 , -4.9105124, 31.64569  ]],\n",
      "\n",
      "       [[27.615396 , -5.644885 , 30.864117 ],\n",
      "        [28.354755 , -5.243959 , 31.004513 ],\n",
      "        [28.176517 , -6.8447657, 31.37764  ],\n",
      "        [26.607183 , -5.9448524, 30.005224 ]],\n",
      "\n",
      "       [[28.024496 , -8.443241 , 33.083626 ],\n",
      "        [28.484009 , -8.156353 , 32.07544  ],\n",
      "        [28.562824 , -7.3978486, 34.043774 ],\n",
      "        [27.1121   , -9.49216  , 33.41799  ]],\n",
      "\n",
      "       [[28.604874 , -5.865379 , 35.561993 ],\n",
      "        [28.148304 , -6.4183807, 34.158802 ],\n",
      "        [29.27586  , -6.7053604, 36.30699  ],\n",
      "        [27.440088 , -5.027039 , 35.829884 ]],\n",
      "\n",
      "       [[30.83879  , -7.511345 , 37.785408 ],\n",
      "        [30.37168  , -6.545661 , 36.752304 ],\n",
      "        [30.945013 , -6.714125 , 38.943207 ],\n",
      "        [31.931753 , -8.07857  , 37.39552  ]]], dtype=float32)}\n"
     ]
    }
   ],
   "source": [
    "for val in validation:\n",
    "\n",
    "    pdb_id = val['ids'][0]\n",
    "    heavy_c = val['ids'][1]['HC']\n",
    "    light_c = val['ids'][1]['LC']\n",
    "\n",
    "\n",
    "    rmsds_refined = []\n",
    "    rmsds = []\n",
    "\n",
    "    path = db.fetch(pdb_id).filepath\n",
    "    input_path = \"/\".join(path.split(\"/\")[:-1] + [\"imgt\"] + path.split(\"/\")[-1:])\n",
    "\n",
    "    output_path1 = pdb_id+heavy_c+light_c+'relaxed.pdb'\n",
    "    output_path2 = pdb_id+heavy_c+light_c+'.pdb'\n",
    "\n",
    "    #pred = CDR_Predictor(input_path, chains = (heavy_c, light_c), model=model, refine=True)\n",
    "    #pred.write_predictions_in_pdb_format(output_path1)\n",
    "    #rmsds_refined.append(pred.calculate_BB_rmsd_wrt_input())\n",
    "    \n",
    "    pred = CDR_Predictor(input_path, chains = (heavy_c, light_c), refine=False)\n",
    "    pred.write_predictions_in_pdb_format(output_path2)\n",
    "    rmsds.append(pred.calculate_BB_rmsd_wrt_input())\n",
    "\n",
    "    break"
   ]
  },
  {
   "cell_type": "code",
   "execution_count": 3,
   "metadata": {},
   "outputs": [
    {
     "name": "stdout",
     "output_type": "stream",
     "text": [
      "torch.Size([1, 308, 41])\n",
      "torch.Size([1, 504])\n",
      "torch.Size([1, 504, 41])\n",
      "torch.Size([5, 1, 504, 3])\n",
      "torch.Size([5, 308, 3])\n",
      "torch.Size([1, 308, 41])\n",
      "{'H1': array([[[ 9.926666 ,  6.618889 , 36.086887 ],\n",
      "        [10.589334 ,  5.5763335, 35.803    ],\n",
      "        [10.805445 ,  7.3328886, 36.760113 ],\n",
      "        [ 8.533778 ,  6.4528894, 36.662    ]],\n",
      "\n",
      "       [[10.965333 ,  5.847778 , 35.51378  ],\n",
      "        [11.606667 ,  5.0456667, 35.135    ],\n",
      "        [11.832889 ,  6.3107777, 36.101223 ],\n",
      "        [ 9.557555 ,  5.667778 , 36.001    ]],\n",
      "\n",
      "       [[12.004    ,  5.076667 , 34.940666 ],\n",
      "        [12.624    ,  4.515    , 34.467    ],\n",
      "        [12.860333 ,  5.2886667, 35.442333 ],\n",
      "        [10.581333 ,  4.8826666, 35.34     ]],\n",
      "\n",
      "       [[13.042666 ,  4.3055553, 34.367554 ],\n",
      "        [13.641333 ,  3.9843335, 33.799    ],\n",
      "        [13.887777 ,  4.266556 , 34.783443 ],\n",
      "        [11.605111 ,  4.0975556, 34.679    ]],\n",
      "\n",
      "       [[14.081332 ,  3.5344443, 33.794445 ],\n",
      "        [14.658667 ,  3.4536667, 33.131    ],\n",
      "        [14.915222 ,  3.2444444, 34.124554 ],\n",
      "        [12.628889 ,  3.3124442, 34.018    ]],\n",
      "\n",
      "       [[15.12     ,  2.7633333, 33.221333 ],\n",
      "        [15.676    ,  2.923    , 32.463    ],\n",
      "        [15.942667 ,  2.2223334, 33.465668 ],\n",
      "        [13.652667 ,  2.5273333, 33.357    ]],\n",
      "\n",
      "       [[16.158667 ,  1.9922222, 32.648224 ],\n",
      "        [16.693333 ,  2.3923333, 31.795002 ],\n",
      "        [16.970112 ,  1.2002223, 32.806778 ],\n",
      "        [14.676443 ,  1.7422222, 32.696    ]],\n",
      "\n",
      "       [[17.197332 ,  1.221111 , 32.07511  ],\n",
      "        [17.710667 ,  1.8616667, 31.127003 ],\n",
      "        [17.997555 ,  0.1781111, 32.14789  ],\n",
      "        [15.700223 ,  0.9571112, 32.035    ]]], dtype=float32), 'H2': array([[[21.578888 , -3.593    , 28.459555 ],\n",
      "        [22.119778 , -4.6145554, 28.413    ],\n",
      "        [20.901667 , -3.4896667, 27.416666 ],\n",
      "        [22.525778 , -2.406    , 28.767334 ]],\n",
      "\n",
      "       [[21.890778 , -3.818    , 27.991114 ],\n",
      "        [22.200556 , -4.6351113, 27.928    ],\n",
      "        [21.283333 , -3.8513331, 27.222332 ],\n",
      "        [22.860556 , -2.65     , 28.28567  ]],\n",
      "\n",
      "       [[22.202667 , -4.043    , 27.522669 ],\n",
      "        [22.281334 , -4.655667 , 27.442999 ],\n",
      "        [21.665    , -4.213    , 27.028    ],\n",
      "        [23.195333 , -2.894    , 27.804    ]],\n",
      "\n",
      "       [[22.514555 , -4.268    , 27.054224 ],\n",
      "        [22.362112 , -4.6762223, 26.958002 ],\n",
      "        [22.046667 , -4.5746665, 26.833668 ],\n",
      "        [23.530111 , -3.138    , 27.322332 ]],\n",
      "\n",
      "       [[22.826445 , -4.493    , 26.58578  ],\n",
      "        [22.442888 , -4.696778 , 26.472998 ],\n",
      "        [22.428333 , -4.936333 , 26.639334 ],\n",
      "        [23.86489  , -3.382    , 26.840664 ]],\n",
      "\n",
      "       [[23.138334 , -4.718    , 26.117334 ],\n",
      "        [22.523666 , -4.7173333, 25.988    ],\n",
      "        [22.81     , -5.298    , 26.445002 ],\n",
      "        [24.199667 , -3.626    , 26.359    ]],\n",
      "\n",
      "       [[23.450222 , -4.943    , 25.64889  ],\n",
      "        [22.604445 , -4.737889 , 25.503    ],\n",
      "        [23.191668 , -5.6596665, 26.250668 ],\n",
      "        [24.534445 , -3.8699996, 25.87733  ]],\n",
      "\n",
      "       [[23.762112 , -5.168    , 25.180445 ],\n",
      "        [22.685223 , -4.7584443, 25.018    ],\n",
      "        [23.573334 , -6.021333 , 26.056332 ],\n",
      "        [24.869223 , -4.114    , 25.395666 ]]], dtype=float32), 'H3': array([[[16.802572  , -2.9209285 , 37.092144  ],\n",
      "        [16.536928  , -3.6632857 , 38.115643  ],\n",
      "        [17.415571  , -1.8678572 , 37.774284  ],\n",
      "        [15.709071  , -2.5097857 , 36.478714  ]],\n",
      "\n",
      "       [[16.894142  , -2.6618571 , 37.427284  ],\n",
      "        [16.675858  , -3.2385716 , 38.383286  ],\n",
      "        [17.345142  , -1.7047142 , 38.07357   ],\n",
      "        [15.946142  , -2.3505714 , 36.936428  ]],\n",
      "\n",
      "       [[16.985714  , -2.4027858 , 37.76243   ],\n",
      "        [16.814785  , -2.813857  , 38.65093   ],\n",
      "        [17.274714  , -1.5415714 , 38.372856  ],\n",
      "        [16.183214  , -2.1913571 , 37.394142  ]],\n",
      "\n",
      "       [[17.077286  , -2.1437142 , 38.097572  ],\n",
      "        [16.953714  , -2.3891428 , 38.91857   ],\n",
      "        [17.204287  , -1.3784286 , 38.672142  ],\n",
      "        [16.420286  , -2.0321429 , 37.851856  ]],\n",
      "\n",
      "       [[17.168858  , -1.8846428 , 38.432713  ],\n",
      "        [17.092644  , -1.9644285 , 39.186214  ],\n",
      "        [17.133858  , -1.2152857 , 38.971428  ],\n",
      "        [16.657356  , -1.8729286 , 38.30957   ]],\n",
      "\n",
      "       [[17.26043   , -1.6255715 , 38.767857  ],\n",
      "        [17.231571  , -1.5397143 , 39.453857  ],\n",
      "        [17.063429  , -1.0521429 , 39.270714  ],\n",
      "        [16.894428  , -1.7137142 , 38.767284  ]],\n",
      "\n",
      "       [[17.352     , -1.3665    , 39.103     ],\n",
      "        [17.3705    , -1.115     , 39.7215    ],\n",
      "        [16.993     , -0.88900006, 39.57      ],\n",
      "        [17.1315    , -1.5545    , 39.225     ]],\n",
      "\n",
      "       [[17.443571  , -1.1074286 , 39.438145  ],\n",
      "        [17.509428  , -0.69028574, 39.989143  ],\n",
      "        [16.922571  , -0.72585714, 39.869286  ],\n",
      "        [17.368572  , -1.3952857 , 39.682713  ]],\n",
      "\n",
      "       [[17.535143  , -0.8483571 , 39.773285  ],\n",
      "        [17.648357  , -0.26557142, 40.256786  ],\n",
      "        [16.852142  , -0.5627143 , 40.16857   ],\n",
      "        [17.605642  , -1.2360715 , 40.14043   ]],\n",
      "\n",
      "       [[17.626715  , -0.58928573, 40.10843   ],\n",
      "        [17.787285  ,  0.15914285, 40.52443   ],\n",
      "        [16.781713  , -0.39957142, 40.467857  ],\n",
      "        [17.842714  , -1.0768571 , 40.598145  ]],\n",
      "\n",
      "       [[17.718287  , -0.3302143 , 40.443573  ],\n",
      "        [17.926214  ,  0.5838571 , 40.792072  ],\n",
      "        [16.711287  , -0.23642857, 40.767143  ],\n",
      "        [18.079786  , -0.9176428 , 41.05586   ]],\n",
      "\n",
      "       [[17.809856  , -0.07114286, 40.778713  ],\n",
      "        [18.065144  ,  1.0085714 , 41.059715  ],\n",
      "        [16.640858  , -0.07328571, 41.06643   ],\n",
      "        [18.316856  , -0.7584286 , 41.513573  ]],\n",
      "\n",
      "       [[17.901428  ,  0.18792857, 41.113857  ],\n",
      "        [18.204071  ,  1.4332857 , 41.32736   ],\n",
      "        [16.570429  ,  0.08985715, 41.365715  ],\n",
      "        [18.553928  , -0.5992143 , 41.971287  ]]], dtype=float32), 'L1': array([[[ 4.1777847e+01, -6.8783083e+00,  3.8058155e+01],\n",
      "        [ 4.0869923e+01, -6.1542306e+00,  3.8674847e+01],\n",
      "        [ 4.2368771e+01, -5.9923844e+00,  3.7193001e+01],\n",
      "        [ 4.1306000e+01, -8.0116158e+00,  3.7469078e+01]],\n",
      "\n",
      "       [[ 4.1175694e+01, -6.1186152e+00,  3.8238308e+01],\n",
      "        [ 4.0376846e+01, -5.3834615e+00,  3.8711693e+01],\n",
      "        [ 4.1626537e+01, -5.2557693e+00,  3.7518002e+01],\n",
      "        [ 4.0845001e+01, -7.1892309e+00,  3.7770153e+01]],\n",
      "\n",
      "       [[ 4.0573540e+01, -5.3589230e+00,  3.8418461e+01],\n",
      "        [ 3.9883770e+01, -4.6126924e+00,  3.8748539e+01],\n",
      "        [ 4.0884308e+01, -4.5191541e+00,  3.7842999e+01],\n",
      "        [ 4.0383999e+01, -6.3668461e+00,  3.8071232e+01]],\n",
      "\n",
      "       [[ 3.9971386e+01, -4.5992308e+00,  3.8598614e+01],\n",
      "        [ 3.9390694e+01, -3.8419232e+00,  3.8785385e+01],\n",
      "        [ 4.0142078e+01, -3.7825387e+00,  3.8167999e+01],\n",
      "        [ 3.9923000e+01, -5.5444617e+00,  3.8372307e+01]],\n",
      "\n",
      "       [[ 3.9369232e+01, -3.8395386e+00,  3.8778770e+01],\n",
      "        [ 3.8897614e+01, -3.0711539e+00,  3.8822231e+01],\n",
      "        [ 3.9399845e+01, -3.0459230e+00,  3.8493000e+01],\n",
      "        [ 3.9462002e+01, -4.7220769e+00,  3.8673386e+01]],\n",
      "\n",
      "       [[ 3.8767078e+01, -3.0798461e+00,  3.8958923e+01],\n",
      "        [ 3.8404537e+01, -2.3003845e+00,  3.8859077e+01],\n",
      "        [ 3.8657616e+01, -2.3093076e+00,  3.8818001e+01],\n",
      "        [ 3.9000999e+01, -3.8996921e+00,  3.8974461e+01]],\n",
      "\n",
      "       [[ 3.8164925e+01, -2.3201540e+00,  3.9139076e+01],\n",
      "        [ 3.7911461e+01, -1.5296154e+00,  3.8895924e+01],\n",
      "        [ 3.7915386e+01, -1.5726923e+00,  3.9143002e+01],\n",
      "        [ 3.8540001e+01, -3.0773077e+00,  3.9275539e+01]],\n",
      "\n",
      "       [[ 3.7562771e+01, -1.5604615e+00,  3.9319229e+01],\n",
      "        [ 3.7418385e+01, -7.5884616e-01,  3.8932770e+01],\n",
      "        [ 3.7173153e+01, -8.3607692e-01,  3.9467999e+01],\n",
      "        [ 3.8078999e+01, -2.2549231e+00,  3.9576614e+01]],\n",
      "\n",
      "       [[ 3.6960617e+01, -8.0076921e-01,  3.9499386e+01],\n",
      "        [ 3.6925308e+01,  1.1923077e-02,  3.8969616e+01],\n",
      "        [ 3.6430923e+01, -9.9461541e-02,  3.9792999e+01],\n",
      "        [ 3.7618000e+01, -1.4325385e+00,  3.9877693e+01]],\n",
      "\n",
      "       [[ 3.6358463e+01, -4.1076925e-02,  3.9679539e+01],\n",
      "        [ 3.6432232e+01,  7.8269231e-01,  3.9006462e+01],\n",
      "        [ 3.5688694e+01,  6.3715386e-01,  4.0118000e+01],\n",
      "        [ 3.7157001e+01, -6.1015385e-01,  4.0178768e+01]],\n",
      "\n",
      "       [[ 3.5756310e+01,  7.1861541e-01,  3.9859692e+01],\n",
      "        [ 3.5939156e+01,  1.5534616e+00,  3.9043308e+01],\n",
      "        [ 3.4946461e+01,  1.3737693e+00,  4.0443001e+01],\n",
      "        [ 3.6695999e+01,  2.1223077e-01,  4.0479847e+01]],\n",
      "\n",
      "       [[ 3.5154156e+01,  1.4783077e+00,  4.0039845e+01],\n",
      "        [ 3.5446075e+01,  2.3242307e+00,  3.9080154e+01],\n",
      "        [ 3.4204231e+01,  2.1103847e+00,  4.0768002e+01],\n",
      "        [ 3.6235001e+01,  1.0346154e+00,  4.0780922e+01]]], dtype=float32), 'L2': array([[[31.599249 ,  7.7987504, 43.       ],\n",
      "        [31.607752 ,  7.6985   , 44.03825  ],\n",
      "        [32.2695   ,  8.24025  , 42.90825  ],\n",
      "        [30.62025  ,  8.161    , 41.9725   ]],\n",
      "\n",
      "       [[32.0085   ,  8.8645   , 43.648    ],\n",
      "        [32.3795   ,  8.469    , 44.3205   ],\n",
      "        [32.048    ,  8.9595   , 43.8295   ],\n",
      "        [31.2415   ,  9.311    , 42.504    ]],\n",
      "\n",
      "       [[32.41775  ,  9.93025  , 44.296    ],\n",
      "        [33.15125  ,  9.2395   , 44.60275  ],\n",
      "        [31.826502 ,  9.67875  , 44.75075  ],\n",
      "        [31.862751 , 10.461    , 43.0355   ]]], dtype=float32), 'L3': array([[[32.0314   , -3.0979   , 44.2004   ],\n",
      "        [31.4445   , -3.9845002, 44.8571   ],\n",
      "        [31.810902 , -3.5656   , 42.9797   ],\n",
      "        [33.2421   , -3.0194   , 44.4745   ]],\n",
      "\n",
      "       [[31.900799 , -3.5068002, 43.8068   ],\n",
      "        [31.389002 , -4.331    , 44.2332   ],\n",
      "        [31.8078   , -4.0162   , 42.8104   ],\n",
      "        [32.8152   , -3.4668   , 44.106    ]],\n",
      "\n",
      "       [[31.770199 , -3.9156997, 43.4132   ],\n",
      "        [31.3335   , -4.6775   , 43.6093   ],\n",
      "        [31.804699 , -4.4668   , 42.6411   ],\n",
      "        [32.3883   , -3.9142003, 43.7375   ]],\n",
      "\n",
      "       [[31.639599 , -4.3246   , 43.0196   ],\n",
      "        [31.278    , -5.024    , 42.9854   ],\n",
      "        [31.8016   , -4.9174   , 42.4718   ],\n",
      "        [31.9614   , -4.3616   , 43.369    ]],\n",
      "\n",
      "       [[31.508999 , -4.7335   , 42.626    ],\n",
      "        [31.2225   , -5.3705   , 42.3615   ],\n",
      "        [31.798498 , -5.368    , 42.3025   ],\n",
      "        [31.5345   , -4.809    , 43.0005   ]],\n",
      "\n",
      "       [[31.378399 , -5.1424   , 42.2324   ],\n",
      "        [31.166998 , -5.717    , 41.7376   ],\n",
      "        [31.7954   , -5.8186   , 42.1332   ],\n",
      "        [31.1076   , -5.2564   , 42.632    ]],\n",
      "\n",
      "       [[31.247799 , -5.5513   , 41.8388   ],\n",
      "        [31.1115   , -6.0635   , 41.1137   ],\n",
      "        [31.792301 , -6.2692   , 41.9639   ],\n",
      "        [30.6807   , -5.7038   , 42.2635   ]],\n",
      "\n",
      "       [[31.117199 , -5.9602   , 41.4452   ],\n",
      "        [31.056    , -6.41     , 40.4898   ],\n",
      "        [31.7892   , -6.7198   , 41.7946   ],\n",
      "        [30.2538   , -6.1512   , 41.895    ]],\n",
      "\n",
      "       [[30.986599 , -6.3691   , 41.0516   ],\n",
      "        [31.0005   , -6.7564993, 39.8659   ],\n",
      "        [31.786098 , -7.1704   , 41.6253   ],\n",
      "        [29.8269   , -6.5986   , 41.5265   ]]], dtype=float32)}\n"
     ]
    }
   ],
   "source": [
    "for val in validation:\n",
    "\n",
    "    pdb_id = val['ids'][0]\n",
    "    heavy_c = val['ids'][1]['HC']\n",
    "    light_c = val['ids'][1]['LC']\n",
    "\n",
    "\n",
    "    rmsds_refined = []\n",
    "    rmsds = []\n",
    "\n",
    "    path = db.fetch(pdb_id).filepath\n",
    "    input_path = \"/\".join(path.split(\"/\")[:-1] + [\"imgt\"] + path.split(\"/\")[-1:])\n",
    "\n",
    "    output_path1 = pdb_id+heavy_c+light_c+'relaxed.pdb'\n",
    "    output_path2 = pdb_id+heavy_c+light_c+'.pdb'\n",
    "\n",
    "    #pred = CDR_Predictor(input_path, chains = (heavy_c, light_c), model=model, refine=True)\n",
    "    #pred.write_predictions_in_pdb_format(output_path1)\n",
    "    #rmsds_refined.append(pred.calculate_BB_rmsd_wrt_input())\n",
    "    \n",
    "    pred = CDR_Predictor(input_path, chains = (heavy_c, light_c), model=model, refine=False)\n",
    "    pred.write_predictions_in_pdb_format(output_path2)\n",
    "    rmsds.append(pred.calculate_BB_rmsd_wrt_input())\n",
    "\n",
    "    break"
   ]
  },
  {
   "cell_type": "code",
   "execution_count": 14,
   "metadata": {},
   "outputs": [
    {
     "data": {
      "text/plain": [
       "torch.Size([308])"
      ]
     },
     "execution_count": 14,
     "metadata": {},
     "output_type": "execute_result"
    }
   ],
   "source": [
    "pred.output[0,:,0].shape"
   ]
  },
  {
   "cell_type": "code",
   "execution_count": 22,
   "metadata": {},
   "outputs": [
    {
     "name": "stdout",
     "output_type": "stream",
     "text": [
      "torch.Size([77])\n"
     ]
    },
    {
     "data": {
      "text/plain": [
       "<matplotlib.collections.PathCollection at 0x13d2ceeb0>"
      ]
     },
     "execution_count": 22,
     "metadata": {},
     "output_type": "execute_result"
    },
    {
     "data": {
      "image/png": "[encoded data removed]",
      "text/plain": [
       "<Figure size 432x288 with 1 Axes>"
      ]
     },
     "metadata": {
      "needs_background": "light"
     },
     "output_type": "display_data"
    }
   ],
   "source": [
    "a = rearrange(pred.output, \"b (i a) d -> b i a d\", a=4)\n",
    "print(a[0,:,0,0].shape)\n",
    "plt.scatter(a[0,:,0,0], a[0,:,0,1])"
   ]
  },
  {
   "cell_type": "code",
   "execution_count": 9,
   "metadata": {},
   "outputs": [
    {
     "data": {
      "text/html": [
       "<pre style=\"white-space:pre;overflow-x:auto;line-height:normal;font-family:Menlo,'DejaVu Sans Mono',consolas,'Courier New',monospace\">Predict validation set <span style=\"color: #3a3a3a; text-decoration-color: #3a3a3a\">━━━━━━━━━━━━━━━━━━━━━━━━━━━━━━━━━━━━━━━━</span> <span style=\"color: #800080; text-decoration-color: #800080\">  0%</span> <span style=\"color: #008080; text-decoration-color: #008080\">-:--:--</span>\n",
       "</pre>\n"
      ],
      "text/plain": [
       "Predict validation set \u001b[38;5;237m━━━━━━━━━━━━━━━━━━━━━━━━━━━━━━━━━━━━━━━━\u001b[0m \u001b[35m  0%\u001b[0m \u001b[36m-:--:--\u001b[0m\n"
      ]
     },
     "metadata": {},
     "output_type": "display_data"
    },
    {
     "data": {
      "text/html": [
       "<pre style=\"white-space:pre;overflow-x:auto;line-height:normal;font-family:Menlo,'DejaVu Sans Mono',consolas,'Courier New',monospace\"></pre>\n"
      ],
      "text/plain": []
     },
     "metadata": {},
     "output_type": "display_data"
    },
    {
     "data": {
      "text/html": [
       "<pre style=\"white-space:pre;overflow-x:auto;line-height:normal;font-family:Menlo,'DejaVu Sans Mono',consolas,'Courier New',monospace\">\n",
       "</pre>\n"
      ],
      "text/plain": [
       "\n"
      ]
     },
     "metadata": {},
     "output_type": "display_data"
    }
   ],
   "source": [
    "predictions, geomouts, node_features, ids = predict_on_val_set(val_dataloader, model)"
   ]
  },
  {
   "cell_type": "code",
   "execution_count": 24,
   "metadata": {},
   "outputs": [
    {
     "data": {
      "text/plain": [
       "(torch.Size([1, 504, 41]),\n",
       " torch.Size([1, 504, 3]),\n",
       " torch.Size([1, 504]),\n",
       " torch.Size([5, 1, 504, 3]))"
      ]
     },
     "execution_count": 24,
     "metadata": {},
     "output_type": "execute_result"
    }
   ],
   "source": [
    "with torch.no_grad():\n",
    "    model.eval()\n",
    "    for data in val_dataloader:\n",
    "        coordinates, geomout, node_feature, mask, id = data['geomins'].float().to(device), data['geomouts'].float().to(device), data['encodings'].float().to(device), data['mask'].float().to(device), data['ids']\n",
    "        pred = model(node_feature, coordinates, mask)\n",
    "        break\n",
    "node_feature.shape, coordinates.shape, mask.shape, pred.shape"
   ]
  },
  {
   "cell_type": "code",
   "execution_count": 9,
   "metadata": {},
   "outputs": [
    {
     "data": {
      "text/plain": [
       "tensor(0.9859)"
      ]
     },
     "execution_count": 9,
     "metadata": {},
     "output_type": "execute_result"
    }
   ],
   "source": [
    "rmsd(pred, geomout)"
   ]
  },
  {
   "cell_type": "markdown",
   "metadata": {},
   "source": [
    "Own code for relaxing sturcutres"
   ]
  },
  {
   "cell_type": "code",
   "execution_count": 2,
   "metadata": {},
   "outputs": [],
   "source": [
    "# torch settings\n",
    "device = \"cuda\" if torch.cuda.is_available() else \"cpu\"\n",
    "torch.set_default_dtype(torch.float)\n",
    "\n",
    "model = MaskDecoyGen(decoys=5).to(device = device).float()\n",
    "model.load_state_dict(torch.load('best_models/best_model-2804-Radam-5-2optim', map_location=torch.device(device)))\n",
    "\n",
    "batch_size = 1\n",
    "\n",
    "train = torch.load('train_data/train.pt')\n",
    "validation = torch.load('train_data/val.pt')\n",
    "test = torch.load('train_data/test.pt')\n",
    "\n",
    "val_dataloader = torch.utils.data.DataLoader(validation[:1], \n",
    "                                             batch_size=batch_size,\n",
    "                                             num_workers=1,\n",
    "                                             shuffle=False,\n",
    "                                             pin_memory=True,\n",
    "                                             )"
   ]
  },
  {
   "cell_type": "code",
   "execution_count": 20,
   "metadata": {},
   "outputs": [
    {
     "data": {
      "text/html": [
       "<pre style=\"white-space:pre;overflow-x:auto;line-height:normal;font-family:Menlo,'DejaVu Sans Mono',consolas,'Courier New',monospace\">predict val set <span style=\"color: #3a3a3a; text-decoration-color: #3a3a3a\">━━━━━━━━━━━━━━━━━━━━━━━━━━━━━━━━━━━━━━━━</span> <span style=\"color: #800080; text-decoration-color: #800080\">  0%</span> <span style=\"color: #008080; text-decoration-color: #008080\">-:--:--</span>\n",
       "</pre>\n"
      ],
      "text/plain": [
       "predict val set \u001b[38;5;237m━━━━━━━━━━━━━━━━━━━━━━━━━━━━━━━━━━━━━━━━\u001b[0m \u001b[35m  0%\u001b[0m \u001b[36m-:--:--\u001b[0m\n"
      ]
     },
     "metadata": {},
     "output_type": "display_data"
    },
    {
     "data": {
      "text/html": [
       "<pre style=\"white-space:pre;overflow-x:auto;line-height:normal;font-family:Menlo,'DejaVu Sans Mono',consolas,'Courier New',monospace\"></pre>\n"
      ],
      "text/plain": []
     },
     "metadata": {},
     "output_type": "display_data"
    },
    {
     "data": {
      "text/html": [
       "<pre style=\"white-space:pre;overflow-x:auto;line-height:normal;font-family:Menlo,'DejaVu Sans Mono',consolas,'Courier New',monospace\">\n",
       "</pre>\n"
      ],
      "text/plain": [
       "\n"
      ]
     },
     "metadata": {},
     "output_type": "display_data"
    }
   ],
   "source": [
    "cdr_rmsds, decoy_diversities, pdb_ids = produce_full_structures_of_val_set(val_dataloader, model, outdir='test', relax=False)"
   ]
  },
  {
   "cell_type": "code",
   "execution_count": 21,
   "metadata": {},
   "outputs": [
    {
     "data": {
      "text/plain": [
       "([[0.8096792697906494,\n",
       "   0.9614585638046265,\n",
       "   2.295598268508911,\n",
       "   0.4781680107116699,\n",
       "   0.3824631869792938,\n",
       "   0.3483665883541107]],\n",
       " ['5hdq'],\n",
       " [[0.5077896595001221,\n",
       "   0.6384487152099609,\n",
       "   1.2934497833251952,\n",
       "   0.861171817779541,\n",
       "   0.41396665573120117,\n",
       "   0.5191153526306153]])"
      ]
     },
     "execution_count": 21,
     "metadata": {},
     "output_type": "execute_result"
    }
   ],
   "source": [
    "cdr_rmsds, pdb_ids, decoy_diversities"
   ]
  },
  {
   "cell_type": "code",
   "execution_count": 52,
   "metadata": {},
   "outputs": [
    {
     "data": {
      "text/html": [
       "<pre style=\"white-space:pre;overflow-x:auto;line-height:normal;font-family:Menlo,'DejaVu Sans Mono',consolas,'Courier New',monospace\">predict val set <span style=\"color: #f92672; text-decoration-color: #f92672\">━━━━━━╸</span><span style=\"color: #3a3a3a; text-decoration-color: #3a3a3a\">━━━━━━━━━━━━━━━━━━━━━━━━━━━━━━━━━</span> <span style=\"color: #800080; text-decoration-color: #800080\"> 17%</span> <span style=\"color: #008080; text-decoration-color: #008080\">0:14:44</span>\n",
       "</pre>\n"
      ],
      "text/plain": [
       "predict val set \u001b[38;2;249;38;114m━━━━━━\u001b[0m\u001b[38;2;249;38;114m╸\u001b[0m\u001b[38;5;237m━━━━━━━━━━━━━━━━━━━━━━━━━━━━━━━━━\u001b[0m \u001b[35m 17%\u001b[0m \u001b[36m0:14:44\u001b[0m\n"
      ]
     },
     "metadata": {},
     "output_type": "display_data"
    },
    {
     "data": {
      "text/html": [
       "<pre style=\"white-space:pre;overflow-x:auto;line-height:normal;font-family:Menlo,'DejaVu Sans Mono',consolas,'Courier New',monospace\"></pre>\n"
      ],
      "text/plain": []
     },
     "metadata": {},
     "output_type": "display_data"
    },
    {
     "data": {
      "text/html": [
       "<pre style=\"white-space:pre;overflow-x:auto;line-height:normal;font-family:Menlo,'DejaVu Sans Mono',consolas,'Courier New',monospace\">\n",
       "</pre>\n"
      ],
      "text/plain": [
       "\n"
      ]
     },
     "metadata": {},
     "output_type": "display_data"
    },
    {
     "ename": "KeyboardInterrupt",
     "evalue": "",
     "output_type": "error",
     "traceback": [
      "\u001b[0;31m---------------------------------------------------------------------------\u001b[0m",
      "\u001b[0;31mKeyboardInterrupt\u001b[0m                         Traceback (most recent call last)",
      "\u001b[0;32m/var/folders/8x/40q8fgwd2wg9ptnzw_b8cl480000gn/T/ipykernel_17471/2837353040.py\u001b[0m in \u001b[0;36m<module>\u001b[0;34m\u001b[0m\n\u001b[1;32m     40\u001b[0m         CDR_numberings = {CDR: [x.split()[5] for x in CDR_text[CDR] if x.split()[2] == \"CA\"][2:-2] for CDR in\n\u001b[1;32m     41\u001b[0m                                CDR_text}\n\u001b[0;32m---> 42\u001b[0;31m         CDR_start_atom_id = {CDR: int([x.split()[1] for x in CDR_text[CDR] if x.split()[2] == \"N\"][2]) for CDR\n\u001b[0m\u001b[1;32m     43\u001b[0m                                   in CDR_text}\n\u001b[1;32m     44\u001b[0m \u001b[0;34m\u001b[0m\u001b[0m\n",
      "\u001b[0;32m/var/folders/8x/40q8fgwd2wg9ptnzw_b8cl480000gn/T/ipykernel_17471/2837353040.py\u001b[0m in \u001b[0;36m<dictcomp>\u001b[0;34m(.0)\u001b[0m\n\u001b[1;32m     40\u001b[0m         CDR_numberings = {CDR: [x.split()[5] for x in CDR_text[CDR] if x.split()[2] == \"CA\"][2:-2] for CDR in\n\u001b[1;32m     41\u001b[0m                                CDR_text}\n\u001b[0;32m---> 42\u001b[0;31m         CDR_start_atom_id = {CDR: int([x.split()[1] for x in CDR_text[CDR] if x.split()[2] == \"N\"][2]) for CDR\n\u001b[0m\u001b[1;32m     43\u001b[0m                                   in CDR_text}\n\u001b[1;32m     44\u001b[0m \u001b[0;34m\u001b[0m\u001b[0m\n",
      "\u001b[0;32m/var/folders/8x/40q8fgwd2wg9ptnzw_b8cl480000gn/T/ipykernel_17471/2837353040.py\u001b[0m in \u001b[0;36m<listcomp>\u001b[0;34m(.0)\u001b[0m\n\u001b[1;32m     40\u001b[0m         CDR_numberings = {CDR: [x.split()[5] for x in CDR_text[CDR] if x.split()[2] == \"CA\"][2:-2] for CDR in\n\u001b[1;32m     41\u001b[0m                                CDR_text}\n\u001b[0;32m---> 42\u001b[0;31m         CDR_start_atom_id = {CDR: int([x.split()[1] for x in CDR_text[CDR] if x.split()[2] == \"N\"][2]) for CDR\n\u001b[0m\u001b[1;32m     43\u001b[0m                                   in CDR_text}\n\u001b[1;32m     44\u001b[0m \u001b[0;34m\u001b[0m\u001b[0m\n",
      "\u001b[0;31mKeyboardInterrupt\u001b[0m: "
     ]
    }
   ],
   "source": [
    "with torch.no_grad():\n",
    "    model.eval()\n",
    "    \n",
    "    for data in track(val_dataloader, description='predict val set'):\n",
    "\n",
    "        coordinates, geomout, node_feature, mask, id = data['geomins'].float().to(device), data['geomouts'].float().to(device), data['encodings'].float().to(device), data['mask'].float().to(device), data['ids']\n",
    "        pred = model(node_feature, coordinates, mask)\n",
    "        pred = pred.squeeze() # remove batch dimension\n",
    "\n",
    "\n",
    "\n",
    "\n",
    "        pdb_id = id[0][0]\n",
    "        heavy_c = id[1]['HC'][0]\n",
    "        light_c = id[1]['LC'][0]\n",
    "        chains = [heavy_c, light_c]\n",
    "        path = db.fetch(pdb_id).filepath\n",
    "        pdb_file = \"/\".join(path.split(\"/\")[:-1] + [\"imgt\"] + path.split(\"/\")[-1:])\n",
    "\n",
    "        CDR_with_anchor_slices = {\n",
    "            \"H1\": (chains[0], (25, 40)),\n",
    "            \"H2\": (chains[0], (54, 67)),\n",
    "            \"H3\": (chains[0], (103, 119)),\n",
    "            \"L1\": (chains[1], (25, 40)),\n",
    "            \"L2\": (chains[1], (54, 67)),\n",
    "            \"L3\": (chains[1], (103, 119))}\n",
    "        __atoms = [\"CA\", \"N\", \"C\", \"CB\"]\n",
    "\n",
    "        with open(pdb_file) as file:\n",
    "            pdb_text = [line for line in file.readlines()]\n",
    "\n",
    "        # For all three of these I extract the loop plus two anchors at either side as these are needed for the model.\n",
    "        CDR_text = {CDR: [x for x in pdb_text if filt(x, *CDR_with_anchor_slices[CDR])] for CDR in\n",
    "                         CDR_with_anchor_slices}\n",
    "        CDR_sequences = {\n",
    "            CDR: \"\".join([long2short[x.split()[3][-3:]] for x in CDR_text[CDR] if x.split()[2] == \"CA\"]) for CDR in\n",
    "            CDR_with_anchor_slices}\n",
    "\n",
    "        # Here I don't extract the anchors as this is only needed for writing predictions to pdb file.\n",
    "        CDR_numberings = {CDR: [x.split()[5] for x in CDR_text[CDR] if x.split()[2] == \"CA\"][2:-2] for CDR in\n",
    "                               CDR_text}\n",
    "        CDR_start_atom_id = {CDR: int([x.split()[1] for x in CDR_text[CDR] if x.split()[2] == \"N\"][2]) for CDR\n",
    "                                  in CDR_text}\n",
    "\n",
    "        predicted_CDRs = {}\n",
    "        all_decoys = {}\n",
    "        decoy_diversity = {}\n",
    "\n",
    "        for i, CDR in enumerate(CDR_with_anchor_slices):\n",
    "            output_CDR = pred[:, node_feature[0, :, 30 + i] == 1.0]\n",
    "            all_decoys[CDR] = rearrange(output_CDR, \"b (i a) d -> b i a d\", a=4).cpu().numpy()\n",
    "            predicted_CDRs[CDR] = rearrange(output_CDR.mean(0), \"(i a) d -> i a d\", a=4).cpu().numpy()\n",
    "\n",
    "        to_be_rewritten = [\"H1\", \"H2\", \"H3\", \"L1\", \"L2\", \"L3\"]\n",
    "\n",
    "        text_prediction_per_CDR = convert_predictions_into_text_for_each_CDR(CDR_start_atom_id, predicted_CDRs, CDR_sequences, CDR_numberings, CDR_with_anchor_slices)\n",
    "        old_text = pdb_text\n",
    "\n",
    "        for CDR in to_be_rewritten:\n",
    "            new = True\n",
    "            new_text = []\n",
    "            chain, CDR_slice = CDR_with_anchor_slices[CDR]\n",
    "            CDR_slice = (CDR_slice[0] + 2, CDR_slice[1] - 2)\n",
    "\n",
    "            for line in old_text:\n",
    "                if not filt(line, chain, CDR_slice):\n",
    "                    new_text.append(line)\n",
    "                elif new:\n",
    "                    new_text += text_prediction_per_CDR[CDR]\n",
    "                    new = False\n",
    "                else:\n",
    "                    continue\n",
    "            old_text = new_text\n",
    "    \n",
    "        header = [\n",
    "            \"REMARK    CDR LOOPS REMODELLED USING ABLOOPER                                   \\n\"]\n",
    "\n",
    "        new_text = \"\".join(header + old_text)\n",
    "\n",
    "        with open('pdbs/test/'+pdb_id+'-'+heavy_c+light_c+'.pdb', \"w+\") as file:\n",
    "            file.write(new_text)\n",
    "\n",
    "        with open('pdbs/test/'+pdb_id+'-'+heavy_c+light_c+'-true.pdb', \"w+\") as file:\n",
    "            file.write(\"\".join(pdb_text))\n",
    "\n",
    "        "
   ]
  },
  {
   "cell_type": "code",
   "execution_count": 29,
   "metadata": {},
   "outputs": [
    {
     "data": {
      "text/plain": [
       "[('5hdq',), {'HC': ['H'], 'LC': ['L']}]"
      ]
     },
     "execution_count": 29,
     "metadata": {},
     "output_type": "execute_result"
    }
   ],
   "source": [
    "for data in val_dataloader:\n",
    "\n",
    "    coordinates, geomout, node_feature, mask, id = data['geomins'].float().to(device), data['geomouts'].float().to(device), data['encodings'].float().to(device), data['mask'].float().to(device), data['ids']\n",
    "id "
   ]
  },
  {
   "cell_type": "code",
   "execution_count": 37,
   "metadata": {},
   "outputs": [],
   "source": [
    "pdb_id = id[0][0]\n",
    "heavy_c = id[1]['HC'][0]\n",
    "light_c = id[1]['LC'][0]"
   ]
  },
  {
   "cell_type": "code",
   "execution_count": 38,
   "metadata": {},
   "outputs": [
    {
     "data": {
      "text/plain": [
       "'L'"
      ]
     },
     "execution_count": 38,
     "metadata": {},
     "output_type": "execute_result"
    }
   ],
   "source": [
    "light_c"
   ]
  },
  {
   "cell_type": "code",
   "execution_count": null,
   "metadata": {},
   "outputs": [],
   "source": []
  }
 ],
 "metadata": {
  "interpreter": {
   "hash": "f5cb82b301b87eef88325f480de257324ba8b611cc1a51609875e0120daba8a9"
  },
  "kernelspec": {
   "display_name": "Python 3.9.7 ('auto-db-pipeline')",
   "language": "python",
   "name": "python3"
  },
  "language_info": {
   "codemirror_mode": {
    "name": "ipython",
    "version": 3
   },
   "file_extension": ".py",
   "mimetype": "text/x-python",
   "name": "python",
   "nbconvert_exporter": "python",
   "pygments_lexer": "ipython3",
   "version": "3.9.7"
  },
  "orig_nbformat": 4
 },
 "nbformat": 4,
 "nbformat_minor": 2
}
