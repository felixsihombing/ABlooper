{
 "cells": [
  {
   "cell_type": "code",
   "execution_count": 1,
   "metadata": {},
   "outputs": [
    {
     "name": "stderr",
     "output_type": "stream",
     "text": [
      "/Users/fabian/miniconda3/envs/auto-db-pipeline/lib/python3.9/site-packages/Bio/SubsMat/__init__.py:126: BiopythonDeprecationWarning: Bio.SubsMat has been deprecated, and we intend to remove it in a future release of Biopython. As an alternative, please consider using Bio.Align.substitution_matrices as a replacement, and contact the Biopython developers if you still need the Bio.SubsMat module.\n",
      "  warnings.warn(\n",
      "Database path /Volumes/LaCie/sabdab-sabpred/data/ABDB was not found.\n",
      "Warning: ABDB file system was not found. Database access not available\n"
     ]
    },
    {
     "name": "stdout",
     "output_type": "stream",
     "text": [
      "Cannot do refinement\n"
     ]
    }
   ],
   "source": [
    "from ABDB import database as db\n",
    "import matplotlib.pyplot as plt\n",
    "import numpy as np\n",
    "from retrain_ablooper import *\n",
    "import torch\n",
    "import pandas as pd\n",
    "from rich import print as pprint\n",
    "from ABlooper import CDR_Predictor"
   ]
  },
  {
   "cell_type": "markdown",
   "metadata": {},
   "source": [
    "Own code for relaxing sturcutres"
   ]
  },
  {
   "cell_type": "code",
   "execution_count": 2,
   "metadata": {},
   "outputs": [],
   "source": [
    "# torch settings\n",
    "device = \"cuda\" if torch.cuda.is_available() else \"cpu\"\n",
    "torch.set_default_dtype(torch.float)\n",
    "\n",
    "model = MaskDecoyGen(decoys=5).to(device = device).float()\n",
    "model.load_state_dict(torch.load('best_models/best_model-2804-Radam-5-2optim', map_location=torch.device(device)))\n",
    "\n",
    "batch_size = 1\n",
    "\n",
    "train = torch.load('train_data/train.pt')\n",
    "validation = torch.load('train_data/val.pt')\n",
    "test = torch.load('train_data/test.pt')\n",
    "\n",
    "val_dataloader = torch.utils.data.DataLoader(validation, \n",
    "                                             batch_size=batch_size,\n",
    "                                             num_workers=1,\n",
    "                                             shuffle=False,\n",
    "                                             pin_memory=True,\n",
    "                                             )\n",
    "\n",
    "test_dataloader = torch.utils.data.DataLoader(test, \n",
    "                                              batch_size=batch_size,\n",
    "                                              num_workers=1,\n",
    "                                              shuffle=False,\n",
    "                                              pin_memory=True,\n",
    "                                              )"
   ]
  },
  {
   "cell_type": "code",
   "execution_count": 22,
   "metadata": {},
   "outputs": [],
   "source": [
    "for i in range(5):\n",
    "    tmp = MaskDecoyGen(decoys=1).to(device = device).float()\n",
    "    dict=torch.load(\"best_models/best_model-0305-Radam-1-2optim-\"+str(i+1), map_location=torch.device(device))\n",
    "    tmp.load_state_dict(dict)\n",
    "    weights = tmp.blocks[0].state_dict()\n",
    "\n",
    "    model.blocks[i].load_state_dict(weights)"
   ]
  },
  {
   "cell_type": "code",
   "execution_count": 12,
   "metadata": {},
   "outputs": [
    {
     "data": {
      "text/html": [
       "<pre style=\"white-space:pre;overflow-x:auto;line-height:normal;font-family:Menlo,'DejaVu Sans Mono',consolas,'Courier New',monospace\"></pre>\n"
      ],
      "text/plain": []
     },
     "metadata": {},
     "output_type": "display_data"
    },
    {
     "data": {
      "text/html": [
       "<pre style=\"white-space:pre;overflow-x:auto;line-height:normal;font-family:Menlo,'DejaVu Sans Mono',consolas,'Courier New',monospace\">\n",
       "</pre>\n"
      ],
      "text/plain": [
       "\n"
      ]
     },
     "metadata": {},
     "output_type": "display_data"
    },
    {
     "name": "stdout",
     "output_type": "stream",
     "text": [
      "CPU times: user 1h 42min 28s, sys: 1min 26s, total: 1h 43min 54s\n",
      "Wall time: 3min 4s\n"
     ]
    }
   ],
   "source": [
    "%%time\n",
    "cdr_rmsds, decoy_diversities, pdb_ids = produce_full_structures_of_val_set(val_dataloader, model, outdir='test', relax=True)"
   ]
  },
  {
   "cell_type": "code",
   "execution_count": 14,
   "metadata": {},
   "outputs": [
    {
     "data": {
      "text/plain": [
       "([[0.9121501445770264,\n",
       "   0.8906557559967041,\n",
       "   2.2079901695251465,\n",
       "   0.4420602023601532,\n",
       "   0.4020904302597046,\n",
       "   0.46330466866493225]],\n",
       " ['5hdq'],\n",
       " [[0.4799493789672852,\n",
       "   0.6126280784606933,\n",
       "   1.4202484130859374,\n",
       "   0.8075618743896484,\n",
       "   0.40671415328979493,\n",
       "   0.526338529586792]])"
      ]
     },
     "execution_count": 14,
     "metadata": {},
     "output_type": "execute_result"
    }
   ],
   "source": [
    "cdr_rmsds, pdb_ids, decoy_diversities"
   ]
  },
  {
   "cell_type": "code",
   "execution_count": null,
   "metadata": {},
   "outputs": [],
   "source": [
    "for data in val_dataloader:\n",
    "\n",
    "    coordinates, geomout, node_feature, mask, id = data['geomins'].float().to(device), data['geomouts'].float().to(device), data['encodings'].float().to(device), data['mask'].float().to(device), data['ids']\n",
    "id "
   ]
  },
  {
   "cell_type": "code",
   "execution_count": null,
   "metadata": {},
   "outputs": [],
   "source": []
  },
  {
   "cell_type": "code",
   "execution_count": null,
   "metadata": {},
   "outputs": [],
   "source": []
  },
  {
   "cell_type": "code",
   "execution_count": null,
   "metadata": {},
   "outputs": [],
   "source": [
    "from ABDB import database as db\n",
    "from ABDB.AbPDB import AntibodyParser\n",
    "import numpy as np\n",
    "import Bio.PDB\n",
    "parser = AntibodyParser(PERMISSIVE=True, QUIET=True)\n",
    "parser.set_numbering_scheme(\"imgt\")\n",
    "db.set_numbering_scheme(\"imgt\")\n",
    "backbone = [\"CA\",\"C\",\"N\", \"CB\"]\n",
    "\n",
    "def CDR_rmsds(pdb, file, fab_n = 0, chains = [\"H\", \"L\"], decoy_chains = [\"H\", \"L\"]):\n",
    "    fab = db.fetch(pdb).fabs[fab_n]\n",
    "    rmsds = {}\n",
    "    for h_or_l in chains:\n",
    "        #Truth load\n",
    "        chain = db.db_summary[pdb][\"fabs\"][fab_n][h_or_l+\"chain\"]\n",
    "        truth = fab.get_structure()[chain]\n",
    "        #Decoy load\n",
    "        decoy = parser.get_antibody_structure(pdb+\"_model\", file)[0][{\"H\":decoy_chains[0], \"L\":decoy_chains[1]}[h_or_l]]\n",
    "        #Numbering\n",
    "        numb = [(\" \", *x) for x in fab.get_numbering()[h_or_l]][2:-2]\n",
    "        #Get residues to align\n",
    "        truth_res = [truth[x] for x in numb if (x in decoy) and (x in truth)]\n",
    "        decoy_res = [decoy[x] for x in numb if (x in decoy) and (x in truth)]\n",
    "        #Get atoms to align\n",
    "        fixed = []\n",
    "        moved = []\n",
    "        for i in range(len(decoy_res)):\n",
    "            fixed += [truth_res[i][atom] for atom in backbone if (atom in decoy_res[i]) and (atom in truth_res[i])]\n",
    "            moved += [decoy_res[i][atom] for atom in backbone if (atom in decoy_res[i]) and (atom in truth_res[i])]\n",
    "        #Calculate superimposer and move decoy\n",
    "        imposer = Bio.PDB.Superimposer()\n",
    "        imposer.set_atoms(fixed, moved)\n",
    "        imposer.apply(decoy.get_atoms())\n",
    "        rmsds[h_or_l] = imposer.rms\n",
    "        # Find CDR definitions\n",
    "        loop_definitions = {x[3:]:[(\" \", *y[0]) for y in fab.get_CDR_sequences(definition=\"imgt\")[x]]  for x in fab.get_CDR_sequences(definition=\"imgt\")}\n",
    "        # Calculate RMSD for each CDR\n",
    "        for CDR in loop_definitions:\n",
    "            if CDR[0] == h_or_l:\n",
    "                true_loop = []\n",
    "                decoy_loop = []\n",
    "                for res in loop_definitions[CDR]:\n",
    "                    if (res in truth) and (res in decoy):\n",
    "                        true_loop += [truth[res][x].get_coord() for x in backbone if (x in decoy[res]) and (x in truth[res])]\n",
    "                        decoy_loop+= [decoy[res][x].get_coord() for x in backbone if (x in decoy[res]) and (x in truth[res])]\n",
    "                #Calculate RMSD\n",
    "                rmsds[CDR] = np.sqrt(np.mean(3*(np.array(true_loop) - np.array(decoy_loop))**2))\n",
    "                \n",
    "    # Calculate RMSD for framework\n",
    "    ignore = sum([loop_definitions[x] for x in loop_definitions if x[0] == h_or_l], [])\n",
    "    frame_def = [x for x in numb if x not in ignore]\n",
    "    \n",
    "    true_frame, decoy_frame = [], []\n",
    "    for res in frame_def:\n",
    "        if (res in truth) and (res in decoy):\n",
    "            true_frame += [truth[res][x].get_coord() for x in backbone if (x in decoy[res]) and (x in truth[res])]\n",
    "            decoy_frame+= [decoy[res][x].get_coord() for x in backbone if (x in decoy[res]) and (x in truth[res])]\n",
    "    rmsds[h_or_l] = np.sqrt(np.mean(3*(np.array(true_frame) - np.array(decoy_frame))**2))\n",
    "                \n",
    "    return rmsds"
   ]
  }
 ],
 "metadata": {
  "interpreter": {
   "hash": "f5cb82b301b87eef88325f480de257324ba8b611cc1a51609875e0120daba8a9"
  },
  "kernelspec": {
   "display_name": "Python 3 (ipykernel)",
   "language": "python",
   "name": "python3"
  },
  "language_info": {
   "codemirror_mode": {
    "name": "ipython",
    "version": 3
   },
   "file_extension": ".py",
   "mimetype": "text/x-python",
   "name": "python",
   "nbconvert_exporter": "python",
   "pygments_lexer": "ipython3",
   "version": "3.9.7"
  }
 },
 "nbformat": 4,
 "nbformat_minor": 2
}
