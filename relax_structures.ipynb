{
 "cells": [
  {
   "cell_type": "code",
   "execution_count": 1,
   "metadata": {},
   "outputs": [
    {
     "name": "stderr",
     "output_type": "stream",
     "text": [
      "/Users/fabian/miniconda3/envs/auto-db-pipeline/lib/python3.9/site-packages/Bio/SubsMat/__init__.py:126: BiopythonDeprecationWarning: Bio.SubsMat has been deprecated, and we intend to remove it in a future release of Biopython. As an alternative, please consider using Bio.Align.substitution_matrices as a replacement, and contact the Biopython developers if you still need the Bio.SubsMat module.\n",
      "  warnings.warn(\n"
     ]
    },
    {
     "name": "stdout",
     "output_type": "stream",
     "text": [
      "Cannot do refinement\n"
     ]
    }
   ],
   "source": [
    "from ABDB import database as db\n",
    "import matplotlib.pyplot as plt\n",
    "import numpy as np\n",
    "from retrain_ablooper import *\n",
    "import torch\n",
    "import pandas as pd\n",
    "from rich import print as pprint\n",
    "from ABlooper import CDR_Predictor"
   ]
  },
  {
   "cell_type": "markdown",
   "metadata": {},
   "source": [
    "Own code for relaxing sturcutres"
   ]
  },
  {
   "cell_type": "code",
   "execution_count": 2,
   "metadata": {},
   "outputs": [],
   "source": [
    "# torch settings\n",
    "device = \"cuda\" if torch.cuda.is_available() else \"cpu\"\n",
    "torch.set_default_dtype(torch.float)\n",
    "\n",
    "model = MaskDecoyGen(decoys=5).to(device = device).float()\n",
    "model.load_state_dict(torch.load('best_models/best_model-2804-Radam-5-2optim', map_location=torch.device(device)))\n",
    "\n",
    "batch_size = 1\n",
    "\n",
    "train = torch.load('train_data/train.pt')\n",
    "validation = torch.load('train_data/val.pt')\n",
    "test = torch.load('train_data/test.pt')\n",
    "\n",
    "val_dataloader = torch.utils.data.DataLoader(validation[:2], \n",
    "                                             batch_size=batch_size,\n",
    "                                             num_workers=1,\n",
    "                                             shuffle=False,\n",
    "                                             pin_memory=True,\n",
    "                                             )\n",
    "\n",
    "test_dataloader = torch.utils.data.DataLoader(test, \n",
    "                                              batch_size=batch_size,\n",
    "                                              num_workers=1,\n",
    "                                              shuffle=False,\n",
    "                                              pin_memory=True,\n",
    "                                              )"
   ]
  },
  {
   "cell_type": "code",
   "execution_count": 3,
   "metadata": {},
   "outputs": [],
   "source": [
    "for i in range(5):\n",
    "    tmp = MaskDecoyGen(decoys=1).to(device = device).float()\n",
    "    dict=torch.load(\"best_models/best_model-0305-Radam-1-2optim-\"+str(i+1), map_location=torch.device(device))\n",
    "    tmp.load_state_dict(dict)\n",
    "    weights = tmp.blocks[0].state_dict()\n",
    "\n",
    "    model.blocks[i].load_state_dict(weights)"
   ]
  },
  {
   "cell_type": "code",
   "execution_count": 4,
   "metadata": {},
   "outputs": [
    {
     "data": {
      "text/html": [
       "<pre style=\"white-space:pre;overflow-x:auto;line-height:normal;font-family:Menlo,'DejaVu Sans Mono',consolas,'Courier New',monospace\">predict val set <span style=\"color: #3a3a3a; text-decoration-color: #3a3a3a\">━━━━━━━━━━━━━━━━━━━━━━━━━━━━━━━━━━━━━━━━</span> <span style=\"color: #800080; text-decoration-color: #800080\">  0%</span> <span style=\"color: #008080; text-decoration-color: #008080\">-:--:--</span>\n",
       "</pre>\n"
      ],
      "text/plain": [
       "predict val set \u001b[38;5;237m━━━━━━━━━━━━━━━━━━━━━━━━━━━━━━━━━━━━━━━━\u001b[0m \u001b[35m  0%\u001b[0m \u001b[36m-:--:--\u001b[0m\n"
      ]
     },
     "metadata": {},
     "output_type": "display_data"
    },
    {
     "data": {
      "text/html": [
       "<pre style=\"white-space:pre;overflow-x:auto;line-height:normal;font-family:Menlo,'DejaVu Sans Mono',consolas,'Courier New',monospace\"></pre>\n"
      ],
      "text/plain": []
     },
     "metadata": {},
     "output_type": "display_data"
    },
    {
     "data": {
      "text/html": [
       "<pre style=\"white-space:pre;overflow-x:auto;line-height:normal;font-family:Menlo,'DejaVu Sans Mono',consolas,'Courier New',monospace\">\n",
       "</pre>\n"
      ],
      "text/plain": [
       "\n"
      ]
     },
     "metadata": {},
     "output_type": "display_data"
    }
   ],
   "source": [
    "cdr_rmsds, CDR_rmsds_relaxed, decoy_diversities, pdb_ids = produce_full_structures_of_val_set(val_dataloader, model, outdir='test', relax=False)"
   ]
  },
  {
   "cell_type": "code",
   "execution_count": 5,
   "metadata": {},
   "outputs": [
    {
     "data": {
      "text/plain": [
       "[[0.6297390460968018,\n",
       "  0.5209707617759705,\n",
       "  1.3106627464294434,\n",
       "  0.3243178725242615,\n",
       "  0.2549811899662018,\n",
       "  0.37337222695350647],\n",
       " [0.2596547603607178,\n",
       "  0.7193145751953125,\n",
       "  2.2057271003723145,\n",
       "  0.8642493486404419,\n",
       "  0.32617682218551636,\n",
       "  0.9799609780311584]]"
      ]
     },
     "execution_count": 5,
     "metadata": {},
     "output_type": "execute_result"
    }
   ],
   "source": [
    "cdr_rmsds"
   ]
  },
  {
   "cell_type": "code",
   "execution_count": 6,
   "metadata": {},
   "outputs": [
    {
     "data": {
      "text/plain": [
       "[]"
      ]
     },
     "execution_count": 6,
     "metadata": {},
     "output_type": "execute_result"
    }
   ],
   "source": [
    "CDR_rmsds_relaxed"
   ]
  },
  {
   "cell_type": "code",
   "execution_count": null,
   "metadata": {},
   "outputs": [],
   "source": []
  },
  {
   "cell_type": "markdown",
   "metadata": {},
   "source": [
    "Calculate rmsds of relaxed structures"
   ]
  },
  {
   "cell_type": "code",
   "execution_count": 1,
   "metadata": {},
   "outputs": [
    {
     "name": "stderr",
     "output_type": "stream",
     "text": [
      "/Users/fabian/miniconda3/envs/auto-db-pipeline/lib/python3.9/site-packages/Bio/SubsMat/__init__.py:126: BiopythonDeprecationWarning: Bio.SubsMat has been deprecated, and we intend to remove it in a future release of Biopython. As an alternative, please consider using Bio.Align.substitution_matrices as a replacement, and contact the Biopython developers if you still need the Bio.SubsMat module.\n",
      "  warnings.warn(\n",
      "Database path /Volumes/LaCie/sabdab-sabpred/data/ABDB was not found.\n",
      "Warning: ABDB file system was not found. Database access not available\n"
     ]
    },
    {
     "name": "stdout",
     "output_type": "stream",
     "text": [
      "Cannot do refinement\n"
     ]
    }
   ],
   "source": [
    "import os\n",
    "from ABDB import database as db\n",
    "import matplotlib.pyplot as plt\n",
    "import numpy as np\n",
    "from retrain_ablooper import *\n",
    "import torch\n",
    "import pandas as pd\n",
    "from rich import print as pprint\n",
    "from ABlooper import CDR_Predictor\n",
    "from einops import rearrange"
   ]
  },
  {
   "cell_type": "code",
   "execution_count": 2,
   "metadata": {},
   "outputs": [
    {
     "data": {
      "text/plain": [
       "['2ypv-HL-true.pdb',\n",
       " '2v17-HL-relaxed.pdb',\n",
       " '2vxv-HL-true.pdb',\n",
       " '1fns-HL.pdb',\n",
       " '3oz9-HL.pdb',\n",
       " '2v17-HL-true.pdb',\n",
       " '2e27-HL-true.pdb',\n",
       " '3gnm-HL-true.pdb',\n",
       " '4hpy-HL.pdb',\n",
       " '3oz9-HL-relaxed.pdb',\n",
       " '3g5y-BA-relaxed.pdb',\n",
       " '1gig-HL-true.pdb',\n",
       " '4f57-HL-true.pdb',\n",
       " '3g5y-BA.pdb',\n",
       " '2fb4-HL-relaxed.pdb',\n",
       " '3t65-BA-relaxed.pdb',\n",
       " '3eo9-HL.pdb',\n",
       " '2xwt-AB-relaxed.pdb',\n",
       " '3hc4-HL.pdb',\n",
       " '4h20-HL.pdb',\n",
       " '1fns-HL-true.pdb',\n",
       " '3t65-BA-true.pdb',\n",
       " '3ifl-HL-relaxed.pdb',\n",
       " '4nzu-HL.pdb',\n",
       " '2r8s-HL-relaxed.pdb',\n",
       " '1oaq-HL.pdb',\n",
       " '1oaq-HL-true.pdb',\n",
       " '2w60-AB-relaxed.pdb',\n",
       " '1mfa-HL-relaxed.pdb',\n",
       " '3hc4-HL-relaxed.pdb',\n",
       " '1mlb-BA.pdb',\n",
       " '1nlb-HL.pdb',\n",
       " '1oaq-HL-relaxed.pdb',\n",
       " '3liz-HL-true.pdb',\n",
       " '2fb4-HL-true.pdb',\n",
       " '1jpt-HL-true.pdb',\n",
       " '1dlf-HL.pdb',\n",
       " '1dlf-HL-relaxed.pdb',\n",
       " '3t65-BA.pdb',\n",
       " '2e27-HL-relaxed.pdb',\n",
       " '2r8s-HL.pdb',\n",
       " '2vxv-HL-relaxed.pdb',\n",
       " '1nlb-HL-relaxed.pdb',\n",
       " '2adf-HL-true.pdb',\n",
       " '4nzu-HL-relaxed.pdb',\n",
       " '3v0w-HL-relaxed.pdb',\n",
       " '2ypv-HL-relaxed.pdb',\n",
       " '4hpy-HL-relaxed.pdb',\n",
       " '2xwt-AB-true.pdb',\n",
       " '3m8o-HL.pdb',\n",
       " '3eo9-HL-relaxed.pdb',\n",
       " '3lmj-HL.pdb',\n",
       " '1mqk-HL.pdb',\n",
       " '3gnm-HL-relaxed.pdb',\n",
       " '1mqk-HL-true.pdb',\n",
       " '3ifl-HL-true.pdb',\n",
       " '1gig-HL-relaxed.pdb',\n",
       " '3hc4-HL-true.pdb',\n",
       " '2w60-AB-true.pdb',\n",
       " '1jfq-HL.pdb',\n",
       " '3mlr-HL.pdb',\n",
       " '4hpy-HL-true.pdb',\n",
       " '1mfa-HL.pdb',\n",
       " '1seq-HL-relaxed.pdb',\n",
       " '3i9g-HL-true.pdb',\n",
       " '1seq-HL.pdb',\n",
       " '2ypv-HL.pdb',\n",
       " '1mlb-BA-relaxed.pdb',\n",
       " '1jfq-HL-relaxed.pdb',\n",
       " '2adf-HL-relaxed.pdb',\n",
       " '3mxw-HL-relaxed.pdb',\n",
       " '3nps-BC-true.pdb',\n",
       " '2adf-HL.pdb',\n",
       " '3mlr-HL-relaxed.pdb',\n",
       " '3e8u-HL-true.pdb',\n",
       " '2fbj-HL-true.pdb',\n",
       " '1dlf-HL-true.pdb',\n",
       " '2xwt-AB.pdb',\n",
       " '1nlb-HL-true.pdb',\n",
       " '1mqk-HL-relaxed.pdb',\n",
       " '3hnt-HL.pdb',\n",
       " '2d7t-HL-true.pdb',\n",
       " '4h20-HL-true.pdb',\n",
       " '2fbj-HL-relaxed.pdb',\n",
       " '1gig-HL.pdb',\n",
       " '2vxv-HL.pdb',\n",
       " '4h20-HL-relaxed.pdb',\n",
       " '3v0w-HL.pdb',\n",
       " '3mlr-HL-true.pdb',\n",
       " '2d7t-HL.pdb',\n",
       " '3ifl-HL.pdb',\n",
       " '3lmj-HL-true.pdb',\n",
       " '2v17-HL.pdb',\n",
       " '3go1-HL-true.pdb',\n",
       " '2w60-AB.pdb',\n",
       " '3mxw-HL.pdb',\n",
       " '3giz-HL-true.pdb',\n",
       " '2fb4-HL.pdb',\n",
       " '1seq-HL-true.pdb',\n",
       " '2fbj-HL.pdb',\n",
       " '1mlb-BA-true.pdb',\n",
       " '3i9g-HL-relaxed.pdb',\n",
       " '4f57-HL.pdb',\n",
       " '2d7t-HL-relaxed.pdb',\n",
       " '1mfa-HL-true.pdb',\n",
       " '2e27-HL.pdb',\n",
       " '3go1-HL.pdb',\n",
       " '3e8u-HL.pdb',\n",
       " '1jpt-HL.pdb',\n",
       " '3oz9-HL-true.pdb',\n",
       " '2r8s-HL-true.pdb',\n",
       " '3p0y-HL-relaxed.pdb',\n",
       " '3go1-HL-relaxed.pdb',\n",
       " '3p0y-HL.pdb',\n",
       " '3liz-HL-relaxed.pdb',\n",
       " '3eo9-HL-true.pdb',\n",
       " '3i9g-HL.pdb',\n",
       " '3hnt-HL-true.pdb',\n",
       " '1jfq-HL-true.pdb',\n",
       " '3gnm-HL.pdb',\n",
       " '3giz-HL-relaxed.pdb',\n",
       " '4f57-HL-relaxed.pdb',\n",
       " '3p0y-HL-true.pdb',\n",
       " '1fns-HL-relaxed.pdb',\n",
       " '3giz-HL.pdb',\n",
       " '3m8o-HL-relaxed.pdb',\n",
       " '3m8o-HL-true.pdb',\n",
       " '3v0w-HL-true.pdb',\n",
       " '4nzu-HL-true.pdb',\n",
       " '3hnt-HL-relaxed.pdb',\n",
       " '3mxw-HL-true.pdb',\n",
       " '3lmj-HL-relaxed.pdb',\n",
       " '3liz-HL.pdb',\n",
       " '3e8u-HL-relaxed.pdb',\n",
       " '3g5y-BA-true.pdb',\n",
       " '3nps-BC.pdb',\n",
       " '3nps-BC-relaxed.pdb']"
      ]
     },
     "execution_count": 2,
     "metadata": {},
     "output_type": "execute_result"
    }
   ],
   "source": [
    "files = os.listdir('/Users/fabian/Desktop/2804-RAdam-5-2optim-test')\n",
    "files"
   ]
  },
  {
   "cell_type": "code",
   "execution_count": 5,
   "metadata": {},
   "outputs": [],
   "source": [
    "def cdr_rmsds_on_pdb_file(prediction_path, truth_path, chains):\n",
    "\n",
    "    pred = CDR_Predictor(prediction_path, chains = chains)\n",
    "    pred_coords = prepare_model_output([pred.CDR_BB_coords])[0]\n",
    "    pred_coords = rearrange(pred_coords, 'i x -> () () i x')\n",
    "    pred_nodefeatures = pred.prepare_model_input()[0]\n",
    "    \n",
    "    truth = CDR_Predictor(truth_path, chains)\n",
    "    truth_coords = prepare_model_output([truth.CDR_BB_coords])[0]\n",
    "    truth_coords = rearrange(truth_coords, 'i x -> () i x')\n",
    "\n",
    "    cdr_rmsds = rmsd_per_cdr(pred_coords, pred_nodefeatures, truth_coords)\n",
    "\n",
    "    return cdr_rmsds\n",
    "\n",
    "def rmsds_pred_and_relaxed(dir):\n",
    "\n",
    "    files = os.listdir(dir)\n",
    "    files = [file[:7] for file in files if file[0] != '.']\n",
    "    files = list(set(files))\n",
    "    \n",
    "    ids = list()\n",
    "    rmsds_pred = np.zeros((len(files), 6))\n",
    "    rmsds_relaxed = np.zeros((len(files), 6))\n",
    "\n",
    "    for i in range(len(files)):\n",
    "        chains = (files[i][-2], files[i][-1])\n",
    "        \n",
    "        truth_path = dir+files[i]+'-true.pdb'\n",
    "        pred_path = dir+files[i]+'.pdb'\n",
    "        relaxed_path = dir+files[i]+'-relaxed.pdb'\n",
    "\n",
    "        ids.append(files[i])\n",
    "        rmsds_pred[i,:] = np.array(cdr_rmsds_on_pdb_file(pred_path, truth_path, chains).tolist())\n",
    "        rmsds_relaxed[i,:] = np.array(cdr_rmsds_on_pdb_file(relaxed_path, truth_path, chains).tolist())\n",
    "\n",
    "    return ids, rmsds_pred, rmsds_relaxed"
   ]
  },
  {
   "cell_type": "code",
   "execution_count": 7,
   "metadata": {},
   "outputs": [],
   "source": [
    "dir = '/Users/fabian/Desktop/2804-RAdam-5-2optim-test/'\n",
    "\n",
    "ids, rmsd_pred, rmsd_relaxed = rmsds_pred_and_relaxed(dir)\n"
   ]
  },
  {
   "cell_type": "code",
   "execution_count": 8,
   "metadata": {},
   "outputs": [
    {
     "data": {
      "text/plain": [
       "array([1.90520121, 1.96798921, 2.92938134, 1.86615316, 1.77889952,\n",
       "       1.97423427])"
      ]
     },
     "execution_count": 8,
     "metadata": {},
     "output_type": "execute_result"
    }
   ],
   "source": [
    "rmsd_pred.mean(0)"
   ]
  },
  {
   "cell_type": "code",
   "execution_count": null,
   "metadata": {},
   "outputs": [],
   "source": [
    "from ABDB import database as db\n",
    "from ABDB.AbPDB import AntibodyParser\n",
    "import numpy as np\n",
    "import Bio.PDB\n",
    "parser = AntibodyParser(PERMISSIVE=True, QUIET=True)\n",
    "parser.set_numbering_scheme(\"imgt\")\n",
    "db.set_numbering_scheme(\"imgt\")\n",
    "backbone = [\"CA\",\"C\",\"N\", \"CB\"]\n",
    "\n",
    "def CDR_rmsds(pdb, file, fab_n = 0, chains = [\"H\", \"L\"], decoy_chains = [\"H\", \"L\"]):\n",
    "    fab = db.fetch(pdb).fabs[fab_n]\n",
    "    rmsds = {}\n",
    "    for h_or_l in chains:\n",
    "        #Truth load\n",
    "        chain = db.db_summary[pdb][\"fabs\"][fab_n][h_or_l+\"chain\"]\n",
    "        truth = fab.get_structure()[chain]\n",
    "        #Decoy load\n",
    "        decoy = parser.get_antibody_structure(pdb+\"_model\", file)[0][{\"H\":decoy_chains[0], \"L\":decoy_chains[1]}[h_or_l]]\n",
    "        #Numbering\n",
    "        numb = [(\" \", *x) for x in fab.get_numbering()[h_or_l]][2:-2]\n",
    "        #Get residues to align\n",
    "        truth_res = [truth[x] for x in numb if (x in decoy) and (x in truth)]\n",
    "        decoy_res = [decoy[x] for x in numb if (x in decoy) and (x in truth)]\n",
    "        #Get atoms to align\n",
    "        fixed = []\n",
    "        moved = []\n",
    "        for i in range(len(decoy_res)):\n",
    "            fixed += [truth_res[i][atom] for atom in backbone if (atom in decoy_res[i]) and (atom in truth_res[i])]\n",
    "            moved += [decoy_res[i][atom] for atom in backbone if (atom in decoy_res[i]) and (atom in truth_res[i])]\n",
    "        #Calculate superimposer and move decoy\n",
    "        imposer = Bio.PDB.Superimposer()\n",
    "        imposer.set_atoms(fixed, moved)\n",
    "        imposer.apply(decoy.get_atoms())\n",
    "        rmsds[h_or_l] = imposer.rms\n",
    "        # Find CDR definitions\n",
    "        loop_definitions = {x[3:]:[(\" \", *y[0]) for y in fab.get_CDR_sequences(definition=\"imgt\")[x]]  for x in fab.get_CDR_sequences(definition=\"imgt\")}\n",
    "        # Calculate RMSD for each CDR\n",
    "        for CDR in loop_definitions:\n",
    "            if CDR[0] == h_or_l:\n",
    "                true_loop = []\n",
    "                decoy_loop = []\n",
    "                for res in loop_definitions[CDR]:\n",
    "                    if (res in truth) and (res in decoy):\n",
    "                        true_loop += [truth[res][x].get_coord() for x in backbone if (x in decoy[res]) and (x in truth[res])]\n",
    "                        decoy_loop+= [decoy[res][x].get_coord() for x in backbone if (x in decoy[res]) and (x in truth[res])]\n",
    "                #Calculate RMSD\n",
    "                rmsds[CDR] = np.sqrt(np.mean(3*(np.array(true_loop) - np.array(decoy_loop))**2))\n",
    "                \n",
    "    # Calculate RMSD for framework\n",
    "    ignore = sum([loop_definitions[x] for x in loop_definitions if x[0] == h_or_l], [])\n",
    "    frame_def = [x for x in numb if x not in ignore]\n",
    "    \n",
    "    true_frame, decoy_frame = [], []\n",
    "    for res in frame_def:\n",
    "        if (res in truth) and (res in decoy):\n",
    "            true_frame += [truth[res][x].get_coord() for x in backbone if (x in decoy[res]) and (x in truth[res])]\n",
    "            decoy_frame+= [decoy[res][x].get_coord() for x in backbone if (x in decoy[res]) and (x in truth[res])]\n",
    "    rmsds[h_or_l] = np.sqrt(np.mean(3*(np.array(true_frame) - np.array(decoy_frame))**2))\n",
    "                \n",
    "    return rmsds"
   ]
  }
 ],
 "metadata": {
  "interpreter": {
   "hash": "f5cb82b301b87eef88325f480de257324ba8b611cc1a51609875e0120daba8a9"
  },
  "kernelspec": {
   "display_name": "Python 3 (ipykernel)",
   "language": "python",
   "name": "python3"
  },
  "language_info": {
   "codemirror_mode": {
    "name": "ipython",
    "version": 3
   },
   "file_extension": ".py",
   "mimetype": "text/x-python",
   "name": "python",
   "nbconvert_exporter": "python",
   "pygments_lexer": "ipython3",
   "version": "3.9.7"
  }
 },
 "nbformat": 4,
 "nbformat_minor": 2
}
