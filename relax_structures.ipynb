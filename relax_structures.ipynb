{
 "cells": [
  {
   "cell_type": "code",
   "execution_count": 1,
   "metadata": {},
   "outputs": [
    {
     "name": "stderr",
     "output_type": "stream",
     "text": [
      "/Users/fabian/miniconda3/envs/auto-db-pipeline/lib/python3.9/site-packages/Bio/SubsMat/__init__.py:126: BiopythonDeprecationWarning: Bio.SubsMat has been deprecated, and we intend to remove it in a future release of Biopython. As an alternative, please consider using Bio.Align.substitution_matrices as a replacement, and contact the Biopython developers if you still need the Bio.SubsMat module.\n",
      "  warnings.warn(\n"
     ]
    }
   ],
   "source": [
    "from ABDB import database as db\n",
    "import matplotlib.pyplot as plt\n",
    "import numpy as np\n",
    "from retrain_ablooper import *\n",
    "import torch\n",
    "import pandas as pd\n",
    "from rich import print as pprint\n",
    "from ABlooper import CDR_Predictor"
   ]
  },
  {
   "cell_type": "markdown",
   "metadata": {},
   "source": [
    "Own code for relaxing sturcutres"
   ]
  },
  {
   "cell_type": "code",
   "execution_count": 2,
   "metadata": {},
   "outputs": [],
   "source": [
    "# torch settings\n",
    "device = \"cuda\" if torch.cuda.is_available() else \"cpu\"\n",
    "torch.set_default_dtype(torch.float)\n",
    "\n",
    "model = MaskDecoyGen(decoys=5).to(device = device).float()\n",
    "model.load_state_dict(torch.load('best_models/best_model-2804-Radam-5-2optim', map_location=torch.device(device)))\n",
    "\n",
    "batch_size = 1\n",
    "\n",
    "train = torch.load('train_data/train.pt')\n",
    "validation = torch.load('train_data/val.pt')\n",
    "test = torch.load('train_data/test.pt')\n",
    "\n",
    "val_dataloader = torch.utils.data.DataLoader(validation[:1], \n",
    "                                             batch_size=batch_size,\n",
    "                                             num_workers=1,\n",
    "                                             shuffle=False,\n",
    "                                             pin_memory=True,\n",
    "                                             )"
   ]
  },
  {
   "cell_type": "code",
   "execution_count": 23,
   "metadata": {},
   "outputs": [
    {
     "ename": "RuntimeError",
     "evalue": "Error(s) in loading state_dict for MaskEGNNModel:\n\tMissing key(s) in state_dict: \"layers.0.edge_mlp.0.weight\", \"layers.0.edge_mlp.0.bias\", \"layers.0.edge_mlp.2.weight\", \"layers.0.edge_mlp.2.bias\", \"layers.0.node_mlp.0.weight\", \"layers.0.node_mlp.0.bias\", \"layers.0.node_mlp.2.weight\", \"layers.0.node_mlp.2.bias\", \"layers.0.coors_mlp.0.weight\", \"layers.0.coors_mlp.0.bias\", \"layers.0.coors_mlp.2.weight\", \"layers.0.coors_mlp.2.bias\", \"layers.1.edge_mlp.0.weight\", \"layers.1.edge_mlp.0.bias\", \"layers.1.edge_mlp.2.weight\", \"layers.1.edge_mlp.2.bias\", \"layers.1.node_mlp.0.weight\", \"layers.1.node_mlp.0.bias\", \"layers.1.node_mlp.2.weight\", \"layers.1.node_mlp.2.bias\", \"layers.1.coors_mlp.0.weight\", \"layers.1.coors_mlp.0.bias\", \"layers.1.coors_mlp.2.weight\", \"layers.1.coors_mlp.2.bias\", \"layers.2.edge_mlp.0.weight\", \"layers.2.edge_mlp.0.bias\", \"layers.2.edge_mlp.2.weight\", \"layers.2.edge_mlp.2.bias\", \"layers.2.node_mlp.0.weight\", \"layers.2.node_mlp.0.bias\", \"layers.2.node_mlp.2.weight\", \"layers.2.node_mlp.2.bias\", \"layers.2.coors_mlp.0.weight\", \"layers.2.coors_mlp.0.bias\", \"layers.2.coors_mlp.2.weight\", \"layers.2.coors_mlp.2.bias\", \"layers.3.edge_mlp.0.weight\", \"layers.3.edge_mlp.0.bias\", \"layers.3.edge_mlp.2.weight\", \"layers.3.edge_mlp.2.bias\", \"layers.3.node_mlp.0.weight\", \"layers.3.node_mlp.0.bias\", \"layers.3.node_mlp.2.weight\", \"layers.3.node_mlp.2.bias\", \"layers.3.coors_mlp.0.weight\", \"layers.3.coors_mlp.0.bias\", \"layers.3.coors_mlp.2.weight\", \"layers.3.coors_mlp.2.bias\". \n\tUnexpected key(s) in state_dict: \"blocks.0.layers.0.edge_mlp.0.weight\", \"blocks.0.layers.0.edge_mlp.0.bias\", \"blocks.0.layers.0.edge_mlp.2.weight\", \"blocks.0.layers.0.edge_mlp.2.bias\", \"blocks.0.layers.0.node_mlp.0.weight\", \"blocks.0.layers.0.node_mlp.0.bias\", \"blocks.0.layers.0.node_mlp.2.weight\", \"blocks.0.layers.0.node_mlp.2.bias\", \"blocks.0.layers.0.coors_mlp.0.weight\", \"blocks.0.layers.0.coors_mlp.0.bias\", \"blocks.0.layers.0.coors_mlp.2.weight\", \"blocks.0.layers.0.coors_mlp.2.bias\", \"blocks.0.layers.1.edge_mlp.0.weight\", \"blocks.0.layers.1.edge_mlp.0.bias\", \"blocks.0.layers.1.edge_mlp.2.weight\", \"blocks.0.layers.1.edge_mlp.2.bias\", \"blocks.0.layers.1.node_mlp.0.weight\", \"blocks.0.layers.1.node_mlp.0.bias\", \"blocks.0.layers.1.node_mlp.2.weight\", \"blocks.0.layers.1.node_mlp.2.bias\", \"blocks.0.layers.1.coors_mlp.0.weight\", \"blocks.0.layers.1.coors_mlp.0.bias\", \"blocks.0.layers.1.coors_mlp.2.weight\", \"blocks.0.layers.1.coors_mlp.2.bias\", \"blocks.0.layers.2.edge_mlp.0.weight\", \"blocks.0.layers.2.edge_mlp.0.bias\", \"blocks.0.layers.2.edge_mlp.2.weight\", \"blocks.0.layers.2.edge_mlp.2.bias\", \"blocks.0.layers.2.node_mlp.0.weight\", \"blocks.0.layers.2.node_mlp.0.bias\", \"blocks.0.layers.2.node_mlp.2.weight\", \"blocks.0.layers.2.node_mlp.2.bias\", \"blocks.0.layers.2.coors_mlp.0.weight\", \"blocks.0.layers.2.coors_mlp.0.bias\", \"blocks.0.layers.2.coors_mlp.2.weight\", \"blocks.0.layers.2.coors_mlp.2.bias\", \"blocks.0.layers.3.edge_mlp.0.weight\", \"blocks.0.layers.3.edge_mlp.0.bias\", \"blocks.0.layers.3.edge_mlp.2.weight\", \"blocks.0.layers.3.edge_mlp.2.bias\", \"blocks.0.layers.3.node_mlp.0.weight\", \"blocks.0.layers.3.node_mlp.0.bias\", \"blocks.0.layers.3.node_mlp.2.weight\", \"blocks.0.layers.3.node_mlp.2.bias\", \"blocks.0.layers.3.coors_mlp.0.weight\", \"blocks.0.layers.3.coors_mlp.0.bias\", \"blocks.0.layers.3.coors_mlp.2.weight\", \"blocks.0.layers.3.coors_mlp.2.bias\". ",
     "output_type": "error",
     "traceback": [
      "\u001b[0;31m---------------------------------------------------------------------------\u001b[0m",
      "\u001b[0;31mRuntimeError\u001b[0m                              Traceback (most recent call last)",
      "\u001b[0;32m/var/folders/8x/40q8fgwd2wg9ptnzw_b8cl480000gn/T/ipykernel_29640/4228678302.py\u001b[0m in \u001b[0;36m<module>\u001b[0;34m\u001b[0m\n\u001b[1;32m      1\u001b[0m \u001b[0mmodel\u001b[0m \u001b[0;34m=\u001b[0m \u001b[0mMaskDecoyGen\u001b[0m\u001b[0;34m(\u001b[0m\u001b[0mdecoys\u001b[0m\u001b[0;34m=\u001b[0m\u001b[0;36m5\u001b[0m\u001b[0;34m)\u001b[0m\u001b[0;34m.\u001b[0m\u001b[0mto\u001b[0m\u001b[0;34m(\u001b[0m\u001b[0mdevice\u001b[0m \u001b[0;34m=\u001b[0m \u001b[0mdevice\u001b[0m\u001b[0;34m)\u001b[0m\u001b[0;34m.\u001b[0m\u001b[0mfloat\u001b[0m\u001b[0;34m(\u001b[0m\u001b[0;34m)\u001b[0m\u001b[0;34m\u001b[0m\u001b[0;34m\u001b[0m\u001b[0m\n\u001b[1;32m      2\u001b[0m \u001b[0;32mfor\u001b[0m \u001b[0mi\u001b[0m \u001b[0;32min\u001b[0m \u001b[0mrange\u001b[0m\u001b[0;34m(\u001b[0m\u001b[0;36m5\u001b[0m\u001b[0;34m)\u001b[0m\u001b[0;34m:\u001b[0m\u001b[0;34m\u001b[0m\u001b[0;34m\u001b[0m\u001b[0m\n\u001b[0;32m----> 3\u001b[0;31m     \u001b[0mmodel\u001b[0m\u001b[0;34m.\u001b[0m\u001b[0mblocks\u001b[0m\u001b[0;34m[\u001b[0m\u001b[0mi\u001b[0m\u001b[0;34m]\u001b[0m\u001b[0;34m.\u001b[0m\u001b[0mload_state_dict\u001b[0m\u001b[0;34m(\u001b[0m\u001b[0mtorch\u001b[0m\u001b[0;34m.\u001b[0m\u001b[0mload\u001b[0m\u001b[0;34m(\u001b[0m\u001b[0;34m\"best_models/best_model-0305-Radam-1-2optim-1\"\u001b[0m\u001b[0;34m,\u001b[0m \u001b[0mmap_location\u001b[0m\u001b[0;34m=\u001b[0m\u001b[0mtorch\u001b[0m\u001b[0;34m.\u001b[0m\u001b[0mdevice\u001b[0m\u001b[0;34m(\u001b[0m\u001b[0mdevice\u001b[0m\u001b[0;34m)\u001b[0m\u001b[0;34m)\u001b[0m\u001b[0;34m)\u001b[0m\u001b[0;34m\u001b[0m\u001b[0;34m\u001b[0m\u001b[0m\n\u001b[0m",
      "\u001b[0;32m~/miniconda3/envs/auto-db-pipeline/lib/python3.9/site-packages/torch/nn/modules/module.py\u001b[0m in \u001b[0;36mload_state_dict\u001b[0;34m(self, state_dict, strict)\u001b[0m\n\u001b[1;32m   1495\u001b[0m \u001b[0;34m\u001b[0m\u001b[0m\n\u001b[1;32m   1496\u001b[0m         \u001b[0;32mif\u001b[0m \u001b[0mlen\u001b[0m\u001b[0;34m(\u001b[0m\u001b[0merror_msgs\u001b[0m\u001b[0;34m)\u001b[0m \u001b[0;34m>\u001b[0m \u001b[0;36m0\u001b[0m\u001b[0;34m:\u001b[0m\u001b[0;34m\u001b[0m\u001b[0;34m\u001b[0m\u001b[0m\n\u001b[0;32m-> 1497\u001b[0;31m             raise RuntimeError('Error(s) in loading state_dict for {}:\\n\\t{}'.format(\n\u001b[0m\u001b[1;32m   1498\u001b[0m                                self.__class__.__name__, \"\\n\\t\".join(error_msgs)))\n\u001b[1;32m   1499\u001b[0m         \u001b[0;32mreturn\u001b[0m \u001b[0m_IncompatibleKeys\u001b[0m\u001b[0;34m(\u001b[0m\u001b[0mmissing_keys\u001b[0m\u001b[0;34m,\u001b[0m \u001b[0munexpected_keys\u001b[0m\u001b[0;34m)\u001b[0m\u001b[0;34m\u001b[0m\u001b[0;34m\u001b[0m\u001b[0m\n",
      "\u001b[0;31mRuntimeError\u001b[0m: Error(s) in loading state_dict for MaskEGNNModel:\n\tMissing key(s) in state_dict: \"layers.0.edge_mlp.0.weight\", \"layers.0.edge_mlp.0.bias\", \"layers.0.edge_mlp.2.weight\", \"layers.0.edge_mlp.2.bias\", \"layers.0.node_mlp.0.weight\", \"layers.0.node_mlp.0.bias\", \"layers.0.node_mlp.2.weight\", \"layers.0.node_mlp.2.bias\", \"layers.0.coors_mlp.0.weight\", \"layers.0.coors_mlp.0.bias\", \"layers.0.coors_mlp.2.weight\", \"layers.0.coors_mlp.2.bias\", \"layers.1.edge_mlp.0.weight\", \"layers.1.edge_mlp.0.bias\", \"layers.1.edge_mlp.2.weight\", \"layers.1.edge_mlp.2.bias\", \"layers.1.node_mlp.0.weight\", \"layers.1.node_mlp.0.bias\", \"layers.1.node_mlp.2.weight\", \"layers.1.node_mlp.2.bias\", \"layers.1.coors_mlp.0.weight\", \"layers.1.coors_mlp.0.bias\", \"layers.1.coors_mlp.2.weight\", \"layers.1.coors_mlp.2.bias\", \"layers.2.edge_mlp.0.weight\", \"layers.2.edge_mlp.0.bias\", \"layers.2.edge_mlp.2.weight\", \"layers.2.edge_mlp.2.bias\", \"layers.2.node_mlp.0.weight\", \"layers.2.node_mlp.0.bias\", \"layers.2.node_mlp.2.weight\", \"layers.2.node_mlp.2.bias\", \"layers.2.coors_mlp.0.weight\", \"layers.2.coors_mlp.0.bias\", \"layers.2.coors_mlp.2.weight\", \"layers.2.coors_mlp.2.bias\", \"layers.3.edge_mlp.0.weight\", \"layers.3.edge_mlp.0.bias\", \"layers.3.edge_mlp.2.weight\", \"layers.3.edge_mlp.2.bias\", \"layers.3.node_mlp.0.weight\", \"layers.3.node_mlp.0.bias\", \"layers.3.node_mlp.2.weight\", \"layers.3.node_mlp.2.bias\", \"layers.3.coors_mlp.0.weight\", \"layers.3.coors_mlp.0.bias\", \"layers.3.coors_mlp.2.weight\", \"layers.3.coors_mlp.2.bias\". \n\tUnexpected key(s) in state_dict: \"blocks.0.layers.0.edge_mlp.0.weight\", \"blocks.0.layers.0.edge_mlp.0.bias\", \"blocks.0.layers.0.edge_mlp.2.weight\", \"blocks.0.layers.0.edge_mlp.2.bias\", \"blocks.0.layers.0.node_mlp.0.weight\", \"blocks.0.layers.0.node_mlp.0.bias\", \"blocks.0.layers.0.node_mlp.2.weight\", \"blocks.0.layers.0.node_mlp.2.bias\", \"blocks.0.layers.0.coors_mlp.0.weight\", \"blocks.0.layers.0.coors_mlp.0.bias\", \"blocks.0.layers.0.coors_mlp.2.weight\", \"blocks.0.layers.0.coors_mlp.2.bias\", \"blocks.0.layers.1.edge_mlp.0.weight\", \"blocks.0.layers.1.edge_mlp.0.bias\", \"blocks.0.layers.1.edge_mlp.2.weight\", \"blocks.0.layers.1.edge_mlp.2.bias\", \"blocks.0.layers.1.node_mlp.0.weight\", \"blocks.0.layers.1.node_mlp.0.bias\", \"blocks.0.layers.1.node_mlp.2.weight\", \"blocks.0.layers.1.node_mlp.2.bias\", \"blocks.0.layers.1.coors_mlp.0.weight\", \"blocks.0.layers.1.coors_mlp.0.bias\", \"blocks.0.layers.1.coors_mlp.2.weight\", \"blocks.0.layers.1.coors_mlp.2.bias\", \"blocks.0.layers.2.edge_mlp.0.weight\", \"blocks.0.layers.2.edge_mlp.0.bias\", \"blocks.0.layers.2.edge_mlp.2.weight\", \"blocks.0.layers.2.edge_mlp.2.bias\", \"blocks.0.layers.2.node_mlp.0.weight\", \"blocks.0.layers.2.node_mlp.0.bias\", \"blocks.0.layers.2.node_mlp.2.weight\", \"blocks.0.layers.2.node_mlp.2.bias\", \"blocks.0.layers.2.coors_mlp.0.weight\", \"blocks.0.layers.2.coors_mlp.0.bias\", \"blocks.0.layers.2.coors_mlp.2.weight\", \"blocks.0.layers.2.coors_mlp.2.bias\", \"blocks.0.layers.3.edge_mlp.0.weight\", \"blocks.0.layers.3.edge_mlp.0.bias\", \"blocks.0.layers.3.edge_mlp.2.weight\", \"blocks.0.layers.3.edge_mlp.2.bias\", \"blocks.0.layers.3.node_mlp.0.weight\", \"blocks.0.layers.3.node_mlp.0.bias\", \"blocks.0.layers.3.node_mlp.2.weight\", \"blocks.0.layers.3.node_mlp.2.bias\", \"blocks.0.layers.3.coors_mlp.0.weight\", \"blocks.0.layers.3.coors_mlp.0.bias\", \"blocks.0.layers.3.coors_mlp.2.weight\", \"blocks.0.layers.3.coors_mlp.2.bias\". "
     ]
    }
   ],
   "source": [
    "model = MaskDecoyGen(decoys=5).to(device = device).float()\n",
    "for i in range(5):\n",
    "    model.blocks[i].load_state_dict(torch.load(\"best_models/best_model-0305-Radam-1-2optim-1\", map_location=torch.device(device)))"
   ]
  },
  {
   "cell_type": "code",
   "execution_count": 20,
   "metadata": {},
   "outputs": [
    {
     "data": {
      "text/html": [
       "<pre style=\"white-space:pre;overflow-x:auto;line-height:normal;font-family:Menlo,'DejaVu Sans Mono',consolas,'Courier New',monospace\">predict val set <span style=\"color: #3a3a3a; text-decoration-color: #3a3a3a\">━━━━━━━━━━━━━━━━━━━━━━━━━━━━━━━━━━━━━━━━</span> <span style=\"color: #800080; text-decoration-color: #800080\">  0%</span> <span style=\"color: #008080; text-decoration-color: #008080\">-:--:--</span>\n",
       "</pre>\n"
      ],
      "text/plain": [
       "predict val set \u001b[38;5;237m━━━━━━━━━━━━━━━━━━━━━━━━━━━━━━━━━━━━━━━━\u001b[0m \u001b[35m  0%\u001b[0m \u001b[36m-:--:--\u001b[0m\n"
      ]
     },
     "metadata": {},
     "output_type": "display_data"
    },
    {
     "data": {
      "text/html": [
       "<pre style=\"white-space:pre;overflow-x:auto;line-height:normal;font-family:Menlo,'DejaVu Sans Mono',consolas,'Courier New',monospace\"></pre>\n"
      ],
      "text/plain": []
     },
     "metadata": {},
     "output_type": "display_data"
    },
    {
     "data": {
      "text/html": [
       "<pre style=\"white-space:pre;overflow-x:auto;line-height:normal;font-family:Menlo,'DejaVu Sans Mono',consolas,'Courier New',monospace\">\n",
       "</pre>\n"
      ],
      "text/plain": [
       "\n"
      ]
     },
     "metadata": {},
     "output_type": "display_data"
    }
   ],
   "source": [
    "cdr_rmsds, decoy_diversities, pdb_ids = produce_full_structures_of_val_set(val_dataloader, model, outdir='test', relax=False)"
   ]
  },
  {
   "cell_type": "code",
   "execution_count": 21,
   "metadata": {},
   "outputs": [
    {
     "data": {
      "text/plain": [
       "([[0.8096792697906494,\n",
       "   0.9614585638046265,\n",
       "   2.295598268508911,\n",
       "   0.4781680107116699,\n",
       "   0.3824631869792938,\n",
       "   0.3483665883541107]],\n",
       " ['5hdq'],\n",
       " [[0.5077896595001221,\n",
       "   0.6384487152099609,\n",
       "   1.2934497833251952,\n",
       "   0.861171817779541,\n",
       "   0.41396665573120117,\n",
       "   0.5191153526306153]])"
      ]
     },
     "execution_count": 21,
     "metadata": {},
     "output_type": "execute_result"
    }
   ],
   "source": [
    "cdr_rmsds, pdb_ids, decoy_diversities"
   ]
  },
  {
   "cell_type": "code",
   "execution_count": 29,
   "metadata": {},
   "outputs": [
    {
     "data": {
      "text/plain": [
       "[('5hdq',), {'HC': ['H'], 'LC': ['L']}]"
      ]
     },
     "execution_count": 29,
     "metadata": {},
     "output_type": "execute_result"
    }
   ],
   "source": [
    "for data in val_dataloader:\n",
    "\n",
    "    coordinates, geomout, node_feature, mask, id = data['geomins'].float().to(device), data['geomouts'].float().to(device), data['encodings'].float().to(device), data['mask'].float().to(device), data['ids']\n",
    "id "
   ]
  },
  {
   "cell_type": "code",
   "execution_count": null,
   "metadata": {},
   "outputs": [],
   "source": []
  }
 ],
 "metadata": {
  "interpreter": {
   "hash": "f5cb82b301b87eef88325f480de257324ba8b611cc1a51609875e0120daba8a9"
  },
  "kernelspec": {
   "display_name": "Python 3.9.7 ('auto-db-pipeline')",
   "language": "python",
   "name": "python3"
  },
  "language_info": {
   "codemirror_mode": {
    "name": "ipython",
    "version": 3
   },
   "file_extension": ".py",
   "mimetype": "text/x-python",
   "name": "python",
   "nbconvert_exporter": "python",
   "pygments_lexer": "ipython3",
   "version": "3.9.7"
  },
  "orig_nbformat": 4
 },
 "nbformat": 4,
 "nbformat_minor": 2
}
